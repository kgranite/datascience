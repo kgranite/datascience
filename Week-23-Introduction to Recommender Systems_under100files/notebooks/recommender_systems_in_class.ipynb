{
 "cells": [
  {
   "cell_type": "markdown",
   "metadata": {},
   "source": [
    "![](../images/26-weeks-of-data-science-banner.jpg)\n",
    "\n",
    "<h1 align=\"center\"> Recommender Systems<h1/>\n",
    "\n",
    "## Program so far\n",
    "- Linear Regression \n",
    "- Logistic Regression\n",
    "- Tree Based Methods\n",
    "- Time Series \n",
    "- Natural Language Processing"
   ]
  },
  {
   "cell_type": "markdown",
   "metadata": {},
   "source": [
    "## What are we going to learn today? \n",
    "- What is Recommendation System\n",
    "- The long tail\n",
    "- A simple Popularity based Recommender system\n",
    "- A Collaborative Filtering Model\n",
    "- Evaluating a Recommendation system\n",
    "\n",
    "Let's get started!!"
   ]
  },
  {
   "cell_type": "markdown",
   "metadata": {},
   "source": [
    "<img src=\"../images/icon/Concept-Alert.png\" alt=\"Concept-Alert\" style=\"width: 100px;float:left; margin-right:15px\"/>\n",
    "<br />\n",
    "\n",
    "## So whats a recommender system?\n",
    "***\n",
    "A recommender system or a recommendation system is a subclass of information filtering system that seeks to predict the \"rating\" or \"preference\" that a user would give to an item. Lets consider an example shown in the figure below. Here we have a user database i.e data consisting of items rated by the user. Now lets suppose that a new user visits and likes 5 out of 10 items in the website. Then a recommender system recommends the items the new user might like based on similarity with other items. We shall get to this concept below. "
   ]
  },
  {
   "cell_type": "markdown",
   "metadata": {},
   "source": [
    "![recommender_system_info.jpg](../images/recommender_system_info.jpg)"
   ]
  },
  {
   "cell_type": "markdown",
   "metadata": {},
   "source": [
    "<img src=\"../images/icon/Concept-Alert.png\" alt=\"Concept-Alert\" style=\"width: 100px;float:left; margin-right:15px\"/>\n",
    "<br />\n",
    "\n",
    "## The theory of long tail\n",
    "***\n",
    "\n",
    "\n",
    "- It shows how products in low demand or with low sales volume can collectively make up a market share that rivals or exceeds the relatively few current bestsellers and blockbusters but only if the store or distribution channel is large enough.\n",
    "\n",
    "- The long tail concept looks at less popular goods in lower demand and use of  these goods could increase in \n",
    "  profitability because consumers are navigating away from mainstream markets.\n",
    "  \n",
    "- This can be easily understood by looking at the figure [below](https://www.wired.com/2004/10/tail/). "
   ]
  },
  {
   "cell_type": "markdown",
   "metadata": {},
   "source": [
    "![longtail.png](../images/longtail.png)"
   ]
  },
  {
   "cell_type": "markdown",
   "metadata": {
    "collapsed": true
   },
   "source": [
    "The figure above clearly shows the use of longtail by [Rhapsody](https://en.wikipedia.org/wiki/Rhapsody_(music) where they sell Music albums both online and off line. We can clearly observe the following.\n",
    "\n",
    "- Both Rhapsody and Wal-Mart sell the most popular music albums online. But the former offers 19 times more songs than Wal-Mart. Even though there is a demand for the popular music albums there is also a demand for the less popular online. Recommender systems leverage these less popular items online. "
   ]
  },
  {
   "cell_type": "markdown",
   "metadata": {},
   "source": [
    "## Recommend the most popular items\n",
    "\n",
    "- Let's consider the movies dataset. We look carefully at the user ratings and think what can be done? \n",
    "\n",
    "- The answer that strikes first is the most **popular Item**. This is exactly what we will be doing. \n",
    "\n",
    "- Technically this is super fast but is does come with a major drawback which is lack of personalization. The dataset that has many files but we will be looking at a few of these files mainly the ones which relate to movie ratings."
   ]
  },
  {
   "cell_type": "markdown",
   "metadata": {},
   "source": [
    "<img src=\"../images/icon/Concept-Alert.png\" alt=\"Concept-Alert\" style=\"width: 100px;float:left; margin-right:15px\"/>\n",
    "<br />\n",
    "\n",
    "## Popularity based recommender system\n",
    "***\n",
    "In this approach we recommend items which are liked by most number of users. This is a blazing fast and dirty approach and thus has a major drawback. The things is, there is no personalization involved with this approach. Such methods are widely used in news portals and work effectively because of the following points\n",
    "\n",
    "- There is division by section so user can look at the section of his interest.\n",
    "- At a time there are only a few hot topics and there is a high chance that a user wants to read the news which is being read by most others"
   ]
  },
  {
   "cell_type": "code",
   "execution_count": null,
   "metadata": {},
   "outputs": [],
   "source": [
    "import pandas as pd\n",
    "import os, io\n",
    "import numpy as np\n",
    "from pandas import Series, DataFrame, read_table\n",
    "import matplotlib.pyplot as plt\n",
    "import seaborn as sns\n",
    "import warnings\n",
    "warnings.filterwarnings('ignore')\n",
    "from sklearn.metrics import mean_squared_error\n",
    "%matplotlib inline"
   ]
  },
  {
   "cell_type": "markdown",
   "metadata": {},
   "source": [
    "We start to explore the data set of movie ratings and particularly our interest lies in ratings. Let's see how we recommend the most popular (i.e highly rated) movies."
   ]
  },
  {
   "cell_type": "code",
   "execution_count": null,
   "metadata": {},
   "outputs": [],
   "source": [
    "## Load the Ratings data\n",
    "r_cols = ['user_id', 'movie_id', 'rating', 'unix_timestamp']\n",
    "ratings = read_table('../data/ml-100k//u.data',header=None,sep='\\t')\n",
    "ratings.columns = r_cols\n",
    "\n",
    "i_cols = ['movie_id', 'movie title' ,'release date','video release date', 'IMDb URL', 'unknown', 'Action', 'Adventure',\n",
    " 'Animation', 'Children\\'s', 'Comedy', 'Crime', 'Documentary', 'Drama', 'Fantasy',\n",
    " 'Film-Noir', 'Horror', 'Musical', 'Mystery', 'Romance', 'Sci-Fi', 'Thriller', 'War', 'Western']\n",
    "items = read_table('../data/ml-100k//u.item', sep='|',names=i_cols,\n",
    " encoding='latin-1')"
   ]
  },
  {
   "cell_type": "code",
   "execution_count": null,
   "metadata": {},
   "outputs": [],
   "source": [
    "ratings.head()"
   ]
  },
  {
   "cell_type": "markdown",
   "metadata": {},
   "source": [
    "## Let's build a popularity based recommender system\n"
   ]
  },
  {
   "cell_type": "markdown",
   "metadata": {},
   "source": [
    "With our initial exploration, we decide that ideal data would be the one were we could also have the movie ratings with us. Let's see how are we able to do this."
   ]
  },
  {
   "cell_type": "code",
   "execution_count": null,
   "metadata": {},
   "outputs": [],
   "source": [
    "new_data = pd.merge(items,ratings,on='movie_id')\n",
    "new_data  = new_data[['movie_id','movie title','user_id','rating']]"
   ]
  },
  {
   "cell_type": "code",
   "execution_count": 6,
   "metadata": {},
   "outputs": [
    {
     "data": {
      "text/html": [
       "<div>\n",
       "<style scoped>\n",
       "    .dataframe tbody tr th:only-of-type {\n",
       "        vertical-align: middle;\n",
       "    }\n",
       "\n",
       "    .dataframe tbody tr th {\n",
       "        vertical-align: top;\n",
       "    }\n",
       "\n",
       "    .dataframe thead th {\n",
       "        text-align: right;\n",
       "    }\n",
       "</style>\n",
       "<table border=\"1\" class=\"dataframe\">\n",
       "  <thead>\n",
       "    <tr style=\"text-align: right;\">\n",
       "      <th></th>\n",
       "      <th>movie_id</th>\n",
       "      <th>movie title</th>\n",
       "      <th>user_id</th>\n",
       "      <th>rating</th>\n",
       "    </tr>\n",
       "  </thead>\n",
       "  <tbody>\n",
       "    <tr>\n",
       "      <th>0</th>\n",
       "      <td>1</td>\n",
       "      <td>Toy Story (1995)</td>\n",
       "      <td>308</td>\n",
       "      <td>4</td>\n",
       "    </tr>\n",
       "    <tr>\n",
       "      <th>1</th>\n",
       "      <td>1</td>\n",
       "      <td>Toy Story (1995)</td>\n",
       "      <td>287</td>\n",
       "      <td>5</td>\n",
       "    </tr>\n",
       "    <tr>\n",
       "      <th>2</th>\n",
       "      <td>1</td>\n",
       "      <td>Toy Story (1995)</td>\n",
       "      <td>148</td>\n",
       "      <td>4</td>\n",
       "    </tr>\n",
       "    <tr>\n",
       "      <th>3</th>\n",
       "      <td>1</td>\n",
       "      <td>Toy Story (1995)</td>\n",
       "      <td>280</td>\n",
       "      <td>4</td>\n",
       "    </tr>\n",
       "    <tr>\n",
       "      <th>4</th>\n",
       "      <td>1</td>\n",
       "      <td>Toy Story (1995)</td>\n",
       "      <td>66</td>\n",
       "      <td>3</td>\n",
       "    </tr>\n",
       "  </tbody>\n",
       "</table>\n",
       "</div>"
      ],
      "text/plain": [
       "   movie_id       movie title  user_id  rating\n",
       "0         1  Toy Story (1995)      308       4\n",
       "1         1  Toy Story (1995)      287       5\n",
       "2         1  Toy Story (1995)      148       4\n",
       "3         1  Toy Story (1995)      280       4\n",
       "4         1  Toy Story (1995)       66       3"
      ]
     },
     "execution_count": 6,
     "metadata": {},
     "output_type": "execute_result"
    }
   ],
   "source": [
    "new_data.head()"
   ]
  },
  {
   "cell_type": "markdown",
   "metadata": {},
   "source": [
    "Before proceeding to build the recommender system, we will observe the following steps to recommend movies.\n",
    "- Find the unique users\n",
    "- Count the number of times the movie has been seen.\n",
    "- [Rank](https://pandas.pydata.org/pandas-docs/stable/generated/pandas.DataFrame.rank.html) the scores (counts) "
   ]
  },
  {
   "cell_type": "code",
   "execution_count": 7,
   "metadata": {},
   "outputs": [],
   "source": [
    "def popularity(train,title,ids):\n",
    "    train_data_grouped = train.groupby([title])[ids].count().reset_index()  #user_id  #movie title\n",
    "    train_data_grouped.rename(columns = {ids: 'score'},inplace=True)            \n",
    "    train_data_sort = train_data_grouped.sort_values(['score',title], ascending = [0,1])\n",
    "    train_data_sort['Rank'] = train_data_sort['score'].rank(ascending=0, method='first')\n",
    "    popularity_recommendations = train_data_sort.head(10) \n",
    "    return popularity_recommendations"
   ]
  },
  {
   "cell_type": "code",
   "execution_count": 8,
   "metadata": {},
   "outputs": [
    {
     "data": {
      "text/html": [
       "<div>\n",
       "<style scoped>\n",
       "    .dataframe tbody tr th:only-of-type {\n",
       "        vertical-align: middle;\n",
       "    }\n",
       "\n",
       "    .dataframe tbody tr th {\n",
       "        vertical-align: top;\n",
       "    }\n",
       "\n",
       "    .dataframe thead th {\n",
       "        text-align: right;\n",
       "    }\n",
       "</style>\n",
       "<table border=\"1\" class=\"dataframe\">\n",
       "  <thead>\n",
       "    <tr style=\"text-align: right;\">\n",
       "      <th></th>\n",
       "      <th>movie title</th>\n",
       "      <th>score</th>\n",
       "      <th>Rank</th>\n",
       "    </tr>\n",
       "  </thead>\n",
       "  <tbody>\n",
       "    <tr>\n",
       "      <th>1398</th>\n",
       "      <td>Star Wars (1977)</td>\n",
       "      <td>584</td>\n",
       "      <td>1.0</td>\n",
       "    </tr>\n",
       "    <tr>\n",
       "      <th>333</th>\n",
       "      <td>Contact (1997)</td>\n",
       "      <td>509</td>\n",
       "      <td>2.0</td>\n",
       "    </tr>\n",
       "    <tr>\n",
       "      <th>498</th>\n",
       "      <td>Fargo (1996)</td>\n",
       "      <td>508</td>\n",
       "      <td>3.0</td>\n",
       "    </tr>\n",
       "    <tr>\n",
       "      <th>1234</th>\n",
       "      <td>Return of the Jedi (1983)</td>\n",
       "      <td>507</td>\n",
       "      <td>4.0</td>\n",
       "    </tr>\n",
       "    <tr>\n",
       "      <th>860</th>\n",
       "      <td>Liar Liar (1997)</td>\n",
       "      <td>485</td>\n",
       "      <td>5.0</td>\n",
       "    </tr>\n",
       "    <tr>\n",
       "      <th>460</th>\n",
       "      <td>English Patient, The (1996)</td>\n",
       "      <td>481</td>\n",
       "      <td>6.0</td>\n",
       "    </tr>\n",
       "    <tr>\n",
       "      <th>1284</th>\n",
       "      <td>Scream (1996)</td>\n",
       "      <td>478</td>\n",
       "      <td>7.0</td>\n",
       "    </tr>\n",
       "    <tr>\n",
       "      <th>1523</th>\n",
       "      <td>Toy Story (1995)</td>\n",
       "      <td>452</td>\n",
       "      <td>8.0</td>\n",
       "    </tr>\n",
       "    <tr>\n",
       "      <th>32</th>\n",
       "      <td>Air Force One (1997)</td>\n",
       "      <td>431</td>\n",
       "      <td>9.0</td>\n",
       "    </tr>\n",
       "    <tr>\n",
       "      <th>744</th>\n",
       "      <td>Independence Day (ID4) (1996)</td>\n",
       "      <td>429</td>\n",
       "      <td>10.0</td>\n",
       "    </tr>\n",
       "  </tbody>\n",
       "</table>\n",
       "</div>"
      ],
      "text/plain": [
       "                        movie title  score  Rank\n",
       "1398               Star Wars (1977)    584   1.0\n",
       "333                  Contact (1997)    509   2.0\n",
       "498                    Fargo (1996)    508   3.0\n",
       "1234      Return of the Jedi (1983)    507   4.0\n",
       "860                Liar Liar (1997)    485   5.0\n",
       "460     English Patient, The (1996)    481   6.0\n",
       "1284                  Scream (1996)    478   7.0\n",
       "1523               Toy Story (1995)    452   8.0\n",
       "32             Air Force One (1997)    431   9.0\n",
       "744   Independence Day (ID4) (1996)    429  10.0"
      ]
     },
     "execution_count": 8,
     "metadata": {},
     "output_type": "execute_result"
    }
   ],
   "source": [
    "popularity(new_data,'movie title','user_id')"
   ]
  },
  {
   "cell_type": "markdown",
   "metadata": {},
   "source": [
    "<img src=\"../images/icon/Concept-Alert.png\" alt=\"Concept-Alert\" style=\"width: 100px;float:left; margin-right:15px\"/>\n",
    "<br />\n",
    "\n",
    "## Pandas rank\n",
    "- Compute numerical data ranks (1 through n) along axis. Equal values are assigned a rank that is the average of the ranks of those values. This is taken from the official [documentation](https://pandas.pydata.org/pandas-docs/stable/generated/pandas.DataFrame.rank.html)"
   ]
  },
  {
   "cell_type": "markdown",
   "metadata": {},
   "source": [
    "## Shortcomings\n",
    "\n",
    "Having recommended the movies, we can immediately conclude that, the major drawback of such a system **Lack of Personalization**"
   ]
  },
  {
   "cell_type": "markdown",
   "metadata": {},
   "source": [
    "<img src=\"../images/icon/Concept-Alert.png\" alt=\"Concept-Alert\" style=\"width: 100px;float:left; margin-right:15px\"/>\n",
    "<br />\n",
    "\n",
    "## Collaborative Filtering\n",
    "****\n",
    "\n",
    "In the newer, narrower sense, collaborative filtering is a method of making automatic predictions (filtering) about the interests of a user by collecting preferences or taste information from many users (collaborating). The underlying assumption of the collaborative filtering approach is that if a person A has the same opinion as a person B on an issue, A is more likely to have B's opinion on a different issue than that of a randomly chosen person."
   ]
  },
  {
   "cell_type": "markdown",
   "metadata": {},
   "source": [
    "![Collaborative_filtering.gif](../images/Collaborative_filtering.gif)"
   ]
  },
  {
   "cell_type": "markdown",
   "metadata": {},
   "source": [
    "<img src=\"../images/icon/Concept-Alert.png\" alt=\"Concept-Alert\" style=\"width: 100px;float:left; margin-right:15px\"/>\n",
    "<br />\n",
    "\n",
    "## Types of Collaborative Filtering.\n",
    "***\n",
    "## User Based Collaborative Filtering\n",
    "\n",
    "Here we find look alike customers (based on similarity) and offer products which first customer’s look alike has chosen in past. This algorithm is very effective but takes a lot of time and resources. It requires to compute every customer pair information which takes time. Therefore, for big base platforms, this algorithm is hard to implement without a very strong parallelizable system.\n",
    "\n",
    "1. Build a matrix of things each user bought viewed rated\n",
    "2. compute similarity scores between users\n",
    "3. find users similar to you\n",
    "4. Recommend stuff they bought/viewed/rated that you haven’t yet\n",
    "\n",
    "## Problems \n",
    "1. People fickle, tastes change\n",
    "2. They are usually many more people than things\n",
    "3. People do bad things"
   ]
  },
  {
   "cell_type": "markdown",
   "metadata": {},
   "source": [
    "<img src=\"../images/icon/Concept-Alert.png\" alt=\"Concept-Alert\" style=\"width: 100px;float:left; margin-right:15px\"/>\n",
    "<br />\n",
    "\n",
    "## Item Based Collaborative Filtering\n",
    "***\n",
    " It is quite similar to previous algorithm, but instead of finding customer look alike, we try finding item look alike. Once we have item look alike matrix, we can easily recommend alike items to customer who have purchased any item from the store. This algorithm is far less resource consuming than user-user collaborative filtering. \n",
    "\n",
    "1. Find every pair of movies that were watched by the same person\n",
    "2. Measure the similarity of rating across all the users who watched both\n",
    "3. Sort movie then by similarity strength\n",
    "\n",
    "\n",
    "## Interesting fact \n",
    "\n",
    "Item- Item Collaboration is extensively used in amazon and they came out with it in great detail. You can read more at [amazon](https://www.cs.umd.edu/~samir/498/Amazon-Recommendations.pdf)\n",
    "\n",
    "----------\n",
    "Lets get started with building our Item based collaborative recommender system. For convenience Lets split this up into two parts. \n",
    "\n",
    "- To find Similarities between items\n",
    "- To Recommend them to users"
   ]
  },
  {
   "cell_type": "markdown",
   "metadata": {},
   "source": [
    "Item based Collaborative filtering would be the most feasible solution as the number of items is always less than the number of users and it improves computational speed."
   ]
  },
  {
   "cell_type": "markdown",
   "metadata": {
    "collapsed": true
   },
   "source": [
    "**Here we will leverage the power of pandas** \n",
    "\n",
    "- To begin we will use the pandas pivot table to look at relationships between movies and we will use the pivot table in pandas\n",
    "\n",
    "- We start building a utility matrix (matrix consisting of movies and ratings) "
   ]
  },
  {
   "cell_type": "code",
   "execution_count": 9,
   "metadata": {},
   "outputs": [],
   "source": [
    "movie_ratings = new_data.pivot_table(index=['user_id'],columns=['movie title'],values='rating')"
   ]
  },
  {
   "cell_type": "code",
   "execution_count": 10,
   "metadata": {},
   "outputs": [
    {
     "data": {
      "text/html": [
       "<div>\n",
       "<style scoped>\n",
       "    .dataframe tbody tr th:only-of-type {\n",
       "        vertical-align: middle;\n",
       "    }\n",
       "\n",
       "    .dataframe tbody tr th {\n",
       "        vertical-align: top;\n",
       "    }\n",
       "\n",
       "    .dataframe thead th {\n",
       "        text-align: right;\n",
       "    }\n",
       "</style>\n",
       "<table border=\"1\" class=\"dataframe\">\n",
       "  <thead>\n",
       "    <tr style=\"text-align: right;\">\n",
       "      <th>movie title</th>\n",
       "      <th>'Til There Was You (1997)</th>\n",
       "      <th>1-900 (1994)</th>\n",
       "      <th>101 Dalmatians (1996)</th>\n",
       "      <th>12 Angry Men (1957)</th>\n",
       "      <th>187 (1997)</th>\n",
       "      <th>2 Days in the Valley (1996)</th>\n",
       "      <th>20,000 Leagues Under the Sea (1954)</th>\n",
       "      <th>2001: A Space Odyssey (1968)</th>\n",
       "      <th>3 Ninjas: High Noon At Mega Mountain (1998)</th>\n",
       "      <th>39 Steps, The (1935)</th>\n",
       "      <th>...</th>\n",
       "      <th>Yankee Zulu (1994)</th>\n",
       "      <th>Year of the Horse (1997)</th>\n",
       "      <th>You So Crazy (1994)</th>\n",
       "      <th>Young Frankenstein (1974)</th>\n",
       "      <th>Young Guns (1988)</th>\n",
       "      <th>Young Guns II (1990)</th>\n",
       "      <th>Young Poisoner's Handbook, The (1995)</th>\n",
       "      <th>Zeus and Roxanne (1997)</th>\n",
       "      <th>unknown</th>\n",
       "      <th>Á köldum klaka (Cold Fever) (1994)</th>\n",
       "    </tr>\n",
       "    <tr>\n",
       "      <th>user_id</th>\n",
       "      <th></th>\n",
       "      <th></th>\n",
       "      <th></th>\n",
       "      <th></th>\n",
       "      <th></th>\n",
       "      <th></th>\n",
       "      <th></th>\n",
       "      <th></th>\n",
       "      <th></th>\n",
       "      <th></th>\n",
       "      <th></th>\n",
       "      <th></th>\n",
       "      <th></th>\n",
       "      <th></th>\n",
       "      <th></th>\n",
       "      <th></th>\n",
       "      <th></th>\n",
       "      <th></th>\n",
       "      <th></th>\n",
       "      <th></th>\n",
       "      <th></th>\n",
       "    </tr>\n",
       "  </thead>\n",
       "  <tbody>\n",
       "    <tr>\n",
       "      <th>0</th>\n",
       "      <td>NaN</td>\n",
       "      <td>NaN</td>\n",
       "      <td>NaN</td>\n",
       "      <td>NaN</td>\n",
       "      <td>NaN</td>\n",
       "      <td>NaN</td>\n",
       "      <td>NaN</td>\n",
       "      <td>NaN</td>\n",
       "      <td>NaN</td>\n",
       "      <td>NaN</td>\n",
       "      <td>...</td>\n",
       "      <td>NaN</td>\n",
       "      <td>NaN</td>\n",
       "      <td>NaN</td>\n",
       "      <td>NaN</td>\n",
       "      <td>NaN</td>\n",
       "      <td>NaN</td>\n",
       "      <td>NaN</td>\n",
       "      <td>NaN</td>\n",
       "      <td>NaN</td>\n",
       "      <td>NaN</td>\n",
       "    </tr>\n",
       "    <tr>\n",
       "      <th>1</th>\n",
       "      <td>NaN</td>\n",
       "      <td>NaN</td>\n",
       "      <td>2.0</td>\n",
       "      <td>5.0</td>\n",
       "      <td>NaN</td>\n",
       "      <td>NaN</td>\n",
       "      <td>3.0</td>\n",
       "      <td>4.0</td>\n",
       "      <td>NaN</td>\n",
       "      <td>NaN</td>\n",
       "      <td>...</td>\n",
       "      <td>NaN</td>\n",
       "      <td>NaN</td>\n",
       "      <td>NaN</td>\n",
       "      <td>5.0</td>\n",
       "      <td>3.0</td>\n",
       "      <td>NaN</td>\n",
       "      <td>NaN</td>\n",
       "      <td>NaN</td>\n",
       "      <td>4.0</td>\n",
       "      <td>NaN</td>\n",
       "    </tr>\n",
       "    <tr>\n",
       "      <th>2</th>\n",
       "      <td>NaN</td>\n",
       "      <td>NaN</td>\n",
       "      <td>NaN</td>\n",
       "      <td>NaN</td>\n",
       "      <td>NaN</td>\n",
       "      <td>NaN</td>\n",
       "      <td>NaN</td>\n",
       "      <td>NaN</td>\n",
       "      <td>1.0</td>\n",
       "      <td>NaN</td>\n",
       "      <td>...</td>\n",
       "      <td>NaN</td>\n",
       "      <td>NaN</td>\n",
       "      <td>NaN</td>\n",
       "      <td>NaN</td>\n",
       "      <td>NaN</td>\n",
       "      <td>NaN</td>\n",
       "      <td>NaN</td>\n",
       "      <td>NaN</td>\n",
       "      <td>NaN</td>\n",
       "      <td>NaN</td>\n",
       "    </tr>\n",
       "    <tr>\n",
       "      <th>3</th>\n",
       "      <td>NaN</td>\n",
       "      <td>NaN</td>\n",
       "      <td>NaN</td>\n",
       "      <td>NaN</td>\n",
       "      <td>2.0</td>\n",
       "      <td>NaN</td>\n",
       "      <td>NaN</td>\n",
       "      <td>NaN</td>\n",
       "      <td>NaN</td>\n",
       "      <td>NaN</td>\n",
       "      <td>...</td>\n",
       "      <td>NaN</td>\n",
       "      <td>NaN</td>\n",
       "      <td>NaN</td>\n",
       "      <td>NaN</td>\n",
       "      <td>NaN</td>\n",
       "      <td>NaN</td>\n",
       "      <td>NaN</td>\n",
       "      <td>NaN</td>\n",
       "      <td>NaN</td>\n",
       "      <td>NaN</td>\n",
       "    </tr>\n",
       "    <tr>\n",
       "      <th>4</th>\n",
       "      <td>NaN</td>\n",
       "      <td>NaN</td>\n",
       "      <td>NaN</td>\n",
       "      <td>NaN</td>\n",
       "      <td>NaN</td>\n",
       "      <td>NaN</td>\n",
       "      <td>NaN</td>\n",
       "      <td>NaN</td>\n",
       "      <td>NaN</td>\n",
       "      <td>NaN</td>\n",
       "      <td>...</td>\n",
       "      <td>NaN</td>\n",
       "      <td>NaN</td>\n",
       "      <td>NaN</td>\n",
       "      <td>NaN</td>\n",
       "      <td>NaN</td>\n",
       "      <td>NaN</td>\n",
       "      <td>NaN</td>\n",
       "      <td>NaN</td>\n",
       "      <td>NaN</td>\n",
       "      <td>NaN</td>\n",
       "    </tr>\n",
       "  </tbody>\n",
       "</table>\n",
       "<p>5 rows × 1664 columns</p>\n",
       "</div>"
      ],
      "text/plain": [
       "movie title  'Til There Was You (1997)  1-900 (1994)  101 Dalmatians (1996)  \\\n",
       "user_id                                                                       \n",
       "0                                  NaN           NaN                    NaN   \n",
       "1                                  NaN           NaN                    2.0   \n",
       "2                                  NaN           NaN                    NaN   \n",
       "3                                  NaN           NaN                    NaN   \n",
       "4                                  NaN           NaN                    NaN   \n",
       "\n",
       "movie title  12 Angry Men (1957)  187 (1997)  2 Days in the Valley (1996)  \\\n",
       "user_id                                                                     \n",
       "0                            NaN         NaN                          NaN   \n",
       "1                            5.0         NaN                          NaN   \n",
       "2                            NaN         NaN                          NaN   \n",
       "3                            NaN         2.0                          NaN   \n",
       "4                            NaN         NaN                          NaN   \n",
       "\n",
       "movie title  20,000 Leagues Under the Sea (1954)  \\\n",
       "user_id                                            \n",
       "0                                            NaN   \n",
       "1                                            3.0   \n",
       "2                                            NaN   \n",
       "3                                            NaN   \n",
       "4                                            NaN   \n",
       "\n",
       "movie title  2001: A Space Odyssey (1968)  \\\n",
       "user_id                                     \n",
       "0                                     NaN   \n",
       "1                                     4.0   \n",
       "2                                     NaN   \n",
       "3                                     NaN   \n",
       "4                                     NaN   \n",
       "\n",
       "movie title  3 Ninjas: High Noon At Mega Mountain (1998)  \\\n",
       "user_id                                                    \n",
       "0                                                    NaN   \n",
       "1                                                    NaN   \n",
       "2                                                    1.0   \n",
       "3                                                    NaN   \n",
       "4                                                    NaN   \n",
       "\n",
       "movie title  39 Steps, The (1935)                 ...                  \\\n",
       "user_id                                           ...                   \n",
       "0                             NaN                 ...                   \n",
       "1                             NaN                 ...                   \n",
       "2                             NaN                 ...                   \n",
       "3                             NaN                 ...                   \n",
       "4                             NaN                 ...                   \n",
       "\n",
       "movie title  Yankee Zulu (1994)  Year of the Horse (1997)  \\\n",
       "user_id                                                     \n",
       "0                           NaN                       NaN   \n",
       "1                           NaN                       NaN   \n",
       "2                           NaN                       NaN   \n",
       "3                           NaN                       NaN   \n",
       "4                           NaN                       NaN   \n",
       "\n",
       "movie title  You So Crazy (1994)  Young Frankenstein (1974)  \\\n",
       "user_id                                                       \n",
       "0                            NaN                        NaN   \n",
       "1                            NaN                        5.0   \n",
       "2                            NaN                        NaN   \n",
       "3                            NaN                        NaN   \n",
       "4                            NaN                        NaN   \n",
       "\n",
       "movie title  Young Guns (1988)  Young Guns II (1990)  \\\n",
       "user_id                                                \n",
       "0                          NaN                   NaN   \n",
       "1                          3.0                   NaN   \n",
       "2                          NaN                   NaN   \n",
       "3                          NaN                   NaN   \n",
       "4                          NaN                   NaN   \n",
       "\n",
       "movie title  Young Poisoner's Handbook, The (1995)  Zeus and Roxanne (1997)  \\\n",
       "user_id                                                                       \n",
       "0                                              NaN                      NaN   \n",
       "1                                              NaN                      NaN   \n",
       "2                                              NaN                      NaN   \n",
       "3                                              NaN                      NaN   \n",
       "4                                              NaN                      NaN   \n",
       "\n",
       "movie title  unknown  Á köldum klaka (Cold Fever) (1994)  \n",
       "user_id                                                   \n",
       "0                NaN                                 NaN  \n",
       "1                4.0                                 NaN  \n",
       "2                NaN                                 NaN  \n",
       "3                NaN                                 NaN  \n",
       "4                NaN                                 NaN  \n",
       "\n",
       "[5 rows x 1664 columns]"
      ]
     },
     "execution_count": 10,
     "metadata": {},
     "output_type": "execute_result"
    }
   ],
   "source": [
    "movie_ratings.head()"
   ]
  },
  {
   "cell_type": "markdown",
   "metadata": {},
   "source": [
    "The above table gives information about the rating given by each user against the movie title. There are many **NaN's** as it is not necessary for each user to review each movie. To proceed lets start by looking at one the geeks favourite Star Wars and see how it is correlated pairwise with other movies in the table.\n",
    "***\n",
    "\n",
    "Wait a minute !!! But we how do will he decide if it is correlated or not?  Here comes the use of similarity function"
   ]
  },
  {
   "cell_type": "markdown",
   "metadata": {},
   "source": [
    "<img src=\"../images/icon/Technical-Stuff.png\" alt=\"Concept-Alert\" style=\"width: 100px;float:left; margin-right:15px\"/>\n",
    "<br />\n",
    "\n",
    "## Similarity Function\n",
    "\n",
    "\n",
    "So to decide the similarity between two items in the dataset lets briefly look at the popular similarity functions.\n",
    "\n",
    "### Terminology\n",
    "\n",
    "-Let $\\textbf{$r_x$}$ denote the rating of the item x given by the user and $\\textbf{$r_y$}$ be the rating of item y. To find the similarity pairwise between two items. The following metrics can be used.\n",
    "\n",
    "\n",
    "## cosine Index\n",
    "\n",
    "$$sim(\\textbf{$r_{x}$},\\textbf{$r_y$}) = cos(\\textbf{$r_x$},\\textbf{$r_y$}) = \\dfrac{\\textbf{$r_x$}\\textbf{$r_y$}}{||\\textbf{$r_x$}||\\  ||\\textbf{$r_y$}||} $$ \n",
    "\n",
    "Major problem is it treats missing values as negative.\n",
    "\n",
    "## Pearson Index\n",
    "\n",
    "$S_{xy}$ = Items x and y both have ratings\n",
    "\n",
    "$$sim(\\textbf{$r_{x}$},\\textbf{$r_y$})=\\dfrac{\\sum_{x\\epsilon s}(\\textbf{$r_{xs}$}- \\textbf{$r_{xm}$})(\\textbf{$r_{ys}$}- \\textbf{$r_y$})}{(\\sqrt{\\sum_{s\\epsilon s_{xy}}(\\textbf{$r_{xs}$}- \\textbf{$r_{xm}$})^2}(\\sqrt{\\sum_{s\\epsilon s_{xy}}(\\textbf{$r_{ys}$}- \\textbf{$r_{ym}$})^2}} $$ \n",
    "\n",
    "## Jacard Index\n",
    "\n",
    "$$Jacard \\ Index = \\dfrac{Number \\ in\\  both \\  sets}{Number \\  in\\  either \\ set}  $$"
   ]
  },
  {
   "cell_type": "markdown",
   "metadata": {},
   "source": [
    "For this case we begin with  Pearson Index. Now that we have understood how to find similar items. We start by beginning with the movie 'Star Wars'."
   ]
  },
  {
   "cell_type": "code",
   "execution_count": 11,
   "metadata": {},
   "outputs": [
    {
     "data": {
      "text/plain": [
       "user_id\n",
       "0    5.0\n",
       "1    5.0\n",
       "2    5.0\n",
       "3    NaN\n",
       "4    5.0\n",
       "Name: Star Wars (1977), dtype: float64"
      ]
     },
     "execution_count": 11,
     "metadata": {},
     "output_type": "execute_result"
    }
   ],
   "source": [
    "StarWarsRatings = movie_ratings['Star Wars (1977)'] \n",
    "StarWarsRatings.head()"
   ]
  },
  {
   "cell_type": "markdown",
   "metadata": {},
   "source": [
    "Now he checks the pair wise correlation of user rating of StarWars with other Movies in the column using corrwith function"
   ]
  },
  {
   "cell_type": "code",
   "execution_count": 12,
   "metadata": {},
   "outputs": [
    {
     "data": {
      "text/html": [
       "<div>\n",
       "<style scoped>\n",
       "    .dataframe tbody tr th:only-of-type {\n",
       "        vertical-align: middle;\n",
       "    }\n",
       "\n",
       "    .dataframe tbody tr th {\n",
       "        vertical-align: top;\n",
       "    }\n",
       "\n",
       "    .dataframe thead th {\n",
       "        text-align: right;\n",
       "    }\n",
       "</style>\n",
       "<table border=\"1\" class=\"dataframe\">\n",
       "  <thead>\n",
       "    <tr style=\"text-align: right;\">\n",
       "      <th></th>\n",
       "      <th>0</th>\n",
       "    </tr>\n",
       "    <tr>\n",
       "      <th>movie title</th>\n",
       "      <th></th>\n",
       "    </tr>\n",
       "  </thead>\n",
       "  <tbody>\n",
       "    <tr>\n",
       "      <th>'Til There Was You (1997)</th>\n",
       "      <td>0.872872</td>\n",
       "    </tr>\n",
       "    <tr>\n",
       "      <th>1-900 (1994)</th>\n",
       "      <td>-0.645497</td>\n",
       "    </tr>\n",
       "    <tr>\n",
       "      <th>101 Dalmatians (1996)</th>\n",
       "      <td>0.211132</td>\n",
       "    </tr>\n",
       "    <tr>\n",
       "      <th>12 Angry Men (1957)</th>\n",
       "      <td>0.184289</td>\n",
       "    </tr>\n",
       "    <tr>\n",
       "      <th>187 (1997)</th>\n",
       "      <td>0.027398</td>\n",
       "    </tr>\n",
       "  </tbody>\n",
       "</table>\n",
       "</div>"
      ],
      "text/plain": [
       "                                  0\n",
       "movie title                        \n",
       "'Til There Was You (1997)  0.872872\n",
       "1-900 (1994)              -0.645497\n",
       "101 Dalmatians (1996)      0.211132\n",
       "12 Angry Men (1957)        0.184289\n",
       "187 (1997)                 0.027398"
      ]
     },
     "execution_count": 12,
     "metadata": {},
     "output_type": "execute_result"
    }
   ],
   "source": [
    "similarmovies = movie_ratings.corrwith(StarWarsRatings)\n",
    "similarmovies =similarmovies.dropna()\n",
    "df = pd.DataFrame(similarmovies)\n",
    "df.head()"
   ]
  },
  {
   "cell_type": "markdown",
   "metadata": {},
   "source": [
    "If we carefully look at the data, we find something wrong.\n",
    "What went wrong ?? Here The possible explanation is that our movies are getting messed up by a hand-full of people who saw obscure movies. So we decide to get rid of the movies that only a few people watched that are producing wrong results. "
   ]
  },
  {
   "cell_type": "code",
   "execution_count": 13,
   "metadata": {},
   "outputs": [],
   "source": [
    "movie_stats = new_data.groupby('movie title').agg({'rating':[np.size,np.mean]})"
   ]
  },
  {
   "cell_type": "code",
   "execution_count": 14,
   "metadata": {},
   "outputs": [],
   "source": [
    "check = movie_stats.sort_values([('rating','mean')],ascending=False)"
   ]
  },
  {
   "cell_type": "code",
   "execution_count": 15,
   "metadata": {},
   "outputs": [
    {
     "data": {
      "text/html": [
       "<div>\n",
       "<style scoped>\n",
       "    .dataframe tbody tr th:only-of-type {\n",
       "        vertical-align: middle;\n",
       "    }\n",
       "\n",
       "    .dataframe tbody tr th {\n",
       "        vertical-align: top;\n",
       "    }\n",
       "\n",
       "    .dataframe thead tr th {\n",
       "        text-align: left;\n",
       "    }\n",
       "\n",
       "    .dataframe thead tr:last-of-type th {\n",
       "        text-align: right;\n",
       "    }\n",
       "</style>\n",
       "<table border=\"1\" class=\"dataframe\">\n",
       "  <thead>\n",
       "    <tr>\n",
       "      <th></th>\n",
       "      <th colspan=\"2\" halign=\"left\">rating</th>\n",
       "    </tr>\n",
       "    <tr>\n",
       "      <th></th>\n",
       "      <th>size</th>\n",
       "      <th>mean</th>\n",
       "    </tr>\n",
       "    <tr>\n",
       "      <th>movie title</th>\n",
       "      <th></th>\n",
       "      <th></th>\n",
       "    </tr>\n",
       "  </thead>\n",
       "  <tbody>\n",
       "    <tr>\n",
       "      <th>They Made Me a Criminal (1939)</th>\n",
       "      <td>1</td>\n",
       "      <td>5.0</td>\n",
       "    </tr>\n",
       "    <tr>\n",
       "      <th>Marlene Dietrich: Shadow and Light (1996)</th>\n",
       "      <td>1</td>\n",
       "      <td>5.0</td>\n",
       "    </tr>\n",
       "    <tr>\n",
       "      <th>Saint of Fort Washington, The (1993)</th>\n",
       "      <td>2</td>\n",
       "      <td>5.0</td>\n",
       "    </tr>\n",
       "    <tr>\n",
       "      <th>Someone Else's America (1995)</th>\n",
       "      <td>1</td>\n",
       "      <td>5.0</td>\n",
       "    </tr>\n",
       "    <tr>\n",
       "      <th>Star Kid (1997)</th>\n",
       "      <td>3</td>\n",
       "      <td>5.0</td>\n",
       "    </tr>\n",
       "  </tbody>\n",
       "</table>\n",
       "</div>"
      ],
      "text/plain": [
       "                                           rating     \n",
       "                                             size mean\n",
       "movie title                                           \n",
       "They Made Me a Criminal (1939)                  1  5.0\n",
       "Marlene Dietrich: Shadow and Light (1996)       1  5.0\n",
       "Saint of Fort Washington, The (1993)            2  5.0\n",
       "Someone Else's America (1995)                   1  5.0\n",
       "Star Kid (1997)                                 3  5.0"
      ]
     },
     "execution_count": 15,
     "metadata": {},
     "output_type": "execute_result"
    }
   ],
   "source": [
    "check.head()"
   ]
  },
  {
   "cell_type": "markdown",
   "metadata": {},
   "source": [
    "Now we can clearly observe that there are movies which have very few rating counts (size). Thus we set a threshold of the movie count to have at-least 100 ratings. "
   ]
  },
  {
   "cell_type": "code",
   "execution_count": 16,
   "metadata": {},
   "outputs": [
    {
     "data": {
      "text/html": [
       "<div>\n",
       "<style scoped>\n",
       "    .dataframe tbody tr th:only-of-type {\n",
       "        vertical-align: middle;\n",
       "    }\n",
       "\n",
       "    .dataframe tbody tr th {\n",
       "        vertical-align: top;\n",
       "    }\n",
       "\n",
       "    .dataframe thead tr th {\n",
       "        text-align: left;\n",
       "    }\n",
       "\n",
       "    .dataframe thead tr:last-of-type th {\n",
       "        text-align: right;\n",
       "    }\n",
       "</style>\n",
       "<table border=\"1\" class=\"dataframe\">\n",
       "  <thead>\n",
       "    <tr>\n",
       "      <th></th>\n",
       "      <th colspan=\"2\" halign=\"left\">rating</th>\n",
       "    </tr>\n",
       "    <tr>\n",
       "      <th></th>\n",
       "      <th>size</th>\n",
       "      <th>mean</th>\n",
       "    </tr>\n",
       "    <tr>\n",
       "      <th>movie title</th>\n",
       "      <th></th>\n",
       "      <th></th>\n",
       "    </tr>\n",
       "  </thead>\n",
       "  <tbody>\n",
       "    <tr>\n",
       "      <th>Close Shave, A (1995)</th>\n",
       "      <td>112</td>\n",
       "      <td>4.491071</td>\n",
       "    </tr>\n",
       "    <tr>\n",
       "      <th>Schindler's List (1993)</th>\n",
       "      <td>298</td>\n",
       "      <td>4.466443</td>\n",
       "    </tr>\n",
       "    <tr>\n",
       "      <th>Wrong Trousers, The (1993)</th>\n",
       "      <td>118</td>\n",
       "      <td>4.466102</td>\n",
       "    </tr>\n",
       "    <tr>\n",
       "      <th>Casablanca (1942)</th>\n",
       "      <td>243</td>\n",
       "      <td>4.456790</td>\n",
       "    </tr>\n",
       "    <tr>\n",
       "      <th>Shawshank Redemption, The (1994)</th>\n",
       "      <td>283</td>\n",
       "      <td>4.445230</td>\n",
       "    </tr>\n",
       "    <tr>\n",
       "      <th>Rear Window (1954)</th>\n",
       "      <td>209</td>\n",
       "      <td>4.387560</td>\n",
       "    </tr>\n",
       "    <tr>\n",
       "      <th>Usual Suspects, The (1995)</th>\n",
       "      <td>267</td>\n",
       "      <td>4.385768</td>\n",
       "    </tr>\n",
       "    <tr>\n",
       "      <th>Star Wars (1977)</th>\n",
       "      <td>584</td>\n",
       "      <td>4.359589</td>\n",
       "    </tr>\n",
       "    <tr>\n",
       "      <th>12 Angry Men (1957)</th>\n",
       "      <td>125</td>\n",
       "      <td>4.344000</td>\n",
       "    </tr>\n",
       "    <tr>\n",
       "      <th>Citizen Kane (1941)</th>\n",
       "      <td>198</td>\n",
       "      <td>4.292929</td>\n",
       "    </tr>\n",
       "  </tbody>\n",
       "</table>\n",
       "</div>"
      ],
      "text/plain": [
       "                                 rating          \n",
       "                                   size      mean\n",
       "movie title                                      \n",
       "Close Shave, A (1995)               112  4.491071\n",
       "Schindler's List (1993)             298  4.466443\n",
       "Wrong Trousers, The (1993)          118  4.466102\n",
       "Casablanca (1942)                   243  4.456790\n",
       "Shawshank Redemption, The (1994)    283  4.445230\n",
       "Rear Window (1954)                  209  4.387560\n",
       "Usual Suspects, The (1995)          267  4.385768\n",
       "Star Wars (1977)                    584  4.359589\n",
       "12 Angry Men (1957)                 125  4.344000\n",
       "Citizen Kane (1941)                 198  4.292929"
      ]
     },
     "execution_count": 16,
     "metadata": {},
     "output_type": "execute_result"
    }
   ],
   "source": [
    "popularmovies = movie_stats['rating']['size']>=100\n",
    "\n",
    "movie_stats[popularmovies].sort_values([('rating','mean')],ascending=False)[:10]"
   ]
  },
  {
   "cell_type": "code",
   "execution_count": 17,
   "metadata": {},
   "outputs": [
    {
     "data": {
      "text/html": [
       "<div>\n",
       "<style scoped>\n",
       "    .dataframe tbody tr th:only-of-type {\n",
       "        vertical-align: middle;\n",
       "    }\n",
       "\n",
       "    .dataframe tbody tr th {\n",
       "        vertical-align: top;\n",
       "    }\n",
       "\n",
       "    .dataframe thead th {\n",
       "        text-align: right;\n",
       "    }\n",
       "</style>\n",
       "<table border=\"1\" class=\"dataframe\">\n",
       "  <thead>\n",
       "    <tr style=\"text-align: right;\">\n",
       "      <th></th>\n",
       "      <th>(rating, size)</th>\n",
       "      <th>(rating, mean)</th>\n",
       "      <th>similarity</th>\n",
       "    </tr>\n",
       "    <tr>\n",
       "      <th>movie title</th>\n",
       "      <th></th>\n",
       "      <th></th>\n",
       "      <th></th>\n",
       "    </tr>\n",
       "  </thead>\n",
       "  <tbody>\n",
       "    <tr>\n",
       "      <th>Star Wars (1977)</th>\n",
       "      <td>584</td>\n",
       "      <td>4.359589</td>\n",
       "      <td>1.000000</td>\n",
       "    </tr>\n",
       "    <tr>\n",
       "      <th>Empire Strikes Back, The (1980)</th>\n",
       "      <td>368</td>\n",
       "      <td>4.206522</td>\n",
       "      <td>0.748353</td>\n",
       "    </tr>\n",
       "    <tr>\n",
       "      <th>Return of the Jedi (1983)</th>\n",
       "      <td>507</td>\n",
       "      <td>4.007890</td>\n",
       "      <td>0.672556</td>\n",
       "    </tr>\n",
       "    <tr>\n",
       "      <th>Raiders of the Lost Ark (1981)</th>\n",
       "      <td>420</td>\n",
       "      <td>4.252381</td>\n",
       "      <td>0.536117</td>\n",
       "    </tr>\n",
       "    <tr>\n",
       "      <th>Austin Powers: International Man of Mystery (1997)</th>\n",
       "      <td>130</td>\n",
       "      <td>3.246154</td>\n",
       "      <td>0.377433</td>\n",
       "    </tr>\n",
       "    <tr>\n",
       "      <th>Sting, The (1973)</th>\n",
       "      <td>241</td>\n",
       "      <td>4.058091</td>\n",
       "      <td>0.367538</td>\n",
       "    </tr>\n",
       "    <tr>\n",
       "      <th>Indiana Jones and the Last Crusade (1989)</th>\n",
       "      <td>331</td>\n",
       "      <td>3.930514</td>\n",
       "      <td>0.350107</td>\n",
       "    </tr>\n",
       "    <tr>\n",
       "      <th>Pinocchio (1940)</th>\n",
       "      <td>101</td>\n",
       "      <td>3.673267</td>\n",
       "      <td>0.347868</td>\n",
       "    </tr>\n",
       "    <tr>\n",
       "      <th>Frighteners, The (1996)</th>\n",
       "      <td>115</td>\n",
       "      <td>3.234783</td>\n",
       "      <td>0.332729</td>\n",
       "    </tr>\n",
       "    <tr>\n",
       "      <th>L.A. Confidential (1997)</th>\n",
       "      <td>297</td>\n",
       "      <td>4.161616</td>\n",
       "      <td>0.319065</td>\n",
       "    </tr>\n",
       "    <tr>\n",
       "      <th>Wag the Dog (1997)</th>\n",
       "      <td>137</td>\n",
       "      <td>3.510949</td>\n",
       "      <td>0.318645</td>\n",
       "    </tr>\n",
       "    <tr>\n",
       "      <th>Dumbo (1941)</th>\n",
       "      <td>123</td>\n",
       "      <td>3.495935</td>\n",
       "      <td>0.317656</td>\n",
       "    </tr>\n",
       "    <tr>\n",
       "      <th>Bridge on the River Kwai, The (1957)</th>\n",
       "      <td>165</td>\n",
       "      <td>4.175758</td>\n",
       "      <td>0.316580</td>\n",
       "    </tr>\n",
       "    <tr>\n",
       "      <th>Philadelphia Story, The (1940)</th>\n",
       "      <td>104</td>\n",
       "      <td>4.115385</td>\n",
       "      <td>0.314272</td>\n",
       "    </tr>\n",
       "    <tr>\n",
       "      <th>Miracle on 34th Street (1994)</th>\n",
       "      <td>101</td>\n",
       "      <td>3.722772</td>\n",
       "      <td>0.310921</td>\n",
       "    </tr>\n",
       "    <tr>\n",
       "      <th>E.T. the Extra-Terrestrial (1982)</th>\n",
       "      <td>300</td>\n",
       "      <td>3.833333</td>\n",
       "      <td>0.303619</td>\n",
       "    </tr>\n",
       "    <tr>\n",
       "      <th>Mystery Science Theater 3000: The Movie (1996)</th>\n",
       "      <td>130</td>\n",
       "      <td>3.430769</td>\n",
       "      <td>0.301809</td>\n",
       "    </tr>\n",
       "    <tr>\n",
       "      <th>Cinderella (1950)</th>\n",
       "      <td>129</td>\n",
       "      <td>3.581395</td>\n",
       "      <td>0.299163</td>\n",
       "    </tr>\n",
       "    <tr>\n",
       "      <th>Batman (1989)</th>\n",
       "      <td>201</td>\n",
       "      <td>3.427861</td>\n",
       "      <td>0.289344</td>\n",
       "    </tr>\n",
       "    <tr>\n",
       "      <th>Swingers (1996)</th>\n",
       "      <td>157</td>\n",
       "      <td>3.828025</td>\n",
       "      <td>0.289310</td>\n",
       "    </tr>\n",
       "  </tbody>\n",
       "</table>\n",
       "</div>"
      ],
      "text/plain": [
       "                                                    (rating, size)  \\\n",
       "movie title                                                          \n",
       "Star Wars (1977)                                               584   \n",
       "Empire Strikes Back, The (1980)                                368   \n",
       "Return of the Jedi (1983)                                      507   \n",
       "Raiders of the Lost Ark (1981)                                 420   \n",
       "Austin Powers: International Man of Mystery (1997)             130   \n",
       "Sting, The (1973)                                              241   \n",
       "Indiana Jones and the Last Crusade (1989)                      331   \n",
       "Pinocchio (1940)                                               101   \n",
       "Frighteners, The (1996)                                        115   \n",
       "L.A. Confidential (1997)                                       297   \n",
       "Wag the Dog (1997)                                             137   \n",
       "Dumbo (1941)                                                   123   \n",
       "Bridge on the River Kwai, The (1957)                           165   \n",
       "Philadelphia Story, The (1940)                                 104   \n",
       "Miracle on 34th Street (1994)                                  101   \n",
       "E.T. the Extra-Terrestrial (1982)                              300   \n",
       "Mystery Science Theater 3000: The Movie (1996)                 130   \n",
       "Cinderella (1950)                                              129   \n",
       "Batman (1989)                                                  201   \n",
       "Swingers (1996)                                                157   \n",
       "\n",
       "                                                    (rating, mean)  similarity  \n",
       "movie title                                                                     \n",
       "Star Wars (1977)                                          4.359589    1.000000  \n",
       "Empire Strikes Back, The (1980)                           4.206522    0.748353  \n",
       "Return of the Jedi (1983)                                 4.007890    0.672556  \n",
       "Raiders of the Lost Ark (1981)                            4.252381    0.536117  \n",
       "Austin Powers: International Man of Mystery (1997)        3.246154    0.377433  \n",
       "Sting, The (1973)                                         4.058091    0.367538  \n",
       "Indiana Jones and the Last Crusade (1989)                 3.930514    0.350107  \n",
       "Pinocchio (1940)                                          3.673267    0.347868  \n",
       "Frighteners, The (1996)                                   3.234783    0.332729  \n",
       "L.A. Confidential (1997)                                  4.161616    0.319065  \n",
       "Wag the Dog (1997)                                        3.510949    0.318645  \n",
       "Dumbo (1941)                                              3.495935    0.317656  \n",
       "Bridge on the River Kwai, The (1957)                      4.175758    0.316580  \n",
       "Philadelphia Story, The (1940)                            4.115385    0.314272  \n",
       "Miracle on 34th Street (1994)                             3.722772    0.310921  \n",
       "E.T. the Extra-Terrestrial (1982)                         3.833333    0.303619  \n",
       "Mystery Science Theater 3000: The Movie (1996)            3.430769    0.301809  \n",
       "Cinderella (1950)                                         3.581395    0.299163  \n",
       "Batman (1989)                                             3.427861    0.289344  \n",
       "Swingers (1996)                                           3.828025    0.289310  "
      ]
     },
     "execution_count": 17,
     "metadata": {},
     "output_type": "execute_result"
    }
   ],
   "source": [
    "df = movie_stats[popularmovies].join(DataFrame(similarmovies,columns=['similarity']))\n",
    "df.sort_values('similarity',ascending=False)[:20]"
   ]
  },
  {
   "cell_type": "markdown",
   "metadata": {},
   "source": [
    "## Accomplished\n",
    "\n",
    "We found similarities between Star Wars and other movies in the data set."
   ]
  },
  {
   "cell_type": "markdown",
   "metadata": {},
   "source": [
    "## Building a full blown recommender system.\n",
    "\n",
    "We list down points which we will need to follow to recommend a movie based on what we did till now :\n",
    "\n",
    "- compute the correlation score for every pair in the matrix\n",
    "- choose a user and find his movies of interest\n",
    "- recommend movies to him\n",
    "- Improve on the recommendation\n",
    "\n",
    "The Pandas method corr will compute the correlation score for every pair in the matrix this gives a correlation score between every pair of movies. This creates a sparse matrix. Lets see how this looks"
   ]
  },
  {
   "cell_type": "code",
   "execution_count": 18,
   "metadata": {},
   "outputs": [
    {
     "data": {
      "text/html": [
       "<div>\n",
       "<style scoped>\n",
       "    .dataframe tbody tr th:only-of-type {\n",
       "        vertical-align: middle;\n",
       "    }\n",
       "\n",
       "    .dataframe tbody tr th {\n",
       "        vertical-align: top;\n",
       "    }\n",
       "\n",
       "    .dataframe thead th {\n",
       "        text-align: right;\n",
       "    }\n",
       "</style>\n",
       "<table border=\"1\" class=\"dataframe\">\n",
       "  <thead>\n",
       "    <tr style=\"text-align: right;\">\n",
       "      <th>movie title</th>\n",
       "      <th>'Til There Was You (1997)</th>\n",
       "      <th>1-900 (1994)</th>\n",
       "      <th>101 Dalmatians (1996)</th>\n",
       "      <th>12 Angry Men (1957)</th>\n",
       "      <th>187 (1997)</th>\n",
       "      <th>2 Days in the Valley (1996)</th>\n",
       "      <th>20,000 Leagues Under the Sea (1954)</th>\n",
       "      <th>2001: A Space Odyssey (1968)</th>\n",
       "      <th>3 Ninjas: High Noon At Mega Mountain (1998)</th>\n",
       "      <th>39 Steps, The (1935)</th>\n",
       "      <th>...</th>\n",
       "      <th>Yankee Zulu (1994)</th>\n",
       "      <th>Year of the Horse (1997)</th>\n",
       "      <th>You So Crazy (1994)</th>\n",
       "      <th>Young Frankenstein (1974)</th>\n",
       "      <th>Young Guns (1988)</th>\n",
       "      <th>Young Guns II (1990)</th>\n",
       "      <th>Young Poisoner's Handbook, The (1995)</th>\n",
       "      <th>Zeus and Roxanne (1997)</th>\n",
       "      <th>unknown</th>\n",
       "      <th>Á köldum klaka (Cold Fever) (1994)</th>\n",
       "    </tr>\n",
       "    <tr>\n",
       "      <th>movie title</th>\n",
       "      <th></th>\n",
       "      <th></th>\n",
       "      <th></th>\n",
       "      <th></th>\n",
       "      <th></th>\n",
       "      <th></th>\n",
       "      <th></th>\n",
       "      <th></th>\n",
       "      <th></th>\n",
       "      <th></th>\n",
       "      <th></th>\n",
       "      <th></th>\n",
       "      <th></th>\n",
       "      <th></th>\n",
       "      <th></th>\n",
       "      <th></th>\n",
       "      <th></th>\n",
       "      <th></th>\n",
       "      <th></th>\n",
       "      <th></th>\n",
       "      <th></th>\n",
       "    </tr>\n",
       "  </thead>\n",
       "  <tbody>\n",
       "    <tr>\n",
       "      <th>'Til There Was You (1997)</th>\n",
       "      <td>NaN</td>\n",
       "      <td>NaN</td>\n",
       "      <td>NaN</td>\n",
       "      <td>NaN</td>\n",
       "      <td>NaN</td>\n",
       "      <td>NaN</td>\n",
       "      <td>NaN</td>\n",
       "      <td>NaN</td>\n",
       "      <td>NaN</td>\n",
       "      <td>NaN</td>\n",
       "      <td>...</td>\n",
       "      <td>NaN</td>\n",
       "      <td>NaN</td>\n",
       "      <td>NaN</td>\n",
       "      <td>NaN</td>\n",
       "      <td>NaN</td>\n",
       "      <td>NaN</td>\n",
       "      <td>NaN</td>\n",
       "      <td>NaN</td>\n",
       "      <td>NaN</td>\n",
       "      <td>NaN</td>\n",
       "    </tr>\n",
       "    <tr>\n",
       "      <th>1-900 (1994)</th>\n",
       "      <td>NaN</td>\n",
       "      <td>NaN</td>\n",
       "      <td>NaN</td>\n",
       "      <td>NaN</td>\n",
       "      <td>NaN</td>\n",
       "      <td>NaN</td>\n",
       "      <td>NaN</td>\n",
       "      <td>NaN</td>\n",
       "      <td>NaN</td>\n",
       "      <td>NaN</td>\n",
       "      <td>...</td>\n",
       "      <td>NaN</td>\n",
       "      <td>NaN</td>\n",
       "      <td>NaN</td>\n",
       "      <td>NaN</td>\n",
       "      <td>NaN</td>\n",
       "      <td>NaN</td>\n",
       "      <td>NaN</td>\n",
       "      <td>NaN</td>\n",
       "      <td>NaN</td>\n",
       "      <td>NaN</td>\n",
       "    </tr>\n",
       "    <tr>\n",
       "      <th>101 Dalmatians (1996)</th>\n",
       "      <td>NaN</td>\n",
       "      <td>NaN</td>\n",
       "      <td>1.0</td>\n",
       "      <td>NaN</td>\n",
       "      <td>NaN</td>\n",
       "      <td>NaN</td>\n",
       "      <td>NaN</td>\n",
       "      <td>NaN</td>\n",
       "      <td>NaN</td>\n",
       "      <td>NaN</td>\n",
       "      <td>...</td>\n",
       "      <td>NaN</td>\n",
       "      <td>NaN</td>\n",
       "      <td>NaN</td>\n",
       "      <td>NaN</td>\n",
       "      <td>NaN</td>\n",
       "      <td>NaN</td>\n",
       "      <td>NaN</td>\n",
       "      <td>NaN</td>\n",
       "      <td>NaN</td>\n",
       "      <td>NaN</td>\n",
       "    </tr>\n",
       "    <tr>\n",
       "      <th>12 Angry Men (1957)</th>\n",
       "      <td>NaN</td>\n",
       "      <td>NaN</td>\n",
       "      <td>NaN</td>\n",
       "      <td>1.0</td>\n",
       "      <td>NaN</td>\n",
       "      <td>NaN</td>\n",
       "      <td>NaN</td>\n",
       "      <td>NaN</td>\n",
       "      <td>NaN</td>\n",
       "      <td>NaN</td>\n",
       "      <td>...</td>\n",
       "      <td>NaN</td>\n",
       "      <td>NaN</td>\n",
       "      <td>NaN</td>\n",
       "      <td>NaN</td>\n",
       "      <td>NaN</td>\n",
       "      <td>NaN</td>\n",
       "      <td>NaN</td>\n",
       "      <td>NaN</td>\n",
       "      <td>NaN</td>\n",
       "      <td>NaN</td>\n",
       "    </tr>\n",
       "    <tr>\n",
       "      <th>187 (1997)</th>\n",
       "      <td>NaN</td>\n",
       "      <td>NaN</td>\n",
       "      <td>NaN</td>\n",
       "      <td>NaN</td>\n",
       "      <td>NaN</td>\n",
       "      <td>NaN</td>\n",
       "      <td>NaN</td>\n",
       "      <td>NaN</td>\n",
       "      <td>NaN</td>\n",
       "      <td>NaN</td>\n",
       "      <td>...</td>\n",
       "      <td>NaN</td>\n",
       "      <td>NaN</td>\n",
       "      <td>NaN</td>\n",
       "      <td>NaN</td>\n",
       "      <td>NaN</td>\n",
       "      <td>NaN</td>\n",
       "      <td>NaN</td>\n",
       "      <td>NaN</td>\n",
       "      <td>NaN</td>\n",
       "      <td>NaN</td>\n",
       "    </tr>\n",
       "  </tbody>\n",
       "</table>\n",
       "<p>5 rows × 1664 columns</p>\n",
       "</div>"
      ],
      "text/plain": [
       "movie title                'Til There Was You (1997)  1-900 (1994)  \\\n",
       "movie title                                                          \n",
       "'Til There Was You (1997)                        NaN           NaN   \n",
       "1-900 (1994)                                     NaN           NaN   \n",
       "101 Dalmatians (1996)                            NaN           NaN   \n",
       "12 Angry Men (1957)                              NaN           NaN   \n",
       "187 (1997)                                       NaN           NaN   \n",
       "\n",
       "movie title                101 Dalmatians (1996)  12 Angry Men (1957)  \\\n",
       "movie title                                                             \n",
       "'Til There Was You (1997)                    NaN                  NaN   \n",
       "1-900 (1994)                                 NaN                  NaN   \n",
       "101 Dalmatians (1996)                        1.0                  NaN   \n",
       "12 Angry Men (1957)                          NaN                  1.0   \n",
       "187 (1997)                                   NaN                  NaN   \n",
       "\n",
       "movie title                187 (1997)  2 Days in the Valley (1996)  \\\n",
       "movie title                                                          \n",
       "'Til There Was You (1997)         NaN                          NaN   \n",
       "1-900 (1994)                      NaN                          NaN   \n",
       "101 Dalmatians (1996)             NaN                          NaN   \n",
       "12 Angry Men (1957)               NaN                          NaN   \n",
       "187 (1997)                        NaN                          NaN   \n",
       "\n",
       "movie title                20,000 Leagues Under the Sea (1954)  \\\n",
       "movie title                                                      \n",
       "'Til There Was You (1997)                                  NaN   \n",
       "1-900 (1994)                                               NaN   \n",
       "101 Dalmatians (1996)                                      NaN   \n",
       "12 Angry Men (1957)                                        NaN   \n",
       "187 (1997)                                                 NaN   \n",
       "\n",
       "movie title                2001: A Space Odyssey (1968)  \\\n",
       "movie title                                               \n",
       "'Til There Was You (1997)                           NaN   \n",
       "1-900 (1994)                                        NaN   \n",
       "101 Dalmatians (1996)                               NaN   \n",
       "12 Angry Men (1957)                                 NaN   \n",
       "187 (1997)                                          NaN   \n",
       "\n",
       "movie title                3 Ninjas: High Noon At Mega Mountain (1998)  \\\n",
       "movie title                                                              \n",
       "'Til There Was You (1997)                                          NaN   \n",
       "1-900 (1994)                                                       NaN   \n",
       "101 Dalmatians (1996)                                              NaN   \n",
       "12 Angry Men (1957)                                                NaN   \n",
       "187 (1997)                                                         NaN   \n",
       "\n",
       "movie title                39 Steps, The (1935)  \\\n",
       "movie title                                       \n",
       "'Til There Was You (1997)                   NaN   \n",
       "1-900 (1994)                                NaN   \n",
       "101 Dalmatians (1996)                       NaN   \n",
       "12 Angry Men (1957)                         NaN   \n",
       "187 (1997)                                  NaN   \n",
       "\n",
       "movie title                               ...                  \\\n",
       "movie title                               ...                   \n",
       "'Til There Was You (1997)                 ...                   \n",
       "1-900 (1994)                              ...                   \n",
       "101 Dalmatians (1996)                     ...                   \n",
       "12 Angry Men (1957)                       ...                   \n",
       "187 (1997)                                ...                   \n",
       "\n",
       "movie title                Yankee Zulu (1994)  Year of the Horse (1997)  \\\n",
       "movie title                                                               \n",
       "'Til There Was You (1997)                 NaN                       NaN   \n",
       "1-900 (1994)                              NaN                       NaN   \n",
       "101 Dalmatians (1996)                     NaN                       NaN   \n",
       "12 Angry Men (1957)                       NaN                       NaN   \n",
       "187 (1997)                                NaN                       NaN   \n",
       "\n",
       "movie title                You So Crazy (1994)  Young Frankenstein (1974)  \\\n",
       "movie title                                                                 \n",
       "'Til There Was You (1997)                  NaN                        NaN   \n",
       "1-900 (1994)                               NaN                        NaN   \n",
       "101 Dalmatians (1996)                      NaN                        NaN   \n",
       "12 Angry Men (1957)                        NaN                        NaN   \n",
       "187 (1997)                                 NaN                        NaN   \n",
       "\n",
       "movie title                Young Guns (1988)  Young Guns II (1990)  \\\n",
       "movie title                                                          \n",
       "'Til There Was You (1997)                NaN                   NaN   \n",
       "1-900 (1994)                             NaN                   NaN   \n",
       "101 Dalmatians (1996)                    NaN                   NaN   \n",
       "12 Angry Men (1957)                      NaN                   NaN   \n",
       "187 (1997)                               NaN                   NaN   \n",
       "\n",
       "movie title                Young Poisoner's Handbook, The (1995)  \\\n",
       "movie title                                                        \n",
       "'Til There Was You (1997)                                    NaN   \n",
       "1-900 (1994)                                                 NaN   \n",
       "101 Dalmatians (1996)                                        NaN   \n",
       "12 Angry Men (1957)                                          NaN   \n",
       "187 (1997)                                                   NaN   \n",
       "\n",
       "movie title                Zeus and Roxanne (1997)  unknown  \\\n",
       "movie title                                                   \n",
       "'Til There Was You (1997)                      NaN      NaN   \n",
       "1-900 (1994)                                   NaN      NaN   \n",
       "101 Dalmatians (1996)                          NaN      NaN   \n",
       "12 Angry Men (1957)                            NaN      NaN   \n",
       "187 (1997)                                     NaN      NaN   \n",
       "\n",
       "movie title                Á köldum klaka (Cold Fever) (1994)  \n",
       "movie title                                                    \n",
       "'Til There Was You (1997)                                 NaN  \n",
       "1-900 (1994)                                              NaN  \n",
       "101 Dalmatians (1996)                                     NaN  \n",
       "12 Angry Men (1957)                                       NaN  \n",
       "187 (1997)                                                NaN  \n",
       "\n",
       "[5 rows x 1664 columns]"
      ]
     },
     "execution_count": 18,
     "metadata": {},
     "output_type": "execute_result"
    }
   ],
   "source": [
    "corrMatrix = movie_ratings.corr(method='pearson',min_periods=100)\n",
    "corrMatrix.head()"
   ]
  },
  {
   "cell_type": "markdown",
   "metadata": {},
   "source": [
    "Now we want to recommend movies to a friend, so let's have a look at the movies our friend has rated."
   ]
  },
  {
   "cell_type": "code",
   "execution_count": 19,
   "metadata": {},
   "outputs": [
    {
     "data": {
      "text/plain": [
       "movie title\n",
       "12 Angry Men (1957)                    5.0\n",
       "20,000 Leagues Under the Sea (1954)    3.0\n",
       "2001: A Space Odyssey (1968)           4.0\n",
       "Name: 1, dtype: float64"
      ]
     },
     "execution_count": 19,
     "metadata": {},
     "output_type": "execute_result"
    }
   ],
   "source": [
    "friend_ratings = movie_ratings.loc[1].dropna()[1:4]\n",
    "friend_ratings"
   ]
  },
  {
   "cell_type": "code",
   "execution_count": 20,
   "metadata": {},
   "outputs": [
    {
     "name": "stdout",
     "output_type": "stream",
     "text": [
      "Adding similars to  12 Angry Men (1957)\n",
      "--------------------------------\n",
      "sorting\n",
      "12 Angry Men (1957)               5.000000\n",
      "Star Wars (1977)                  0.921447\n",
      "Raiders of the Lost Ark (1981)    0.646672\n",
      "dtype: float64\n",
      "Adding similars to  20,000 Leagues Under the Sea (1954)\n",
      "--------------------------------\n",
      "sorting\n",
      "12 Angry Men (1957)               5.000000\n",
      "Star Wars (1977)                  0.921447\n",
      "Raiders of the Lost Ark (1981)    0.646672\n",
      "dtype: float64\n",
      "Adding similars to  2001: A Space Odyssey (1968)\n",
      "--------------------------------\n",
      "sorting\n",
      "12 Angry Men (1957)                                                            5.000000\n",
      "2001: A Space Odyssey (1968)                                                   4.000000\n",
      "Dr. Strangelove or: How I Learned to Stop Worrying and Love the Bomb (1963)    1.571663\n",
      "Clockwork Orange, A (1971)                                                     1.552285\n",
      "Citizen Kane (1941)                                                            1.481653\n",
      "Lawrence of Arabia (1962)                                                      1.324881\n",
      "Chinatown (1974)                                                               1.311644\n",
      "Apocalypse Now (1979)                                                          1.251388\n",
      "Birds, The (1963)                                                              1.226125\n",
      "Godfather, The (1972)                                                          1.222868\n",
      "dtype: float64\n"
     ]
    }
   ],
   "source": [
    "simcandidates= pd.Series()\n",
    "for i in range(0,len(friend_ratings.index)):\n",
    "    print('Adding similars to ', friend_ratings.index[i])\n",
    "    \n",
    "    print('--------------------------------')\n",
    "    sims = corrMatrix[friend_ratings.index[i]].dropna()\n",
    "    sims = sims.map(lambda x: x*friend_ratings[i]) # Assigning lower weights to movies with lower ratings.\n",
    "    simcandidates  = simcandidates.append(sims)\n",
    "    \n",
    "    print('sorting')\n",
    "    \n",
    "    simcandidates.sort_values(inplace=True,ascending=False)\n",
    "    \n",
    "    print(simcandidates.head(10))"
   ]
  },
  {
   "cell_type": "markdown",
   "metadata": {},
   "source": [
    "Here some movies come up more than once because they are very similar to one's that user has rated. Lets eliminate them."
   ]
  },
  {
   "cell_type": "code",
   "execution_count": 21,
   "metadata": {},
   "outputs": [
    {
     "data": {
      "text/plain": [
       "12 Angry Men (1957)                                                            5.000000\n",
       "2001: A Space Odyssey (1968)                                                   4.000000\n",
       "Star Wars (1977)                                                               1.844984\n",
       "Dr. Strangelove or: How I Learned to Stop Worrying and Love the Bomb (1963)    1.571663\n",
       "Clockwork Orange, A (1971)                                                     1.552285\n",
       "Citizen Kane (1941)                                                            1.481653\n",
       "Raiders of the Lost Ark (1981)                                                 1.438781\n",
       "Lawrence of Arabia (1962)                                                      1.324881\n",
       "Chinatown (1974)                                                               1.311644\n",
       "Apocalypse Now (1979)                                                          1.251388\n",
       "dtype: float64"
      ]
     },
     "execution_count": 21,
     "metadata": {},
     "output_type": "execute_result"
    }
   ],
   "source": [
    "simcandidates = simcandidates.groupby(simcandidates.index).sum()\n",
    "simcandidates.sort_values(inplace=True,ascending=False)\n",
    "simcandidates.head(10)"
   ]
  },
  {
   "cell_type": "markdown",
   "metadata": {},
   "source": [
    "Now we can recommend the movies to our friend."
   ]
  },
  {
   "cell_type": "markdown",
   "metadata": {},
   "source": [
    "Having done all the computations using pandas we can see that it is computationally intensive. But we have a python module that does that for us."
   ]
  },
  {
   "cell_type": "markdown",
   "metadata": {},
   "source": [
    "## using the surprise module\n",
    "\n",
    "[Python Surprise](http://surprise.readthedocs.io/en/stable/index.html) is an easy-to-use Python scikit for recommender systems. Lets see how to build a recommender system using the surprise module. Lets focus on the model inspired by K nearest neighbours. \n",
    "\n",
    "-----------------"
   ]
  },
  {
   "cell_type": "markdown",
   "metadata": {},
   "source": [
    "<img src=\"../images/icon/Concept-Alert.png\" alt=\"Concept-Alert\" style=\"width: 100px;float:left; margin-right:15px\"/>\n",
    "<br />\n",
    "\n",
    "## Common Practice\n",
    "***\n",
    "1. Define Similarity $S_{ij}$ in terms of i and j\n",
    "2. Select K Nearest neighbours N(i;X)\n",
    "   - Items most similar to i that were rated by X\n",
    "3. Estimate rating $r_{xi}$ as the weighted average\n",
    "\n",
    "$$ r_{x_i} = b_{x_i} + \\dfrac{\\sum_{j \\epsilon N(i;x)} S_{ij} (r_{x_j} - b_{x_j})}{\\sum_{j \\epsilon N(i;x)} S_{ij}} $$\n",
    "\n",
    "Here the term $b_{x_i}$ is the baseline estimator for the rating. comprising of three terms the overall mean movie rating, rating deviation of user x, rating deviation of movie i"
   ]
  },
  {
   "cell_type": "markdown",
   "metadata": {},
   "source": [
    "<img src=\"../images/icon/Concept-Alert.png\" alt=\"Concept-Alert\" style=\"width: 100px;float:left; margin-right:15px\"/>\n",
    "<br />\n",
    "\n",
    "## Evaluation Metrics\n",
    "***\n",
    "### Comparing predictions with known ratings\n",
    "\n",
    "**RMSE**\n",
    "\n",
    "- Root Mean Square Error (RMSE) \n",
    "  - $ \\sqrt{\\frac{1}{N}\\sum_{x_i}(\\textbf{$r_{x_i}$- $r_{x_i}^*$})^2}$ here $r_{x_i}$ is predicted rating and $r_{x_i}^*$ is the actual rating\n",
    "- Precision at top 10 \n",
    "  - % of those in top 10"
   ]
  },
  {
   "cell_type": "code",
   "execution_count": 22,
   "metadata": {},
   "outputs": [
    {
     "name": "stdout",
     "output_type": "stream",
     "text": [
      "Requirement already satisfied: surprise in c:\\users\\rusha\\anaconda3\\lib\\site-packages (0.1)\n",
      "Requirement already satisfied: scikit-surprise in c:\\users\\rusha\\anaconda3\\lib\\site-packages (from surprise) (1.0.6)\n",
      "Requirement already satisfied: joblib>=0.11 in c:\\users\\rusha\\anaconda3\\lib\\site-packages (from scikit-surprise->surprise) (0.13.2)\n",
      "Requirement already satisfied: numpy>=1.11.2 in c:\\users\\rusha\\anaconda3\\lib\\site-packages (from scikit-surprise->surprise) (1.15.3)\n",
      "Requirement already satisfied: scipy>=1.0.0 in c:\\users\\rusha\\anaconda3\\lib\\site-packages (from scikit-surprise->surprise) (1.1.0)\n",
      "Requirement already satisfied: six>=1.10.0 in c:\\users\\rusha\\anaconda3\\lib\\site-packages (from scikit-surprise->surprise) (1.11.0)\n"
     ]
    },
    {
     "name": "stderr",
     "output_type": "stream",
     "text": [
      "You are using pip version 18.1, however version 19.0.2 is available.\n",
      "You should consider upgrading via the 'python -m pip install --upgrade pip' command.\n"
     ]
    }
   ],
   "source": [
    "## Make sure you have visual cpp build tools installed, otherwise this installation may fail.\n",
    "!pip install surprise "
   ]
  },
  {
   "cell_type": "code",
   "execution_count": 23,
   "metadata": {},
   "outputs": [],
   "source": [
    "import surprise"
   ]
  },
  {
   "cell_type": "code",
   "execution_count": 24,
   "metadata": {},
   "outputs": [],
   "source": [
    "from surprise import Dataset, evaluate\n",
    "from surprise import KNNBasic, Reader,Dataset,SVD"
   ]
  },
  {
   "cell_type": "markdown",
   "metadata": {},
   "source": [
    "In this module the data is read by first defining the reader which takes the format of the data to be read. Then the data is loaded"
   ]
  },
  {
   "cell_type": "code",
   "execution_count": 25,
   "metadata": {},
   "outputs": [],
   "source": [
    "reader = Reader(line_format='user item rating timestamp', sep='\\t')\n",
    "data = Dataset.load_from_file('../data/ml-100k/u.data', reader=reader,)"
   ]
  },
  {
   "cell_type": "markdown",
   "metadata": {},
   "source": [
    "\n",
    "## Evaluating the performance using surprise module.\n",
    "\n",
    "The process of evaluating the result of the model is done using cross validation. It is very similar to cross validation learnt previously."
   ]
  },
  {
   "cell_type": "code",
   "execution_count": 26,
   "metadata": {},
   "outputs": [],
   "source": [
    "data.split(n_folds=5)"
   ]
  },
  {
   "cell_type": "markdown",
   "metadata": {},
   "source": [
    "There are other ways to make recommender systems. In this case we explore the use of KNN algorithm"
   ]
  },
  {
   "attachments": {
    "knnalgo.jpg": {
     "image/jpeg": "[encoded data removed]"
    }
   },
   "cell_type": "markdown",
   "metadata": {},
   "source": [
    "![knnalgo.jpg](attachment:knnalgo.jpg)"
   ]
  },
  {
   "cell_type": "markdown",
   "metadata": {},
   "source": [
    "We can either apply user based or item based collaborative filtering but we decide to stick to item based collaborative system"
   ]
  },
  {
   "cell_type": "code",
   "execution_count": 27,
   "metadata": {},
   "outputs": [],
   "source": [
    "algo = KNNBasic(sim_options={'user_based':False}) "
   ]
  },
  {
   "cell_type": "code",
   "execution_count": 28,
   "metadata": {},
   "outputs": [
    {
     "name": "stdout",
     "output_type": "stream",
     "text": [
      "Evaluating RMSE, MAE of algorithm KNNBasic.\n",
      "\n",
      "------------\n",
      "Fold 1\n",
      "Computing the msd similarity matrix...\n",
      "Done computing similarity matrix.\n",
      "RMSE: 0.9686\n",
      "MAE:  0.7665\n",
      "------------\n",
      "Fold 2\n",
      "Computing the msd similarity matrix...\n",
      "Done computing similarity matrix.\n",
      "RMSE: 0.9737\n",
      "MAE:  0.7692\n",
      "------------\n",
      "Fold 3\n",
      "Computing the msd similarity matrix...\n",
      "Done computing similarity matrix.\n",
      "RMSE: 0.9834\n",
      "MAE:  0.7767\n",
      "------------\n",
      "Fold 4\n",
      "Computing the msd similarity matrix...\n",
      "Done computing similarity matrix.\n",
      "RMSE: 0.9762\n",
      "MAE:  0.7680\n",
      "------------\n",
      "Fold 5\n",
      "Computing the msd similarity matrix...\n",
      "Done computing similarity matrix.\n",
      "RMSE: 0.9674\n",
      "MAE:  0.7662\n",
      "------------\n",
      "------------\n",
      "Mean RMSE: 0.9739\n",
      "Mean MAE : 0.7693\n",
      "------------\n",
      "------------\n"
     ]
    },
    {
     "data": {
      "text/plain": [
       "CaseInsensitiveDefaultDict(list,\n",
       "                           {'rmse': [0.9686056339313147,\n",
       "                             0.9737216340640411,\n",
       "                             0.9834231064546013,\n",
       "                             0.9762051714014334,\n",
       "                             0.9674268294705793],\n",
       "                            'mae': [0.7664558126761555,\n",
       "                             0.7692093153889035,\n",
       "                             0.7766772096312026,\n",
       "                             0.7680195798421463,\n",
       "                             0.7662396964320332]})"
      ]
     },
     "execution_count": 28,
     "metadata": {},
     "output_type": "execute_result"
    }
   ],
   "source": [
    "evaluate(algo,data,measures = ['rmse','mae'])"
   ]
  },
  {
   "cell_type": "markdown",
   "metadata": {},
   "source": [
    "Now we try to predict the movie rating. Lets see how we do so "
   ]
  },
  {
   "cell_type": "code",
   "execution_count": 29,
   "metadata": {},
   "outputs": [
    {
     "data": {
      "text/html": [
       "<div>\n",
       "<style scoped>\n",
       "    .dataframe tbody tr th:only-of-type {\n",
       "        vertical-align: middle;\n",
       "    }\n",
       "\n",
       "    .dataframe tbody tr th {\n",
       "        vertical-align: top;\n",
       "    }\n",
       "\n",
       "    .dataframe thead th {\n",
       "        text-align: right;\n",
       "    }\n",
       "</style>\n",
       "<table border=\"1\" class=\"dataframe\">\n",
       "  <thead>\n",
       "    <tr style=\"text-align: right;\">\n",
       "      <th></th>\n",
       "      <th>movie_id</th>\n",
       "      <th>movie title</th>\n",
       "      <th>release date</th>\n",
       "      <th>video release date</th>\n",
       "      <th>IMDb URL</th>\n",
       "      <th>unknown</th>\n",
       "      <th>Action</th>\n",
       "      <th>Adventure</th>\n",
       "      <th>Animation</th>\n",
       "      <th>Children's</th>\n",
       "      <th>...</th>\n",
       "      <th>Fantasy</th>\n",
       "      <th>Film-Noir</th>\n",
       "      <th>Horror</th>\n",
       "      <th>Musical</th>\n",
       "      <th>Mystery</th>\n",
       "      <th>Romance</th>\n",
       "      <th>Sci-Fi</th>\n",
       "      <th>Thriller</th>\n",
       "      <th>War</th>\n",
       "      <th>Western</th>\n",
       "    </tr>\n",
       "  </thead>\n",
       "  <tbody>\n",
       "    <tr>\n",
       "      <th>134</th>\n",
       "      <td>135</td>\n",
       "      <td>2001: A Space Odyssey (1968)</td>\n",
       "      <td>01-Jan-1968</td>\n",
       "      <td>NaN</td>\n",
       "      <td>http://us.imdb.com/M/title-exact?2001:%20A%20S...</td>\n",
       "      <td>0</td>\n",
       "      <td>0</td>\n",
       "      <td>0</td>\n",
       "      <td>0</td>\n",
       "      <td>0</td>\n",
       "      <td>...</td>\n",
       "      <td>0</td>\n",
       "      <td>0</td>\n",
       "      <td>0</td>\n",
       "      <td>0</td>\n",
       "      <td>1</td>\n",
       "      <td>0</td>\n",
       "      <td>1</td>\n",
       "      <td>1</td>\n",
       "      <td>0</td>\n",
       "      <td>0</td>\n",
       "    </tr>\n",
       "  </tbody>\n",
       "</table>\n",
       "<p>1 rows × 24 columns</p>\n",
       "</div>"
      ],
      "text/plain": [
       "     movie_id                   movie title release date  video release date  \\\n",
       "134       135  2001: A Space Odyssey (1968)  01-Jan-1968                 NaN   \n",
       "\n",
       "                                              IMDb URL  unknown  Action  \\\n",
       "134  http://us.imdb.com/M/title-exact?2001:%20A%20S...        0       0   \n",
       "\n",
       "     Adventure  Animation  Children's   ...     Fantasy  Film-Noir  Horror  \\\n",
       "134          0          0           0   ...           0          0       0   \n",
       "\n",
       "     Musical  Mystery  Romance  Sci-Fi  Thriller  War  Western  \n",
       "134        0        1        0       1         1    0        0  \n",
       "\n",
       "[1 rows x 24 columns]"
      ]
     },
     "execution_count": 29,
     "metadata": {},
     "output_type": "execute_result"
    }
   ],
   "source": [
    "items[items['movie title']=='2001: A Space Odyssey (1968)']"
   ]
  },
  {
   "cell_type": "code",
   "execution_count": 30,
   "metadata": {},
   "outputs": [
    {
     "name": "stdout",
     "output_type": "stream",
     "text": [
      "user: 1          item: 135        r_ui = 4.00   est = 3.53   {'was_impossible': True, 'reason': 'User and/or item is unkown.'}\n"
     ]
    }
   ],
   "source": [
    "print (algo.predict(1, 135, 4))"
   ]
  },
  {
   "cell_type": "markdown",
   "metadata": {
    "collapsed": true
   },
   "source": [
    "## Building a full recommender on entire data set\n",
    "\n",
    "- Split the data to train and test\n",
    "- Use the algorithm to train\n",
    "- Use the test data to evaluate predictions\n",
    "\n",
    "\n"
   ]
  },
  {
   "cell_type": "code",
   "execution_count": 31,
   "metadata": {},
   "outputs": [],
   "source": [
    "# Splitting the data set 80-20 split\n",
    "trainset = data.build_full_trainset()\n",
    "testSet = trainset.build_anti_testset()\n"
   ]
  },
  {
   "cell_type": "code",
   "execution_count": 32,
   "metadata": {},
   "outputs": [
    {
     "name": "stdout",
     "output_type": "stream",
     "text": [
      "Computing the msd similarity matrix...\n",
      "Done computing similarity matrix.\n"
     ]
    }
   ],
   "source": [
    "## Train and make predictions\n",
    "algo.train(trainset)\n",
    "predictions = algo.test(testSet)\n"
   ]
  },
  {
   "cell_type": "markdown",
   "metadata": {},
   "source": [
    "**the functions below are called helper functions and can be found in in the [website](http://surprise.readthedocs.io/en/stable/FAQ.html#how-to-get-the-top-n-recommendations-for-each-user)**"
   ]
  },
  {
   "cell_type": "code",
   "execution_count": 33,
   "metadata": {},
   "outputs": [],
   "source": [
    "from collections import defaultdict\n",
    "\n",
    "def get_top3_recommendations(predictions, topN = 3):\n",
    "\n",
    "    top_recs = defaultdict(list)\n",
    "\n",
    "    for uid, iid, true_r, est, _ in predictions:\n",
    "\n",
    "        top_recs[uid].append((iid, est))\n",
    "    for uid, user_ratings in top_recs.items():\n",
    "\n",
    "        user_ratings.sort(key = lambda x: x[1], reverse = True)\n",
    "\n",
    "        top_recs[uid] = user_ratings[:topN]\n",
    "    return top_recs\n"
   ]
  },
  {
   "cell_type": "code",
   "execution_count": 34,
   "metadata": {},
   "outputs": [],
   "source": [
    "def read_item_names():\n",
    "    \"\"\"Read the u.item file from MovieLens 100-k dataset and returns a\n",
    "    mapping to convert raw ids into movie names.\n",
    "    \"\"\"\n",
    "    file_name = ('../data/ml-100k//u.item')\n",
    "    rid_to_name = {}\n",
    "    with io.open(file_name, 'r', encoding='ISO-8859-1') as f:\n",
    "        for line in f:\n",
    "            line = line.split('|')\n",
    "            rid_to_name[line[0]] = line[1]\n",
    "    return rid_to_name"
   ]
  },
  {
   "cell_type": "markdown",
   "metadata": {},
   "source": [
    "We can also find particular movie recommendations for a particular user. The answer is yes the helper functions come to our rescue. Let's see how :"
   ]
  },
  {
   "cell_type": "code",
   "execution_count": 35,
   "metadata": {},
   "outputs": [],
   "source": [
    "top3_recommendations = get_top3_recommendations(predictions)\n",
    "rid_to_name = read_item_names()\n",
    "recommendations = list()\n",
    "for uid, user_ratings in top3_recommendations.items():\n",
    "    reco = [uid, [rid_to_name[iid] for (iid, _) in user_ratings]]\n",
    "    recommendations.append(reco)\n",
    "    #print(uid, [rid_to_name[iid] for (iid, _) in user_ratings])\n",
    "\n",
    "df = DataFrame(recommendations,columns=['u_id','movie title'])"
   ]
  },
  {
   "cell_type": "code",
   "execution_count": 36,
   "metadata": {},
   "outputs": [
    {
     "data": {
      "text/plain": [
       "array([list(['They Made Me a Criminal (1939)', 'Lady of Burlesque (1943)', 'Crossfire (1947)'])],\n",
       "      dtype=object)"
      ]
     },
     "execution_count": 36,
     "metadata": {},
     "output_type": "execute_result"
    }
   ],
   "source": [
    "df[df['u_id']=='13']['movie title'].values"
   ]
  },
  {
   "cell_type": "markdown",
   "metadata": {},
   "source": [
    "Coming back to evaluation we want to know how accurate are our rating predictions. We use RMSE, as discussed above to compute the performance."
   ]
  },
  {
   "cell_type": "code",
   "execution_count": 37,
   "metadata": {},
   "outputs": [
    {
     "name": "stdout",
     "output_type": "stream",
     "text": [
      "RMSE: 0.5085\n"
     ]
    }
   ],
   "source": [
    "accuracy = surprise.accuracy.rmse(predictions)"
   ]
  },
  {
   "cell_type": "code",
   "execution_count": 38,
   "metadata": {},
   "outputs": [
    {
     "data": {
      "text/plain": [
       "0.5084906965666046"
      ]
     },
     "execution_count": 38,
     "metadata": {},
     "output_type": "execute_result"
    }
   ],
   "source": [
    "accuracy"
   ]
  },
  {
   "cell_type": "markdown",
   "metadata": {},
   "source": [
    "## Content based recommender systems\n",
    "- Main Idea: Recommend Items to customer X similar to previous items rated highly by X\n",
    "\n",
    "## Example\n",
    "\n",
    "- Movie recommendations\n",
    "  - Recommend movies with same actors, Directors, genres\n",
    "- Websites Blogs News\n",
    "  - Recommend other sites with similar content\n",
    "- Given a description recommend other items with similar description "
   ]
  },
  {
   "cell_type": "markdown",
   "metadata": {},
   "source": [
    "![plan_of_action.png](../images/plan_of_action.png)"
   ]
  },
  {
   "cell_type": "markdown",
   "metadata": {},
   "source": [
    " Let's check how can we recommend clothing."
   ]
  },
  {
   "cell_type": "code",
   "execution_count": 39,
   "metadata": {},
   "outputs": [],
   "source": [
    "data = pd.read_csv('../data/sample-data.csv')"
   ]
  },
  {
   "cell_type": "code",
   "execution_count": 40,
   "metadata": {},
   "outputs": [
    {
     "data": {
      "text/html": [
       "<div>\n",
       "<style scoped>\n",
       "    .dataframe tbody tr th:only-of-type {\n",
       "        vertical-align: middle;\n",
       "    }\n",
       "\n",
       "    .dataframe tbody tr th {\n",
       "        vertical-align: top;\n",
       "    }\n",
       "\n",
       "    .dataframe thead th {\n",
       "        text-align: right;\n",
       "    }\n",
       "</style>\n",
       "<table border=\"1\" class=\"dataframe\">\n",
       "  <thead>\n",
       "    <tr style=\"text-align: right;\">\n",
       "      <th></th>\n",
       "      <th>id</th>\n",
       "      <th>description</th>\n",
       "    </tr>\n",
       "  </thead>\n",
       "  <tbody>\n",
       "    <tr>\n",
       "      <th>0</th>\n",
       "      <td>1</td>\n",
       "      <td>Active classic boxers - There's a reason why o...</td>\n",
       "    </tr>\n",
       "    <tr>\n",
       "      <th>1</th>\n",
       "      <td>2</td>\n",
       "      <td>Active sport boxer briefs - Skinning up Glory ...</td>\n",
       "    </tr>\n",
       "    <tr>\n",
       "      <th>2</th>\n",
       "      <td>3</td>\n",
       "      <td>Active sport briefs - These superbreathable no...</td>\n",
       "    </tr>\n",
       "    <tr>\n",
       "      <th>3</th>\n",
       "      <td>4</td>\n",
       "      <td>Alpine guide pants - Skin in, climb ice, switc...</td>\n",
       "    </tr>\n",
       "    <tr>\n",
       "      <th>4</th>\n",
       "      <td>5</td>\n",
       "      <td>Alpine wind jkt - On high ridges, steep ice an...</td>\n",
       "    </tr>\n",
       "  </tbody>\n",
       "</table>\n",
       "</div>"
      ],
      "text/plain": [
       "   id                                        description\n",
       "0   1  Active classic boxers - There's a reason why o...\n",
       "1   2  Active sport boxer briefs - Skinning up Glory ...\n",
       "2   3  Active sport briefs - These superbreathable no...\n",
       "3   4  Alpine guide pants - Skin in, climb ice, switc...\n",
       "4   5  Alpine wind jkt - On high ridges, steep ice an..."
      ]
     },
     "execution_count": 40,
     "metadata": {},
     "output_type": "execute_result"
    }
   ],
   "source": [
    "data.head()"
   ]
  },
  {
   "cell_type": "markdown",
   "metadata": {},
   "source": [
    "We can see that that this dataset has descriptions unlike the other data sets we handled so far."
   ]
  },
  {
   "cell_type": "markdown",
   "metadata": {},
   "source": [
    "<img src=\"../images/icon/Concept-Alert.png\" alt=\"Concept-Alert\" style=\"width: 100px;float:left; margin-right:15px\"/>\n",
    "<br />\n",
    "\n",
    "## TF-IDF\n",
    "***\n",
    "TF-IDF stands for Term Frequency times Inverse document frequency. \n",
    "\n",
    "- TF Stands for term frequency: It tells us how often a term appears in a document. \n",
    "- IDF stands for Inverse Document Frequency: It tells us how rare it is for a document to have this term. \n",
    "  - It is calculated by inverse of how many documents have this tag divided by the total number of documents.      Generally a log of the computed value id used to bring it to scale in which can be used. \n",
    "\n",
    "- Then we multiply the TF and IDF to to get a weight which is assigned to a particular search term we are looking for. \n",
    "\n"
   ]
  },
  {
   "cell_type": "markdown",
   "metadata": {},
   "source": [
    "With the newly gained knowledge in hand we can compute [TF-IDF](http://scikit-learn.org/stable/modules/generated/sklearn.feature_extraction.text.TfidfVectorizer.html). He decides to take the following steps\n",
    "- Create a TF-IDF matrix of unigrams, bigrams, and trigrams\n",
    "  for each product and remove the common words such as and the etc. \n",
    "\n",
    "- Then compute similarity between all products using\n",
    "  SciKit Learn's linear_kernel (which in this case is\n",
    "  equivalent to cosine similarity).\n",
    "\n",
    "- Iterate through each item's similar items and store the\n",
    "  100 most-similar. Here he stops at hundred otherwise the list could get too large\n",
    "  \n",
    "- Similarities and their scores are stored in redis as a\n",
    "  Sorted Set, with one set for each item."
   ]
  },
  {
   "cell_type": "code",
   "execution_count": 41,
   "metadata": {},
   "outputs": [],
   "source": [
    "from sklearn.feature_extraction.text import TfidfVectorizer\n",
    "from sklearn.metrics.pairwise import linear_kernel"
   ]
  },
  {
   "cell_type": "code",
   "execution_count": 42,
   "metadata": {},
   "outputs": [],
   "source": [
    "tf = TfidfVectorizer(analyzer='word',\n",
    "                             ngram_range=(1, 3),\n",
    "                             min_df=0,\n",
    "                             stop_words='english')\n",
    "tfidf_matrix = tf.fit_transform(data['description'])\n",
    "\n",
    "cosine_similarities = linear_kernel(tfidf_matrix, tfidf_matrix)\n",
    "\n",
    "for idx, row in data.iterrows():\n",
    "            similar_indices = cosine_similarities[idx].argsort()[:-100:-1]\n",
    "            similar_items = [(cosine_similarities[idx][i], data['id'][i])\n",
    "                             for i in similar_indices]\n",
    "\n",
    "            flattened = sum(similar_items[1:],())\n",
    "\n"
   ]
  },
  {
   "cell_type": "markdown",
   "metadata": {},
   "source": [
    "The sum returns a list of tuples into a single tuple: This single tuple has similarities and item id. This is shown below thus retrieving the id and similarities and sorting them would enable us to recommend clothing."
   ]
  },
  {
   "cell_type": "code",
   "execution_count": 43,
   "metadata": {},
   "outputs": [],
   "source": [
    "similarities = list()\n",
    "item_id = list()\n",
    "\n",
    "for i in range(0,len(flattened),2): \n",
    "    similarities.append(flattened[i]) # Collecting similarity scores and \n",
    "    item_id.append(flattened[i-1])\n",
    "\n",
    "sol = DataFrame({'id':item_id,'similarities':similarities})\n",
    "predictions = sol.merge(data,how='inner',on='id')[:10] # using merge to get description"
   ]
  },
  {
   "cell_type": "markdown",
   "metadata": {},
   "source": [
    "After sorting one can clearly view the predictions. Now these predictions are totally based on the content in the description.   "
   ]
  },
  {
   "cell_type": "code",
   "execution_count": 44,
   "metadata": {},
   "outputs": [
    {
     "data": {
      "text/html": [
       "<div>\n",
       "<style scoped>\n",
       "    .dataframe tbody tr th:only-of-type {\n",
       "        vertical-align: middle;\n",
       "    }\n",
       "\n",
       "    .dataframe tbody tr th {\n",
       "        vertical-align: top;\n",
       "    }\n",
       "\n",
       "    .dataframe thead th {\n",
       "        text-align: right;\n",
       "    }\n",
       "</style>\n",
       "<table border=\"1\" class=\"dataframe\">\n",
       "  <thead>\n",
       "    <tr style=\"text-align: right;\">\n",
       "      <th></th>\n",
       "      <th>id</th>\n",
       "      <th>similarities</th>\n",
       "      <th>description</th>\n",
       "    </tr>\n",
       "  </thead>\n",
       "  <tbody>\n",
       "    <tr>\n",
       "      <th>0</th>\n",
       "      <td>315</td>\n",
       "      <td>0.362816</td>\n",
       "      <td>Kite town t-shirt - Artist Chris Del Moro tran...</td>\n",
       "    </tr>\n",
       "    <tr>\n",
       "      <th>1</th>\n",
       "      <td>499</td>\n",
       "      <td>0.318046</td>\n",
       "      <td>All-wear cargo shorts - All-Wear Cargo Shorts ...</td>\n",
       "    </tr>\n",
       "    <tr>\n",
       "      <th>2</th>\n",
       "      <td>462</td>\n",
       "      <td>0.317783</td>\n",
       "      <td>Custodian pants - reg - The graveyard shift ha...</td>\n",
       "    </tr>\n",
       "    <tr>\n",
       "      <th>3</th>\n",
       "      <td>463</td>\n",
       "      <td>0.315561</td>\n",
       "      <td>Custodian pants - short - The graveyard shift ...</td>\n",
       "    </tr>\n",
       "    <tr>\n",
       "      <th>4</th>\n",
       "      <td>32</td>\n",
       "      <td>0.256629</td>\n",
       "      <td>Custodian pants - long - The graveyard shift h...</td>\n",
       "    </tr>\n",
       "    <tr>\n",
       "      <th>5</th>\n",
       "      <td>34</td>\n",
       "      <td>0.234255</td>\n",
       "      <td>Delivery shorts - Locals know all the best spo...</td>\n",
       "    </tr>\n",
       "    <tr>\n",
       "      <th>6</th>\n",
       "      <td>483</td>\n",
       "      <td>0.216608</td>\n",
       "      <td>Duck shorts - Sometimes life requires a welder...</td>\n",
       "    </tr>\n",
       "    <tr>\n",
       "      <th>7</th>\n",
       "      <td>303</td>\n",
       "      <td>0.201515</td>\n",
       "      <td>All-wear capris - Capris are more discreet tha...</td>\n",
       "    </tr>\n",
       "    <tr>\n",
       "      <th>8</th>\n",
       "      <td>482</td>\n",
       "      <td>0.201159</td>\n",
       "      <td>Duck pants - short - Essential wear for splitt...</td>\n",
       "    </tr>\n",
       "    <tr>\n",
       "      <th>9</th>\n",
       "      <td>481</td>\n",
       "      <td>0.199110</td>\n",
       "      <td>Duck pants - reg - Essential wear for splittin...</td>\n",
       "    </tr>\n",
       "  </tbody>\n",
       "</table>\n",
       "</div>"
      ],
      "text/plain": [
       "    id  similarities                                        description\n",
       "0  315      0.362816  Kite town t-shirt - Artist Chris Del Moro tran...\n",
       "1  499      0.318046  All-wear cargo shorts - All-Wear Cargo Shorts ...\n",
       "2  462      0.317783  Custodian pants - reg - The graveyard shift ha...\n",
       "3  463      0.315561  Custodian pants - short - The graveyard shift ...\n",
       "4   32      0.256629  Custodian pants - long - The graveyard shift h...\n",
       "5   34      0.234255  Delivery shorts - Locals know all the best spo...\n",
       "6  483      0.216608  Duck shorts - Sometimes life requires a welder...\n",
       "7  303      0.201515  All-wear capris - Capris are more discreet tha...\n",
       "8  482      0.201159  Duck pants - short - Essential wear for splitt...\n",
       "9  481      0.199110  Duck pants - reg - Essential wear for splittin..."
      ]
     },
     "execution_count": 44,
     "metadata": {},
     "output_type": "execute_result"
    }
   ],
   "source": [
    "predictions"
   ]
  },
  {
   "cell_type": "markdown",
   "metadata": {},
   "source": [
    "**In class Question** looking at the similarity scores and the method used what do you think should be the range of the scores?"
   ]
  },
  {
   "cell_type": "markdown",
   "metadata": {},
   "source": [
    "<img src=\"../images/icon/Recap.png\" alt=\"In Session Recap\" style=\"width: 100px;float:left; margin-right:15px\"/>\n",
    "<br />\n",
    "\n",
    "## In class recap\n",
    "***\n",
    "- What is Recommendation System\n",
    "- The long tail\n",
    "- A simple Popularity based Recommender system\n",
    "- A Collaborative Filtering Model\n",
    "- Evaluating a Recommendation system\n",
    "\n",
    "## Thank You\n",
    "\n",
    "For more queries - Reach out to academics@greyatom.com"
   ]
  },
  {
   "cell_type": "code",
   "execution_count": null,
   "metadata": {},
   "outputs": [],
   "source": []
  }
 ],
 "metadata": {
  "kernelspec": {
   "display_name": "Python 3",
   "language": "python",
   "name": "python3"
  },
  "language_info": {
   "codemirror_mode": {
    "name": "ipython",
    "version": 3
   },
   "file_extension": ".py",
   "mimetype": "text/x-python",
   "name": "python",
   "nbconvert_exporter": "python",
   "pygments_lexer": "ipython3",
   "version": "3.6.5"
  }
 },
 "nbformat": 4,
 "nbformat_minor": 2
}
