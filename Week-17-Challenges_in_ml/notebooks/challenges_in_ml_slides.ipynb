{
 "cells": [
  {
   "cell_type": "markdown",
   "metadata": {},
   "source": [
    "![](../images/26-weeks-of-data-science-banner.jpg)"
   ]
  },
  {
   "cell_type": "markdown",
   "metadata": {
    "slideshow": {
     "slide_type": "slide"
    }
   },
   "source": [
    "# Challenges in Machine Learning"
   ]
  },
  {
   "cell_type": "markdown",
   "metadata": {
    "slideshow": {
     "slide_type": "slide"
    }
   },
   "source": [
    "## Agenda:\n",
    "***\n",
    "- Imbalanced Data\n",
    "- Consequences of Imbalanced Classes\n",
    "- Dealing with Imbalanced Data\n",
    "    - More appropriate error metrics\n",
    "        - Cohen's Kappa\n",
    "    - Resampling Techniques\n",
    "        - Undersampling\n",
    "            - Random Undersampling\n",
    "            - Cluster Centroids\n",
    "            - Tomek Links\n",
    "        - Oversampling\n",
    "            - Random Oversampling\n",
    "            - SMOTE\n",
    "    - Algorithmic Approach\n",
    "        - Cost Sensitive Training\n",
    "        - Choice of Algorithm\n",
    "- Dealing with Smaller Datasets\n",
    "- Optimum value of K in K-Fold\n",
    "- Which algorithm to use?"
   ]
  },
  {
   "cell_type": "markdown",
   "metadata": {
    "slideshow": {
     "slide_type": "subslide"
    }
   },
   "source": [
    "## Practical Challenges in Machine Learning.\n",
    "There are many practical challenges ML professionals would come across. One of the first ones that come to our mind are : \"What if the classes in a classification problem were really skewed towards one of the classes?\"\n",
    "Such datasets are known as \"Imbalanced Datasets\"."
   ]
  },
  {
   "cell_type": "markdown",
   "metadata": {
    "slideshow": {
     "slide_type": "slide"
    }
   },
   "source": [
    "<img src=\"../images/Concept-Alert.png\" alt=\"Concept-Alert\" style=\"width: 100px;float:left; margin-right:15px\"/>\n",
    "<br />\n",
    "\n",
    "## Imbalanced Data\n",
    "***\n",
    "\n",
    "* Imbalanced Data is a slightly inaccurate term we use to describe datasets where the distribution of the target variable is imbalanced.\n",
    "* This is most visible and easily detected for binary classification tasks, where most of the instances (data points) belong to one of the classes.\n"
   ]
  },
  {
   "cell_type": "markdown",
   "metadata": {
    "slideshow": {
     "slide_type": "subslide"
    }
   },
   "source": [
    "<img src=\"../images/Concept-Alert.png\" alt=\"Concept-Alert\" style=\"width: 100px;float:left; margin-right:15px\"/>\n",
    "<br />\n",
    "\n",
    "## Imbalanced Data\n",
    "***\n",
    "* Class-imbalance regularly occurs in datasets pertaining to multi-class classification tasks as well.\n",
    "* Detecting it in Regression tasks can take a little more effort, and plotting a histogram of the target variable is a good starting point."
   ]
  },
  {
   "cell_type": "markdown",
   "metadata": {
    "slideshow": {
     "slide_type": "subslide"
    }
   },
   "source": [
    "## Examples\n",
    "***\n",
    "Imbalanced datasets frequently occur in\n",
    "\n",
    "* Anomaly detection\n",
    "    * Electricity pilferage\n",
    "    * Fraudulent transactions in banks\n",
    "* Predicting Rare events\n",
    "    * Ad click-through-rate (CTR) prediction (~1%)\n",
    "    * Identification of rare diseases\n",
    "    * User Churn (for example, usera churn is ~2% in telecom industry)\n"
   ]
  },
  {
   "cell_type": "markdown",
   "metadata": {
    "slideshow": {
     "slide_type": "subslide"
    }
   },
   "source": [
    "<img src=\"../images/Concept-Alert.png\" alt=\"Concept-Alert\" style=\"width: 100px;float:left; margin-right:15px\"/>\n",
    "<br />\n",
    "\n",
    "## Understanding Imbalanced Data\n",
    "***\n",
    "Let's look at detection of credit card fraud to understand this in more detail.\n",
    "* Credit card fraud is a widespread problem and accounts for millions of dollars in loss.\n",
    "* But, given the extremely high number of credit card transactions everyday, fraudulent transactions represent only a small fraction.\n"
   ]
  },
  {
   "cell_type": "markdown",
   "metadata": {
    "slideshow": {
     "slide_type": "subslide"
    }
   },
   "source": [
    "* Even then, fraudulent transactions have an outsized impact on the revenue, because\n",
    "* Almost the entire value of a fraudulent transaction counts towards loss (less insurance), whereas\n",
    "* The profit from a genuine transaction is a fraction of the total transaction value."
   ]
  },
  {
   "cell_type": "markdown",
   "metadata": {
    "slideshow": {
     "slide_type": "subslide"
    }
   },
   "source": [
    "* Thus it's more important to recall fraudulent transactions, even if that means we'll end up labeling some genuine transactions as fraud \n",
    "* This is more of a business call, actually, depending on a wide range of factors"
   ]
  },
  {
   "cell_type": "markdown",
   "metadata": {
    "slideshow": {
     "slide_type": "subslide"
    }
   },
   "source": [
    "* Even though the typical datasets recording credit card transaction are very large (millions of row), the number of fraudulent records tends to be a very small fraction of the datasets - around 1% to 2%.\n",
    "* Thus, if a given dataset of credit card transactions has a million row, only about 10,000 of them will be from fraudulent transactions."
   ]
  },
  {
   "cell_type": "markdown",
   "metadata": {
    "slideshow": {
     "slide_type": "subslide"
    }
   },
   "source": [
    "We can still train a model and try and predict if a transaction in fraudulent or not, but that is likely to give you not-so-good results. Let us see why."
   ]
  },
  {
   "cell_type": "markdown",
   "metadata": {
    "slideshow": {
     "slide_type": "subslide"
    }
   },
   "source": [
    "<img src=\"../images/Concept-Alert.png\" alt=\"Concept-Alert\" style=\"width: 100px;float:left; margin-right:15px\"/>\n",
    "<br />\n",
    "\n",
    "## Consequences of imbalanced classes:\n",
    "***\n",
    "**Bias in the model towards dominant class**\n",
    "\n",
    "* Most machine learning models will end up predicting most of the transactions as genuine as they end up learning from mostly positive instances.\n",
    "* Accounting for this in the way the model sees the data (resampling strategies) or the way it learns (error metric, algorithmic tweaks) can help us build models that are better at predicting the minor class.\n",
    "\n"
   ]
  },
  {
   "cell_type": "markdown",
   "metadata": {
    "slideshow": {
     "slide_type": "subslide"
    }
   },
   "source": [
    "<img src=\"../images/Concept-Alert.png\" alt=\"Concept-Alert\" style=\"width: 100px;float:left; margin-right:15px\"/>\n",
    "<br />\n",
    "\n",
    "## Consequences of imbalanced classes:\n",
    "***\n",
    "**Difficulty in assessing model performance**\n",
    "\n",
    "* For the credit card dataset discussed before, if we classify all transactions as genuine, we might still have an accuracy of 99%! (Bias towards dominant class)\n",
    "* Let's look at a problem we are more likely to encounter in practice. \n",
    "* Suppose we have built two models, A and B, to predict fraudulent transactions, and we want to select the one with better performance.\n",
    "\n"
   ]
  },
  {
   "cell_type": "markdown",
   "metadata": {
    "slideshow": {
     "slide_type": "subslide"
    }
   },
   "source": [
    "<img src=\"../images/Concept-Alert.png\" alt=\"Concept-Alert\" style=\"width: 100px;float:left; margin-right:15px\"/>\n",
    "<br />\n",
    "\n",
    "## Consequences of imbalanced classes:\n",
    "***\n",
    "**Model A**\n",
    "\n",
    "* Of the 99% genuine transactions, this model predicts 98.5% correctly\n",
    "* Of the 1% fraudulent transactions, this model predicts 0.25% correctly\n",
    "\n",
    "**Model accuracy: 98.75%**"
   ]
  },
  {
   "cell_type": "markdown",
   "metadata": {
    "slideshow": {
     "slide_type": "subslide"
    }
   },
   "source": [
    "<img src=\"../images/Concept-Alert.png\" alt=\"Concept-Alert\" style=\"width: 100px;float:left; margin-right:15px\"/>\n",
    "<br />\n",
    "\n",
    "## Consequences of imbalanced classes:\n",
    "***\n",
    "**Model B**\n",
    "* Of the 99% genuine transactions, this model predicts 98.25% correctly\n",
    "* Of the 1% fraudulent transactions, this model predicts 0.5% correctly\n",
    "\n",
    "**Model accuracy: 98.75%**"
   ]
  },
  {
   "cell_type": "markdown",
   "metadata": {
    "slideshow": {
     "slide_type": "subslide"
    }
   },
   "source": [
    "<img src=\"../images/Concept-Alert.png\" alt=\"Concept-Alert\" style=\"width: 100px;float:left; margin-right:15px\"/>\n",
    "<br />\n",
    "\n",
    "## Consequences of imbalanced classes:\n",
    "***\n",
    "* **Which of these two models performs better?**\n",
    "* **Which one of these two should we use?**\n",
    "\n",
    "\n",
    "* Clearly Model B is more valuable to us, but Accuracy, one of the most common metrics used in classification, fails to reflect that.\n",
    "* We need to use a metric that not only captures the class imbalance better, but one that also lets us make meaningful trade-offs between precision and recall."
   ]
  },
  {
   "cell_type": "markdown",
   "metadata": {
    "slideshow": {
     "slide_type": "subslide"
    }
   },
   "source": [
    "Let us see how to deal with such a dataset.\n"
   ]
  },
  {
   "cell_type": "markdown",
   "metadata": {
    "slideshow": {
     "slide_type": "subslide"
    }
   },
   "source": [
    "<img src=\"../images/Concept-Alert.png\" alt=\"Concept-Alert\" style=\"width: 100px;float:left; margin-right:15px\"/>\n",
    "<br />\n",
    "\n",
    "## Dealing with Imbalanced Data\n",
    "***\n",
    "Here are the ways to handle the imbalanced data\n",
    "\n",
    "* More suited error metrics (comparatively immune to class imbalance)\n",
    "* Resampling strategies\n",
    "* Algorithmic techniques\n",
    "* Buy/Collect more data\n",
    "\n",
    "Let's look at them one by one."
   ]
  },
  {
   "cell_type": "markdown",
   "metadata": {
    "slideshow": {
     "slide_type": "slide"
    }
   },
   "source": [
    "## More Appropriate Error Metrics\n",
    "***\n",
    "The idea is to choose an error metric that is immune to class imbalance. As we saw earlier, accuracy is something that is not very robust against class imbalance. Following are a few examples of such error metrics\n",
    "\n",
    "1. Confusion Matrix\n",
    "2. Precision / Recall / Sensitivity / Specificity\n",
    "3. AUC ROC\n",
    "4. f1 Score\n",
    "5. Cohen's Kappa\n",
    "\n"
   ]
  },
  {
   "cell_type": "markdown",
   "metadata": {
    "slideshow": {
     "slide_type": "subslide"
    }
   },
   "source": [
    "We have already gone through all the metrics, except Cohen's kappa. So let's understand Cohen's kappa better."
   ]
  },
  {
   "cell_type": "markdown",
   "metadata": {
    "slideshow": {
     "slide_type": "slide"
    }
   },
   "source": [
    "<img src=\"../images/Concept-Alert.png\" alt=\"Concept-Alert\" style=\"width: 100px;float:left; margin-right:15px\"/>\n",
    "<br />\n",
    "\n",
    "## Cohen’s Kappa:\n",
    "***\n",
    "* The Kappa statistic (or value) is a metric that compares an Observed Accuracy with an Expected Accuracy (random chance). \n",
    "* Let's understand how Cohen's kappa is defined using a confusion matrix\n",
    "![](../images/image20.png)"
   ]
  },
  {
   "cell_type": "markdown",
   "metadata": {
    "slideshow": {
     "slide_type": "subslide"
    }
   },
   "source": [
    "* Here, let's say rows (A) are the predicted values and columns (B) are the actual values.\n",
    "* Now let's understand observed accuracy and expected accuracy."
   ]
  },
  {
   "cell_type": "markdown",
   "metadata": {
    "slideshow": {
     "slide_type": "subslide"
    }
   },
   "source": [
    "* Observed Accuracy is simply the number of instances that were classified correctly throughout the entire confusion matrix.\n",
    "\n",
    "![](../images/image20.png)\n",
    "![](../images/image19.png)"
   ]
  },
  {
   "cell_type": "markdown",
   "metadata": {
    "slideshow": {
     "slide_type": "subslide"
    }
   },
   "source": [
    "* Expected Accuracy is defined as the accuracy that any classifier would be expected to achieve by random chance.\n",
    "\n",
    "Sounds confusing? Let's break this down.\n",
    "\n",
    "Our classifier classifies \n",
    "* (a + b) observations as yes\n",
    "* (c + d) observations as no\n",
    "\n",
    "\n",
    "* Hence, the probability of a randomly chosen observation being classified as yes is (P1): (a + b) / (a + b + c + d)\n",
    "* And, the probability of a randomly chosen observation being classified as no is (P2): (c + d) / (a + b + c + d)"
   ]
  },
  {
   "cell_type": "markdown",
   "metadata": {
    "slideshow": {
     "slide_type": "subslide"
    }
   },
   "source": [
    "Reality:\n",
    "* (a + c) observations as yes\n",
    "* (b + d) observations as no\n",
    "\n",
    "\n",
    "* Hence, the probability of a randomly chosen observation being classified as yes is (P3): (a + c) / (a + b + c + d)\n",
    "* And, the probability of a randomly chosen observation being classified as no is (P4): (b + d) / (a + b + c + d)"
   ]
  },
  {
   "cell_type": "markdown",
   "metadata": {
    "slideshow": {
     "slide_type": "subslide"
    }
   },
   "source": [
    "Probability of a randomly chosen sample being *CORRECTLY* classified is \n",
    "\n",
    "* when the classifier classifies it as yes AND it is in reality yes: P1*P3\n",
    "* when the classifier classifies it as no AND it is in reality no: P2*P4\n",
    "\n",
    "Hence, Expected probability of a randomly chosen sample being *CORRECTLY* classified is: P1 x P3 + P2 x P4"
   ]
  },
  {
   "cell_type": "markdown",
   "metadata": {
    "slideshow": {
     "slide_type": "subslide"
    }
   },
   "source": [
    "![](../images/image20.png)\n",
    "![](../images/image23.png)"
   ]
  },
  {
   "cell_type": "markdown",
   "metadata": {
    "slideshow": {
     "slide_type": "subslide"
    }
   },
   "source": [
    "![](../images/image20.png)\n",
    "![](../images/image23.png)\n",
    "![](../images/image22.png)\n",
    "![](../images/image21.png)"
   ]
  },
  {
   "cell_type": "markdown",
   "metadata": {
    "slideshow": {
     "slide_type": "subslide"
    }
   },
   "source": [
    "Great! now that we understand $P_o$ and $P_e$, Cohen's kappa is defined as\n",
    "\n",
    "![](../images/image24.png)"
   ]
  },
  {
   "cell_type": "markdown",
   "metadata": {
    "slideshow": {
     "slide_type": "subslide"
    }
   },
   "source": [
    "* In essence, the kappa statistic is a measure of how closely the instances classified by the machine learning classifier matched the data labeled as ground truth, controlling for the accuracy of a random classifier as measured by the expected accuracy. \n",
    "* Not only can this kappa statistic shed light into how the classifier itself performed, the kappa statistic for one model is directly comparable to the kappa statistic for any other model used for the same classification task.\n",
    "* For any arbitrary accuracy value, more the Kappa value, better the performance."
   ]
  },
  {
   "cell_type": "markdown",
   "metadata": {
    "slideshow": {
     "slide_type": "subslide"
    }
   },
   "source": [
    "Q: Here is an example of 2 classifiers with given confusion matrix. Which one do you think is performing better? "
   ]
  },
  {
   "cell_type": "markdown",
   "metadata": {
    "slideshow": {
     "slide_type": "subslide"
    }
   },
   "source": [
    "**Classifier A**\n",
    "\n",
    "![](../images/image25.png)"
   ]
  },
  {
   "cell_type": "markdown",
   "metadata": {
    "slideshow": {
     "slide_type": "subslide"
    }
   },
   "source": [
    "**CLassifier B**\n",
    "\n",
    "![](../images/image27.png)"
   ]
  },
  {
   "cell_type": "markdown",
   "metadata": {
    "slideshow": {
     "slide_type": "subslide"
    }
   },
   "source": [
    "A: It is apparent that for given accuracy, classifier A is doing a much better job at classifying than classifier B, which is also reflected in higher Kappa value attained by classifier A"
   ]
  },
  {
   "cell_type": "markdown",
   "metadata": {
    "slideshow": {
     "slide_type": "subslide"
    }
   },
   "source": [
    "Let's look at some other techniques that we can use to solve class imbalance, one of which is Resampling."
   ]
  },
  {
   "cell_type": "markdown",
   "metadata": {
    "slideshow": {
     "slide_type": "slide"
    }
   },
   "source": [
    "<img src=\"../images/Concept-Alert.png\" alt=\"Concept-Alert\" style=\"width: 100px;float:left; margin-right:15px\"/>\n",
    "<br />\n",
    "\n",
    "## Resampling Techniques\n",
    "***\n",
    "\n",
    "Resampling methods are techniques in which , we try to **reduce the proportion of the dominant class by undersampling** from it, or we try to **increase the proportion of the minor class by oversampling** from it.\n",
    "However, some of the more successful approaches combine both oversampling and undersampling.\n",
    "\n",
    "Let's have a look at them."
   ]
  },
  {
   "cell_type": "markdown",
   "metadata": {
    "slideshow": {
     "slide_type": "slide"
    }
   },
   "source": [
    "<img src=\"../images/Concept-Alert.png\" alt=\"Concept-Alert\" style=\"width: 100px;float:left; margin-right:15px\"/>\n",
    "<br />\n",
    "\n",
    "## Undersampling:\n",
    "***\n",
    "Undersampling techniques try to balance out the classes by reducing the number of observations in the dominant classes. \n",
    "\n",
    "![](../images/image26.png)"
   ]
  },
  {
   "cell_type": "markdown",
   "metadata": {
    "slideshow": {
     "slide_type": "subslide"
    }
   },
   "source": [
    "## Undersampling\n",
    "***\n",
    "There are many undersampling techniques. Let's look at some of them.\n",
    "\n",
    "* Random Undersampling\n",
    "* Cluster Centroids\n",
    "* Tomek Links"
   ]
  },
  {
   "cell_type": "markdown",
   "metadata": {
    "slideshow": {
     "slide_type": "subslide"
    }
   },
   "source": [
    "<img src=\"../images/Technical-Stuff.png\" alt=\"Technical-Stuff\" style=\"width: 100px;float:left; margin-right:15px\"/>\n",
    "<br />\n",
    "\n",
    "## Undersampling - Random Undersampling\n",
    "***\n",
    "Random undersampling is one of the most intuitive and naive methods for undersampling. This method works by randomly choosing the samples from dominant classes. Let's understand the random undersampling by a few examples."
   ]
  },
  {
   "cell_type": "markdown",
   "metadata": {
    "slideshow": {
     "slide_type": "subslide"
    }
   },
   "source": [
    "**Example 1**\n",
    "* Total number of observations: 1000\n",
    "* Total number of classes: 2 (A, B)\n",
    "* Size of class A: 975\n",
    "* Size of class B: 25\n",
    "* Proportion of Minor class: 2.5%"
   ]
  },
  {
   "cell_type": "markdown",
   "metadata": {
    "slideshow": {
     "slide_type": "subslide"
    }
   },
   "source": [
    "**Sampled Dataset**\n",
    "* From A, select 475 points randomly\n",
    "* From B, select all 25 points\n",
    "* Proportion of Minor class: 5%"
   ]
  },
  {
   "cell_type": "markdown",
   "metadata": {
    "slideshow": {
     "slide_type": "subslide"
    }
   },
   "source": [
    "**Example 2**\n",
    "* Total number of observations: 1000\n",
    "* Total number of classes: 3 (A, B, C)\n",
    "* Size of class A: 925\n",
    "* Size of class B: 25\n",
    "* Size of class C: 50\n",
    "* Proportion of Minor classes: 2.5% (B) and 5% (C)"
   ]
  },
  {
   "cell_type": "markdown",
   "metadata": {
    "slideshow": {
     "slide_type": "subslide"
    }
   },
   "source": [
    "**Sampled Dataset**\n",
    "* From A, select 425 points randomly\n",
    "* From B, select all 25 points\n",
    "* From C, select all 50 points\n",
    "* Proportion of Minor class: 5% (B) and 10% (C)\n"
   ]
  },
  {
   "cell_type": "code",
   "execution_count": 1,
   "metadata": {
    "slideshow": {
     "slide_type": "subslide"
    }
   },
   "outputs": [],
   "source": [
    "import pandas as pd\n",
    "import matplotlib.pyplot as plt\n",
    "import seaborn as sns\n",
    "%matplotlib inline\n",
    "from sklearn.model_selection import train_test_split\n",
    "from sklearn.preprocessing import LabelEncoder"
   ]
  },
  {
   "cell_type": "code",
   "execution_count": 2,
   "metadata": {
    "slideshow": {
     "slide_type": "subslide"
    }
   },
   "outputs": [
    {
     "data": {
      "text/html": [
       "<div>\n",
       "<style scoped>\n",
       "    .dataframe tbody tr th:only-of-type {\n",
       "        vertical-align: middle;\n",
       "    }\n",
       "\n",
       "    .dataframe tbody tr th {\n",
       "        vertical-align: top;\n",
       "    }\n",
       "\n",
       "    .dataframe thead th {\n",
       "        text-align: right;\n",
       "    }\n",
       "</style>\n",
       "<table border=\"1\" class=\"dataframe\">\n",
       "  <thead>\n",
       "    <tr style=\"text-align: right;\">\n",
       "      <th></th>\n",
       "      <th>Gender</th>\n",
       "      <th>Married</th>\n",
       "      <th>Dependents</th>\n",
       "      <th>Education</th>\n",
       "      <th>Self_Employed</th>\n",
       "      <th>ApplicantIncome</th>\n",
       "      <th>CoapplicantIncome</th>\n",
       "      <th>LoanAmount</th>\n",
       "      <th>Loan_Amount_Term</th>\n",
       "      <th>Credit_History</th>\n",
       "      <th>Property_Area</th>\n",
       "      <th>Loan_Status</th>\n",
       "    </tr>\n",
       "  </thead>\n",
       "  <tbody>\n",
       "    <tr>\n",
       "      <th>0</th>\n",
       "      <td>Male</td>\n",
       "      <td>No</td>\n",
       "      <td>0</td>\n",
       "      <td>Graduate</td>\n",
       "      <td>No</td>\n",
       "      <td>5849</td>\n",
       "      <td>0.0</td>\n",
       "      <td>146.412162</td>\n",
       "      <td>360.0</td>\n",
       "      <td>1.0</td>\n",
       "      <td>Urban</td>\n",
       "      <td>Y</td>\n",
       "    </tr>\n",
       "    <tr>\n",
       "      <th>1</th>\n",
       "      <td>Male</td>\n",
       "      <td>Yes</td>\n",
       "      <td>1</td>\n",
       "      <td>Graduate</td>\n",
       "      <td>No</td>\n",
       "      <td>4583</td>\n",
       "      <td>1508.0</td>\n",
       "      <td>128.000000</td>\n",
       "      <td>360.0</td>\n",
       "      <td>1.0</td>\n",
       "      <td>Rural</td>\n",
       "      <td>N</td>\n",
       "    </tr>\n",
       "    <tr>\n",
       "      <th>2</th>\n",
       "      <td>Male</td>\n",
       "      <td>Yes</td>\n",
       "      <td>0</td>\n",
       "      <td>Graduate</td>\n",
       "      <td>Yes</td>\n",
       "      <td>3000</td>\n",
       "      <td>0.0</td>\n",
       "      <td>66.000000</td>\n",
       "      <td>360.0</td>\n",
       "      <td>1.0</td>\n",
       "      <td>Urban</td>\n",
       "      <td>Y</td>\n",
       "    </tr>\n",
       "    <tr>\n",
       "      <th>3</th>\n",
       "      <td>Male</td>\n",
       "      <td>Yes</td>\n",
       "      <td>0</td>\n",
       "      <td>Not Graduate</td>\n",
       "      <td>No</td>\n",
       "      <td>2583</td>\n",
       "      <td>2358.0</td>\n",
       "      <td>120.000000</td>\n",
       "      <td>360.0</td>\n",
       "      <td>1.0</td>\n",
       "      <td>Urban</td>\n",
       "      <td>Y</td>\n",
       "    </tr>\n",
       "    <tr>\n",
       "      <th>4</th>\n",
       "      <td>Male</td>\n",
       "      <td>No</td>\n",
       "      <td>0</td>\n",
       "      <td>Graduate</td>\n",
       "      <td>No</td>\n",
       "      <td>6000</td>\n",
       "      <td>0.0</td>\n",
       "      <td>141.000000</td>\n",
       "      <td>360.0</td>\n",
       "      <td>1.0</td>\n",
       "      <td>Urban</td>\n",
       "      <td>Y</td>\n",
       "    </tr>\n",
       "  </tbody>\n",
       "</table>\n",
       "</div>"
      ],
      "text/plain": [
       "  Gender Married Dependents     Education Self_Employed  ApplicantIncome  \\\n",
       "0   Male      No          0      Graduate            No             5849   \n",
       "1   Male     Yes          1      Graduate            No             4583   \n",
       "2   Male     Yes          0      Graduate           Yes             3000   \n",
       "3   Male     Yes          0  Not Graduate            No             2583   \n",
       "4   Male      No          0      Graduate            No             6000   \n",
       "\n",
       "   CoapplicantIncome  LoanAmount  Loan_Amount_Term  Credit_History  \\\n",
       "0                0.0  146.412162             360.0             1.0   \n",
       "1             1508.0  128.000000             360.0             1.0   \n",
       "2                0.0   66.000000             360.0             1.0   \n",
       "3             2358.0  120.000000             360.0             1.0   \n",
       "4                0.0  141.000000             360.0             1.0   \n",
       "\n",
       "  Property_Area Loan_Status  \n",
       "0         Urban           Y  \n",
       "1         Rural           N  \n",
       "2         Urban           Y  \n",
       "3         Urban           Y  \n",
       "4         Urban           Y  "
      ]
     },
     "execution_count": 2,
     "metadata": {},
     "output_type": "execute_result"
    }
   ],
   "source": [
    "loan_prediction = pd.read_csv(\"../data/loan_prediction.csv\", )\n",
    "loan_prediction.head()"
   ]
  },
  {
   "cell_type": "code",
   "execution_count": 3,
   "metadata": {
    "slideshow": {
     "slide_type": "subslide"
    }
   },
   "outputs": [],
   "source": [
    "label_enc = LabelEncoder()\n",
    "for column in loan_prediction.select_dtypes(include=[\"object\"]).columns.values:\n",
    "    loan_prediction[column] = label_enc.fit_transform(loan_prediction[column])"
   ]
  },
  {
   "cell_type": "code",
   "execution_count": 4,
   "metadata": {
    "slideshow": {
     "slide_type": "subslide"
    }
   },
   "outputs": [
    {
     "data": {
      "image/png": "[encoded data removed]",
      "text/plain": [
       "<Figure size 432x288 with 1 Axes>"
      ]
     },
     "metadata": {},
     "output_type": "display_data"
    }
   ],
   "source": [
    "sns.countplot(loan_prediction.Loan_Status);"
   ]
  },
  {
   "cell_type": "code",
   "execution_count": 5,
   "metadata": {
    "slideshow": {
     "slide_type": "subslide"
    }
   },
   "outputs": [
    {
     "data": {
      "image/png": "[encoded data removed]",
      "text/plain": [
       "<Figure size 432x288 with 1 Axes>"
      ]
     },
     "metadata": {},
     "output_type": "display_data"
    }
   ],
   "source": [
    "loan_prediction.replace({0:1, 1:0}, inplace=True)\n",
    "# index_values = loan_prediction[loan_prediction.Loan_Status == 1][100:].index.values\n",
    "# loan_prediction = loan_prediction.drop(loan_prediction.index[list(index_values)])\n",
    "sns.countplot(loan_prediction.Loan_Status);"
   ]
  },
  {
   "cell_type": "code",
   "execution_count": 6,
   "metadata": {
    "slideshow": {
     "slide_type": "subslide"
    }
   },
   "outputs": [],
   "source": [
    "from sklearn.ensemble import RandomForestClassifier\n",
    "from sklearn.metrics import f1_score, confusion_matrix\n",
    "from sklearn.linear_model import LogisticRegression\n",
    "from sklearn.metrics import precision_score, recall_score\n",
    "from sklearn.metrics import roc_auc_score"
   ]
  },
  {
   "cell_type": "code",
   "execution_count": 7,
   "metadata": {
    "slideshow": {
     "slide_type": "subslide"
    }
   },
   "outputs": [],
   "source": [
    "X_train, X_test, y_train, y_test = train_test_split(loan_prediction.iloc[:,:-1], \n",
    "                                                    loan_prediction.iloc[:,-1], \n",
    "                                                    random_state=9)"
   ]
  },
  {
   "cell_type": "code",
   "execution_count": 8,
   "metadata": {
    "slideshow": {
     "slide_type": "subslide"
    }
   },
   "outputs": [
    {
     "name": "stdout",
     "output_type": "stream",
     "text": [
      "f1_score 0.5853658536585367\n",
      "0.7741935483870968\n",
      "0.47058823529411764\n",
      "0.701313535122787\n",
      "[[96  7]\n",
      " [27 24]]\n"
     ]
    },
    {
     "name": "stderr",
     "output_type": "stream",
     "text": [
      "C:\\Users\\rusha\\Anaconda3\\lib\\site-packages\\sklearn\\ensemble\\forest.py:246: FutureWarning: The default value of n_estimators will change from 10 in version 0.20 to 100 in 0.22.\n",
      "  \"10 in version 0.20 to 100 in 0.22.\", FutureWarning)\n"
     ]
    }
   ],
   "source": [
    "rf = RandomForestClassifier(random_state=9)\n",
    "rf.fit(X_train, y_train)\n",
    "print (\"f1_score\", f1_score(y_test, rf.predict(X_test)))\n",
    "print (precision_score(y_test, rf.predict(X_test)))\n",
    "print (recall_score(y_test, rf.predict(X_test)))\n",
    "print (roc_auc_score(y_test, rf.predict(X_test)))\n",
    "print (confusion_matrix(y_test, rf.predict(X_test)))"
   ]
  },
  {
   "cell_type": "code",
   "execution_count": 9,
   "metadata": {
    "slideshow": {
     "slide_type": "subslide"
    }
   },
   "outputs": [
    {
     "name": "stdout",
     "output_type": "stream",
     "text": [
      "f1_score 0.6153846153846154\n",
      "0.7\n",
      "0.5490196078431373\n",
      "0.7162573767371027\n",
      "[[91 12]\n",
      " [23 28]]\n"
     ]
    },
    {
     "name": "stderr",
     "output_type": "stream",
     "text": [
      "C:\\Users\\rusha\\Anaconda3\\lib\\site-packages\\sklearn\\linear_model\\logistic.py:433: FutureWarning: Default solver will be changed to 'lbfgs' in 0.22. Specify a solver to silence this warning.\n",
      "  FutureWarning)\n"
     ]
    }
   ],
   "source": [
    "rf = LogisticRegression(random_state=9)\n",
    "rf.fit(X_train, y_train)\n",
    "print (\"f1_score\", f1_score(y_test, rf.predict(X_test)))\n",
    "print (precision_score(y_test, rf.predict(X_test)))\n",
    "print (recall_score(y_test, rf.predict(X_test)))\n",
    "print (roc_auc_score(y_test, rf.predict(X_test)))\n",
    "print (confusion_matrix(y_test, rf.predict(X_test)))"
   ]
  },
  {
   "cell_type": "markdown",
   "metadata": {
    "slideshow": {
     "slide_type": "slide"
    }
   },
   "source": [
    "<img src=\"../images/Technical-Stuff.png\" alt=\"Technical-Stuff\" style=\"width: 100px;float:left; margin-right:15px\"/>\n",
    "<br />\n",
    "\n",
    "## Undersampling with `imblearn`:\n",
    "***"
   ]
  },
  {
   "cell_type": "code",
   "execution_count": 10,
   "metadata": {
    "slideshow": {
     "slide_type": "subslide"
    }
   },
   "outputs": [
    {
     "data": {
      "text/plain": [
       "<matplotlib.axes._subplots.AxesSubplot at 0x20d5c75c908>"
      ]
     },
     "execution_count": 10,
     "metadata": {},
     "output_type": "execute_result"
    },
    {
     "data": {
      "image/png": "[encoded data removed]",
      "text/plain": [
       "<Figure size 432x288 with 1 Axes>"
      ]
     },
     "metadata": {},
     "output_type": "display_data"
    }
   ],
   "source": [
    "from imblearn.under_sampling import RandomUnderSampler\n",
    "# Create the samplers\n",
    "rus = RandomUnderSampler(random_state=9)\n",
    "X_sample2, y_sample2 =  rus.fit_sample(X_train, y_train)\n",
    "sns.countplot(y_sample2)"
   ]
  },
  {
   "cell_type": "code",
   "execution_count": 11,
   "metadata": {
    "slideshow": {
     "slide_type": "subslide"
    }
   },
   "outputs": [
    {
     "name": "stdout",
     "output_type": "stream",
     "text": [
      "f1_score 0.5\n",
      "0.5102040816326531\n",
      "0.49019607843137253\n",
      "0.6285931848467543\n",
      "[[79 24]\n",
      " [26 25]]\n"
     ]
    },
    {
     "name": "stderr",
     "output_type": "stream",
     "text": [
      "C:\\Users\\rusha\\Anaconda3\\lib\\site-packages\\sklearn\\ensemble\\forest.py:246: FutureWarning: The default value of n_estimators will change from 10 in version 0.20 to 100 in 0.22.\n",
      "  \"10 in version 0.20 to 100 in 0.22.\", FutureWarning)\n"
     ]
    }
   ],
   "source": [
    "rf2 = RandomForestClassifier(random_state=9)\n",
    "rf2.fit(X_sample2, y_sample2)\n",
    "print (\"f1_score\", f1_score(y_test, rf2.predict(X_test)))\n",
    "print (precision_score(y_test, rf2.predict(X_test)))\n",
    "print (recall_score(y_test, rf2.predict(X_test)))\n",
    "print (roc_auc_score(y_test, rf2.predict(X_test)))\n",
    "print (confusion_matrix(y_test, rf2.predict(X_test)))"
   ]
  },
  {
   "cell_type": "code",
   "execution_count": 12,
   "metadata": {
    "slideshow": {
     "slide_type": "subslide"
    }
   },
   "outputs": [
    {
     "name": "stdout",
     "output_type": "stream",
     "text": [
      "f1_score 0.6021505376344086\n",
      "0.6666666666666666\n",
      "0.5490196078431373\n",
      "0.706548638873025\n",
      "[[89 14]\n",
      " [23 28]]\n"
     ]
    },
    {
     "name": "stderr",
     "output_type": "stream",
     "text": [
      "C:\\Users\\rusha\\Anaconda3\\lib\\site-packages\\sklearn\\linear_model\\logistic.py:433: FutureWarning: Default solver will be changed to 'lbfgs' in 0.22. Specify a solver to silence this warning.\n",
      "  FutureWarning)\n"
     ]
    }
   ],
   "source": [
    "rf2 = LogisticRegression(random_state=9)\n",
    "rf2.fit(X_sample2, y_sample2)\n",
    "print (\"f1_score\", f1_score(y_test, rf2.predict(X_test)))\n",
    "print (precision_score(y_test, rf2.predict(X_test)))\n",
    "print (recall_score(y_test, rf2.predict(X_test)))\n",
    "print (roc_auc_score(y_test, rf2.predict(X_test)))\n",
    "print (confusion_matrix(y_test, rf2.predict(X_test)))"
   ]
  },
  {
   "cell_type": "markdown",
   "metadata": {
    "slideshow": {
     "slide_type": "slide"
    }
   },
   "source": [
    "<img src=\"../images/Technical-Stuff.png\" alt=\"Technical-Stuff\" style=\"width: 100px;float:left; margin-right:15px\"/>\n",
    "<br />\n",
    "\n",
    "## Undersampling - Cluster Centroids\n",
    "***\n",
    "* This technique undersampled by creation of new samples. \n",
    "* Let’s understand how\n",
    "    * Size of minority class: 200\n",
    "    * Size of majority class: 1000\n",
    "* Cluster centroids method works by creating 200 clusters of the majority class and returns the centroids of each of the clusters. Hence, rather than sampling from the original data points we get new representative sample "
   ]
  },
  {
   "cell_type": "code",
   "execution_count": 13,
   "metadata": {
    "slideshow": {
     "slide_type": "subslide"
    }
   },
   "outputs": [
    {
     "data": {
      "text/plain": [
       "<matplotlib.axes._subplots.AxesSubplot at 0x20d5c7b5898>"
      ]
     },
     "execution_count": 13,
     "metadata": {},
     "output_type": "execute_result"
    },
    {
     "data": {
      "image/png": "[encoded data removed]",
      "text/plain": [
       "<Figure size 432x288 with 1 Axes>"
      ]
     },
     "metadata": {},
     "output_type": "display_data"
    }
   ],
   "source": [
    "from imblearn.under_sampling import ClusterCentroids\n",
    "\n",
    "cc = ClusterCentroids(random_state=9)\n",
    "X_sample3, y_sample3 = cc.fit_sample(X_train, y_train)\n",
    "sns.countplot(y_sample3)"
   ]
  },
  {
   "cell_type": "code",
   "execution_count": 14,
   "metadata": {
    "slideshow": {
     "slide_type": "subslide"
    }
   },
   "outputs": [
    {
     "name": "stdout",
     "output_type": "stream",
     "text": [
      "f1_score 0.5379310344827586\n",
      "0.4148936170212766\n",
      "0.7647058823529411\n",
      "0.6153626499143346\n",
      "[[48 55]\n",
      " [12 39]]\n"
     ]
    },
    {
     "name": "stderr",
     "output_type": "stream",
     "text": [
      "C:\\Users\\rusha\\Anaconda3\\lib\\site-packages\\sklearn\\ensemble\\forest.py:246: FutureWarning: The default value of n_estimators will change from 10 in version 0.20 to 100 in 0.22.\n",
      "  \"10 in version 0.20 to 100 in 0.22.\", FutureWarning)\n"
     ]
    }
   ],
   "source": [
    "rf3 = RandomForestClassifier(random_state=9)\n",
    "rf3.fit(X_sample3, y_sample3)\n",
    "print (\"f1_score\", f1_score(y_test, rf3.predict(X_test)))\n",
    "print (precision_score(y_test, rf3.predict(X_test)))\n",
    "print (recall_score(y_test, rf3.predict(X_test)))\n",
    "print (roc_auc_score(y_test, rf3.predict(X_test)))\n",
    "print (confusion_matrix(y_test, rf3.predict(X_test)))"
   ]
  },
  {
   "cell_type": "code",
   "execution_count": 15,
   "metadata": {
    "slideshow": {
     "slide_type": "subslide"
    }
   },
   "outputs": [
    {
     "name": "stdout",
     "output_type": "stream",
     "text": [
      "f1_score 0.6238532110091743\n",
      "0.5862068965517241\n",
      "0.6666666666666666\n",
      "0.7168284789644012\n",
      "[[79 24]\n",
      " [17 34]]\n"
     ]
    },
    {
     "name": "stderr",
     "output_type": "stream",
     "text": [
      "C:\\Users\\rusha\\Anaconda3\\lib\\site-packages\\sklearn\\linear_model\\logistic.py:433: FutureWarning: Default solver will be changed to 'lbfgs' in 0.22. Specify a solver to silence this warning.\n",
      "  FutureWarning)\n"
     ]
    }
   ],
   "source": [
    "rf3 = LogisticRegression(random_state=9)\n",
    "rf3.fit(X_sample3, y_sample3)\n",
    "print (\"f1_score\", f1_score(y_test, rf3.predict(X_test)))\n",
    "print (precision_score(y_test, rf3.predict(X_test)))\n",
    "print (recall_score(y_test, rf3.predict(X_test)))\n",
    "print (roc_auc_score(y_test, rf3.predict(X_test)))\n",
    "print (confusion_matrix(y_test, rf3.predict(X_test)))"
   ]
  },
  {
   "cell_type": "markdown",
   "metadata": {
    "slideshow": {
     "slide_type": "slide"
    }
   },
   "source": [
    "<img src=\"../images/Technical-Stuff.png\" alt=\"Technical-Stuff\" style=\"width: 100px;float:left; margin-right:15px\"/>\n",
    "<br />\n",
    "\n",
    "## Undersampling - Tomek Links\n",
    "***\n",
    "* Tomek Links are pairs of instances of opposite classes who are their own nearest neighbors.\n",
    "* This technique identifies Tomek Links and gets rid of the majority samples.\n",
    "* The idea is to clarify the border between the minority and majority classes, making the minority region(s) more distinct. \n",
    "\n",
    "![](../images/image31.png)"
   ]
  },
  {
   "cell_type": "code",
   "execution_count": 16,
   "metadata": {
    "slideshow": {
     "slide_type": "subslide"
    }
   },
   "outputs": [
    {
     "data": {
      "text/plain": [
       "<matplotlib.axes._subplots.AxesSubplot at 0x20d5c804e48>"
      ]
     },
     "execution_count": 16,
     "metadata": {},
     "output_type": "execute_result"
    },
    {
     "data": {
      "image/png": "[encoded data removed]",
      "text/plain": [
       "<Figure size 432x288 with 1 Axes>"
      ]
     },
     "metadata": {},
     "output_type": "display_data"
    }
   ],
   "source": [
    "#Undersampling using Tomek Links\n",
    "from imblearn.under_sampling import TomekLinks\n",
    "tl = TomekLinks(random_state=9, ratio='not minority')\n",
    "X_sample4, y_sample4 = tl.fit_sample(X_train, y_train)\n",
    "sns.countplot(y_sample4)"
   ]
  },
  {
   "cell_type": "code",
   "execution_count": 17,
   "metadata": {
    "slideshow": {
     "slide_type": "subslide"
    }
   },
   "outputs": [
    {
     "name": "stdout",
     "output_type": "stream",
     "text": [
      "f1_score 0.6117647058823529\n",
      "0.7647058823529411\n",
      "0.5098039215686274\n",
      "0.716067009328003\n",
      "[[95  8]\n",
      " [25 26]]\n"
     ]
    },
    {
     "name": "stderr",
     "output_type": "stream",
     "text": [
      "C:\\Users\\rusha\\Anaconda3\\lib\\site-packages\\sklearn\\ensemble\\forest.py:246: FutureWarning: The default value of n_estimators will change from 10 in version 0.20 to 100 in 0.22.\n",
      "  \"10 in version 0.20 to 100 in 0.22.\", FutureWarning)\n"
     ]
    }
   ],
   "source": [
    "#Fitting a Random Forest Classifier\n",
    "rf4 = RandomForestClassifier()\n",
    "rf4.fit(X_sample4, y_sample4)\n",
    "print (\"f1_score\", f1_score(y_test, rf4.predict(X_test)))\n",
    "print (precision_score(y_test, rf4.predict(X_test)))\n",
    "print (recall_score(y_test, rf4.predict(X_test)))\n",
    "print (roc_auc_score(y_test, rf4.predict(X_test)))\n",
    "print (confusion_matrix(y_test, rf4.predict(X_test)))"
   ]
  },
  {
   "cell_type": "code",
   "execution_count": 18,
   "metadata": {
    "slideshow": {
     "slide_type": "subslide"
    }
   },
   "outputs": [
    {
     "name": "stdout",
     "output_type": "stream",
     "text": [
      "f1_score 0.6222222222222223\n",
      "0.717948717948718\n",
      "0.5490196078431373\n",
      "0.7211117456691415\n",
      "[[92 11]\n",
      " [23 28]]\n"
     ]
    },
    {
     "name": "stderr",
     "output_type": "stream",
     "text": [
      "C:\\Users\\rusha\\Anaconda3\\lib\\site-packages\\sklearn\\linear_model\\logistic.py:433: FutureWarning: Default solver will be changed to 'lbfgs' in 0.22. Specify a solver to silence this warning.\n",
      "  FutureWarning)\n"
     ]
    }
   ],
   "source": [
    "#Fitting a Logistic Regression model.\n",
    "rf4 = LogisticRegression()\n",
    "rf4.fit(X_sample4, y_sample4)\n",
    "print (\"f1_score\", f1_score(y_test, rf4.predict(X_test)))\n",
    "print (precision_score(y_test, rf4.predict(X_test)))\n",
    "print (recall_score(y_test, rf4.predict(X_test)))\n",
    "print (roc_auc_score(y_test, rf4.predict(X_test)))\n",
    "print (confusion_matrix(y_test, rf4.predict(X_test)))"
   ]
  },
  {
   "cell_type": "markdown",
   "metadata": {
    "slideshow": {
     "slide_type": "slide"
    }
   },
   "source": [
    "## Oversampling:\n",
    "***\n",
    "As opposed to undersamping, oversampling techniques try to make the classes balanced by enhancing the minority class using different techniques.\n",
    "\n",
    "![](../images/image29.png)"
   ]
  },
  {
   "cell_type": "markdown",
   "metadata": {
    "slideshow": {
     "slide_type": "slide"
    }
   },
   "source": [
    "<img src=\"../images/Technical-Stuff.png\" alt=\"Technical-Stuff\" style=\"width: 100px;float:left; margin-right:15px\"/>\n",
    "<br />\n",
    "\n",
    "## Oversampling - Random Oversampling\n",
    "***\n",
    "Random oversampling selects the samples with replacement from the minority class.\n",
    "\n",
    "**Example 1**\n",
    "\n",
    "* Total number of observations: 1000\n",
    "* Total number of classes: 2 (A, B)\n",
    "* Size of class A: 975\n",
    "* Size of class B: 25\n",
    "* Proportion of Minor class: 2.5%"
   ]
  },
  {
   "cell_type": "markdown",
   "metadata": {
    "slideshow": {
     "slide_type": "subslide"
    }
   },
   "source": [
    "Sampled Dataset\n",
    "* From A, select all 975 points\n",
    "* From B, select 225 points with replacement\n",
    "* Proportion of Minor class: 18.75%"
   ]
  },
  {
   "cell_type": "markdown",
   "metadata": {
    "slideshow": {
     "slide_type": "subslide"
    }
   },
   "source": [
    "**Example 2**\n",
    "\n",
    "* Total number of observations: 1000\n",
    "* Total number of classes: 3 (A, B, C)\n",
    "* Size of class A: 925\n",
    "* Size of class B: 25\n",
    "* Size of class C: 50\n",
    "* Proportion of Minor classes: 2.5% (B) and 5% (C)"
   ]
  },
  {
   "cell_type": "markdown",
   "metadata": {
    "slideshow": {
     "slide_type": "subslide"
    }
   },
   "source": [
    "**Sampled Dataset**\n",
    "* From A, select all 925 points\n",
    "* From B, select 225 points with replacement\n",
    "* From C, select 450 points with replacement\n",
    "* Proportion of Minor class: ~14% (B) and ~28% (C)"
   ]
  },
  {
   "cell_type": "code",
   "execution_count": 19,
   "metadata": {
    "slideshow": {
     "slide_type": "subslide"
    }
   },
   "outputs": [
    {
     "data": {
      "text/plain": [
       "<matplotlib.axes._subplots.AxesSubplot at 0x20d5c1b2cf8>"
      ]
     },
     "execution_count": 19,
     "metadata": {},
     "output_type": "execute_result"
    },
    {
     "data": {
      "image/png": "[encoded data removed]",
      "text/plain": [
       "<Figure size 432x288 with 1 Axes>"
      ]
     },
     "metadata": {},
     "output_type": "display_data"
    }
   ],
   "source": [
    "#Random oversampling using imblearn\n",
    "from imblearn.over_sampling import RandomOverSampler\n",
    "\n",
    "ros = RandomOverSampler(random_state=9)\n",
    "X_sample5, y_sample5 = ros.fit_sample(X_train, y_train)\n",
    "sns.countplot(y_sample5)"
   ]
  },
  {
   "cell_type": "code",
   "execution_count": 20,
   "metadata": {
    "slideshow": {
     "slide_type": "subslide"
    }
   },
   "outputs": [
    {
     "name": "stdout",
     "output_type": "stream",
     "text": [
      "f1_score 0.6153846153846154\n",
      "0.7\n",
      "0.5490196078431373\n",
      "0.7162573767371027\n",
      "[[91 12]\n",
      " [23 28]]\n"
     ]
    },
    {
     "name": "stderr",
     "output_type": "stream",
     "text": [
      "C:\\Users\\rusha\\Anaconda3\\lib\\site-packages\\sklearn\\ensemble\\forest.py:246: FutureWarning: The default value of n_estimators will change from 10 in version 0.20 to 100 in 0.22.\n",
      "  \"10 in version 0.20 to 100 in 0.22.\", FutureWarning)\n"
     ]
    }
   ],
   "source": [
    "#Fitting a Random Forest Classifier\n",
    "rf5 = RandomForestClassifier(random_state=9)\n",
    "rf5.fit(X_sample5, y_sample5)\n",
    "print (\"f1_score\", f1_score(y_test, rf5.predict(X_test)))\n",
    "print (precision_score(y_test, rf5.predict(X_test)))\n",
    "print (recall_score(y_test, rf5.predict(X_test)))\n",
    "print (roc_auc_score(y_test, rf5.predict(X_test)))\n",
    "print (confusion_matrix(y_test, rf5.predict(X_test)))"
   ]
  },
  {
   "cell_type": "code",
   "execution_count": 21,
   "metadata": {
    "slideshow": {
     "slide_type": "subslide"
    }
   },
   "outputs": [
    {
     "name": "stdout",
     "output_type": "stream",
     "text": [
      "f1_score 0.6021505376344086\n",
      "0.6666666666666666\n",
      "0.5490196078431373\n",
      "0.706548638873025\n",
      "[[89 14]\n",
      " [23 28]]\n"
     ]
    },
    {
     "name": "stderr",
     "output_type": "stream",
     "text": [
      "C:\\Users\\rusha\\Anaconda3\\lib\\site-packages\\sklearn\\linear_model\\logistic.py:433: FutureWarning: Default solver will be changed to 'lbfgs' in 0.22. Specify a solver to silence this warning.\n",
      "  FutureWarning)\n"
     ]
    }
   ],
   "source": [
    "#Fitting a Logistic Regression model.\n",
    "rf5 = LogisticRegression(random_state=9)\n",
    "rf5.fit(X_sample5, y_sample5)\n",
    "print (\"f1_score\", f1_score(y_test, rf5.predict(X_test)))\n",
    "print (precision_score(y_test, rf5.predict(X_test)))\n",
    "print (recall_score(y_test, rf5.predict(X_test)))\n",
    "print (roc_auc_score(y_test, rf5.predict(X_test)))\n",
    "print (confusion_matrix(y_test, rf5.predict(X_test)))"
   ]
  },
  {
   "cell_type": "markdown",
   "metadata": {
    "slideshow": {
     "slide_type": "slide"
    }
   },
   "source": [
    "<img src=\"../images/Technical-Stuff.png\" alt=\"Technical-Stuff\" style=\"width: 100px;float:left; margin-right:15px\"/>\n",
    "<br />\n",
    "\n",
    "## Oversampling - SMOTE (Synthetic Minority Oversampling Technique)\n",
    "***\n",
    "* The original paper: [SMOTE: Synthetic Minority Over-sampling Technique](https://arxiv.org/pdf/1106.1813.pdf)\n",
    "* The minority class is over-sampled by creating synthetic examples rather than by over-sampling with replacement.\n",
    "* It generates synthetic examples in a less application-specific manner, by operating in feature space rather than data space.\n",
    "* The minority class is over-sampled by taking each minority class sample and introducing synthetic examples along the line segments joining any/all of the k minority class nearest neighbors."
   ]
  },
  {
   "cell_type": "markdown",
   "metadata": {
    "slideshow": {
     "slide_type": "subslide"
    }
   },
   "source": [
    "<img src=\"../images/Technical-Stuff.png\" alt=\"Technical-Stuff\" style=\"width: 100px;float:left; margin-right:15px\"/>\n",
    "<br />\n",
    "\n",
    "## How SMOTE works:\n",
    "***\n",
    "* Take the difference between the feature vector (sample) under consideration and its nearest neighbor.\n",
    "* Multiply this difference by a random number between 0 and 1, and add it to the feature vector under consideration.\n",
    "* This causes the selection of a random point along the line segment between two specific features.\n",
    "![](../images/image32.png)"
   ]
  },
  {
   "cell_type": "markdown",
   "metadata": {
    "slideshow": {
     "slide_type": "subslide"
    }
   },
   "source": [
    "* Depending upon the amount of over-sampling required, neighbors from the k nearest neighbors are randomly chosen.\n",
    "* For instance, if the amount of over-sampling needed is 200%, only two neighbors from the five nearest neighbors are chosen and one sample is generated in the direction of each.\n",
    "* NOTE: this k becomes a hyperparameter for SMOTE algorithm"
   ]
  },
  {
   "cell_type": "markdown",
   "metadata": {
    "slideshow": {
     "slide_type": "subslide"
    }
   },
   "source": [
    "* Limitation: Because it operates by interpolating between rare examples.\n",
    "* Hence, it can only generate examples within the body of available examples—never outside."
   ]
  },
  {
   "cell_type": "code",
   "execution_count": 22,
   "metadata": {
    "slideshow": {
     "slide_type": "subslide"
    }
   },
   "outputs": [
    {
     "data": {
      "text/plain": [
       "<matplotlib.axes._subplots.AxesSubplot at 0x20d5c23ee80>"
      ]
     },
     "execution_count": 22,
     "metadata": {},
     "output_type": "execute_result"
    },
    {
     "data": {
      "image/png": "[encoded data removed]",
      "text/plain": [
       "<Figure size 432x288 with 1 Axes>"
      ]
     },
     "metadata": {},
     "output_type": "display_data"
    }
   ],
   "source": [
    "#SMOTE using imblearn\n",
    "from imblearn.over_sampling import SMOTE\n",
    "\n",
    "smote = SMOTE(random_state=9, kind=\"borderline2\")\n",
    "X_sample6, y_sample6 = smote.fit_sample(X_train, y_train)\n",
    "sns.countplot(y_sample6)"
   ]
  },
  {
   "cell_type": "code",
   "execution_count": 23,
   "metadata": {
    "slideshow": {
     "slide_type": "subslide"
    }
   },
   "outputs": [],
   "source": [
    "from sklearn.metrics import precision_score, recall_score, roc_auc_score\n",
    "import numpy as np"
   ]
  },
  {
   "cell_type": "code",
   "execution_count": 24,
   "metadata": {
    "slideshow": {
     "slide_type": "subslide"
    }
   },
   "outputs": [
    {
     "name": "stdout",
     "output_type": "stream",
     "text": [
      "f1_score 0.6222222222222223\n",
      "0.717948717948718\n",
      "0.5490196078431373\n",
      "0.7211117456691415\n",
      "[[92 11]\n",
      " [23 28]]\n"
     ]
    },
    {
     "name": "stderr",
     "output_type": "stream",
     "text": [
      "C:\\Users\\rusha\\Anaconda3\\lib\\site-packages\\sklearn\\ensemble\\forest.py:246: FutureWarning: The default value of n_estimators will change from 10 in version 0.20 to 100 in 0.22.\n",
      "  \"10 in version 0.20 to 100 in 0.22.\", FutureWarning)\n"
     ]
    }
   ],
   "source": [
    "rf6 = RandomForestClassifier(random_state=9)\n",
    "rf6.fit(X_sample6, y_sample6)\n",
    "print (\"f1_score\", f1_score(y_test, rf6.predict(X_test)))\n",
    "print (precision_score(y_test, rf6.predict(X_test)))\n",
    "print (recall_score(y_test, rf6.predict(X_test)))\n",
    "print (roc_auc_score(y_test, rf6.predict(X_test)))\n",
    "print (confusion_matrix(y_test, rf6.predict(X_test)))"
   ]
  },
  {
   "cell_type": "code",
   "execution_count": 25,
   "metadata": {
    "slideshow": {
     "slide_type": "subslide"
    }
   },
   "outputs": [
    {
     "name": "stdout",
     "output_type": "stream",
     "text": [
      "f1_score 0.6213592233009709\n",
      "0.6153846153846154\n",
      "0.6274509803921569\n",
      "0.7166381115553018\n",
      "[[83 20]\n",
      " [19 32]]\n"
     ]
    },
    {
     "name": "stderr",
     "output_type": "stream",
     "text": [
      "C:\\Users\\rusha\\Anaconda3\\lib\\site-packages\\sklearn\\linear_model\\logistic.py:433: FutureWarning: Default solver will be changed to 'lbfgs' in 0.22. Specify a solver to silence this warning.\n",
      "  FutureWarning)\n"
     ]
    }
   ],
   "source": [
    "rf6 = LogisticRegression(random_state=9)\n",
    "rf6.fit(X_sample6, y_sample6)\n",
    "print (\"f1_score\", f1_score(y_test, rf6.predict(X_test)))\n",
    "print (precision_score(y_test, rf6.predict(X_test)))\n",
    "print (recall_score(y_test, rf6.predict(X_test)))\n",
    "print (roc_auc_score(y_test, rf6.predict(X_test)))\n",
    "print (confusion_matrix(y_test, rf6.predict(X_test)))"
   ]
  },
  {
   "cell_type": "markdown",
   "metadata": {
    "slideshow": {
     "slide_type": "slide"
    }
   },
   "source": [
    "## Algorithmic Approach\n",
    "***\n",
    "In algorithmic approach, we use different techniques to tweak the algorithms to make them learn minority classes "
   ]
  },
  {
   "cell_type": "markdown",
   "metadata": {
    "slideshow": {
     "slide_type": "slide"
    }
   },
   "source": [
    "## Algorithmic Approach - Cost Sensitive Training (Penalised Training): \n",
    "***\n",
    "* One way to do so is to create a custom metric which penalizes wrong predictions in the minority class.\n",
    "* Recall the metric the we defined while discussing the metrics of evaluation:\n",
    "* metric=(5 ∗ false negative + 1 ∗ false positive) / 6\n",
    "* Such metrics could be used in handling the imbalanced datasets.\n",
    "* sklearn provides a method to device custom metrics."
   ]
  },
  {
   "cell_type": "markdown",
   "metadata": {
    "slideshow": {
     "slide_type": "slide"
    }
   },
   "source": [
    "<img src=\"../images/Technical-Stuff.png\" alt=\"Technical-Stuff\" style=\"width: 100px;float:left; margin-right:15px\"/>\n",
    "<br />\n",
    "\n",
    "## Algorithmic Approach - Choice of Algorithm:\n",
    "***\n",
    "* Ensemble methods, especially Random Forests are found to be good at handling imbalanced datasets\n",
    "* These methods are able to learn classes based on importance assigned to them.\n",
    "* sklearn's implementations of these algorithms provides option to handle imbalanced dataset by setting the **`class_weight`** parameter.\n"
   ]
  },
  {
   "cell_type": "code",
   "execution_count": 26,
   "metadata": {
    "slideshow": {
     "slide_type": "subslide"
    }
   },
   "outputs": [
    {
     "name": "stderr",
     "output_type": "stream",
     "text": [
      "C:\\Users\\rusha\\Anaconda3\\lib\\site-packages\\sklearn\\ensemble\\forest.py:246: FutureWarning: The default value of n_estimators will change from 10 in version 0.20 to 100 in 0.22.\n",
      "  \"10 in version 0.20 to 100 in 0.22.\", FutureWarning)\n",
      "C:\\Users\\rusha\\Anaconda3\\lib\\site-packages\\sklearn\\ensemble\\forest.py:246: FutureWarning: The default value of n_estimators will change from 10 in version 0.20 to 100 in 0.22.\n",
      "  \"10 in version 0.20 to 100 in 0.22.\", FutureWarning)\n",
      "C:\\Users\\rusha\\Anaconda3\\lib\\site-packages\\sklearn\\ensemble\\forest.py:246: FutureWarning: The default value of n_estimators will change from 10 in version 0.20 to 100 in 0.22.\n",
      "  \"10 in version 0.20 to 100 in 0.22.\", FutureWarning)\n",
      "C:\\Users\\rusha\\Anaconda3\\lib\\site-packages\\sklearn\\ensemble\\forest.py:246: FutureWarning: The default value of n_estimators will change from 10 in version 0.20 to 100 in 0.22.\n",
      "  \"10 in version 0.20 to 100 in 0.22.\", FutureWarning)\n",
      "C:\\Users\\rusha\\Anaconda3\\lib\\site-packages\\sklearn\\ensemble\\forest.py:246: FutureWarning: The default value of n_estimators will change from 10 in version 0.20 to 100 in 0.22.\n",
      "  \"10 in version 0.20 to 100 in 0.22.\", FutureWarning)\n",
      "C:\\Users\\rusha\\Anaconda3\\lib\\site-packages\\sklearn\\ensemble\\forest.py:246: FutureWarning: The default value of n_estimators will change from 10 in version 0.20 to 100 in 0.22.\n",
      "  \"10 in version 0.20 to 100 in 0.22.\", FutureWarning)\n",
      "C:\\Users\\rusha\\Anaconda3\\lib\\site-packages\\sklearn\\ensemble\\forest.py:246: FutureWarning: The default value of n_estimators will change from 10 in version 0.20 to 100 in 0.22.\n",
      "  \"10 in version 0.20 to 100 in 0.22.\", FutureWarning)\n",
      "C:\\Users\\rusha\\Anaconda3\\lib\\site-packages\\sklearn\\ensemble\\forest.py:246: FutureWarning: The default value of n_estimators will change from 10 in version 0.20 to 100 in 0.22.\n",
      "  \"10 in version 0.20 to 100 in 0.22.\", FutureWarning)\n",
      "C:\\Users\\rusha\\Anaconda3\\lib\\site-packages\\sklearn\\ensemble\\forest.py:246: FutureWarning: The default value of n_estimators will change from 10 in version 0.20 to 100 in 0.22.\n",
      "  \"10 in version 0.20 to 100 in 0.22.\", FutureWarning)\n",
      "C:\\Users\\rusha\\Anaconda3\\lib\\site-packages\\sklearn\\ensemble\\forest.py:246: FutureWarning: The default value of n_estimators will change from 10 in version 0.20 to 100 in 0.22.\n",
      "  \"10 in version 0.20 to 100 in 0.22.\", FutureWarning)\n",
      "C:\\Users\\rusha\\Anaconda3\\lib\\site-packages\\sklearn\\ensemble\\forest.py:246: FutureWarning: The default value of n_estimators will change from 10 in version 0.20 to 100 in 0.22.\n",
      "  \"10 in version 0.20 to 100 in 0.22.\", FutureWarning)\n",
      "C:\\Users\\rusha\\Anaconda3\\lib\\site-packages\\sklearn\\ensemble\\forest.py:246: FutureWarning: The default value of n_estimators will change from 10 in version 0.20 to 100 in 0.22.\n",
      "  \"10 in version 0.20 to 100 in 0.22.\", FutureWarning)\n",
      "C:\\Users\\rusha\\Anaconda3\\lib\\site-packages\\sklearn\\ensemble\\forest.py:246: FutureWarning: The default value of n_estimators will change from 10 in version 0.20 to 100 in 0.22.\n",
      "  \"10 in version 0.20 to 100 in 0.22.\", FutureWarning)\n",
      "C:\\Users\\rusha\\Anaconda3\\lib\\site-packages\\sklearn\\ensemble\\forest.py:246: FutureWarning: The default value of n_estimators will change from 10 in version 0.20 to 100 in 0.22.\n",
      "  \"10 in version 0.20 to 100 in 0.22.\", FutureWarning)\n",
      "C:\\Users\\rusha\\Anaconda3\\lib\\site-packages\\sklearn\\ensemble\\forest.py:246: FutureWarning: The default value of n_estimators will change from 10 in version 0.20 to 100 in 0.22.\n",
      "  \"10 in version 0.20 to 100 in 0.22.\", FutureWarning)\n",
      "C:\\Users\\rusha\\Anaconda3\\lib\\site-packages\\sklearn\\ensemble\\forest.py:246: FutureWarning: The default value of n_estimators will change from 10 in version 0.20 to 100 in 0.22.\n",
      "  \"10 in version 0.20 to 100 in 0.22.\", FutureWarning)\n",
      "C:\\Users\\rusha\\Anaconda3\\lib\\site-packages\\sklearn\\ensemble\\forest.py:246: FutureWarning: The default value of n_estimators will change from 10 in version 0.20 to 100 in 0.22.\n",
      "  \"10 in version 0.20 to 100 in 0.22.\", FutureWarning)\n",
      "C:\\Users\\rusha\\Anaconda3\\lib\\site-packages\\sklearn\\ensemble\\forest.py:246: FutureWarning: The default value of n_estimators will change from 10 in version 0.20 to 100 in 0.22.\n",
      "  \"10 in version 0.20 to 100 in 0.22.\", FutureWarning)\n",
      "C:\\Users\\rusha\\Anaconda3\\lib\\site-packages\\sklearn\\ensemble\\forest.py:246: FutureWarning: The default value of n_estimators will change from 10 in version 0.20 to 100 in 0.22.\n",
      "  \"10 in version 0.20 to 100 in 0.22.\", FutureWarning)\n",
      "C:\\Users\\rusha\\Anaconda3\\lib\\site-packages\\sklearn\\ensemble\\forest.py:246: FutureWarning: The default value of n_estimators will change from 10 in version 0.20 to 100 in 0.22.\n",
      "  \"10 in version 0.20 to 100 in 0.22.\", FutureWarning)\n",
      "C:\\Users\\rusha\\Anaconda3\\lib\\site-packages\\sklearn\\ensemble\\forest.py:246: FutureWarning: The default value of n_estimators will change from 10 in version 0.20 to 100 in 0.22.\n",
      "  \"10 in version 0.20 to 100 in 0.22.\", FutureWarning)\n",
      "C:\\Users\\rusha\\Anaconda3\\lib\\site-packages\\sklearn\\ensemble\\forest.py:246: FutureWarning: The default value of n_estimators will change from 10 in version 0.20 to 100 in 0.22.\n",
      "  \"10 in version 0.20 to 100 in 0.22.\", FutureWarning)\n",
      "C:\\Users\\rusha\\Anaconda3\\lib\\site-packages\\sklearn\\ensemble\\forest.py:246: FutureWarning: The default value of n_estimators will change from 10 in version 0.20 to 100 in 0.22.\n",
      "  \"10 in version 0.20 to 100 in 0.22.\", FutureWarning)\n",
      "C:\\Users\\rusha\\Anaconda3\\lib\\site-packages\\sklearn\\ensemble\\forest.py:246: FutureWarning: The default value of n_estimators will change from 10 in version 0.20 to 100 in 0.22.\n",
      "  \"10 in version 0.20 to 100 in 0.22.\", FutureWarning)\n",
      "C:\\Users\\rusha\\Anaconda3\\lib\\site-packages\\sklearn\\ensemble\\forest.py:246: FutureWarning: The default value of n_estimators will change from 10 in version 0.20 to 100 in 0.22.\n",
      "  \"10 in version 0.20 to 100 in 0.22.\", FutureWarning)\n",
      "C:\\Users\\rusha\\Anaconda3\\lib\\site-packages\\sklearn\\ensemble\\forest.py:246: FutureWarning: The default value of n_estimators will change from 10 in version 0.20 to 100 in 0.22.\n",
      "  \"10 in version 0.20 to 100 in 0.22.\", FutureWarning)\n",
      "C:\\Users\\rusha\\Anaconda3\\lib\\site-packages\\sklearn\\ensemble\\forest.py:246: FutureWarning: The default value of n_estimators will change from 10 in version 0.20 to 100 in 0.22.\n",
      "  \"10 in version 0.20 to 100 in 0.22.\", FutureWarning)\n",
      "C:\\Users\\rusha\\Anaconda3\\lib\\site-packages\\sklearn\\ensemble\\forest.py:246: FutureWarning: The default value of n_estimators will change from 10 in version 0.20 to 100 in 0.22.\n",
      "  \"10 in version 0.20 to 100 in 0.22.\", FutureWarning)\n",
      "C:\\Users\\rusha\\Anaconda3\\lib\\site-packages\\sklearn\\ensemble\\forest.py:246: FutureWarning: The default value of n_estimators will change from 10 in version 0.20 to 100 in 0.22.\n",
      "  \"10 in version 0.20 to 100 in 0.22.\", FutureWarning)\n",
      "C:\\Users\\rusha\\Anaconda3\\lib\\site-packages\\sklearn\\ensemble\\forest.py:246: FutureWarning: The default value of n_estimators will change from 10 in version 0.20 to 100 in 0.22.\n",
      "  \"10 in version 0.20 to 100 in 0.22.\", FutureWarning)\n",
      "C:\\Users\\rusha\\Anaconda3\\lib\\site-packages\\sklearn\\ensemble\\forest.py:246: FutureWarning: The default value of n_estimators will change from 10 in version 0.20 to 100 in 0.22.\n",
      "  \"10 in version 0.20 to 100 in 0.22.\", FutureWarning)\n",
      "C:\\Users\\rusha\\Anaconda3\\lib\\site-packages\\sklearn\\ensemble\\forest.py:246: FutureWarning: The default value of n_estimators will change from 10 in version 0.20 to 100 in 0.22.\n",
      "  \"10 in version 0.20 to 100 in 0.22.\", FutureWarning)\n",
      "C:\\Users\\rusha\\Anaconda3\\lib\\site-packages\\sklearn\\ensemble\\forest.py:246: FutureWarning: The default value of n_estimators will change from 10 in version 0.20 to 100 in 0.22.\n",
      "  \"10 in version 0.20 to 100 in 0.22.\", FutureWarning)\n",
      "C:\\Users\\rusha\\Anaconda3\\lib\\site-packages\\sklearn\\ensemble\\forest.py:246: FutureWarning: The default value of n_estimators will change from 10 in version 0.20 to 100 in 0.22.\n",
      "  \"10 in version 0.20 to 100 in 0.22.\", FutureWarning)\n",
      "C:\\Users\\rusha\\Anaconda3\\lib\\site-packages\\sklearn\\ensemble\\forest.py:246: FutureWarning: The default value of n_estimators will change from 10 in version 0.20 to 100 in 0.22.\n",
      "  \"10 in version 0.20 to 100 in 0.22.\", FutureWarning)\n",
      "C:\\Users\\rusha\\Anaconda3\\lib\\site-packages\\sklearn\\ensemble\\forest.py:246: FutureWarning: The default value of n_estimators will change from 10 in version 0.20 to 100 in 0.22.\n",
      "  \"10 in version 0.20 to 100 in 0.22.\", FutureWarning)\n",
      "C:\\Users\\rusha\\Anaconda3\\lib\\site-packages\\sklearn\\ensemble\\forest.py:246: FutureWarning: The default value of n_estimators will change from 10 in version 0.20 to 100 in 0.22.\n",
      "  \"10 in version 0.20 to 100 in 0.22.\", FutureWarning)\n",
      "C:\\Users\\rusha\\Anaconda3\\lib\\site-packages\\sklearn\\ensemble\\forest.py:246: FutureWarning: The default value of n_estimators will change from 10 in version 0.20 to 100 in 0.22.\n",
      "  \"10 in version 0.20 to 100 in 0.22.\", FutureWarning)\n",
      "C:\\Users\\rusha\\Anaconda3\\lib\\site-packages\\sklearn\\ensemble\\forest.py:246: FutureWarning: The default value of n_estimators will change from 10 in version 0.20 to 100 in 0.22.\n",
      "  \"10 in version 0.20 to 100 in 0.22.\", FutureWarning)\n"
     ]
    },
    {
     "name": "stderr",
     "output_type": "stream",
     "text": [
      "C:\\Users\\rusha\\Anaconda3\\lib\\site-packages\\sklearn\\ensemble\\forest.py:246: FutureWarning: The default value of n_estimators will change from 10 in version 0.20 to 100 in 0.22.\n",
      "  \"10 in version 0.20 to 100 in 0.22.\", FutureWarning)\n",
      "C:\\Users\\rusha\\Anaconda3\\lib\\site-packages\\sklearn\\ensemble\\forest.py:246: FutureWarning: The default value of n_estimators will change from 10 in version 0.20 to 100 in 0.22.\n",
      "  \"10 in version 0.20 to 100 in 0.22.\", FutureWarning)\n",
      "C:\\Users\\rusha\\Anaconda3\\lib\\site-packages\\sklearn\\ensemble\\forest.py:246: FutureWarning: The default value of n_estimators will change from 10 in version 0.20 to 100 in 0.22.\n",
      "  \"10 in version 0.20 to 100 in 0.22.\", FutureWarning)\n",
      "C:\\Users\\rusha\\Anaconda3\\lib\\site-packages\\sklearn\\ensemble\\forest.py:246: FutureWarning: The default value of n_estimators will change from 10 in version 0.20 to 100 in 0.22.\n",
      "  \"10 in version 0.20 to 100 in 0.22.\", FutureWarning)\n",
      "C:\\Users\\rusha\\Anaconda3\\lib\\site-packages\\sklearn\\ensemble\\forest.py:246: FutureWarning: The default value of n_estimators will change from 10 in version 0.20 to 100 in 0.22.\n",
      "  \"10 in version 0.20 to 100 in 0.22.\", FutureWarning)\n",
      "C:\\Users\\rusha\\Anaconda3\\lib\\site-packages\\sklearn\\ensemble\\forest.py:246: FutureWarning: The default value of n_estimators will change from 10 in version 0.20 to 100 in 0.22.\n",
      "  \"10 in version 0.20 to 100 in 0.22.\", FutureWarning)\n",
      "C:\\Users\\rusha\\Anaconda3\\lib\\site-packages\\sklearn\\ensemble\\forest.py:246: FutureWarning: The default value of n_estimators will change from 10 in version 0.20 to 100 in 0.22.\n",
      "  \"10 in version 0.20 to 100 in 0.22.\", FutureWarning)\n",
      "C:\\Users\\rusha\\Anaconda3\\lib\\site-packages\\sklearn\\ensemble\\forest.py:246: FutureWarning: The default value of n_estimators will change from 10 in version 0.20 to 100 in 0.22.\n",
      "  \"10 in version 0.20 to 100 in 0.22.\", FutureWarning)\n",
      "C:\\Users\\rusha\\Anaconda3\\lib\\site-packages\\sklearn\\ensemble\\forest.py:246: FutureWarning: The default value of n_estimators will change from 10 in version 0.20 to 100 in 0.22.\n",
      "  \"10 in version 0.20 to 100 in 0.22.\", FutureWarning)\n",
      "C:\\Users\\rusha\\Anaconda3\\lib\\site-packages\\sklearn\\ensemble\\forest.py:246: FutureWarning: The default value of n_estimators will change from 10 in version 0.20 to 100 in 0.22.\n",
      "  \"10 in version 0.20 to 100 in 0.22.\", FutureWarning)\n",
      "C:\\Users\\rusha\\Anaconda3\\lib\\site-packages\\sklearn\\ensemble\\forest.py:246: FutureWarning: The default value of n_estimators will change from 10 in version 0.20 to 100 in 0.22.\n",
      "  \"10 in version 0.20 to 100 in 0.22.\", FutureWarning)\n"
     ]
    }
   ],
   "source": [
    "#Calculating the f1-score and AUC for different values of class weights.\n",
    "class_wts = range(50)\n",
    "f1s = []\n",
    "auc = []\n",
    "for wt in class_wts:\n",
    "    rf7 = RandomForestClassifier(random_state=9, class_weight={0:wt,1:1})\n",
    "    rf7.fit(X_train, y_train)\n",
    "    f1s.append(f1_score(y_test, rf7.predict(X_test)))\n",
    "    auc.append(roc_auc_score(y_test, rf7.predict(X_test)))"
   ]
  },
  {
   "cell_type": "code",
   "execution_count": 27,
   "metadata": {
    "slideshow": {
     "slide_type": "subslide"
    }
   },
   "outputs": [
    {
     "name": "stderr",
     "output_type": "stream",
     "text": [
      "C:\\Users\\rusha\\Anaconda3\\lib\\site-packages\\sklearn\\ensemble\\forest.py:246: FutureWarning: The default value of n_estimators will change from 10 in version 0.20 to 100 in 0.22.\n",
      "  \"10 in version 0.20 to 100 in 0.22.\", FutureWarning)\n"
     ]
    },
    {
     "name": "stdout",
     "output_type": "stream",
     "text": [
      "f1_score 0.674698795180723\n",
      "0.875\n",
      "0.5490196078431373\n",
      "0.7550923281934133\n",
      "[[99  4]\n",
      " [23 28]]\n"
     ]
    }
   ],
   "source": [
    "#Finding the optimal class weight and calculating the precision score, f1-score, roc-auc score for the optimal class weights.\n",
    "max_scorer = f1s.index(np.max(f1s))\n",
    "rf7 = RandomForestClassifier(random_state=9, class_weight={0:max_scorer,1:1})\n",
    "rf7.fit(X_train, y_train)\n",
    "print (\"f1_score\", f1_score(y_test, rf7.predict(X_test)))\n",
    "print (precision_score(y_test, rf7.predict(X_test)))\n",
    "print (recall_score(y_test, rf7.predict(X_test)))\n",
    "print (roc_auc_score(y_test, rf7.predict(X_test)))\n",
    "print (confusion_matrix(y_test, rf7.predict(X_test)))"
   ]
  },
  {
   "cell_type": "code",
   "execution_count": 28,
   "metadata": {
    "slideshow": {
     "slide_type": "subslide"
    }
   },
   "outputs": [
    {
     "data": {
      "image/png": "[encoded data removed]",
      "text/plain": [
       "<Figure size 720x576 with 1 Axes>"
      ]
     },
     "metadata": {},
     "output_type": "display_data"
    }
   ],
   "source": [
    "#PLotting the different f1,roc-auc score associated with different values of class weights.\n",
    "plt.figure(figsize=(10, 8))\n",
    "plt.plot(class_wts, f1s, label=\"F1 scores\")\n",
    "plt.plot(class_wts, auc, label=\"AUC scores\")\n",
    "plt.xlabel(\"class weight\")\n",
    "plt.ylabel(\"scores\")\n",
    "plt.title(\"Effect of Class Wt. in Imbalanced Classes\")\n",
    "plt.ylim(0.45, 0.8)\n",
    "plt.legend()\n",
    "plt.show()"
   ]
  },
  {
   "cell_type": "markdown",
   "metadata": {
    "slideshow": {
     "slide_type": "subslide"
    }
   },
   "source": [
    "## Some Useful tips:\n",
    "***\n",
    "* While carrying out cross-validation, make stratified folds to make sure the presence of minority class in all folds\n",
    "* Instead of predictions, get probabilities from the trained classifier.\n",
    "* Study the AUC-ROC curve and adjust the prediction threshold"
   ]
  },
  {
   "cell_type": "markdown",
   "metadata": {
    "slideshow": {
     "slide_type": "subslide"
    }
   },
   "source": [
    "There are a lot more techniques that can be employed. It might be worth checking out `imblearn's` official documentation."
   ]
  },
  {
   "cell_type": "markdown",
   "metadata": {
    "slideshow": {
     "slide_type": "slide"
    }
   },
   "source": [
    "## Off to other challenges\n",
    "***\n",
    "After concluding the discussion on imbalanced datasets, we start thinking about the situation when there is too little data."
   ]
  },
  {
   "cell_type": "markdown",
   "metadata": {
    "slideshow": {
     "slide_type": "slide"
    }
   },
   "source": [
    "<img src=\"../images/Concept-Alert.png\" alt=\"Concept-Alert\" style=\"width: 100px;float:left; margin-right:15px\"/>\n",
    "<br />\n",
    "\n",
    "## Dealing with Smaller Datasets:\n",
    "***\n",
    "Sometimes, challenge arises not because of too much data, but because of too less data. Such a scenario is known as  **the curse of dimensionality**, which essentially means **number of features >> number of observations**\n",
    "\n",
    "\n",
    "* In case of such small datasets, following are some of the techniques that could come in handy\n",
    "    * Exploit Bootstrapping\n",
    "    * Use Simpler, Regularized Models\n",
    "    * Use Ensemble Techniques\n",
    "    * Use Support Vector Machines"
   ]
  },
  {
   "cell_type": "markdown",
   "metadata": {
    "slideshow": {
     "slide_type": "slide"
    }
   },
   "source": [
    "## Value of K in K-Fold Validation\n",
    "***\n",
    "What is the value of k in k-fold validation that should be used?"
   ]
  },
  {
   "cell_type": "markdown",
   "metadata": {
    "slideshow": {
     "slide_type": "subslide"
    }
   },
   "source": [
    "## Optimum Value of K in K-Fold Validation:\n",
    "***\n",
    "* Refresher: Why do we use cross-validation?\n",
    "* Trade-off:\n",
    "    * Higher K: More samples to train, more cross-validation, results in less bias, high variance but requires more computations\n",
    "    * Lower K: Less samples to train, less cross-validation, results in more bias, low variance but requires less computations"
   ]
  },
  {
   "cell_type": "markdown",
   "metadata": {
    "slideshow": {
     "slide_type": "subslide"
    }
   },
   "source": [
    "## Optimum Value of K in K-Fold Validation:\n",
    "***\n",
    "* According to a research paper, value of k=10 is a good balance between accuracy and training time\n",
    "* Stratified k-fold seems to perform better\n",
    "![](../images/image33.png)"
   ]
  },
  {
   "cell_type": "markdown",
   "metadata": {
    "slideshow": {
     "slide_type": "slide"
    }
   },
   "source": [
    "<img src=\"../images/Concept-Alert.png\" alt=\"Concept-Alert\" style=\"width: 100px;float:left; margin-right:15px\"/>\n",
    "<br />\n",
    "\n",
    "## The Age old Question - Which Algorithm to Use?\n",
    "***\n",
    "Having studied a bunch of algorithms is good, but choosing which one to use is not! Let's understand which algorithms perform better in which scenarios."
   ]
  },
  {
   "cell_type": "markdown",
   "metadata": {
    "slideshow": {
     "slide_type": "slide"
    }
   },
   "source": [
    "## Which Algorithm to Use? - A perspective from a Research Paper\n",
    "***\n",
    "Researchers evaluated **179 classifiers** arising from **17 families**, implemented in Weka, R, C and Matlab.\n",
    "They used **121 datasets**, which represent the whole UCI database and other real problems, in order to achieve significant conclusions about the classifier behavior, not dependent on the data set collection."
   ]
  },
  {
   "cell_type": "markdown",
   "metadata": {
    "slideshow": {
     "slide_type": "subslide"
    }
   },
   "source": [
    "## Which Algorithm to Use? - A perspective from a Research Paper\n",
    "***\n",
    "**Key Findings:**\n",
    "\n",
    "* The classifiers most likely to be the bests are the random forest (RF) versions, the best of which achieves 94.1% of the maximum accuracy overcoming 90% in the 84.3% (102 out of 121) of the data sets.\n",
    "* The SVM with Gaussian kernel (implemented in C using LibSVM) achieves 92.3% of the maximum accuracy."
   ]
  },
  {
   "cell_type": "markdown",
   "metadata": {
    "slideshow": {
     "slide_type": "subslide"
    }
   },
   "source": [
    "## Which Algorithm to Use? - A perspective from a Research Paper\n",
    "***\n",
    "A few models are clearly better than the remaining ones:\n",
    "* Random forest\n",
    "* SVM with Gaussian and polynomial kernels\n",
    "* C5.0 decision tree\n",
    "* avNNet (the multi-layer perceptron)"
   ]
  },
  {
   "cell_type": "markdown",
   "metadata": {
    "slideshow": {
     "slide_type": "subslide"
    }
   },
   "source": [
    "## Which Algorithm to Use? - A perspective from a Research Paper\n",
    "***\n",
    "**Paper Summary**\n",
    "\n",
    "* The random forest was found to be clearly the best family of classifiers (3 out of 5 bests classifiers are RF), followed by SVM (4 classifiers in the top-10), neural networks and boosting ensembles (5 and 3 members in the top-20, respectively)."
   ]
  },
  {
   "cell_type": "markdown",
   "metadata": {
    "slideshow": {
     "slide_type": "slide"
    }
   },
   "source": [
    "## Which Algorithm to Use? - Some practical Tips\n",
    "***\n",
    "So far we have learnt about a bunch of algorithms. We have learnt about 2 families of algorithm\n",
    "    * Linear Models\n",
    "    * Ensemble Models\n",
    "\n",
    "The question is then which algorithm to use and when? Let’s have a look at some quick ideas\n"
   ]
  },
  {
   "cell_type": "markdown",
   "metadata": {
    "slideshow": {
     "slide_type": "subslide"
    }
   },
   "source": [
    "## Which Algorithm to Use? - Some practical Tips\n",
    "***\n",
    "Penalized linear regression methods have the advantage that they train very quickly. That helps us for 2 reasons\n",
    "* Training times on large data sets can extend to hours, days, or even weeks.\n",
    "* Long training times can stall development and deployment on large problems.\n",
    "Training usually needs to be done several times before a deployable solution is arrived at."
   ]
  },
  {
   "cell_type": "markdown",
   "metadata": {
    "slideshow": {
     "slide_type": "subslide"
    }
   },
   "source": [
    "## Which Algorithm to Use? - Some practical Tips\n",
    "***\n",
    "* Hence, rapid training time for penalized linear methods makes them useful for the obvious reason that shorter is better. \n",
    "* However, Depending on the problem, these methods may suffer some performance disadvantages relative to ensemble methods.\n",
    "* Therefore, penalized linear methods can be a useful first step in your development process even in the circumstance where they yield inferior performance to ensemble methods.\n"
   ]
  },
  {
   "cell_type": "markdown",
   "metadata": {
    "slideshow": {
     "slide_type": "subslide"
    }
   },
   "source": [
    "## Which Algorithm to Use? - Some practical Tips\n",
    "***\n",
    "* Besides enjoying a training time advantage, penalized linear methods generate predictions much faster than ensemble methods. \n",
    "* Generating a prediction involves using the trained model. The trained model for penalized linear regression is simply a list of real numbers—one for each feature being used to make the predictions. \n",
    "* The number of floating‐point operations involved is the number of variables being used to make predictions. \n",
    "* For highly time‐sensitive predictions such as high‐speed trading or Internet ad insertions, computation time makes the difference between making money and losing money. \n"
   ]
  },
  {
   "cell_type": "markdown",
   "metadata": {
    "slideshow": {
     "slide_type": "subslide"
    }
   },
   "source": [
    "## Which Algorithm to Use? - Some practical Tips\n",
    "***\n",
    "* On the other hand ensemble methods bring to the table the ability to work with nonlinear data\n",
    "* We can also easily control the complexity of ensemble models by tuning the hyperparameters\n",
    "* Also, ensemble methods come with the ability to tell apart important features from relatively redundant ones. Which is one of the huge advantages of ensemble methdos\n",
    "* Hence, ensemble methods could be used as the final predictors after feature engineering and feature selection has been carried out\n"
   ]
  },
  {
   "cell_type": "markdown",
   "metadata": {
    "slideshow": {
     "slide_type": "subslide"
    }
   },
   "source": [
    "## Which Algorithm to Use? - Some practical Tips\n",
    "***\n",
    "![](../images/image34.png)"
   ]
  },
  {
   "cell_type": "markdown",
   "metadata": {
    "slideshow": {
     "slide_type": "subslide"
    }
   },
   "source": [
    "## Which Algorithm to Use? - Some practical Tips\n",
    "***\n",
    "![](../images/image35.png)"
   ]
  },
  {
   "cell_type": "markdown",
   "metadata": {
    "slideshow": {
     "slide_type": "slide"
    }
   },
   "source": [
    "<img src=\"../images/Recap.png\" alt=\"Recap\" style=\"width: 100px;float:left; margin-right:15px\"/>\n",
    "<br />\n",
    "\n",
    "# In-session Recap Time\n",
    "***\n",
    "* Imbalanced Data\n",
    "* Resampling Techniques\n",
    "* Undersampling & Oversampling\n",
    "* Algorithmic Approach\n",
    "* Dealing with smaller data sets\n",
    "* Which Algorithm to use"
   ]
  },
  {
   "cell_type": "code",
   "execution_count": 29,
   "metadata": {},
   "outputs": [],
   "source": [
    "#Loading the diabetes data for mini-challenge and splitting it into train & test.\n",
    "df = pd.read_csv('../data/diabetes.csv')\n",
    "X = df.drop('diabetes',axis=1)\n",
    "y = df['diabetes']\n",
    "X_train,X_test,y_train,y_test = train_test_split(X,y)"
   ]
  },
  {
   "cell_type": "markdown",
   "metadata": {},
   "source": [
    "<img src=\"../images/icon/ppt-icons.png\" alt=\"Concept-Alert\" style=\"width: 100px;float:left; margin-right:15px\"/>\n",
    "<br /> \n",
    "\n",
    "##  Mini-Challenge - 1\n",
    "Check for class imbalance using a count plot."
   ]
  },
  {
   "cell_type": "code",
   "execution_count": null,
   "metadata": {},
   "outputs": [],
   "source": []
  },
  {
   "cell_type": "markdown",
   "metadata": {},
   "source": [
    "<img src=\"../images/icon/ppt-icons.png\" alt=\"Concept-Alert\" style=\"width: 100px;float:left; margin-right:15px\"/>\n",
    "<br /> \n",
    "\n",
    "##  Mini-Challenge - 2\n",
    "Fit a Random Forest Classifier on the imbalanced data. Find out the f1-score, precision score, recall score, roc-auc score, confusion matrix."
   ]
  },
  {
   "cell_type": "code",
   "execution_count": null,
   "metadata": {},
   "outputs": [],
   "source": []
  },
  {
   "cell_type": "markdown",
   "metadata": {},
   "source": [
    "<img src=\"../images/icon/ppt-icons.png\" alt=\"Concept-Alert\" style=\"width: 100px;float:left; margin-right:15px\"/>\n",
    "<br /> \n",
    "\n",
    "##  Mini-Challenge - 3\n",
    "Oversample the minority classes using SMOTE."
   ]
  },
  {
   "cell_type": "code",
   "execution_count": null,
   "metadata": {},
   "outputs": [],
   "source": []
  },
  {
   "cell_type": "markdown",
   "metadata": {},
   "source": [
    "<img src=\"../images/icon/ppt-icons.png\" alt=\"Concept-Alert\" style=\"width: 100px;float:left; margin-right:15px\"/>\n",
    "<br /> \n",
    "\n",
    "##  Mini-Challenge - 4\n",
    "Fit a Random Forest Classifier on the balanced data. Find out the f1-score, precision score, recall score, roc-auc score, confusion matrix.\n",
    "Notice the increase in the f1-scores."
   ]
  },
  {
   "cell_type": "code",
   "execution_count": null,
   "metadata": {},
   "outputs": [],
   "source": []
  },
  {
   "cell_type": "markdown",
   "metadata": {},
   "source": [
    "# Thank You\n",
    "***\n",
    "### Next Session: \n",
    "For more queries - Reach out to academics@greyatom.com "
   ]
  },
  {
   "cell_type": "code",
   "execution_count": null,
   "metadata": {},
   "outputs": [],
   "source": []
  }
 ],
 "metadata": {
  "anaconda-cloud": {},
  "celltoolbar": "Slideshow",
  "kernelspec": {
   "display_name": "Python 3",
   "language": "python",
   "name": "python3"
  },
  "language_info": {
   "codemirror_mode": {
    "name": "ipython",
    "version": 3
   },
   "file_extension": ".py",
   "mimetype": "text/x-python",
   "name": "python",
   "nbconvert_exporter": "python",
   "pygments_lexer": "ipython3",
   "version": "3.6.5"
  },
  "widgets": {
   "state": {},
   "version": "1.1.2"
  }
 },
 "nbformat": 4,
 "nbformat_minor": 1
}
