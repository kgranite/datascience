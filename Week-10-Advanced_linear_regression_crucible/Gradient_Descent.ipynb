{
 "cells": [
  {
   "cell_type": "code",
   "execution_count": 1,
   "metadata": {},
   "outputs": [],
   "source": [
    "import numpy as np\n",
    "import pandas as pd\n",
    "import matplotlib.pyplot as plt"
   ]
  },
  {
   "cell_type": "code",
   "execution_count": 2,
   "metadata": {},
   "outputs": [],
   "source": [
    "def predict_func(slope,intercept,x_test):\n",
    "    #\n",
    "    #pred = []\n",
    "    #n_data = x_test.shape[0]\n",
    "    #x_test.values.tolist()\n",
    "    #for i in range(n_data):\n",
    "    #    pred.append(((slope * x_test[i]) + intercept).tolist)\n",
    "    #temp = np.dot(slope, x_test.T)\n",
    "    pred = ((np.dot(x_test, slope)) + intercept)\n",
    "        \n",
    "    return pred"
   ]
  },
  {
   "cell_type": "code",
   "execution_count": 3,
   "metadata": {},
   "outputs": [],
   "source": [
    "def mse_calc(prediction, y_test):\n",
    "    #\n",
    "    #total_data = len(prediction)\n",
    "    #error = 0\n",
    "    error = np.mean((prediction - y_test)**2)\n",
    "    return error"
   ]
  },
  {
   "cell_type": "code",
   "execution_count": 4,
   "metadata": {},
   "outputs": [],
   "source": [
    "#gradient descent \n",
    "def grad_descent(s_theta, l_rate, tolerance, iter_val, x_train, y_train):\n",
    "    \n",
    "    n_data = len(x_train)\n",
    "    bias = np.ones((n_data,1))\n",
    "    s_intercept = s_theta[0]\n",
    "    s_slope = s_theta[1:]\n",
    "    prediction = predict_func(s_slope, s_intercept, x_train)\n",
    "    error =  mse_calc(prediction, y_train)\n",
    "    x_train_b = np.append(bias, x_train, axis = 1) \n",
    "    \n",
    "    for i in range(iter_val):\n",
    "        int_theta = [0 for i in range(len(x_train[0]) + 1)]\n",
    "        #int_intercept = 0\n",
    "        n_pt = float(len(x_train))\n",
    "        \n",
    "        prediction = predict_func(s_slope, s_intercept, x_train)\n",
    "        #prev_error = error\n",
    "        #for i in range(len(x_train)):\n",
    "        \n",
    "        #int_intercept = 2 / n_pt * np.dot(bias.T, (prediction - y_train))\n",
    "        #int_slope = 2 / n_pt * np.dot(x_train.T, (prediction - y_train))\n",
    "        \n",
    "        int_theta = 2 / n_pt * np.dot(x_train_b.T, (prediction - y_train))\n",
    "            \n",
    "        #final_slope = s_slope - (l_rate * int_slope)\n",
    "        #final_intercept = s_intercept - (l_rate * int_intercept)\n",
    "        #s_slope = final_slope\n",
    "        #s_intercept = final_intercept\n",
    "        \n",
    "        s_theta -=  l_rate * int_theta\n",
    "        \n",
    "        #prediction = predict_func(s_slope, s_intercept, x_train)\n",
    "        #error = mse_calc(prediction, y_train)\n",
    "        \n",
    "        #if ((prev_error - error) / prev_error) <= tolerance:\n",
    "        #    break\n",
    "        \n",
    "    s_intercept = s_theta[0]\n",
    "    s_slope = s_theta[1:]\n",
    "    prediction = predict_func(s_slope, s_intercept, x_train)\n",
    "    final_error = mse_calc(prediction, y_train)\n",
    "        \n",
    "    return  s_theta, final_error"
   ]
  },
  {
   "cell_type": "code",
   "execution_count": 5,
   "metadata": {},
   "outputs": [],
   "source": [
    "X = 2 * np.random.rand(100,1)\n",
    "y = 4 +3 * X+np.random.randn(100,1)\n",
    "#X"
   ]
  },
  {
   "cell_type": "code",
   "execution_count": 6,
   "metadata": {},
   "outputs": [],
   "source": [
    "theta = np.zeros((len(X[0]) + 1, 1))\n",
    "tolerance = 0.0001\n",
    "l_rate = 0.01\n",
    "iterations = 5000"
   ]
  },
  {
   "cell_type": "code",
   "execution_count": 7,
   "metadata": {},
   "outputs": [
    {
     "data": {
      "text/plain": [
       "array([[0.],\n",
       "       [0.]])"
      ]
     },
     "execution_count": 7,
     "metadata": {},
     "output_type": "execute_result"
    }
   ],
   "source": [
    "theta"
   ]
  },
  {
   "cell_type": "code",
   "execution_count": 8,
   "metadata": {},
   "outputs": [
    {
     "data": {
      "text/plain": [
       "(array([[4.34150855],\n",
       "        [2.79426428]]), 0.8919455707231276)"
      ]
     },
     "execution_count": 8,
     "metadata": {},
     "output_type": "execute_result"
    }
   ],
   "source": [
    "grad_theta, grad_error = grad_descent(theta, l_rate, tolerance, iterations, X, y)\n",
    "grad_theta, grad_error"
   ]
  },
  {
   "cell_type": "code",
   "execution_count": 9,
   "metadata": {},
   "outputs": [],
   "source": [
    "n_data = len(X)\n",
    "bias = np.ones((n_data,1))\n",
    "\n",
    "x_train_b = np.append(bias, X, axis = 1)\n",
    "#x_train_b"
   ]
  },
  {
   "cell_type": "code",
   "execution_count": 10,
   "metadata": {},
   "outputs": [
    {
     "data": {
      "text/plain": [
       "array([[-0.82329931,  0.34106755,  0.54567317,  0.25187904,  0.22732885,\n",
       "        -0.62903548,  2.02030147,  0.64707023,  0.1650837 , -0.10274553,\n",
       "         0.3396132 ,  1.14240643,  1.32389095,  0.29527514,  1.79792895,\n",
       "         0.09259919,  0.31470144,  0.35626605, -0.15452033, -0.51496652,\n",
       "         0.46109327,  0.47171778, -0.64275828,  0.80322562, -0.79512756,\n",
       "        -1.58962694,  0.79180473, -0.63930693,  1.3601015 , -0.02546762,\n",
       "         0.41011607,  1.08923101,  2.19964684, -1.17249519, -0.75623183,\n",
       "         0.062467  ,  0.94562835, -0.14922936,  1.17108711, -0.7112326 ,\n",
       "         0.31733955, -1.14230264,  0.58676363,  0.89073518, -0.58668904,\n",
       "        -0.38631142, -0.74117568, -0.80488802, -1.61717178, -1.61522345,\n",
       "         1.50905098,  1.7289428 , -0.7483806 , -0.82816183, -1.01096325,\n",
       "        -0.31226569, -0.33625871, -1.2499783 , -0.67922158,  1.23694614,\n",
       "         0.26695252,  0.36769701,  0.38777116, -0.2523876 ,  0.6208753 ,\n",
       "        -0.34033515, -0.87925623, -0.86276459,  0.70887439, -1.70712647,\n",
       "        -1.91784712, -0.45124779, -0.17723616,  1.79081638, -0.5364883 ,\n",
       "        -0.92408805, -0.96598626,  1.08613425,  0.33270809,  0.09205355,\n",
       "         0.49472315,  1.02872101, -0.80796619, -0.02702295,  1.73961632,\n",
       "        -0.18948296, -0.65345894,  0.72051663,  0.04505886,  0.89245054,\n",
       "         0.90543537, -0.11400495, -0.7129642 , -1.10488015,  0.04102465,\n",
       "        -0.82031113,  0.26922332, -0.61894128, -3.14875461,  0.28994758]])"
      ]
     },
     "execution_count": 10,
     "metadata": {},
     "output_type": "execute_result"
    }
   ],
   "source": [
    "prediction = predict_func(theta[1:], theta[0], X)\n",
    "#prediction\n",
    "(prediction - y).T\n"
   ]
  },
  {
   "cell_type": "code",
   "execution_count": 11,
   "metadata": {},
   "outputs": [
    {
     "data": {
      "text/plain": [
       "array([[4.34150855],\n",
       "       [2.79426428]])"
      ]
     },
     "execution_count": 11,
     "metadata": {},
     "output_type": "execute_result"
    }
   ],
   "source": [
    "int_theta = 1 / (2*n_data) * np.dot(x_train_b.T, (prediction - y))\n",
    "int_theta * l_rate\n",
    "theta - int_theta * l_rate"
   ]
  },
  {
   "cell_type": "code",
   "execution_count": null,
   "metadata": {},
   "outputs": [],
   "source": []
  },
  {
   "cell_type": "code",
   "execution_count": null,
   "metadata": {},
   "outputs": [],
   "source": []
  }
 ],
 "metadata": {
  "kernelspec": {
   "display_name": "Python 3",
   "language": "python",
   "name": "python3"
  },
  "language_info": {
   "codemirror_mode": {
    "name": "ipython",
    "version": 3
   },
   "file_extension": ".py",
   "mimetype": "text/x-python",
   "name": "python",
   "nbconvert_exporter": "python",
   "pygments_lexer": "ipython3",
   "version": "3.6.5"
  }
 },
 "nbformat": 4,
 "nbformat_minor": 2
}
