{
 "cells": [
  {
   "cell_type": "markdown",
   "metadata": {
    "colab_type": "text",
    "id": "MhS6VfkDX-V-"
   },
   "source": [
    "# Sales Forecasting for Rossmann Stores"
   ]
  },
  {
   "cell_type": "code",
   "execution_count": 134,
   "metadata": {
    "colab": {},
    "colab_type": "code",
    "id": "RIQAAYGnYW1q"
   },
   "outputs": [],
   "source": [
    "!cp sales-prediction/data/rossmann.tgz ."
   ]
  },
  {
   "cell_type": "markdown",
   "metadata": {
    "colab_type": "text",
    "id": "e3hd_I1fFysZ"
   },
   "source": [
    "### Extract the rossman data"
   ]
  },
  {
   "cell_type": "code",
   "execution_count": 235,
   "metadata": {
    "colab": {},
    "colab_type": "code",
    "id": "KAzGYxnud46s"
   },
   "outputs": [],
   "source": [
    "!tar -xzf rossmann.tgz -C ~/data/rossmann/"
   ]
  },
  {
   "cell_type": "code",
   "execution_count": 236,
   "metadata": {
    "colab": {
     "base_uri": "https://localhost:8080/",
     "height": 51
    },
    "colab_type": "code",
    "executionInfo": {
     "elapsed": 6007,
     "status": "ok",
     "timestamp": 1540639698356,
     "user": {
      "displayName": "Ankur Bohra",
      "photoUrl": "",
      "userId": "15541534273238543658"
     },
     "user_tz": -330
    },
    "id": "oDf_ky7Heze2",
    "outputId": "87697dc8-285b-48f0-dfc7-ce3047083818"
   },
   "outputs": [
    {
     "name": "stdout",
     "output_type": "stream",
     "text": [
      "googletrend.csv        state_names.csv\tstore_states.csv  train.csv\r\n",
      "sample_submission.csv  store.csv\ttest.csv\t  weather.csv\r\n"
     ]
    }
   ],
   "source": [
    "!ls ~/data/rossmann"
   ]
  },
  {
   "cell_type": "markdown",
   "metadata": {
    "colab_type": "text",
    "id": "lTj6mHOvOO20"
   },
   "source": [
    "## Software Setup"
   ]
  },
  {
   "cell_type": "code",
   "execution_count": 232,
   "metadata": {
    "colab": {
     "base_uri": "https://localhost:8080/",
     "height": 122
    },
    "colab_type": "code",
    "executionInfo": {
     "elapsed": 4040,
     "status": "ok",
     "timestamp": 1540640270194,
     "user": {
      "displayName": "Ankur Bohra",
      "photoUrl": "",
      "userId": "15541534273238543658"
     },
     "user_tz": -330
    },
    "id": "gZjZnQZSlkBO",
    "outputId": "9cb5b45a-15e5-4db6-bf9e-a529a85cc031"
   },
   "outputs": [
    {
     "name": "stdout",
     "output_type": "stream",
     "text": [
      "^C\r\n",
      "Traceback (most recent call last):\r\n",
      "  File \"/home/pranav/anaconda3/bin/pip\", line 7, in <module>\r\n",
      "    from pip._internal import main\r\n",
      "  File \"/home/pranav/anaconda3/lib/python3.6/site-packages/pip/_internal/__init__.py\", line 42, in <module>\r\n",
      "    from pip._internal import cmdoptions\r\n",
      "  File \"/home/pranav/anaconda3/lib/python3.6/site-packages/pip/_internal/cmdoptions.py\", line 16, in <module>\r\n",
      "    from pip._internal.index import (\r\n",
      "  File \"/home/pranav/anaconda3/lib/python3.6/site-packages/pip/_internal/index.py\", line 15, in <module>\r\n",
      "    from pip._vendor import html5lib, requests, six\r\n",
      "  File \"/home/pranav/anaconda3/lib/python3.6/site-packages/pip/_vendor/requests/__init__.py\", line 86, in <module>\r\n",
      "    from pip._vendor.urllib3.contrib import pyopenssl\r\n",
      "  File \"/home/pranav/anaconda3/lib/python3.6/site-packages/pip/_vendor/urllib3/contrib/pyopenssl.py\", line 46, in <module>\r\n",
      "    import OpenSSL.SSL\r\n",
      "  File \"/home/pranav/anaconda3/lib/python3.6/site-packages/OpenSSL/__init__.py\", line 8, in <module>\r\n",
      "    from OpenSSL import crypto, SSL\r\n",
      "  File \"/home/pranav/anaconda3/lib/python3.6/site-packages/OpenSSL/crypto.py\", line 12, in <module>\r\n",
      "    from cryptography import x509\r\n",
      "  File \"/home/pranav/anaconda3/lib/python3.6/site-packages/cryptography/x509/__init__.py\", line 8, in <module>\r\n",
      "    from cryptography.x509.base import (\r\n",
      "  File \"/home/pranav/anaconda3/lib/python3.6/site-packages/cryptography/x509/base.py\", line 16, in <module>\r\n",
      "    from cryptography.x509.extensions import Extension, ExtensionType\r\n",
      "  File \"/home/pranav/anaconda3/lib/python3.6/site-packages/cryptography/x509/extensions.py\", line 18, in <module>\r\n",
      "    from cryptography.hazmat.primitives import constant_time, serialization\r\n",
      "  File \"<frozen importlib._bootstrap>\", line 971, in _find_and_load\r\n",
      "  File \"<frozen importlib._bootstrap>\", line 955, in _find_and_load_unlocked\r\n",
      "  File \"<frozen importlib._bootstrap>\", line 665, in _load_unlocked\r\n",
      "  File \"<frozen importlib._bootstrap_external>\", line 674, in exec_module\r\n",
      "  File \"<frozen importlib._bootstrap_external>\", line 764, in get_code\r\n",
      "  File \"<frozen importlib._bootstrap_external>\", line 833, in get_data\r\n",
      "KeyboardInterrupt\r\n"
     ]
    }
   ],
   "source": [
    "# Note you need to restart your colab notebook after installing, otherwise it will use the default 0.22 version of pandas only.\n",
    "!pip install --upgrade pandas"
   ]
  },
  {
   "cell_type": "code",
   "execution_count": 237,
   "metadata": {
    "colab": {
     "base_uri": "https://localhost:8080/",
     "height": 139
    },
    "colab_type": "code",
    "executionInfo": {
     "elapsed": 567,
     "status": "ok",
     "timestamp": 1540641013823,
     "user": {
      "displayName": "Ankur Bohra",
      "photoUrl": "",
      "userId": "15541534273238543658"
     },
     "user_tz": -330
    },
    "id": "dogzjb7ZmfY1",
    "outputId": "a7d6692f-3330-4101-d751-dac134e8e6fe"
   },
   "outputs": [
    {
     "name": "stdout",
     "output_type": "stream",
     "text": [
      "Requirement already satisfied: pandas_summary in /home/pranav/anaconda3/lib/python3.6/site-packages (0.0.6)\n",
      "Requirement already satisfied: numpy in /home/pranav/anaconda3/lib/python3.6/site-packages (from pandas_summary) (1.14.3)\n",
      "Requirement already satisfied: pandas in /home/pranav/anaconda3/lib/python3.6/site-packages (from pandas_summary) (0.23.0)\n",
      "Requirement already satisfied: python-dateutil>=2.5.0 in /home/pranav/anaconda3/lib/python3.6/site-packages (from pandas->pandas_summary) (2.7.3)\n",
      "Requirement already satisfied: pytz>=2011k in /home/pranav/anaconda3/lib/python3.6/site-packages (from pandas->pandas_summary) (2018.4)\n",
      "Requirement already satisfied: six>=1.5 in /home/pranav/anaconda3/lib/python3.6/site-packages (from python-dateutil>=2.5.0->pandas->pandas_summary) (1.11.0)\n",
      "\u001b[31mdistributed 1.21.8 requires msgpack, which is not installed.\u001b[0m\n",
      "\u001b[33mYou are using pip version 10.0.1, however version 19.0.2 is available.\n",
      "You should consider upgrading via the 'pip install --upgrade pip' command.\u001b[0m\n"
     ]
    }
   ],
   "source": [
    "!pip install pandas_summary"
   ]
  },
  {
   "cell_type": "code",
   "execution_count": 238,
   "metadata": {
    "colab": {},
    "colab_type": "code",
    "id": "2N4TTxE3e0s8"
   },
   "outputs": [],
   "source": [
    "DATA_PATH='~/data/rossmann/'"
   ]
  },
  {
   "cell_type": "markdown",
   "metadata": {
    "colab_type": "text",
    "id": "Vr6Hl8OnOH7R"
   },
   "source": [
    "## Imports"
   ]
  },
  {
   "cell_type": "code",
   "execution_count": 239,
   "metadata": {
    "colab": {},
    "colab_type": "code",
    "id": "38HltLwGOhWk"
   },
   "outputs": [],
   "source": [
    "import numpy as np\n",
    "\n",
    "import pandas as pd\n",
    "\n",
    "pd.__version__\n",
    "\n",
    "from pandas_summary import DataFrameSummary\n",
    "\n",
    "import re\n",
    "\n",
    "from sklearn.linear_model import LinearRegression\n",
    "\n",
    "from sklearn.ensemble import RandomForestRegressor\n",
    "\n",
    "from sklearn.preprocessing import LabelEncoder\n",
    "\n",
    "from sklearn.model_selection import train_test_split\n",
    "\n",
    "from sklearn.metrics import mean_squared_error\n",
    "\n",
    "from IPython.display import HTML, display"
   ]
  },
  {
   "cell_type": "markdown",
   "metadata": {
    "colab_type": "text",
    "id": "kMjSzImOftvO"
   },
   "source": [
    "## Loading Data Into Data Frames"
   ]
  },
  {
   "cell_type": "code",
   "execution_count": 240,
   "metadata": {
    "colab": {
     "base_uri": "https://localhost:8080/",
     "height": 51
    },
    "colab_type": "code",
    "executionInfo": {
     "elapsed": 3126,
     "status": "ok",
     "timestamp": 1540640402423,
     "user": {
      "displayName": "Ankur Bohra",
      "photoUrl": "",
      "userId": "15541534273238543658"
     },
     "user_tz": -330
    },
    "id": "Akss5WelfwxD",
    "outputId": "50cbd5c9-89a6-4811-b039-76ead563c0b1"
   },
   "outputs": [
    {
     "name": "stdout",
     "output_type": "stream",
     "text": [
      "googletrend.csv        state_names.csv\tstore_states.csv  train.csv\r\n",
      "sample_submission.csv  store.csv\ttest.csv\t  weather.csv\r\n"
     ]
    }
   ],
   "source": [
    "!ls $DATA_PATH"
   ]
  },
  {
   "cell_type": "code",
   "execution_count": 241,
   "metadata": {
    "colab": {},
    "colab_type": "code",
    "id": "ZPt7Umnzfztc"
   },
   "outputs": [],
   "source": [
    "file_names = ['train.csv', 'store.csv', 'test.csv']"
   ]
  },
  {
   "cell_type": "code",
   "execution_count": 242,
   "metadata": {
    "colab": {
     "base_uri": "https://localhost:8080/",
     "height": 71
    },
    "colab_type": "code",
    "executionInfo": {
     "elapsed": 1761,
     "status": "ok",
     "timestamp": 1540640409319,
     "user": {
      "displayName": "Ankur Bohra",
      "photoUrl": "",
      "userId": "15541534273238543658"
     },
     "user_tz": -330
    },
    "id": "ikg5bYVJf-0z",
    "outputId": "0cf22724-8b81-4474-c926-786ac6095ee8"
   },
   "outputs": [
    {
     "name": "stderr",
     "output_type": "stream",
     "text": [
      "/home/pranav/anaconda3/lib/python3.6/site-packages/IPython/core/interactiveshell.py:2903: DtypeWarning: Columns (7) have mixed types. Specify dtype option on import or set low_memory=False.\n",
      "  if self.run_code(code, result):\n"
     ]
    }
   ],
   "source": [
    "tables_df = [pd.read_csv(f'{DATA_PATH}{file_name}') for file_name in file_names]"
   ]
  },
  {
   "cell_type": "markdown",
   "metadata": {
    "colab_type": "text",
    "id": "b0rjyfFrg1F9"
   },
   "source": [
    "## Check the schema and describe the dataframe "
   ]
  },
  {
   "cell_type": "code",
   "execution_count": 243,
   "metadata": {
    "colab": {},
    "colab_type": "code",
    "id": "-p_GuxjTiNfd"
   },
   "outputs": [],
   "source": [
    "train_df, store_df, test_df = tables_df"
   ]
  },
  {
   "cell_type": "markdown",
   "metadata": {
    "colab_type": "text",
    "id": "LlFBvy1tibbG"
   },
   "source": [
    "### Train DataFrame"
   ]
  },
  {
   "cell_type": "code",
   "execution_count": 244,
   "metadata": {
    "colab": {
     "base_uri": "https://localhost:8080/",
     "height": 204
    },
    "colab_type": "code",
    "executionInfo": {
     "elapsed": 1809,
     "status": "ok",
     "timestamp": 1540640414764,
     "user": {
      "displayName": "Ankur Bohra",
      "photoUrl": "",
      "userId": "15541534273238543658"
     },
     "user_tz": -330
    },
    "id": "YMwiikvhiq48",
    "outputId": "261ce03a-2696-4979-ecf7-0ec8805ec10e"
   },
   "outputs": [
    {
     "data": {
      "text/html": [
       "<div>\n",
       "<style scoped>\n",
       "    .dataframe tbody tr th:only-of-type {\n",
       "        vertical-align: middle;\n",
       "    }\n",
       "\n",
       "    .dataframe tbody tr th {\n",
       "        vertical-align: top;\n",
       "    }\n",
       "\n",
       "    .dataframe thead th {\n",
       "        text-align: right;\n",
       "    }\n",
       "</style>\n",
       "<table border=\"1\" class=\"dataframe\">\n",
       "  <thead>\n",
       "    <tr style=\"text-align: right;\">\n",
       "      <th></th>\n",
       "      <th>Store</th>\n",
       "      <th>DayOfWeek</th>\n",
       "      <th>Date</th>\n",
       "      <th>Sales</th>\n",
       "      <th>Customers</th>\n",
       "      <th>Open</th>\n",
       "      <th>Promo</th>\n",
       "      <th>StateHoliday</th>\n",
       "      <th>SchoolHoliday</th>\n",
       "    </tr>\n",
       "  </thead>\n",
       "  <tbody>\n",
       "    <tr>\n",
       "      <th>0</th>\n",
       "      <td>1</td>\n",
       "      <td>5</td>\n",
       "      <td>2015-07-31</td>\n",
       "      <td>5263</td>\n",
       "      <td>555</td>\n",
       "      <td>1</td>\n",
       "      <td>1</td>\n",
       "      <td>0</td>\n",
       "      <td>1</td>\n",
       "    </tr>\n",
       "    <tr>\n",
       "      <th>1</th>\n",
       "      <td>2</td>\n",
       "      <td>5</td>\n",
       "      <td>2015-07-31</td>\n",
       "      <td>6064</td>\n",
       "      <td>625</td>\n",
       "      <td>1</td>\n",
       "      <td>1</td>\n",
       "      <td>0</td>\n",
       "      <td>1</td>\n",
       "    </tr>\n",
       "    <tr>\n",
       "      <th>2</th>\n",
       "      <td>3</td>\n",
       "      <td>5</td>\n",
       "      <td>2015-07-31</td>\n",
       "      <td>8314</td>\n",
       "      <td>821</td>\n",
       "      <td>1</td>\n",
       "      <td>1</td>\n",
       "      <td>0</td>\n",
       "      <td>1</td>\n",
       "    </tr>\n",
       "    <tr>\n",
       "      <th>3</th>\n",
       "      <td>4</td>\n",
       "      <td>5</td>\n",
       "      <td>2015-07-31</td>\n",
       "      <td>13995</td>\n",
       "      <td>1498</td>\n",
       "      <td>1</td>\n",
       "      <td>1</td>\n",
       "      <td>0</td>\n",
       "      <td>1</td>\n",
       "    </tr>\n",
       "    <tr>\n",
       "      <th>4</th>\n",
       "      <td>5</td>\n",
       "      <td>5</td>\n",
       "      <td>2015-07-31</td>\n",
       "      <td>4822</td>\n",
       "      <td>559</td>\n",
       "      <td>1</td>\n",
       "      <td>1</td>\n",
       "      <td>0</td>\n",
       "      <td>1</td>\n",
       "    </tr>\n",
       "  </tbody>\n",
       "</table>\n",
       "</div>"
      ],
      "text/plain": [
       "   Store  DayOfWeek        Date  Sales  Customers  Open  Promo StateHoliday  \\\n",
       "0      1          5  2015-07-31   5263        555     1      1            0   \n",
       "1      2          5  2015-07-31   6064        625     1      1            0   \n",
       "2      3          5  2015-07-31   8314        821     1      1            0   \n",
       "3      4          5  2015-07-31  13995       1498     1      1            0   \n",
       "4      5          5  2015-07-31   4822        559     1      1            0   \n",
       "\n",
       "   SchoolHoliday  \n",
       "0              1  \n",
       "1              1  \n",
       "2              1  \n",
       "3              1  \n",
       "4              1  "
      ]
     },
     "execution_count": 244,
     "metadata": {},
     "output_type": "execute_result"
    }
   ],
   "source": [
    "train_df.head()"
   ]
  },
  {
   "cell_type": "code",
   "execution_count": 245,
   "metadata": {
    "colab": {
     "base_uri": "https://localhost:8080/",
     "height": 452
    },
    "colab_type": "code",
    "executionInfo": {
     "elapsed": 3078,
     "status": "ok",
     "timestamp": 1540640421209,
     "user": {
      "displayName": "Ankur Bohra",
      "photoUrl": "",
      "userId": "15541534273238543658"
     },
     "user_tz": -330
    },
    "id": "hWd5MlJSixHG",
    "outputId": "febcb5c7-dd69-44d8-c71b-3d1922d59d9f"
   },
   "outputs": [
    {
     "data": {
      "text/html": [
       "<div>\n",
       "<style scoped>\n",
       "    .dataframe tbody tr th:only-of-type {\n",
       "        vertical-align: middle;\n",
       "    }\n",
       "\n",
       "    .dataframe tbody tr th {\n",
       "        vertical-align: top;\n",
       "    }\n",
       "\n",
       "    .dataframe thead th {\n",
       "        text-align: right;\n",
       "    }\n",
       "</style>\n",
       "<table border=\"1\" class=\"dataframe\">\n",
       "  <thead>\n",
       "    <tr style=\"text-align: right;\">\n",
       "      <th></th>\n",
       "      <th>Store</th>\n",
       "      <th>DayOfWeek</th>\n",
       "      <th>Date</th>\n",
       "      <th>Sales</th>\n",
       "      <th>Customers</th>\n",
       "      <th>Open</th>\n",
       "      <th>Promo</th>\n",
       "      <th>StateHoliday</th>\n",
       "      <th>SchoolHoliday</th>\n",
       "    </tr>\n",
       "  </thead>\n",
       "  <tbody>\n",
       "    <tr>\n",
       "      <th>count</th>\n",
       "      <td>1.01721e+06</td>\n",
       "      <td>1.01721e+06</td>\n",
       "      <td>NaN</td>\n",
       "      <td>1.01721e+06</td>\n",
       "      <td>1.01721e+06</td>\n",
       "      <td>1.01721e+06</td>\n",
       "      <td>1.01721e+06</td>\n",
       "      <td>NaN</td>\n",
       "      <td>1.01721e+06</td>\n",
       "    </tr>\n",
       "    <tr>\n",
       "      <th>mean</th>\n",
       "      <td>558.43</td>\n",
       "      <td>3.99834</td>\n",
       "      <td>NaN</td>\n",
       "      <td>5773.82</td>\n",
       "      <td>633.146</td>\n",
       "      <td>0.830107</td>\n",
       "      <td>0.381515</td>\n",
       "      <td>NaN</td>\n",
       "      <td>0.178647</td>\n",
       "    </tr>\n",
       "    <tr>\n",
       "      <th>std</th>\n",
       "      <td>321.909</td>\n",
       "      <td>1.99739</td>\n",
       "      <td>NaN</td>\n",
       "      <td>3849.93</td>\n",
       "      <td>464.412</td>\n",
       "      <td>0.375539</td>\n",
       "      <td>0.485759</td>\n",
       "      <td>NaN</td>\n",
       "      <td>0.383056</td>\n",
       "    </tr>\n",
       "    <tr>\n",
       "      <th>min</th>\n",
       "      <td>1</td>\n",
       "      <td>1</td>\n",
       "      <td>NaN</td>\n",
       "      <td>0</td>\n",
       "      <td>0</td>\n",
       "      <td>0</td>\n",
       "      <td>0</td>\n",
       "      <td>NaN</td>\n",
       "      <td>0</td>\n",
       "    </tr>\n",
       "    <tr>\n",
       "      <th>25%</th>\n",
       "      <td>280</td>\n",
       "      <td>2</td>\n",
       "      <td>NaN</td>\n",
       "      <td>3727</td>\n",
       "      <td>405</td>\n",
       "      <td>1</td>\n",
       "      <td>0</td>\n",
       "      <td>NaN</td>\n",
       "      <td>0</td>\n",
       "    </tr>\n",
       "    <tr>\n",
       "      <th>50%</th>\n",
       "      <td>558</td>\n",
       "      <td>4</td>\n",
       "      <td>NaN</td>\n",
       "      <td>5744</td>\n",
       "      <td>609</td>\n",
       "      <td>1</td>\n",
       "      <td>0</td>\n",
       "      <td>NaN</td>\n",
       "      <td>0</td>\n",
       "    </tr>\n",
       "    <tr>\n",
       "      <th>75%</th>\n",
       "      <td>838</td>\n",
       "      <td>6</td>\n",
       "      <td>NaN</td>\n",
       "      <td>7856</td>\n",
       "      <td>837</td>\n",
       "      <td>1</td>\n",
       "      <td>1</td>\n",
       "      <td>NaN</td>\n",
       "      <td>0</td>\n",
       "    </tr>\n",
       "    <tr>\n",
       "      <th>max</th>\n",
       "      <td>1115</td>\n",
       "      <td>7</td>\n",
       "      <td>NaN</td>\n",
       "      <td>41551</td>\n",
       "      <td>7388</td>\n",
       "      <td>1</td>\n",
       "      <td>1</td>\n",
       "      <td>NaN</td>\n",
       "      <td>1</td>\n",
       "    </tr>\n",
       "    <tr>\n",
       "      <th>counts</th>\n",
       "      <td>1017209</td>\n",
       "      <td>1017209</td>\n",
       "      <td>1017209</td>\n",
       "      <td>1017209</td>\n",
       "      <td>1017209</td>\n",
       "      <td>1017209</td>\n",
       "      <td>1017209</td>\n",
       "      <td>1017209</td>\n",
       "      <td>1017209</td>\n",
       "    </tr>\n",
       "    <tr>\n",
       "      <th>uniques</th>\n",
       "      <td>1115</td>\n",
       "      <td>7</td>\n",
       "      <td>942</td>\n",
       "      <td>21734</td>\n",
       "      <td>4086</td>\n",
       "      <td>2</td>\n",
       "      <td>2</td>\n",
       "      <td>5</td>\n",
       "      <td>2</td>\n",
       "    </tr>\n",
       "    <tr>\n",
       "      <th>missing</th>\n",
       "      <td>0</td>\n",
       "      <td>0</td>\n",
       "      <td>0</td>\n",
       "      <td>0</td>\n",
       "      <td>0</td>\n",
       "      <td>0</td>\n",
       "      <td>0</td>\n",
       "      <td>0</td>\n",
       "      <td>0</td>\n",
       "    </tr>\n",
       "    <tr>\n",
       "      <th>missing_perc</th>\n",
       "      <td>0%</td>\n",
       "      <td>0%</td>\n",
       "      <td>0%</td>\n",
       "      <td>0%</td>\n",
       "      <td>0%</td>\n",
       "      <td>0%</td>\n",
       "      <td>0%</td>\n",
       "      <td>0%</td>\n",
       "      <td>0%</td>\n",
       "    </tr>\n",
       "    <tr>\n",
       "      <th>types</th>\n",
       "      <td>numeric</td>\n",
       "      <td>numeric</td>\n",
       "      <td>categorical</td>\n",
       "      <td>numeric</td>\n",
       "      <td>numeric</td>\n",
       "      <td>bool</td>\n",
       "      <td>bool</td>\n",
       "      <td>categorical</td>\n",
       "      <td>bool</td>\n",
       "    </tr>\n",
       "  </tbody>\n",
       "</table>\n",
       "</div>"
      ],
      "text/plain": [
       "                    Store    DayOfWeek         Date        Sales    Customers  \\\n",
       "count         1.01721e+06  1.01721e+06          NaN  1.01721e+06  1.01721e+06   \n",
       "mean               558.43      3.99834          NaN      5773.82      633.146   \n",
       "std               321.909      1.99739          NaN      3849.93      464.412   \n",
       "min                     1            1          NaN            0            0   \n",
       "25%                   280            2          NaN         3727          405   \n",
       "50%                   558            4          NaN         5744          609   \n",
       "75%                   838            6          NaN         7856          837   \n",
       "max                  1115            7          NaN        41551         7388   \n",
       "counts            1017209      1017209      1017209      1017209      1017209   \n",
       "uniques              1115            7          942        21734         4086   \n",
       "missing                 0            0            0            0            0   \n",
       "missing_perc           0%           0%           0%           0%           0%   \n",
       "types             numeric      numeric  categorical      numeric      numeric   \n",
       "\n",
       "                     Open        Promo StateHoliday SchoolHoliday  \n",
       "count         1.01721e+06  1.01721e+06          NaN   1.01721e+06  \n",
       "mean             0.830107     0.381515          NaN      0.178647  \n",
       "std              0.375539     0.485759          NaN      0.383056  \n",
       "min                     0            0          NaN             0  \n",
       "25%                     1            0          NaN             0  \n",
       "50%                     1            0          NaN             0  \n",
       "75%                     1            1          NaN             0  \n",
       "max                     1            1          NaN             1  \n",
       "counts            1017209      1017209      1017209       1017209  \n",
       "uniques                 2            2            5             2  \n",
       "missing                 0            0            0             0  \n",
       "missing_perc           0%           0%           0%            0%  \n",
       "types                bool         bool  categorical          bool  "
      ]
     },
     "execution_count": 245,
     "metadata": {},
     "output_type": "execute_result"
    }
   ],
   "source": [
    "DataFrameSummary(train_df).summary()"
   ]
  },
  {
   "cell_type": "markdown",
   "metadata": {
    "colab_type": "text",
    "id": "-2WL24LEmWQi"
   },
   "source": [
    "### Store DataFrame"
   ]
  },
  {
   "cell_type": "code",
   "execution_count": 246,
   "metadata": {
    "colab": {
     "base_uri": "https://localhost:8080/",
     "height": 224
    },
    "colab_type": "code",
    "executionInfo": {
     "elapsed": 1128,
     "status": "ok",
     "timestamp": 1540640422436,
     "user": {
      "displayName": "Ankur Bohra",
      "photoUrl": "",
      "userId": "15541534273238543658"
     },
     "user_tz": -330
    },
    "id": "3tIFsmVNpiKY",
    "outputId": "ff20046d-3996-4105-f733-8f0b5b9381c2"
   },
   "outputs": [
    {
     "data": {
      "text/html": [
       "<div>\n",
       "<style scoped>\n",
       "    .dataframe tbody tr th:only-of-type {\n",
       "        vertical-align: middle;\n",
       "    }\n",
       "\n",
       "    .dataframe tbody tr th {\n",
       "        vertical-align: top;\n",
       "    }\n",
       "\n",
       "    .dataframe thead th {\n",
       "        text-align: right;\n",
       "    }\n",
       "</style>\n",
       "<table border=\"1\" class=\"dataframe\">\n",
       "  <thead>\n",
       "    <tr style=\"text-align: right;\">\n",
       "      <th></th>\n",
       "      <th>Store</th>\n",
       "      <th>StoreType</th>\n",
       "      <th>Assortment</th>\n",
       "      <th>CompetitionDistance</th>\n",
       "      <th>CompetitionOpenSinceMonth</th>\n",
       "      <th>CompetitionOpenSinceYear</th>\n",
       "      <th>Promo2</th>\n",
       "      <th>Promo2SinceWeek</th>\n",
       "      <th>Promo2SinceYear</th>\n",
       "      <th>PromoInterval</th>\n",
       "    </tr>\n",
       "  </thead>\n",
       "  <tbody>\n",
       "    <tr>\n",
       "      <th>0</th>\n",
       "      <td>1</td>\n",
       "      <td>c</td>\n",
       "      <td>a</td>\n",
       "      <td>1270.0</td>\n",
       "      <td>9.0</td>\n",
       "      <td>2008.0</td>\n",
       "      <td>0</td>\n",
       "      <td>NaN</td>\n",
       "      <td>NaN</td>\n",
       "      <td>NaN</td>\n",
       "    </tr>\n",
       "    <tr>\n",
       "      <th>1</th>\n",
       "      <td>2</td>\n",
       "      <td>a</td>\n",
       "      <td>a</td>\n",
       "      <td>570.0</td>\n",
       "      <td>11.0</td>\n",
       "      <td>2007.0</td>\n",
       "      <td>1</td>\n",
       "      <td>13.0</td>\n",
       "      <td>2010.0</td>\n",
       "      <td>Jan,Apr,Jul,Oct</td>\n",
       "    </tr>\n",
       "    <tr>\n",
       "      <th>2</th>\n",
       "      <td>3</td>\n",
       "      <td>a</td>\n",
       "      <td>a</td>\n",
       "      <td>14130.0</td>\n",
       "      <td>12.0</td>\n",
       "      <td>2006.0</td>\n",
       "      <td>1</td>\n",
       "      <td>14.0</td>\n",
       "      <td>2011.0</td>\n",
       "      <td>Jan,Apr,Jul,Oct</td>\n",
       "    </tr>\n",
       "    <tr>\n",
       "      <th>3</th>\n",
       "      <td>4</td>\n",
       "      <td>c</td>\n",
       "      <td>c</td>\n",
       "      <td>620.0</td>\n",
       "      <td>9.0</td>\n",
       "      <td>2009.0</td>\n",
       "      <td>0</td>\n",
       "      <td>NaN</td>\n",
       "      <td>NaN</td>\n",
       "      <td>NaN</td>\n",
       "    </tr>\n",
       "    <tr>\n",
       "      <th>4</th>\n",
       "      <td>5</td>\n",
       "      <td>a</td>\n",
       "      <td>a</td>\n",
       "      <td>29910.0</td>\n",
       "      <td>4.0</td>\n",
       "      <td>2015.0</td>\n",
       "      <td>0</td>\n",
       "      <td>NaN</td>\n",
       "      <td>NaN</td>\n",
       "      <td>NaN</td>\n",
       "    </tr>\n",
       "  </tbody>\n",
       "</table>\n",
       "</div>"
      ],
      "text/plain": [
       "   Store StoreType Assortment  CompetitionDistance  CompetitionOpenSinceMonth  \\\n",
       "0      1         c          a               1270.0                        9.0   \n",
       "1      2         a          a                570.0                       11.0   \n",
       "2      3         a          a              14130.0                       12.0   \n",
       "3      4         c          c                620.0                        9.0   \n",
       "4      5         a          a              29910.0                        4.0   \n",
       "\n",
       "   CompetitionOpenSinceYear  Promo2  Promo2SinceWeek  Promo2SinceYear  \\\n",
       "0                    2008.0       0              NaN              NaN   \n",
       "1                    2007.0       1             13.0           2010.0   \n",
       "2                    2006.0       1             14.0           2011.0   \n",
       "3                    2009.0       0              NaN              NaN   \n",
       "4                    2015.0       0              NaN              NaN   \n",
       "\n",
       "     PromoInterval  \n",
       "0              NaN  \n",
       "1  Jan,Apr,Jul,Oct  \n",
       "2  Jan,Apr,Jul,Oct  \n",
       "3              NaN  \n",
       "4              NaN  "
      ]
     },
     "execution_count": 246,
     "metadata": {},
     "output_type": "execute_result"
    }
   ],
   "source": [
    "store_df.head()"
   ]
  },
  {
   "cell_type": "code",
   "execution_count": 247,
   "metadata": {
    "colab": {
     "base_uri": "https://localhost:8080/",
     "height": 472
    },
    "colab_type": "code",
    "executionInfo": {
     "elapsed": 1509,
     "status": "ok",
     "timestamp": 1540640424433,
     "user": {
      "displayName": "Ankur Bohra",
      "photoUrl": "",
      "userId": "15541534273238543658"
     },
     "user_tz": -330
    },
    "id": "MztkCvQHpn8d",
    "outputId": "0e605693-7886-42ba-af9d-214259fe0f36"
   },
   "outputs": [
    {
     "data": {
      "text/html": [
       "<div>\n",
       "<style scoped>\n",
       "    .dataframe tbody tr th:only-of-type {\n",
       "        vertical-align: middle;\n",
       "    }\n",
       "\n",
       "    .dataframe tbody tr th {\n",
       "        vertical-align: top;\n",
       "    }\n",
       "\n",
       "    .dataframe thead th {\n",
       "        text-align: right;\n",
       "    }\n",
       "</style>\n",
       "<table border=\"1\" class=\"dataframe\">\n",
       "  <thead>\n",
       "    <tr style=\"text-align: right;\">\n",
       "      <th></th>\n",
       "      <th>Store</th>\n",
       "      <th>StoreType</th>\n",
       "      <th>Assortment</th>\n",
       "      <th>CompetitionDistance</th>\n",
       "      <th>CompetitionOpenSinceMonth</th>\n",
       "      <th>CompetitionOpenSinceYear</th>\n",
       "      <th>Promo2</th>\n",
       "      <th>Promo2SinceWeek</th>\n",
       "      <th>Promo2SinceYear</th>\n",
       "      <th>PromoInterval</th>\n",
       "    </tr>\n",
       "  </thead>\n",
       "  <tbody>\n",
       "    <tr>\n",
       "      <th>count</th>\n",
       "      <td>1115</td>\n",
       "      <td>NaN</td>\n",
       "      <td>NaN</td>\n",
       "      <td>1112</td>\n",
       "      <td>761</td>\n",
       "      <td>761</td>\n",
       "      <td>1115</td>\n",
       "      <td>571</td>\n",
       "      <td>571</td>\n",
       "      <td>NaN</td>\n",
       "    </tr>\n",
       "    <tr>\n",
       "      <th>mean</th>\n",
       "      <td>558</td>\n",
       "      <td>NaN</td>\n",
       "      <td>NaN</td>\n",
       "      <td>5404.9</td>\n",
       "      <td>7.2247</td>\n",
       "      <td>2008.67</td>\n",
       "      <td>0.512108</td>\n",
       "      <td>23.5954</td>\n",
       "      <td>2011.76</td>\n",
       "      <td>NaN</td>\n",
       "    </tr>\n",
       "    <tr>\n",
       "      <th>std</th>\n",
       "      <td>322.017</td>\n",
       "      <td>NaN</td>\n",
       "      <td>NaN</td>\n",
       "      <td>7663.17</td>\n",
       "      <td>3.21235</td>\n",
       "      <td>6.19598</td>\n",
       "      <td>0.500078</td>\n",
       "      <td>14.142</td>\n",
       "      <td>1.67494</td>\n",
       "      <td>NaN</td>\n",
       "    </tr>\n",
       "    <tr>\n",
       "      <th>min</th>\n",
       "      <td>1</td>\n",
       "      <td>NaN</td>\n",
       "      <td>NaN</td>\n",
       "      <td>20</td>\n",
       "      <td>1</td>\n",
       "      <td>1900</td>\n",
       "      <td>0</td>\n",
       "      <td>1</td>\n",
       "      <td>2009</td>\n",
       "      <td>NaN</td>\n",
       "    </tr>\n",
       "    <tr>\n",
       "      <th>25%</th>\n",
       "      <td>279.5</td>\n",
       "      <td>NaN</td>\n",
       "      <td>NaN</td>\n",
       "      <td>717.5</td>\n",
       "      <td>4</td>\n",
       "      <td>2006</td>\n",
       "      <td>0</td>\n",
       "      <td>13</td>\n",
       "      <td>2011</td>\n",
       "      <td>NaN</td>\n",
       "    </tr>\n",
       "    <tr>\n",
       "      <th>50%</th>\n",
       "      <td>558</td>\n",
       "      <td>NaN</td>\n",
       "      <td>NaN</td>\n",
       "      <td>2325</td>\n",
       "      <td>8</td>\n",
       "      <td>2010</td>\n",
       "      <td>1</td>\n",
       "      <td>22</td>\n",
       "      <td>2012</td>\n",
       "      <td>NaN</td>\n",
       "    </tr>\n",
       "    <tr>\n",
       "      <th>75%</th>\n",
       "      <td>836.5</td>\n",
       "      <td>NaN</td>\n",
       "      <td>NaN</td>\n",
       "      <td>6882.5</td>\n",
       "      <td>10</td>\n",
       "      <td>2013</td>\n",
       "      <td>1</td>\n",
       "      <td>37</td>\n",
       "      <td>2013</td>\n",
       "      <td>NaN</td>\n",
       "    </tr>\n",
       "    <tr>\n",
       "      <th>max</th>\n",
       "      <td>1115</td>\n",
       "      <td>NaN</td>\n",
       "      <td>NaN</td>\n",
       "      <td>75860</td>\n",
       "      <td>12</td>\n",
       "      <td>2015</td>\n",
       "      <td>1</td>\n",
       "      <td>50</td>\n",
       "      <td>2015</td>\n",
       "      <td>NaN</td>\n",
       "    </tr>\n",
       "    <tr>\n",
       "      <th>counts</th>\n",
       "      <td>1115</td>\n",
       "      <td>1115</td>\n",
       "      <td>1115</td>\n",
       "      <td>1112</td>\n",
       "      <td>761</td>\n",
       "      <td>761</td>\n",
       "      <td>1115</td>\n",
       "      <td>571</td>\n",
       "      <td>571</td>\n",
       "      <td>571</td>\n",
       "    </tr>\n",
       "    <tr>\n",
       "      <th>uniques</th>\n",
       "      <td>1115</td>\n",
       "      <td>4</td>\n",
       "      <td>3</td>\n",
       "      <td>654</td>\n",
       "      <td>12</td>\n",
       "      <td>23</td>\n",
       "      <td>2</td>\n",
       "      <td>24</td>\n",
       "      <td>7</td>\n",
       "      <td>3</td>\n",
       "    </tr>\n",
       "    <tr>\n",
       "      <th>missing</th>\n",
       "      <td>0</td>\n",
       "      <td>0</td>\n",
       "      <td>0</td>\n",
       "      <td>3</td>\n",
       "      <td>354</td>\n",
       "      <td>354</td>\n",
       "      <td>0</td>\n",
       "      <td>544</td>\n",
       "      <td>544</td>\n",
       "      <td>544</td>\n",
       "    </tr>\n",
       "    <tr>\n",
       "      <th>missing_perc</th>\n",
       "      <td>0%</td>\n",
       "      <td>0%</td>\n",
       "      <td>0%</td>\n",
       "      <td>0.27%</td>\n",
       "      <td>31.75%</td>\n",
       "      <td>31.75%</td>\n",
       "      <td>0%</td>\n",
       "      <td>48.79%</td>\n",
       "      <td>48.79%</td>\n",
       "      <td>48.79%</td>\n",
       "    </tr>\n",
       "    <tr>\n",
       "      <th>types</th>\n",
       "      <td>numeric</td>\n",
       "      <td>categorical</td>\n",
       "      <td>categorical</td>\n",
       "      <td>numeric</td>\n",
       "      <td>numeric</td>\n",
       "      <td>numeric</td>\n",
       "      <td>bool</td>\n",
       "      <td>numeric</td>\n",
       "      <td>numeric</td>\n",
       "      <td>categorical</td>\n",
       "    </tr>\n",
       "  </tbody>\n",
       "</table>\n",
       "</div>"
      ],
      "text/plain": [
       "                Store    StoreType   Assortment CompetitionDistance  \\\n",
       "count            1115          NaN          NaN                1112   \n",
       "mean              558          NaN          NaN              5404.9   \n",
       "std           322.017          NaN          NaN             7663.17   \n",
       "min                 1          NaN          NaN                  20   \n",
       "25%             279.5          NaN          NaN               717.5   \n",
       "50%               558          NaN          NaN                2325   \n",
       "75%             836.5          NaN          NaN              6882.5   \n",
       "max              1115          NaN          NaN               75860   \n",
       "counts           1115         1115         1115                1112   \n",
       "uniques          1115            4            3                 654   \n",
       "missing             0            0            0                   3   \n",
       "missing_perc       0%           0%           0%               0.27%   \n",
       "types         numeric  categorical  categorical             numeric   \n",
       "\n",
       "             CompetitionOpenSinceMonth CompetitionOpenSinceYear    Promo2  \\\n",
       "count                              761                      761      1115   \n",
       "mean                            7.2247                  2008.67  0.512108   \n",
       "std                            3.21235                  6.19598  0.500078   \n",
       "min                                  1                     1900         0   \n",
       "25%                                  4                     2006         0   \n",
       "50%                                  8                     2010         1   \n",
       "75%                                 10                     2013         1   \n",
       "max                                 12                     2015         1   \n",
       "counts                             761                      761      1115   \n",
       "uniques                             12                       23         2   \n",
       "missing                            354                      354         0   \n",
       "missing_perc                    31.75%                   31.75%        0%   \n",
       "types                          numeric                  numeric      bool   \n",
       "\n",
       "             Promo2SinceWeek Promo2SinceYear PromoInterval  \n",
       "count                    571             571           NaN  \n",
       "mean                 23.5954         2011.76           NaN  \n",
       "std                   14.142         1.67494           NaN  \n",
       "min                        1            2009           NaN  \n",
       "25%                       13            2011           NaN  \n",
       "50%                       22            2012           NaN  \n",
       "75%                       37            2013           NaN  \n",
       "max                       50            2015           NaN  \n",
       "counts                   571             571           571  \n",
       "uniques                   24               7             3  \n",
       "missing                  544             544           544  \n",
       "missing_perc          48.79%          48.79%        48.79%  \n",
       "types                numeric         numeric   categorical  "
      ]
     },
     "execution_count": 247,
     "metadata": {},
     "output_type": "execute_result"
    }
   ],
   "source": [
    "DataFrameSummary(store_df).summary()"
   ]
  },
  {
   "cell_type": "markdown",
   "metadata": {
    "colab_type": "text",
    "id": "BFdX0wHTpdmC"
   },
   "source": [
    "### Test DataFrame"
   ]
  },
  {
   "cell_type": "code",
   "execution_count": 248,
   "metadata": {
    "colab": {
     "base_uri": "https://localhost:8080/",
     "height": 204
    },
    "colab_type": "code",
    "executionInfo": {
     "elapsed": 1140,
     "status": "ok",
     "timestamp": 1540640427324,
     "user": {
      "displayName": "Ankur Bohra",
      "photoUrl": "",
      "userId": "15541534273238543658"
     },
     "user_tz": -330
    },
    "id": "3h4E3REhqlQa",
    "outputId": "7e25e3c1-8768-40c9-9e62-a8e053c87165"
   },
   "outputs": [
    {
     "data": {
      "text/html": [
       "<div>\n",
       "<style scoped>\n",
       "    .dataframe tbody tr th:only-of-type {\n",
       "        vertical-align: middle;\n",
       "    }\n",
       "\n",
       "    .dataframe tbody tr th {\n",
       "        vertical-align: top;\n",
       "    }\n",
       "\n",
       "    .dataframe thead th {\n",
       "        text-align: right;\n",
       "    }\n",
       "</style>\n",
       "<table border=\"1\" class=\"dataframe\">\n",
       "  <thead>\n",
       "    <tr style=\"text-align: right;\">\n",
       "      <th></th>\n",
       "      <th>Id</th>\n",
       "      <th>Store</th>\n",
       "      <th>DayOfWeek</th>\n",
       "      <th>Date</th>\n",
       "      <th>Open</th>\n",
       "      <th>Promo</th>\n",
       "      <th>StateHoliday</th>\n",
       "      <th>SchoolHoliday</th>\n",
       "    </tr>\n",
       "  </thead>\n",
       "  <tbody>\n",
       "    <tr>\n",
       "      <th>0</th>\n",
       "      <td>1</td>\n",
       "      <td>1</td>\n",
       "      <td>4</td>\n",
       "      <td>2015-09-17</td>\n",
       "      <td>1.0</td>\n",
       "      <td>1</td>\n",
       "      <td>0</td>\n",
       "      <td>0</td>\n",
       "    </tr>\n",
       "    <tr>\n",
       "      <th>1</th>\n",
       "      <td>2</td>\n",
       "      <td>3</td>\n",
       "      <td>4</td>\n",
       "      <td>2015-09-17</td>\n",
       "      <td>1.0</td>\n",
       "      <td>1</td>\n",
       "      <td>0</td>\n",
       "      <td>0</td>\n",
       "    </tr>\n",
       "    <tr>\n",
       "      <th>2</th>\n",
       "      <td>3</td>\n",
       "      <td>7</td>\n",
       "      <td>4</td>\n",
       "      <td>2015-09-17</td>\n",
       "      <td>1.0</td>\n",
       "      <td>1</td>\n",
       "      <td>0</td>\n",
       "      <td>0</td>\n",
       "    </tr>\n",
       "    <tr>\n",
       "      <th>3</th>\n",
       "      <td>4</td>\n",
       "      <td>8</td>\n",
       "      <td>4</td>\n",
       "      <td>2015-09-17</td>\n",
       "      <td>1.0</td>\n",
       "      <td>1</td>\n",
       "      <td>0</td>\n",
       "      <td>0</td>\n",
       "    </tr>\n",
       "    <tr>\n",
       "      <th>4</th>\n",
       "      <td>5</td>\n",
       "      <td>9</td>\n",
       "      <td>4</td>\n",
       "      <td>2015-09-17</td>\n",
       "      <td>1.0</td>\n",
       "      <td>1</td>\n",
       "      <td>0</td>\n",
       "      <td>0</td>\n",
       "    </tr>\n",
       "  </tbody>\n",
       "</table>\n",
       "</div>"
      ],
      "text/plain": [
       "   Id  Store  DayOfWeek        Date  Open  Promo StateHoliday  SchoolHoliday\n",
       "0   1      1          4  2015-09-17   1.0      1            0              0\n",
       "1   2      3          4  2015-09-17   1.0      1            0              0\n",
       "2   3      7          4  2015-09-17   1.0      1            0              0\n",
       "3   4      8          4  2015-09-17   1.0      1            0              0\n",
       "4   5      9          4  2015-09-17   1.0      1            0              0"
      ]
     },
     "execution_count": 248,
     "metadata": {},
     "output_type": "execute_result"
    }
   ],
   "source": [
    "test_df.head()"
   ]
  },
  {
   "cell_type": "code",
   "execution_count": 249,
   "metadata": {
    "colab": {
     "base_uri": "https://localhost:8080/",
     "height": 452
    },
    "colab_type": "code",
    "executionInfo": {
     "elapsed": 999,
     "status": "ok",
     "timestamp": 1540640428777,
     "user": {
      "displayName": "Ankur Bohra",
      "photoUrl": "",
      "userId": "15541534273238543658"
     },
     "user_tz": -330
    },
    "id": "ZumjybnApgaX",
    "outputId": "58eef6ef-9a96-43d9-df93-ebbfbadaf5b5"
   },
   "outputs": [
    {
     "data": {
      "text/html": [
       "<div>\n",
       "<style scoped>\n",
       "    .dataframe tbody tr th:only-of-type {\n",
       "        vertical-align: middle;\n",
       "    }\n",
       "\n",
       "    .dataframe tbody tr th {\n",
       "        vertical-align: top;\n",
       "    }\n",
       "\n",
       "    .dataframe thead th {\n",
       "        text-align: right;\n",
       "    }\n",
       "</style>\n",
       "<table border=\"1\" class=\"dataframe\">\n",
       "  <thead>\n",
       "    <tr style=\"text-align: right;\">\n",
       "      <th></th>\n",
       "      <th>Id</th>\n",
       "      <th>Store</th>\n",
       "      <th>DayOfWeek</th>\n",
       "      <th>Date</th>\n",
       "      <th>Open</th>\n",
       "      <th>Promo</th>\n",
       "      <th>StateHoliday</th>\n",
       "      <th>SchoolHoliday</th>\n",
       "    </tr>\n",
       "  </thead>\n",
       "  <tbody>\n",
       "    <tr>\n",
       "      <th>count</th>\n",
       "      <td>41088</td>\n",
       "      <td>41088</td>\n",
       "      <td>41088</td>\n",
       "      <td>NaN</td>\n",
       "      <td>41077</td>\n",
       "      <td>41088</td>\n",
       "      <td>NaN</td>\n",
       "      <td>41088</td>\n",
       "    </tr>\n",
       "    <tr>\n",
       "      <th>mean</th>\n",
       "      <td>20544.5</td>\n",
       "      <td>555.9</td>\n",
       "      <td>3.97917</td>\n",
       "      <td>NaN</td>\n",
       "      <td>0.854322</td>\n",
       "      <td>0.395833</td>\n",
       "      <td>NaN</td>\n",
       "      <td>0.443487</td>\n",
       "    </tr>\n",
       "    <tr>\n",
       "      <th>std</th>\n",
       "      <td>11861.2</td>\n",
       "      <td>320.274</td>\n",
       "      <td>2.01548</td>\n",
       "      <td>NaN</td>\n",
       "      <td>0.352787</td>\n",
       "      <td>0.489035</td>\n",
       "      <td>NaN</td>\n",
       "      <td>0.496802</td>\n",
       "    </tr>\n",
       "    <tr>\n",
       "      <th>min</th>\n",
       "      <td>1</td>\n",
       "      <td>1</td>\n",
       "      <td>1</td>\n",
       "      <td>NaN</td>\n",
       "      <td>0</td>\n",
       "      <td>0</td>\n",
       "      <td>NaN</td>\n",
       "      <td>0</td>\n",
       "    </tr>\n",
       "    <tr>\n",
       "      <th>25%</th>\n",
       "      <td>10272.8</td>\n",
       "      <td>279.75</td>\n",
       "      <td>2</td>\n",
       "      <td>NaN</td>\n",
       "      <td>1</td>\n",
       "      <td>0</td>\n",
       "      <td>NaN</td>\n",
       "      <td>0</td>\n",
       "    </tr>\n",
       "    <tr>\n",
       "      <th>50%</th>\n",
       "      <td>20544.5</td>\n",
       "      <td>553.5</td>\n",
       "      <td>4</td>\n",
       "      <td>NaN</td>\n",
       "      <td>1</td>\n",
       "      <td>0</td>\n",
       "      <td>NaN</td>\n",
       "      <td>0</td>\n",
       "    </tr>\n",
       "    <tr>\n",
       "      <th>75%</th>\n",
       "      <td>30816.2</td>\n",
       "      <td>832.25</td>\n",
       "      <td>6</td>\n",
       "      <td>NaN</td>\n",
       "      <td>1</td>\n",
       "      <td>1</td>\n",
       "      <td>NaN</td>\n",
       "      <td>1</td>\n",
       "    </tr>\n",
       "    <tr>\n",
       "      <th>max</th>\n",
       "      <td>41088</td>\n",
       "      <td>1115</td>\n",
       "      <td>7</td>\n",
       "      <td>NaN</td>\n",
       "      <td>1</td>\n",
       "      <td>1</td>\n",
       "      <td>NaN</td>\n",
       "      <td>1</td>\n",
       "    </tr>\n",
       "    <tr>\n",
       "      <th>counts</th>\n",
       "      <td>41088</td>\n",
       "      <td>41088</td>\n",
       "      <td>41088</td>\n",
       "      <td>41088</td>\n",
       "      <td>41077</td>\n",
       "      <td>41088</td>\n",
       "      <td>41088</td>\n",
       "      <td>41088</td>\n",
       "    </tr>\n",
       "    <tr>\n",
       "      <th>uniques</th>\n",
       "      <td>41088</td>\n",
       "      <td>856</td>\n",
       "      <td>7</td>\n",
       "      <td>48</td>\n",
       "      <td>2</td>\n",
       "      <td>2</td>\n",
       "      <td>2</td>\n",
       "      <td>2</td>\n",
       "    </tr>\n",
       "    <tr>\n",
       "      <th>missing</th>\n",
       "      <td>0</td>\n",
       "      <td>0</td>\n",
       "      <td>0</td>\n",
       "      <td>0</td>\n",
       "      <td>11</td>\n",
       "      <td>0</td>\n",
       "      <td>0</td>\n",
       "      <td>0</td>\n",
       "    </tr>\n",
       "    <tr>\n",
       "      <th>missing_perc</th>\n",
       "      <td>0%</td>\n",
       "      <td>0%</td>\n",
       "      <td>0%</td>\n",
       "      <td>0%</td>\n",
       "      <td>0.03%</td>\n",
       "      <td>0%</td>\n",
       "      <td>0%</td>\n",
       "      <td>0%</td>\n",
       "    </tr>\n",
       "    <tr>\n",
       "      <th>types</th>\n",
       "      <td>numeric</td>\n",
       "      <td>numeric</td>\n",
       "      <td>numeric</td>\n",
       "      <td>categorical</td>\n",
       "      <td>bool</td>\n",
       "      <td>bool</td>\n",
       "      <td>bool</td>\n",
       "      <td>bool</td>\n",
       "    </tr>\n",
       "  </tbody>\n",
       "</table>\n",
       "</div>"
      ],
      "text/plain": [
       "                   Id    Store DayOfWeek         Date      Open     Promo  \\\n",
       "count           41088    41088     41088          NaN     41077     41088   \n",
       "mean          20544.5    555.9   3.97917          NaN  0.854322  0.395833   \n",
       "std           11861.2  320.274   2.01548          NaN  0.352787  0.489035   \n",
       "min                 1        1         1          NaN         0         0   \n",
       "25%           10272.8   279.75         2          NaN         1         0   \n",
       "50%           20544.5    553.5         4          NaN         1         0   \n",
       "75%           30816.2   832.25         6          NaN         1         1   \n",
       "max             41088     1115         7          NaN         1         1   \n",
       "counts          41088    41088     41088        41088     41077     41088   \n",
       "uniques         41088      856         7           48         2         2   \n",
       "missing             0        0         0            0        11         0   \n",
       "missing_perc       0%       0%        0%           0%     0.03%        0%   \n",
       "types         numeric  numeric   numeric  categorical      bool      bool   \n",
       "\n",
       "             StateHoliday SchoolHoliday  \n",
       "count                 NaN         41088  \n",
       "mean                  NaN      0.443487  \n",
       "std                   NaN      0.496802  \n",
       "min                   NaN             0  \n",
       "25%                   NaN             0  \n",
       "50%                   NaN             0  \n",
       "75%                   NaN             1  \n",
       "max                   NaN             1  \n",
       "counts              41088         41088  \n",
       "uniques                 2             2  \n",
       "missing                 0             0  \n",
       "missing_perc           0%            0%  \n",
       "types                bool          bool  "
      ]
     },
     "execution_count": 249,
     "metadata": {},
     "output_type": "execute_result"
    }
   ],
   "source": [
    "DataFrameSummary(test_df).summary()"
   ]
  },
  {
   "cell_type": "markdown",
   "metadata": {
    "colab_type": "text",
    "id": "m8SRjBceqp8_"
   },
   "source": [
    "## Data Cleaning and Feature Engineering"
   ]
  },
  {
   "cell_type": "markdown",
   "metadata": {
    "colab_type": "text",
    "id": "llEmwGdjdtTO"
   },
   "source": [
    "### Remove Features with a lot of missing values"
   ]
  },
  {
   "cell_type": "code",
   "execution_count": 250,
   "metadata": {
    "colab": {},
    "colab_type": "code",
    "id": "HXMPRO_Wem0y"
   },
   "outputs": [],
   "source": [
    "store_df.drop(['CompetitionOpenSinceMonth', 'CompetitionOpenSinceYear','Promo2SinceWeek',\n",
    "                     'Promo2SinceYear', 'PromoInterval'], axis=1, inplace=True)"
   ]
  },
  {
   "cell_type": "markdown",
   "metadata": {
    "colab_type": "text",
    "id": "z1H3rJ5EfAyr"
   },
   "source": [
    "### Imputation for features with less missing values"
   ]
  },
  {
   "cell_type": "code",
   "execution_count": 182,
   "metadata": {
    "colab": {
     "base_uri": "https://localhost:8080/",
     "height": 364
    },
    "colab_type": "code",
    "executionInfo": {
     "elapsed": 1545,
     "status": "ok",
     "timestamp": 1540640431947,
     "user": {
      "displayName": "Ankur Bohra",
      "photoUrl": "",
      "userId": "15541534273238543658"
     },
     "user_tz": -330
    },
    "id": "5AAnfwnAfdUo",
    "outputId": "f83e60b3-ea61-4e0c-dc53-efee831852c9"
   },
   "outputs": [
    {
     "data": {
      "text/plain": [
       "<matplotlib.axes._subplots.AxesSubplot at 0x7f9fd6fb4470>"
      ]
     },
     "execution_count": 182,
     "metadata": {},
     "output_type": "execute_result"
    },
    {
     "data": {
      "image/png": "[encoded data removed]",
      "text/plain": [
       "<Figure size 432x288 with 1 Axes>"
      ]
     },
     "metadata": {},
     "output_type": "display_data"
    }
   ],
   "source": [
    "store_df.CompetitionDistance.plot.kde()"
   ]
  },
  {
   "cell_type": "code",
   "execution_count": 183,
   "metadata": {
    "colab": {},
    "colab_type": "code",
    "id": "pNHt8NqagRl4"
   },
   "outputs": [],
   "source": [
    "#### Replace value with median instead of mean because of outlier/skewed dataset\n",
    "store_df.CompetitionDistance.fillna(store_df.CompetitionDistance.median(), inplace=True)"
   ]
  },
  {
   "cell_type": "markdown",
   "metadata": {
    "colab_type": "text",
    "id": "QHQVukNIhMHi"
   },
   "source": [
    "### Convert StateHoliday to a boolean value"
   ]
  },
  {
   "cell_type": "code",
   "execution_count": 184,
   "metadata": {
    "colab": {
     "base_uri": "https://localhost:8080/",
     "height": 34
    },
    "colab_type": "code",
    "executionInfo": {
     "elapsed": 994,
     "status": "ok",
     "timestamp": 1540640436904,
     "user": {
      "displayName": "Ankur Bohra",
      "photoUrl": "",
      "userId": "15541534273238543658"
     },
     "user_tz": -330
    },
    "id": "2d74T2BYm8o7",
    "outputId": "b5c4d3fd-c09a-4dda-8447-748429da77fd"
   },
   "outputs": [
    {
     "data": {
      "text/plain": [
       "array(['0', 'a', 'b', 'c', 0], dtype=object)"
      ]
     },
     "execution_count": 184,
     "metadata": {},
     "output_type": "execute_result"
    }
   ],
   "source": [
    "train_df.StateHoliday.unique()"
   ]
  },
  {
   "cell_type": "code",
   "execution_count": 185,
   "metadata": {
    "colab": {},
    "colab_type": "code",
    "id": "9SUjQgDyuGB7"
   },
   "outputs": [],
   "source": [
    "train_df.StateHoliday = train_df.StateHoliday!='0'"
   ]
  },
  {
   "cell_type": "code",
   "execution_count": 186,
   "metadata": {
    "colab": {
     "base_uri": "https://localhost:8080/",
     "height": 204
    },
    "colab_type": "code",
    "executionInfo": {
     "elapsed": 1098,
     "status": "ok",
     "timestamp": 1540640439598,
     "user": {
      "displayName": "Ankur Bohra",
      "photoUrl": "",
      "userId": "15541534273238543658"
     },
     "user_tz": -330
    },
    "id": "EcAqXiSS9Rhq",
    "outputId": "1c1b5271-ebd7-4c7d-8f7a-09a9ff1dbbd1"
   },
   "outputs": [
    {
     "data": {
      "text/html": [
       "<div>\n",
       "<style scoped>\n",
       "    .dataframe tbody tr th:only-of-type {\n",
       "        vertical-align: middle;\n",
       "    }\n",
       "\n",
       "    .dataframe tbody tr th {\n",
       "        vertical-align: top;\n",
       "    }\n",
       "\n",
       "    .dataframe thead th {\n",
       "        text-align: right;\n",
       "    }\n",
       "</style>\n",
       "<table border=\"1\" class=\"dataframe\">\n",
       "  <thead>\n",
       "    <tr style=\"text-align: right;\">\n",
       "      <th></th>\n",
       "      <th>Store</th>\n",
       "      <th>DayOfWeek</th>\n",
       "      <th>Date</th>\n",
       "      <th>Sales</th>\n",
       "      <th>Customers</th>\n",
       "      <th>Open</th>\n",
       "      <th>Promo</th>\n",
       "      <th>StateHoliday</th>\n",
       "      <th>SchoolHoliday</th>\n",
       "    </tr>\n",
       "  </thead>\n",
       "  <tbody>\n",
       "    <tr>\n",
       "      <th>0</th>\n",
       "      <td>1</td>\n",
       "      <td>5</td>\n",
       "      <td>2015-07-31</td>\n",
       "      <td>5263</td>\n",
       "      <td>555</td>\n",
       "      <td>1</td>\n",
       "      <td>1</td>\n",
       "      <td>False</td>\n",
       "      <td>1</td>\n",
       "    </tr>\n",
       "    <tr>\n",
       "      <th>1</th>\n",
       "      <td>2</td>\n",
       "      <td>5</td>\n",
       "      <td>2015-07-31</td>\n",
       "      <td>6064</td>\n",
       "      <td>625</td>\n",
       "      <td>1</td>\n",
       "      <td>1</td>\n",
       "      <td>False</td>\n",
       "      <td>1</td>\n",
       "    </tr>\n",
       "    <tr>\n",
       "      <th>2</th>\n",
       "      <td>3</td>\n",
       "      <td>5</td>\n",
       "      <td>2015-07-31</td>\n",
       "      <td>8314</td>\n",
       "      <td>821</td>\n",
       "      <td>1</td>\n",
       "      <td>1</td>\n",
       "      <td>False</td>\n",
       "      <td>1</td>\n",
       "    </tr>\n",
       "    <tr>\n",
       "      <th>3</th>\n",
       "      <td>4</td>\n",
       "      <td>5</td>\n",
       "      <td>2015-07-31</td>\n",
       "      <td>13995</td>\n",
       "      <td>1498</td>\n",
       "      <td>1</td>\n",
       "      <td>1</td>\n",
       "      <td>False</td>\n",
       "      <td>1</td>\n",
       "    </tr>\n",
       "    <tr>\n",
       "      <th>4</th>\n",
       "      <td>5</td>\n",
       "      <td>5</td>\n",
       "      <td>2015-07-31</td>\n",
       "      <td>4822</td>\n",
       "      <td>559</td>\n",
       "      <td>1</td>\n",
       "      <td>1</td>\n",
       "      <td>False</td>\n",
       "      <td>1</td>\n",
       "    </tr>\n",
       "  </tbody>\n",
       "</table>\n",
       "</div>"
      ],
      "text/plain": [
       "   Store  DayOfWeek        Date  Sales  Customers  Open  Promo  StateHoliday  \\\n",
       "0      1          5  2015-07-31   5263        555     1      1         False   \n",
       "1      2          5  2015-07-31   6064        625     1      1         False   \n",
       "2      3          5  2015-07-31   8314        821     1      1         False   \n",
       "3      4          5  2015-07-31  13995       1498     1      1         False   \n",
       "4      5          5  2015-07-31   4822        559     1      1         False   \n",
       "\n",
       "   SchoolHoliday  \n",
       "0              1  \n",
       "1              1  \n",
       "2              1  \n",
       "3              1  \n",
       "4              1  "
      ]
     },
     "execution_count": 186,
     "metadata": {},
     "output_type": "execute_result"
    }
   ],
   "source": [
    "train_df.head()"
   ]
  },
  {
   "cell_type": "markdown",
   "metadata": {
    "colab_type": "text",
    "id": "oKjLWtBInt-m"
   },
   "source": [
    "### Add Date Features "
   ]
  },
  {
   "cell_type": "code",
   "execution_count": 187,
   "metadata": {
    "colab": {},
    "colab_type": "code",
    "id": "0rAvus_8MC8h"
   },
   "outputs": [],
   "source": [
    "def add_date_features(df, field_name):\n",
    "    field = df[field_name]\n",
    "    field_dtype = field.dtype\n",
    "    if isinstance(field_dtype, pd.core.dtypes.dtypes.DatetimeTZDtype):\n",
    "        field_dtype = np.datetime64\n",
    "\n",
    "    if not np.issubdtype(field_dtype, np.datetime64):\n",
    "        df[field_name] = field = pd.to_datetime(field, infer_datetime_format=True)\n",
    "    target_prefix = re.sub('[Dd]ate$', '', field_name)\n",
    "    attributes = ['Year', 'Month', 'Week', 'Day', 'DayOfWeek', 'DayOfYear',\n",
    "            'Is_Month_End', 'Is_Month_Start', 'Is_Quarter_End', 'Is_Quarter_Start', 'Is_Year_End', 'Is_Year_Start']\n",
    "    for attr in attributes: df[target_prefix + attr] = getattr(field.dt, attr.lower())"
   ]
  },
  {
   "cell_type": "code",
   "execution_count": 188,
   "metadata": {
    "colab": {
     "base_uri": "https://localhost:8080/",
     "height": 309
    },
    "colab_type": "code",
    "executionInfo": {
     "elapsed": 1749,
     "status": "ok",
     "timestamp": 1540640443775,
     "user": {
      "displayName": "Ankur Bohra",
      "photoUrl": "",
      "userId": "15541534273238543658"
     },
     "user_tz": -330
    },
    "id": "gb-Ua8s5UA2T",
    "outputId": "6f8b1e0b-e79b-4a10-ffba-d9a57b8ef887"
   },
   "outputs": [
    {
     "data": {
      "text/html": [
       "<div>\n",
       "<style scoped>\n",
       "    .dataframe tbody tr th:only-of-type {\n",
       "        vertical-align: middle;\n",
       "    }\n",
       "\n",
       "    .dataframe tbody tr th {\n",
       "        vertical-align: top;\n",
       "    }\n",
       "\n",
       "    .dataframe thead th {\n",
       "        text-align: right;\n",
       "    }\n",
       "</style>\n",
       "<table border=\"1\" class=\"dataframe\">\n",
       "  <thead>\n",
       "    <tr style=\"text-align: right;\">\n",
       "      <th></th>\n",
       "      <th>Store</th>\n",
       "      <th>DayOfWeek</th>\n",
       "      <th>Date</th>\n",
       "      <th>Sales</th>\n",
       "      <th>Customers</th>\n",
       "      <th>Open</th>\n",
       "      <th>Promo</th>\n",
       "      <th>StateHoliday</th>\n",
       "      <th>SchoolHoliday</th>\n",
       "      <th>Year</th>\n",
       "      <th>Month</th>\n",
       "      <th>Week</th>\n",
       "      <th>Day</th>\n",
       "      <th>DayOfYear</th>\n",
       "      <th>Is_Month_End</th>\n",
       "      <th>Is_Month_Start</th>\n",
       "      <th>Is_Quarter_End</th>\n",
       "      <th>Is_Quarter_Start</th>\n",
       "      <th>Is_Year_End</th>\n",
       "      <th>Is_Year_Start</th>\n",
       "    </tr>\n",
       "  </thead>\n",
       "  <tbody>\n",
       "    <tr>\n",
       "      <th>0</th>\n",
       "      <td>1</td>\n",
       "      <td>4</td>\n",
       "      <td>2015-07-31</td>\n",
       "      <td>5263</td>\n",
       "      <td>555</td>\n",
       "      <td>1</td>\n",
       "      <td>1</td>\n",
       "      <td>False</td>\n",
       "      <td>1</td>\n",
       "      <td>2015</td>\n",
       "      <td>7</td>\n",
       "      <td>31</td>\n",
       "      <td>31</td>\n",
       "      <td>212</td>\n",
       "      <td>True</td>\n",
       "      <td>False</td>\n",
       "      <td>False</td>\n",
       "      <td>False</td>\n",
       "      <td>False</td>\n",
       "      <td>False</td>\n",
       "    </tr>\n",
       "    <tr>\n",
       "      <th>1</th>\n",
       "      <td>2</td>\n",
       "      <td>4</td>\n",
       "      <td>2015-07-31</td>\n",
       "      <td>6064</td>\n",
       "      <td>625</td>\n",
       "      <td>1</td>\n",
       "      <td>1</td>\n",
       "      <td>False</td>\n",
       "      <td>1</td>\n",
       "      <td>2015</td>\n",
       "      <td>7</td>\n",
       "      <td>31</td>\n",
       "      <td>31</td>\n",
       "      <td>212</td>\n",
       "      <td>True</td>\n",
       "      <td>False</td>\n",
       "      <td>False</td>\n",
       "      <td>False</td>\n",
       "      <td>False</td>\n",
       "      <td>False</td>\n",
       "    </tr>\n",
       "    <tr>\n",
       "      <th>2</th>\n",
       "      <td>3</td>\n",
       "      <td>4</td>\n",
       "      <td>2015-07-31</td>\n",
       "      <td>8314</td>\n",
       "      <td>821</td>\n",
       "      <td>1</td>\n",
       "      <td>1</td>\n",
       "      <td>False</td>\n",
       "      <td>1</td>\n",
       "      <td>2015</td>\n",
       "      <td>7</td>\n",
       "      <td>31</td>\n",
       "      <td>31</td>\n",
       "      <td>212</td>\n",
       "      <td>True</td>\n",
       "      <td>False</td>\n",
       "      <td>False</td>\n",
       "      <td>False</td>\n",
       "      <td>False</td>\n",
       "      <td>False</td>\n",
       "    </tr>\n",
       "    <tr>\n",
       "      <th>3</th>\n",
       "      <td>4</td>\n",
       "      <td>4</td>\n",
       "      <td>2015-07-31</td>\n",
       "      <td>13995</td>\n",
       "      <td>1498</td>\n",
       "      <td>1</td>\n",
       "      <td>1</td>\n",
       "      <td>False</td>\n",
       "      <td>1</td>\n",
       "      <td>2015</td>\n",
       "      <td>7</td>\n",
       "      <td>31</td>\n",
       "      <td>31</td>\n",
       "      <td>212</td>\n",
       "      <td>True</td>\n",
       "      <td>False</td>\n",
       "      <td>False</td>\n",
       "      <td>False</td>\n",
       "      <td>False</td>\n",
       "      <td>False</td>\n",
       "    </tr>\n",
       "    <tr>\n",
       "      <th>4</th>\n",
       "      <td>5</td>\n",
       "      <td>4</td>\n",
       "      <td>2015-07-31</td>\n",
       "      <td>4822</td>\n",
       "      <td>559</td>\n",
       "      <td>1</td>\n",
       "      <td>1</td>\n",
       "      <td>False</td>\n",
       "      <td>1</td>\n",
       "      <td>2015</td>\n",
       "      <td>7</td>\n",
       "      <td>31</td>\n",
       "      <td>31</td>\n",
       "      <td>212</td>\n",
       "      <td>True</td>\n",
       "      <td>False</td>\n",
       "      <td>False</td>\n",
       "      <td>False</td>\n",
       "      <td>False</td>\n",
       "      <td>False</td>\n",
       "    </tr>\n",
       "  </tbody>\n",
       "</table>\n",
       "</div>"
      ],
      "text/plain": [
       "   Store  DayOfWeek       Date  Sales  Customers  Open  Promo  StateHoliday  \\\n",
       "0      1          4 2015-07-31   5263        555     1      1         False   \n",
       "1      2          4 2015-07-31   6064        625     1      1         False   \n",
       "2      3          4 2015-07-31   8314        821     1      1         False   \n",
       "3      4          4 2015-07-31  13995       1498     1      1         False   \n",
       "4      5          4 2015-07-31   4822        559     1      1         False   \n",
       "\n",
       "   SchoolHoliday  Year  Month  Week  Day  DayOfYear  Is_Month_End  \\\n",
       "0              1  2015      7    31   31        212          True   \n",
       "1              1  2015      7    31   31        212          True   \n",
       "2              1  2015      7    31   31        212          True   \n",
       "3              1  2015      7    31   31        212          True   \n",
       "4              1  2015      7    31   31        212          True   \n",
       "\n",
       "   Is_Month_Start  Is_Quarter_End  Is_Quarter_Start  Is_Year_End  \\\n",
       "0           False           False             False        False   \n",
       "1           False           False             False        False   \n",
       "2           False           False             False        False   \n",
       "3           False           False             False        False   \n",
       "4           False           False             False        False   \n",
       "\n",
       "   Is_Year_Start  \n",
       "0          False  \n",
       "1          False  \n",
       "2          False  \n",
       "3          False  \n",
       "4          False  "
      ]
     },
     "execution_count": 188,
     "metadata": {},
     "output_type": "execute_result"
    }
   ],
   "source": [
    "add_date_features(train_df, \"Date\")\n",
    "train_df.head()"
   ]
  },
  {
   "cell_type": "markdown",
   "metadata": {
    "colab_type": "text",
    "id": "ZMU-wL-BUVs-"
   },
   "source": [
    "### Join Train DataFrame With Store DataFrame"
   ]
  },
  {
   "cell_type": "code",
   "execution_count": 189,
   "metadata": {
    "colab": {
     "base_uri": "https://localhost:8080/",
     "height": 309
    },
    "colab_type": "code",
    "executionInfo": {
     "elapsed": 1650,
     "status": "ok",
     "timestamp": 1540640445851,
     "user": {
      "displayName": "Ankur Bohra",
      "photoUrl": "",
      "userId": "15541534273238543658"
     },
     "user_tz": -330
    },
    "id": "2CnUBqn8oQXs",
    "outputId": "7bbe747e-214a-4ddc-8949-f100071e1434"
   },
   "outputs": [
    {
     "data": {
      "text/html": [
       "<div>\n",
       "<style scoped>\n",
       "    .dataframe tbody tr th:only-of-type {\n",
       "        vertical-align: middle;\n",
       "    }\n",
       "\n",
       "    .dataframe tbody tr th {\n",
       "        vertical-align: top;\n",
       "    }\n",
       "\n",
       "    .dataframe thead th {\n",
       "        text-align: right;\n",
       "    }\n",
       "</style>\n",
       "<table border=\"1\" class=\"dataframe\">\n",
       "  <thead>\n",
       "    <tr style=\"text-align: right;\">\n",
       "      <th></th>\n",
       "      <th>Store</th>\n",
       "      <th>DayOfWeek</th>\n",
       "      <th>Date</th>\n",
       "      <th>Sales</th>\n",
       "      <th>Customers</th>\n",
       "      <th>Open</th>\n",
       "      <th>Promo</th>\n",
       "      <th>StateHoliday</th>\n",
       "      <th>SchoolHoliday</th>\n",
       "      <th>Year</th>\n",
       "      <th>...</th>\n",
       "      <th>Is_Month_End</th>\n",
       "      <th>Is_Month_Start</th>\n",
       "      <th>Is_Quarter_End</th>\n",
       "      <th>Is_Quarter_Start</th>\n",
       "      <th>Is_Year_End</th>\n",
       "      <th>Is_Year_Start</th>\n",
       "      <th>StoreType</th>\n",
       "      <th>Assortment</th>\n",
       "      <th>CompetitionDistance</th>\n",
       "      <th>Promo2</th>\n",
       "    </tr>\n",
       "  </thead>\n",
       "  <tbody>\n",
       "    <tr>\n",
       "      <th>0</th>\n",
       "      <td>1</td>\n",
       "      <td>4</td>\n",
       "      <td>2015-07-31</td>\n",
       "      <td>5263</td>\n",
       "      <td>555</td>\n",
       "      <td>1</td>\n",
       "      <td>1</td>\n",
       "      <td>False</td>\n",
       "      <td>1</td>\n",
       "      <td>2015</td>\n",
       "      <td>...</td>\n",
       "      <td>True</td>\n",
       "      <td>False</td>\n",
       "      <td>False</td>\n",
       "      <td>False</td>\n",
       "      <td>False</td>\n",
       "      <td>False</td>\n",
       "      <td>c</td>\n",
       "      <td>a</td>\n",
       "      <td>1270.0</td>\n",
       "      <td>0</td>\n",
       "    </tr>\n",
       "    <tr>\n",
       "      <th>1</th>\n",
       "      <td>2</td>\n",
       "      <td>4</td>\n",
       "      <td>2015-07-31</td>\n",
       "      <td>6064</td>\n",
       "      <td>625</td>\n",
       "      <td>1</td>\n",
       "      <td>1</td>\n",
       "      <td>False</td>\n",
       "      <td>1</td>\n",
       "      <td>2015</td>\n",
       "      <td>...</td>\n",
       "      <td>True</td>\n",
       "      <td>False</td>\n",
       "      <td>False</td>\n",
       "      <td>False</td>\n",
       "      <td>False</td>\n",
       "      <td>False</td>\n",
       "      <td>a</td>\n",
       "      <td>a</td>\n",
       "      <td>570.0</td>\n",
       "      <td>1</td>\n",
       "    </tr>\n",
       "    <tr>\n",
       "      <th>2</th>\n",
       "      <td>3</td>\n",
       "      <td>4</td>\n",
       "      <td>2015-07-31</td>\n",
       "      <td>8314</td>\n",
       "      <td>821</td>\n",
       "      <td>1</td>\n",
       "      <td>1</td>\n",
       "      <td>False</td>\n",
       "      <td>1</td>\n",
       "      <td>2015</td>\n",
       "      <td>...</td>\n",
       "      <td>True</td>\n",
       "      <td>False</td>\n",
       "      <td>False</td>\n",
       "      <td>False</td>\n",
       "      <td>False</td>\n",
       "      <td>False</td>\n",
       "      <td>a</td>\n",
       "      <td>a</td>\n",
       "      <td>14130.0</td>\n",
       "      <td>1</td>\n",
       "    </tr>\n",
       "    <tr>\n",
       "      <th>3</th>\n",
       "      <td>4</td>\n",
       "      <td>4</td>\n",
       "      <td>2015-07-31</td>\n",
       "      <td>13995</td>\n",
       "      <td>1498</td>\n",
       "      <td>1</td>\n",
       "      <td>1</td>\n",
       "      <td>False</td>\n",
       "      <td>1</td>\n",
       "      <td>2015</td>\n",
       "      <td>...</td>\n",
       "      <td>True</td>\n",
       "      <td>False</td>\n",
       "      <td>False</td>\n",
       "      <td>False</td>\n",
       "      <td>False</td>\n",
       "      <td>False</td>\n",
       "      <td>c</td>\n",
       "      <td>c</td>\n",
       "      <td>620.0</td>\n",
       "      <td>0</td>\n",
       "    </tr>\n",
       "    <tr>\n",
       "      <th>4</th>\n",
       "      <td>5</td>\n",
       "      <td>4</td>\n",
       "      <td>2015-07-31</td>\n",
       "      <td>4822</td>\n",
       "      <td>559</td>\n",
       "      <td>1</td>\n",
       "      <td>1</td>\n",
       "      <td>False</td>\n",
       "      <td>1</td>\n",
       "      <td>2015</td>\n",
       "      <td>...</td>\n",
       "      <td>True</td>\n",
       "      <td>False</td>\n",
       "      <td>False</td>\n",
       "      <td>False</td>\n",
       "      <td>False</td>\n",
       "      <td>False</td>\n",
       "      <td>a</td>\n",
       "      <td>a</td>\n",
       "      <td>29910.0</td>\n",
       "      <td>0</td>\n",
       "    </tr>\n",
       "  </tbody>\n",
       "</table>\n",
       "<p>5 rows × 24 columns</p>\n",
       "</div>"
      ],
      "text/plain": [
       "   Store  DayOfWeek       Date  Sales  Customers  Open  Promo  StateHoliday  \\\n",
       "0      1          4 2015-07-31   5263        555     1      1         False   \n",
       "1      2          4 2015-07-31   6064        625     1      1         False   \n",
       "2      3          4 2015-07-31   8314        821     1      1         False   \n",
       "3      4          4 2015-07-31  13995       1498     1      1         False   \n",
       "4      5          4 2015-07-31   4822        559     1      1         False   \n",
       "\n",
       "   SchoolHoliday  Year   ...    Is_Month_End  Is_Month_Start  Is_Quarter_End  \\\n",
       "0              1  2015   ...            True           False           False   \n",
       "1              1  2015   ...            True           False           False   \n",
       "2              1  2015   ...            True           False           False   \n",
       "3              1  2015   ...            True           False           False   \n",
       "4              1  2015   ...            True           False           False   \n",
       "\n",
       "   Is_Quarter_Start  Is_Year_End  Is_Year_Start  StoreType  Assortment  \\\n",
       "0             False        False          False          c           a   \n",
       "1             False        False          False          a           a   \n",
       "2             False        False          False          a           a   \n",
       "3             False        False          False          c           c   \n",
       "4             False        False          False          a           a   \n",
       "\n",
       "   CompetitionDistance  Promo2  \n",
       "0               1270.0       0  \n",
       "1                570.0       1  \n",
       "2              14130.0       1  \n",
       "3                620.0       0  \n",
       "4              29910.0       0  \n",
       "\n",
       "[5 rows x 24 columns]"
      ]
     },
     "execution_count": 189,
     "metadata": {},
     "output_type": "execute_result"
    }
   ],
   "source": [
    "train_df = pd.merge(train_df, store_df, how='left', on='Store')\n",
    "train_df.head()"
   ]
  },
  {
   "cell_type": "markdown",
   "metadata": {
    "colab_type": "text",
    "id": "1DzuSptwod6g"
   },
   "source": [
    "### Omit rows from the dataset when the store was not open"
   ]
  },
  {
   "cell_type": "code",
   "execution_count": 190,
   "metadata": {
    "colab": {},
    "colab_type": "code",
    "id": "I_0_CnRyqbTu"
   },
   "outputs": [],
   "source": [
    "train_df = train_df[train_df.Open != 0]\n",
    "train_df.drop('Open', axis=1, inplace=True)"
   ]
  },
  {
   "cell_type": "markdown",
   "metadata": {
    "colab_type": "text",
    "id": "ZRGaV24HrWTJ"
   },
   "source": [
    "### Omit rows when 0 sales happened"
   ]
  },
  {
   "cell_type": "code",
   "execution_count": 191,
   "metadata": {
    "colab": {},
    "colab_type": "code",
    "id": "A1-J1Z1cyx1N"
   },
   "outputs": [],
   "source": [
    "train_df = train_df[train_df.Sales!=0]"
   ]
  },
  {
   "cell_type": "markdown",
   "metadata": {
    "colab_type": "text",
    "id": "P5cfd6asy5RW"
   },
   "source": [
    "### Reset Index"
   ]
  },
  {
   "cell_type": "code",
   "execution_count": 192,
   "metadata": {
    "colab": {},
    "colab_type": "code",
    "id": "5mW08Bv80th-"
   },
   "outputs": [],
   "source": [
    "train_df.reset_index(inplace=True)"
   ]
  },
  {
   "cell_type": "code",
   "execution_count": 193,
   "metadata": {
    "colab": {
     "base_uri": "https://localhost:8080/",
     "height": 309
    },
    "colab_type": "code",
    "executionInfo": {
     "elapsed": 1265,
     "status": "ok",
     "timestamp": 1540640452576,
     "user": {
      "displayName": "Ankur Bohra",
      "photoUrl": "",
      "userId": "15541534273238543658"
     },
     "user_tz": -330
    },
    "id": "ph1pBkRN7evG",
    "outputId": "6996c723-cc0b-4cc4-c34f-512c42752a44"
   },
   "outputs": [
    {
     "data": {
      "text/html": [
       "<div>\n",
       "<style scoped>\n",
       "    .dataframe tbody tr th:only-of-type {\n",
       "        vertical-align: middle;\n",
       "    }\n",
       "\n",
       "    .dataframe tbody tr th {\n",
       "        vertical-align: top;\n",
       "    }\n",
       "\n",
       "    .dataframe thead th {\n",
       "        text-align: right;\n",
       "    }\n",
       "</style>\n",
       "<table border=\"1\" class=\"dataframe\">\n",
       "  <thead>\n",
       "    <tr style=\"text-align: right;\">\n",
       "      <th></th>\n",
       "      <th>index</th>\n",
       "      <th>Store</th>\n",
       "      <th>DayOfWeek</th>\n",
       "      <th>Date</th>\n",
       "      <th>Sales</th>\n",
       "      <th>Customers</th>\n",
       "      <th>Promo</th>\n",
       "      <th>StateHoliday</th>\n",
       "      <th>SchoolHoliday</th>\n",
       "      <th>Year</th>\n",
       "      <th>...</th>\n",
       "      <th>Is_Month_End</th>\n",
       "      <th>Is_Month_Start</th>\n",
       "      <th>Is_Quarter_End</th>\n",
       "      <th>Is_Quarter_Start</th>\n",
       "      <th>Is_Year_End</th>\n",
       "      <th>Is_Year_Start</th>\n",
       "      <th>StoreType</th>\n",
       "      <th>Assortment</th>\n",
       "      <th>CompetitionDistance</th>\n",
       "      <th>Promo2</th>\n",
       "    </tr>\n",
       "  </thead>\n",
       "  <tbody>\n",
       "    <tr>\n",
       "      <th>0</th>\n",
       "      <td>0</td>\n",
       "      <td>1</td>\n",
       "      <td>4</td>\n",
       "      <td>2015-07-31</td>\n",
       "      <td>5263</td>\n",
       "      <td>555</td>\n",
       "      <td>1</td>\n",
       "      <td>False</td>\n",
       "      <td>1</td>\n",
       "      <td>2015</td>\n",
       "      <td>...</td>\n",
       "      <td>True</td>\n",
       "      <td>False</td>\n",
       "      <td>False</td>\n",
       "      <td>False</td>\n",
       "      <td>False</td>\n",
       "      <td>False</td>\n",
       "      <td>c</td>\n",
       "      <td>a</td>\n",
       "      <td>1270.0</td>\n",
       "      <td>0</td>\n",
       "    </tr>\n",
       "    <tr>\n",
       "      <th>1</th>\n",
       "      <td>1</td>\n",
       "      <td>2</td>\n",
       "      <td>4</td>\n",
       "      <td>2015-07-31</td>\n",
       "      <td>6064</td>\n",
       "      <td>625</td>\n",
       "      <td>1</td>\n",
       "      <td>False</td>\n",
       "      <td>1</td>\n",
       "      <td>2015</td>\n",
       "      <td>...</td>\n",
       "      <td>True</td>\n",
       "      <td>False</td>\n",
       "      <td>False</td>\n",
       "      <td>False</td>\n",
       "      <td>False</td>\n",
       "      <td>False</td>\n",
       "      <td>a</td>\n",
       "      <td>a</td>\n",
       "      <td>570.0</td>\n",
       "      <td>1</td>\n",
       "    </tr>\n",
       "    <tr>\n",
       "      <th>2</th>\n",
       "      <td>2</td>\n",
       "      <td>3</td>\n",
       "      <td>4</td>\n",
       "      <td>2015-07-31</td>\n",
       "      <td>8314</td>\n",
       "      <td>821</td>\n",
       "      <td>1</td>\n",
       "      <td>False</td>\n",
       "      <td>1</td>\n",
       "      <td>2015</td>\n",
       "      <td>...</td>\n",
       "      <td>True</td>\n",
       "      <td>False</td>\n",
       "      <td>False</td>\n",
       "      <td>False</td>\n",
       "      <td>False</td>\n",
       "      <td>False</td>\n",
       "      <td>a</td>\n",
       "      <td>a</td>\n",
       "      <td>14130.0</td>\n",
       "      <td>1</td>\n",
       "    </tr>\n",
       "    <tr>\n",
       "      <th>3</th>\n",
       "      <td>3</td>\n",
       "      <td>4</td>\n",
       "      <td>4</td>\n",
       "      <td>2015-07-31</td>\n",
       "      <td>13995</td>\n",
       "      <td>1498</td>\n",
       "      <td>1</td>\n",
       "      <td>False</td>\n",
       "      <td>1</td>\n",
       "      <td>2015</td>\n",
       "      <td>...</td>\n",
       "      <td>True</td>\n",
       "      <td>False</td>\n",
       "      <td>False</td>\n",
       "      <td>False</td>\n",
       "      <td>False</td>\n",
       "      <td>False</td>\n",
       "      <td>c</td>\n",
       "      <td>c</td>\n",
       "      <td>620.0</td>\n",
       "      <td>0</td>\n",
       "    </tr>\n",
       "    <tr>\n",
       "      <th>4</th>\n",
       "      <td>4</td>\n",
       "      <td>5</td>\n",
       "      <td>4</td>\n",
       "      <td>2015-07-31</td>\n",
       "      <td>4822</td>\n",
       "      <td>559</td>\n",
       "      <td>1</td>\n",
       "      <td>False</td>\n",
       "      <td>1</td>\n",
       "      <td>2015</td>\n",
       "      <td>...</td>\n",
       "      <td>True</td>\n",
       "      <td>False</td>\n",
       "      <td>False</td>\n",
       "      <td>False</td>\n",
       "      <td>False</td>\n",
       "      <td>False</td>\n",
       "      <td>a</td>\n",
       "      <td>a</td>\n",
       "      <td>29910.0</td>\n",
       "      <td>0</td>\n",
       "    </tr>\n",
       "  </tbody>\n",
       "</table>\n",
       "<p>5 rows × 24 columns</p>\n",
       "</div>"
      ],
      "text/plain": [
       "   index  Store  DayOfWeek       Date  Sales  Customers  Promo  StateHoliday  \\\n",
       "0      0      1          4 2015-07-31   5263        555      1         False   \n",
       "1      1      2          4 2015-07-31   6064        625      1         False   \n",
       "2      2      3          4 2015-07-31   8314        821      1         False   \n",
       "3      3      4          4 2015-07-31  13995       1498      1         False   \n",
       "4      4      5          4 2015-07-31   4822        559      1         False   \n",
       "\n",
       "   SchoolHoliday  Year   ...    Is_Month_End  Is_Month_Start  Is_Quarter_End  \\\n",
       "0              1  2015   ...            True           False           False   \n",
       "1              1  2015   ...            True           False           False   \n",
       "2              1  2015   ...            True           False           False   \n",
       "3              1  2015   ...            True           False           False   \n",
       "4              1  2015   ...            True           False           False   \n",
       "\n",
       "   Is_Quarter_Start  Is_Year_End  Is_Year_Start  StoreType  Assortment  \\\n",
       "0             False        False          False          c           a   \n",
       "1             False        False          False          a           a   \n",
       "2             False        False          False          a           a   \n",
       "3             False        False          False          c           c   \n",
       "4             False        False          False          a           a   \n",
       "\n",
       "   CompetitionDistance  Promo2  \n",
       "0               1270.0       0  \n",
       "1                570.0       1  \n",
       "2              14130.0       1  \n",
       "3                620.0       0  \n",
       "4              29910.0       0  \n",
       "\n",
       "[5 rows x 24 columns]"
      ]
     },
     "execution_count": 193,
     "metadata": {},
     "output_type": "execute_result"
    }
   ],
   "source": [
    "train_df.head()"
   ]
  },
  {
   "cell_type": "markdown",
   "metadata": {
    "colab_type": "text",
    "id": "0y3OO39f8o2i"
   },
   "source": [
    "### Define categorical and continuous fields"
   ]
  },
  {
   "cell_type": "code",
   "execution_count": 194,
   "metadata": {
    "colab": {
     "base_uri": "https://localhost:8080/",
     "height": 793
    },
    "colab_type": "code",
    "executionInfo": {
     "elapsed": 5574,
     "status": "ok",
     "timestamp": 1540640458480,
     "user": {
      "displayName": "Ankur Bohra",
      "photoUrl": "",
      "userId": "15541534273238543658"
     },
     "user_tz": -330
    },
    "id": "mb8Hjd63Cl2I",
    "outputId": "2dec301d-203c-483f-e0b6-c5c00951a8f0"
   },
   "outputs": [
    {
     "data": {
      "text/html": [
       "<div>\n",
       "<style scoped>\n",
       "    .dataframe tbody tr th:only-of-type {\n",
       "        vertical-align: middle;\n",
       "    }\n",
       "\n",
       "    .dataframe tbody tr th {\n",
       "        vertical-align: top;\n",
       "    }\n",
       "\n",
       "    .dataframe thead th {\n",
       "        text-align: right;\n",
       "    }\n",
       "</style>\n",
       "<table border=\"1\" class=\"dataframe\">\n",
       "  <thead>\n",
       "    <tr style=\"text-align: right;\">\n",
       "      <th></th>\n",
       "      <th>count</th>\n",
       "      <th>mean</th>\n",
       "      <th>std</th>\n",
       "      <th>min</th>\n",
       "      <th>25%</th>\n",
       "      <th>50%</th>\n",
       "      <th>75%</th>\n",
       "      <th>max</th>\n",
       "      <th>counts</th>\n",
       "      <th>uniques</th>\n",
       "      <th>missing</th>\n",
       "      <th>missing_perc</th>\n",
       "      <th>types</th>\n",
       "    </tr>\n",
       "  </thead>\n",
       "  <tbody>\n",
       "    <tr>\n",
       "      <th>index</th>\n",
       "      <td>844338</td>\n",
       "      <td>508610</td>\n",
       "      <td>293699</td>\n",
       "      <td>0</td>\n",
       "      <td>256009</td>\n",
       "      <td>510142</td>\n",
       "      <td>763018</td>\n",
       "      <td>1.01719e+06</td>\n",
       "      <td>844338</td>\n",
       "      <td>844338</td>\n",
       "      <td>0</td>\n",
       "      <td>0%</td>\n",
       "      <td>numeric</td>\n",
       "    </tr>\n",
       "    <tr>\n",
       "      <th>Store</th>\n",
       "      <td>844338</td>\n",
       "      <td>558.421</td>\n",
       "      <td>321.731</td>\n",
       "      <td>1</td>\n",
       "      <td>280</td>\n",
       "      <td>558</td>\n",
       "      <td>837</td>\n",
       "      <td>1115</td>\n",
       "      <td>844338</td>\n",
       "      <td>1115</td>\n",
       "      <td>0</td>\n",
       "      <td>0%</td>\n",
       "      <td>numeric</td>\n",
       "    </tr>\n",
       "    <tr>\n",
       "      <th>DayOfWeek</th>\n",
       "      <td>844338</td>\n",
       "      <td>2.52035</td>\n",
       "      <td>1.72371</td>\n",
       "      <td>0</td>\n",
       "      <td>1</td>\n",
       "      <td>2</td>\n",
       "      <td>4</td>\n",
       "      <td>6</td>\n",
       "      <td>844338</td>\n",
       "      <td>7</td>\n",
       "      <td>0</td>\n",
       "      <td>0%</td>\n",
       "      <td>numeric</td>\n",
       "    </tr>\n",
       "    <tr>\n",
       "      <th>Date</th>\n",
       "      <td>NaN</td>\n",
       "      <td>NaN</td>\n",
       "      <td>NaN</td>\n",
       "      <td>NaN</td>\n",
       "      <td>NaN</td>\n",
       "      <td>NaN</td>\n",
       "      <td>NaN</td>\n",
       "      <td>NaN</td>\n",
       "      <td>844338</td>\n",
       "      <td>942</td>\n",
       "      <td>0</td>\n",
       "      <td>0%</td>\n",
       "      <td>date</td>\n",
       "    </tr>\n",
       "    <tr>\n",
       "      <th>Sales</th>\n",
       "      <td>844338</td>\n",
       "      <td>6955.96</td>\n",
       "      <td>3103.82</td>\n",
       "      <td>46</td>\n",
       "      <td>4859</td>\n",
       "      <td>6369</td>\n",
       "      <td>8360</td>\n",
       "      <td>41551</td>\n",
       "      <td>844338</td>\n",
       "      <td>21733</td>\n",
       "      <td>0</td>\n",
       "      <td>0%</td>\n",
       "      <td>numeric</td>\n",
       "    </tr>\n",
       "    <tr>\n",
       "      <th>Customers</th>\n",
       "      <td>844338</td>\n",
       "      <td>762.777</td>\n",
       "      <td>401.194</td>\n",
       "      <td>8</td>\n",
       "      <td>519</td>\n",
       "      <td>676</td>\n",
       "      <td>893</td>\n",
       "      <td>7388</td>\n",
       "      <td>844338</td>\n",
       "      <td>4083</td>\n",
       "      <td>0</td>\n",
       "      <td>0%</td>\n",
       "      <td>numeric</td>\n",
       "    </tr>\n",
       "    <tr>\n",
       "      <th>Promo</th>\n",
       "      <td>844338</td>\n",
       "      <td>0.446356</td>\n",
       "      <td>0.497114</td>\n",
       "      <td>0</td>\n",
       "      <td>0</td>\n",
       "      <td>0</td>\n",
       "      <td>1</td>\n",
       "      <td>1</td>\n",
       "      <td>844338</td>\n",
       "      <td>2</td>\n",
       "      <td>0</td>\n",
       "      <td>0%</td>\n",
       "      <td>bool</td>\n",
       "    </tr>\n",
       "    <tr>\n",
       "      <th>StateHoliday</th>\n",
       "      <td>NaN</td>\n",
       "      <td>NaN</td>\n",
       "      <td>NaN</td>\n",
       "      <td>NaN</td>\n",
       "      <td>NaN</td>\n",
       "      <td>NaN</td>\n",
       "      <td>NaN</td>\n",
       "      <td>NaN</td>\n",
       "      <td>844338</td>\n",
       "      <td>2</td>\n",
       "      <td>0</td>\n",
       "      <td>0%</td>\n",
       "      <td>bool</td>\n",
       "    </tr>\n",
       "    <tr>\n",
       "      <th>SchoolHoliday</th>\n",
       "      <td>844338</td>\n",
       "      <td>0.193578</td>\n",
       "      <td>0.395102</td>\n",
       "      <td>0</td>\n",
       "      <td>0</td>\n",
       "      <td>0</td>\n",
       "      <td>0</td>\n",
       "      <td>1</td>\n",
       "      <td>844338</td>\n",
       "      <td>2</td>\n",
       "      <td>0</td>\n",
       "      <td>0%</td>\n",
       "      <td>bool</td>\n",
       "    </tr>\n",
       "    <tr>\n",
       "      <th>Year</th>\n",
       "      <td>844338</td>\n",
       "      <td>2013.83</td>\n",
       "      <td>0.777271</td>\n",
       "      <td>2013</td>\n",
       "      <td>2013</td>\n",
       "      <td>2014</td>\n",
       "      <td>2014</td>\n",
       "      <td>2015</td>\n",
       "      <td>844338</td>\n",
       "      <td>3</td>\n",
       "      <td>0</td>\n",
       "      <td>0%</td>\n",
       "      <td>numeric</td>\n",
       "    </tr>\n",
       "    <tr>\n",
       "      <th>Month</th>\n",
       "      <td>844338</td>\n",
       "      <td>5.84577</td>\n",
       "      <td>3.32396</td>\n",
       "      <td>1</td>\n",
       "      <td>3</td>\n",
       "      <td>6</td>\n",
       "      <td>8</td>\n",
       "      <td>12</td>\n",
       "      <td>844338</td>\n",
       "      <td>12</td>\n",
       "      <td>0</td>\n",
       "      <td>0%</td>\n",
       "      <td>numeric</td>\n",
       "    </tr>\n",
       "    <tr>\n",
       "      <th>Week</th>\n",
       "      <td>844338</td>\n",
       "      <td>23.6469</td>\n",
       "      <td>14.3899</td>\n",
       "      <td>1</td>\n",
       "      <td>11</td>\n",
       "      <td>23</td>\n",
       "      <td>35</td>\n",
       "      <td>52</td>\n",
       "      <td>844338</td>\n",
       "      <td>52</td>\n",
       "      <td>0</td>\n",
       "      <td>0%</td>\n",
       "      <td>numeric</td>\n",
       "    </tr>\n",
       "    <tr>\n",
       "      <th>Day</th>\n",
       "      <td>844338</td>\n",
       "      <td>15.8357</td>\n",
       "      <td>8.68339</td>\n",
       "      <td>1</td>\n",
       "      <td>8</td>\n",
       "      <td>16</td>\n",
       "      <td>23</td>\n",
       "      <td>31</td>\n",
       "      <td>844338</td>\n",
       "      <td>31</td>\n",
       "      <td>0</td>\n",
       "      <td>0%</td>\n",
       "      <td>numeric</td>\n",
       "    </tr>\n",
       "    <tr>\n",
       "      <th>DayOfYear</th>\n",
       "      <td>844338</td>\n",
       "      <td>162.388</td>\n",
       "      <td>101.369</td>\n",
       "      <td>1</td>\n",
       "      <td>75</td>\n",
       "      <td>154</td>\n",
       "      <td>241</td>\n",
       "      <td>365</td>\n",
       "      <td>844338</td>\n",
       "      <td>365</td>\n",
       "      <td>0</td>\n",
       "      <td>0%</td>\n",
       "      <td>numeric</td>\n",
       "    </tr>\n",
       "    <tr>\n",
       "      <th>Is_Month_End</th>\n",
       "      <td>NaN</td>\n",
       "      <td>NaN</td>\n",
       "      <td>NaN</td>\n",
       "      <td>NaN</td>\n",
       "      <td>NaN</td>\n",
       "      <td>NaN</td>\n",
       "      <td>NaN</td>\n",
       "      <td>NaN</td>\n",
       "      <td>844338</td>\n",
       "      <td>2</td>\n",
       "      <td>0</td>\n",
       "      <td>0%</td>\n",
       "      <td>bool</td>\n",
       "    </tr>\n",
       "    <tr>\n",
       "      <th>Is_Month_Start</th>\n",
       "      <td>NaN</td>\n",
       "      <td>NaN</td>\n",
       "      <td>NaN</td>\n",
       "      <td>NaN</td>\n",
       "      <td>NaN</td>\n",
       "      <td>NaN</td>\n",
       "      <td>NaN</td>\n",
       "      <td>NaN</td>\n",
       "      <td>844338</td>\n",
       "      <td>2</td>\n",
       "      <td>0</td>\n",
       "      <td>0%</td>\n",
       "      <td>bool</td>\n",
       "    </tr>\n",
       "    <tr>\n",
       "      <th>Is_Quarter_End</th>\n",
       "      <td>NaN</td>\n",
       "      <td>NaN</td>\n",
       "      <td>NaN</td>\n",
       "      <td>NaN</td>\n",
       "      <td>NaN</td>\n",
       "      <td>NaN</td>\n",
       "      <td>NaN</td>\n",
       "      <td>NaN</td>\n",
       "      <td>844338</td>\n",
       "      <td>2</td>\n",
       "      <td>0</td>\n",
       "      <td>0%</td>\n",
       "      <td>bool</td>\n",
       "    </tr>\n",
       "    <tr>\n",
       "      <th>Is_Quarter_Start</th>\n",
       "      <td>NaN</td>\n",
       "      <td>NaN</td>\n",
       "      <td>NaN</td>\n",
       "      <td>NaN</td>\n",
       "      <td>NaN</td>\n",
       "      <td>NaN</td>\n",
       "      <td>NaN</td>\n",
       "      <td>NaN</td>\n",
       "      <td>844338</td>\n",
       "      <td>2</td>\n",
       "      <td>0</td>\n",
       "      <td>0%</td>\n",
       "      <td>bool</td>\n",
       "    </tr>\n",
       "    <tr>\n",
       "      <th>Is_Year_End</th>\n",
       "      <td>NaN</td>\n",
       "      <td>NaN</td>\n",
       "      <td>NaN</td>\n",
       "      <td>NaN</td>\n",
       "      <td>NaN</td>\n",
       "      <td>NaN</td>\n",
       "      <td>NaN</td>\n",
       "      <td>NaN</td>\n",
       "      <td>844338</td>\n",
       "      <td>2</td>\n",
       "      <td>0</td>\n",
       "      <td>0%</td>\n",
       "      <td>bool</td>\n",
       "    </tr>\n",
       "    <tr>\n",
       "      <th>Is_Year_Start</th>\n",
       "      <td>NaN</td>\n",
       "      <td>NaN</td>\n",
       "      <td>NaN</td>\n",
       "      <td>NaN</td>\n",
       "      <td>NaN</td>\n",
       "      <td>NaN</td>\n",
       "      <td>NaN</td>\n",
       "      <td>NaN</td>\n",
       "      <td>844338</td>\n",
       "      <td>2</td>\n",
       "      <td>0</td>\n",
       "      <td>0%</td>\n",
       "      <td>bool</td>\n",
       "    </tr>\n",
       "    <tr>\n",
       "      <th>StoreType</th>\n",
       "      <td>NaN</td>\n",
       "      <td>NaN</td>\n",
       "      <td>NaN</td>\n",
       "      <td>NaN</td>\n",
       "      <td>NaN</td>\n",
       "      <td>NaN</td>\n",
       "      <td>NaN</td>\n",
       "      <td>NaN</td>\n",
       "      <td>844338</td>\n",
       "      <td>4</td>\n",
       "      <td>0</td>\n",
       "      <td>0%</td>\n",
       "      <td>categorical</td>\n",
       "    </tr>\n",
       "    <tr>\n",
       "      <th>Assortment</th>\n",
       "      <td>NaN</td>\n",
       "      <td>NaN</td>\n",
       "      <td>NaN</td>\n",
       "      <td>NaN</td>\n",
       "      <td>NaN</td>\n",
       "      <td>NaN</td>\n",
       "      <td>NaN</td>\n",
       "      <td>NaN</td>\n",
       "      <td>844338</td>\n",
       "      <td>3</td>\n",
       "      <td>0</td>\n",
       "      <td>0%</td>\n",
       "      <td>categorical</td>\n",
       "    </tr>\n",
       "    <tr>\n",
       "      <th>CompetitionDistance</th>\n",
       "      <td>844338</td>\n",
       "      <td>5450.04</td>\n",
       "      <td>7801.08</td>\n",
       "      <td>20</td>\n",
       "      <td>710</td>\n",
       "      <td>2325</td>\n",
       "      <td>6880</td>\n",
       "      <td>75860</td>\n",
       "      <td>844338</td>\n",
       "      <td>655</td>\n",
       "      <td>0</td>\n",
       "      <td>0%</td>\n",
       "      <td>numeric</td>\n",
       "    </tr>\n",
       "    <tr>\n",
       "      <th>Promo2</th>\n",
       "      <td>844338</td>\n",
       "      <td>0.49867</td>\n",
       "      <td>0.499999</td>\n",
       "      <td>0</td>\n",
       "      <td>0</td>\n",
       "      <td>0</td>\n",
       "      <td>1</td>\n",
       "      <td>1</td>\n",
       "      <td>844338</td>\n",
       "      <td>2</td>\n",
       "      <td>0</td>\n",
       "      <td>0%</td>\n",
       "      <td>bool</td>\n",
       "    </tr>\n",
       "  </tbody>\n",
       "</table>\n",
       "</div>"
      ],
      "text/plain": [
       "                      count      mean       std   min     25%     50%     75%  \\\n",
       "index                844338    508610    293699     0  256009  510142  763018   \n",
       "Store                844338   558.421   321.731     1     280     558     837   \n",
       "DayOfWeek            844338   2.52035   1.72371     0       1       2       4   \n",
       "Date                    NaN       NaN       NaN   NaN     NaN     NaN     NaN   \n",
       "Sales                844338   6955.96   3103.82    46    4859    6369    8360   \n",
       "Customers            844338   762.777   401.194     8     519     676     893   \n",
       "Promo                844338  0.446356  0.497114     0       0       0       1   \n",
       "StateHoliday            NaN       NaN       NaN   NaN     NaN     NaN     NaN   \n",
       "SchoolHoliday        844338  0.193578  0.395102     0       0       0       0   \n",
       "Year                 844338   2013.83  0.777271  2013    2013    2014    2014   \n",
       "Month                844338   5.84577   3.32396     1       3       6       8   \n",
       "Week                 844338   23.6469   14.3899     1      11      23      35   \n",
       "Day                  844338   15.8357   8.68339     1       8      16      23   \n",
       "DayOfYear            844338   162.388   101.369     1      75     154     241   \n",
       "Is_Month_End            NaN       NaN       NaN   NaN     NaN     NaN     NaN   \n",
       "Is_Month_Start          NaN       NaN       NaN   NaN     NaN     NaN     NaN   \n",
       "Is_Quarter_End          NaN       NaN       NaN   NaN     NaN     NaN     NaN   \n",
       "Is_Quarter_Start        NaN       NaN       NaN   NaN     NaN     NaN     NaN   \n",
       "Is_Year_End             NaN       NaN       NaN   NaN     NaN     NaN     NaN   \n",
       "Is_Year_Start           NaN       NaN       NaN   NaN     NaN     NaN     NaN   \n",
       "StoreType               NaN       NaN       NaN   NaN     NaN     NaN     NaN   \n",
       "Assortment              NaN       NaN       NaN   NaN     NaN     NaN     NaN   \n",
       "CompetitionDistance  844338   5450.04   7801.08    20     710    2325    6880   \n",
       "Promo2               844338   0.49867  0.499999     0       0       0       1   \n",
       "\n",
       "                             max  counts uniques missing missing_perc  \\\n",
       "index                1.01719e+06  844338  844338       0           0%   \n",
       "Store                       1115  844338    1115       0           0%   \n",
       "DayOfWeek                      6  844338       7       0           0%   \n",
       "Date                         NaN  844338     942       0           0%   \n",
       "Sales                      41551  844338   21733       0           0%   \n",
       "Customers                   7388  844338    4083       0           0%   \n",
       "Promo                          1  844338       2       0           0%   \n",
       "StateHoliday                 NaN  844338       2       0           0%   \n",
       "SchoolHoliday                  1  844338       2       0           0%   \n",
       "Year                        2015  844338       3       0           0%   \n",
       "Month                         12  844338      12       0           0%   \n",
       "Week                          52  844338      52       0           0%   \n",
       "Day                           31  844338      31       0           0%   \n",
       "DayOfYear                    365  844338     365       0           0%   \n",
       "Is_Month_End                 NaN  844338       2       0           0%   \n",
       "Is_Month_Start               NaN  844338       2       0           0%   \n",
       "Is_Quarter_End               NaN  844338       2       0           0%   \n",
       "Is_Quarter_Start             NaN  844338       2       0           0%   \n",
       "Is_Year_End                  NaN  844338       2       0           0%   \n",
       "Is_Year_Start                NaN  844338       2       0           0%   \n",
       "StoreType                    NaN  844338       4       0           0%   \n",
       "Assortment                   NaN  844338       3       0           0%   \n",
       "CompetitionDistance        75860  844338     655       0           0%   \n",
       "Promo2                         1  844338       2       0           0%   \n",
       "\n",
       "                           types  \n",
       "index                    numeric  \n",
       "Store                    numeric  \n",
       "DayOfWeek                numeric  \n",
       "Date                        date  \n",
       "Sales                    numeric  \n",
       "Customers                numeric  \n",
       "Promo                       bool  \n",
       "StateHoliday                bool  \n",
       "SchoolHoliday               bool  \n",
       "Year                     numeric  \n",
       "Month                    numeric  \n",
       "Week                     numeric  \n",
       "Day                      numeric  \n",
       "DayOfYear                numeric  \n",
       "Is_Month_End                bool  \n",
       "Is_Month_Start              bool  \n",
       "Is_Quarter_End              bool  \n",
       "Is_Quarter_Start            bool  \n",
       "Is_Year_End                 bool  \n",
       "Is_Year_Start               bool  \n",
       "StoreType            categorical  \n",
       "Assortment           categorical  \n",
       "CompetitionDistance      numeric  \n",
       "Promo2                      bool  "
      ]
     },
     "execution_count": 194,
     "metadata": {},
     "output_type": "execute_result"
    }
   ],
   "source": [
    "DataFrameSummary(train_df).summary().T"
   ]
  },
  {
   "cell_type": "code",
   "execution_count": 195,
   "metadata": {
    "colab": {},
    "colab_type": "code",
    "id": "I0Jt__H7A843"
   },
   "outputs": [],
   "source": [
    "categorical_fields = ['StoreType', 'Assortment']\n",
    "\n",
    "continuous_fields = ['Store', 'DayOfWeek', 'Year', 'Month', 'Day', 'StateHoliday', 'CompetitionDistance', 'Promo', 'SchoolHoliday']"
   ]
  },
  {
   "cell_type": "code",
   "execution_count": 196,
   "metadata": {
    "colab": {},
    "colab_type": "code",
    "id": "YUrKvNjHQkXr"
   },
   "outputs": [],
   "source": [
    "new_train_df = train_df[categorical_fields + continuous_fields + ['Sales', 'Date']].copy()"
   ]
  },
  {
   "cell_type": "code",
   "execution_count": 197,
   "metadata": {
    "colab": {
     "base_uri": "https://localhost:8080/",
     "height": 204
    },
    "colab_type": "code",
    "executionInfo": {
     "elapsed": 925,
     "status": "ok",
     "timestamp": 1540640462525,
     "user": {
      "displayName": "Ankur Bohra",
      "photoUrl": "",
      "userId": "15541534273238543658"
     },
     "user_tz": -330
    },
    "id": "RxdbuGzHe3Of",
    "outputId": "c261a147-83db-4c07-e849-cdc6865f4624"
   },
   "outputs": [
    {
     "data": {
      "text/html": [
       "<div>\n",
       "<style scoped>\n",
       "    .dataframe tbody tr th:only-of-type {\n",
       "        vertical-align: middle;\n",
       "    }\n",
       "\n",
       "    .dataframe tbody tr th {\n",
       "        vertical-align: top;\n",
       "    }\n",
       "\n",
       "    .dataframe thead th {\n",
       "        text-align: right;\n",
       "    }\n",
       "</style>\n",
       "<table border=\"1\" class=\"dataframe\">\n",
       "  <thead>\n",
       "    <tr style=\"text-align: right;\">\n",
       "      <th></th>\n",
       "      <th>StoreType</th>\n",
       "      <th>Assortment</th>\n",
       "      <th>Store</th>\n",
       "      <th>DayOfWeek</th>\n",
       "      <th>Year</th>\n",
       "      <th>Month</th>\n",
       "      <th>Day</th>\n",
       "      <th>StateHoliday</th>\n",
       "      <th>CompetitionDistance</th>\n",
       "      <th>Promo</th>\n",
       "      <th>SchoolHoliday</th>\n",
       "      <th>Sales</th>\n",
       "      <th>Date</th>\n",
       "    </tr>\n",
       "  </thead>\n",
       "  <tbody>\n",
       "    <tr>\n",
       "      <th>0</th>\n",
       "      <td>c</td>\n",
       "      <td>a</td>\n",
       "      <td>1</td>\n",
       "      <td>4</td>\n",
       "      <td>2015</td>\n",
       "      <td>7</td>\n",
       "      <td>31</td>\n",
       "      <td>False</td>\n",
       "      <td>1270.0</td>\n",
       "      <td>1</td>\n",
       "      <td>1</td>\n",
       "      <td>5263</td>\n",
       "      <td>2015-07-31</td>\n",
       "    </tr>\n",
       "    <tr>\n",
       "      <th>1</th>\n",
       "      <td>a</td>\n",
       "      <td>a</td>\n",
       "      <td>2</td>\n",
       "      <td>4</td>\n",
       "      <td>2015</td>\n",
       "      <td>7</td>\n",
       "      <td>31</td>\n",
       "      <td>False</td>\n",
       "      <td>570.0</td>\n",
       "      <td>1</td>\n",
       "      <td>1</td>\n",
       "      <td>6064</td>\n",
       "      <td>2015-07-31</td>\n",
       "    </tr>\n",
       "    <tr>\n",
       "      <th>2</th>\n",
       "      <td>a</td>\n",
       "      <td>a</td>\n",
       "      <td>3</td>\n",
       "      <td>4</td>\n",
       "      <td>2015</td>\n",
       "      <td>7</td>\n",
       "      <td>31</td>\n",
       "      <td>False</td>\n",
       "      <td>14130.0</td>\n",
       "      <td>1</td>\n",
       "      <td>1</td>\n",
       "      <td>8314</td>\n",
       "      <td>2015-07-31</td>\n",
       "    </tr>\n",
       "    <tr>\n",
       "      <th>3</th>\n",
       "      <td>c</td>\n",
       "      <td>c</td>\n",
       "      <td>4</td>\n",
       "      <td>4</td>\n",
       "      <td>2015</td>\n",
       "      <td>7</td>\n",
       "      <td>31</td>\n",
       "      <td>False</td>\n",
       "      <td>620.0</td>\n",
       "      <td>1</td>\n",
       "      <td>1</td>\n",
       "      <td>13995</td>\n",
       "      <td>2015-07-31</td>\n",
       "    </tr>\n",
       "    <tr>\n",
       "      <th>4</th>\n",
       "      <td>a</td>\n",
       "      <td>a</td>\n",
       "      <td>5</td>\n",
       "      <td>4</td>\n",
       "      <td>2015</td>\n",
       "      <td>7</td>\n",
       "      <td>31</td>\n",
       "      <td>False</td>\n",
       "      <td>29910.0</td>\n",
       "      <td>1</td>\n",
       "      <td>1</td>\n",
       "      <td>4822</td>\n",
       "      <td>2015-07-31</td>\n",
       "    </tr>\n",
       "  </tbody>\n",
       "</table>\n",
       "</div>"
      ],
      "text/plain": [
       "  StoreType Assortment  Store  DayOfWeek  Year  Month  Day  StateHoliday  \\\n",
       "0         c          a      1          4  2015      7   31         False   \n",
       "1         a          a      2          4  2015      7   31         False   \n",
       "2         a          a      3          4  2015      7   31         False   \n",
       "3         c          c      4          4  2015      7   31         False   \n",
       "4         a          a      5          4  2015      7   31         False   \n",
       "\n",
       "   CompetitionDistance  Promo  SchoolHoliday  Sales       Date  \n",
       "0               1270.0      1              1   5263 2015-07-31  \n",
       "1                570.0      1              1   6064 2015-07-31  \n",
       "2              14130.0      1              1   8314 2015-07-31  \n",
       "3                620.0      1              1  13995 2015-07-31  \n",
       "4              29910.0      1              1   4822 2015-07-31  "
      ]
     },
     "execution_count": 197,
     "metadata": {},
     "output_type": "execute_result"
    }
   ],
   "source": [
    "new_train_df.head()"
   ]
  },
  {
   "cell_type": "code",
   "execution_count": 198,
   "metadata": {
    "colab": {
     "base_uri": "https://localhost:8080/",
     "height": 34
    },
    "colab_type": "code",
    "executionInfo": {
     "elapsed": 970,
     "status": "ok",
     "timestamp": 1540640463843,
     "user": {
      "displayName": "Ankur Bohra",
      "photoUrl": "",
      "userId": "15541534273238543658"
     },
     "user_tz": -330
    },
    "id": "XKwtMIeZjDMF",
    "outputId": "92b86d2d-8ca6-4079-f760-14232385c3a1"
   },
   "outputs": [
    {
     "data": {
      "text/plain": [
       "844338"
      ]
     },
     "execution_count": 198,
     "metadata": {},
     "output_type": "execute_result"
    }
   ],
   "source": [
    "len(new_train_df)"
   ]
  },
  {
   "cell_type": "code",
   "execution_count": 199,
   "metadata": {
    "colab": {},
    "colab_type": "code",
    "id": "yB2edTmajFuA"
   },
   "outputs": [],
   "source": [
    "new_train_df = new_train_df.set_index(\"Date\")"
   ]
  },
  {
   "cell_type": "code",
   "execution_count": 200,
   "metadata": {
    "colab": {
     "base_uri": "https://localhost:8080/",
     "height": 235
    },
    "colab_type": "code",
    "executionInfo": {
     "elapsed": 943,
     "status": "ok",
     "timestamp": 1540640466869,
     "user": {
      "displayName": "Ankur Bohra",
      "photoUrl": "",
      "userId": "15541534273238543658"
     },
     "user_tz": -330
    },
    "id": "ojTlDJFSjTWW",
    "outputId": "a070a201-76ae-4115-e2c5-509280a426a7"
   },
   "outputs": [
    {
     "data": {
      "text/html": [
       "<div>\n",
       "<style scoped>\n",
       "    .dataframe tbody tr th:only-of-type {\n",
       "        vertical-align: middle;\n",
       "    }\n",
       "\n",
       "    .dataframe tbody tr th {\n",
       "        vertical-align: top;\n",
       "    }\n",
       "\n",
       "    .dataframe thead th {\n",
       "        text-align: right;\n",
       "    }\n",
       "</style>\n",
       "<table border=\"1\" class=\"dataframe\">\n",
       "  <thead>\n",
       "    <tr style=\"text-align: right;\">\n",
       "      <th></th>\n",
       "      <th>StoreType</th>\n",
       "      <th>Assortment</th>\n",
       "      <th>Store</th>\n",
       "      <th>DayOfWeek</th>\n",
       "      <th>Year</th>\n",
       "      <th>Month</th>\n",
       "      <th>Day</th>\n",
       "      <th>StateHoliday</th>\n",
       "      <th>CompetitionDistance</th>\n",
       "      <th>Promo</th>\n",
       "      <th>SchoolHoliday</th>\n",
       "      <th>Sales</th>\n",
       "    </tr>\n",
       "    <tr>\n",
       "      <th>Date</th>\n",
       "      <th></th>\n",
       "      <th></th>\n",
       "      <th></th>\n",
       "      <th></th>\n",
       "      <th></th>\n",
       "      <th></th>\n",
       "      <th></th>\n",
       "      <th></th>\n",
       "      <th></th>\n",
       "      <th></th>\n",
       "      <th></th>\n",
       "      <th></th>\n",
       "    </tr>\n",
       "  </thead>\n",
       "  <tbody>\n",
       "    <tr>\n",
       "      <th>2015-07-31</th>\n",
       "      <td>c</td>\n",
       "      <td>a</td>\n",
       "      <td>1</td>\n",
       "      <td>4</td>\n",
       "      <td>2015</td>\n",
       "      <td>7</td>\n",
       "      <td>31</td>\n",
       "      <td>False</td>\n",
       "      <td>1270.0</td>\n",
       "      <td>1</td>\n",
       "      <td>1</td>\n",
       "      <td>5263</td>\n",
       "    </tr>\n",
       "    <tr>\n",
       "      <th>2015-07-31</th>\n",
       "      <td>a</td>\n",
       "      <td>a</td>\n",
       "      <td>2</td>\n",
       "      <td>4</td>\n",
       "      <td>2015</td>\n",
       "      <td>7</td>\n",
       "      <td>31</td>\n",
       "      <td>False</td>\n",
       "      <td>570.0</td>\n",
       "      <td>1</td>\n",
       "      <td>1</td>\n",
       "      <td>6064</td>\n",
       "    </tr>\n",
       "    <tr>\n",
       "      <th>2015-07-31</th>\n",
       "      <td>a</td>\n",
       "      <td>a</td>\n",
       "      <td>3</td>\n",
       "      <td>4</td>\n",
       "      <td>2015</td>\n",
       "      <td>7</td>\n",
       "      <td>31</td>\n",
       "      <td>False</td>\n",
       "      <td>14130.0</td>\n",
       "      <td>1</td>\n",
       "      <td>1</td>\n",
       "      <td>8314</td>\n",
       "    </tr>\n",
       "    <tr>\n",
       "      <th>2015-07-31</th>\n",
       "      <td>c</td>\n",
       "      <td>c</td>\n",
       "      <td>4</td>\n",
       "      <td>4</td>\n",
       "      <td>2015</td>\n",
       "      <td>7</td>\n",
       "      <td>31</td>\n",
       "      <td>False</td>\n",
       "      <td>620.0</td>\n",
       "      <td>1</td>\n",
       "      <td>1</td>\n",
       "      <td>13995</td>\n",
       "    </tr>\n",
       "    <tr>\n",
       "      <th>2015-07-31</th>\n",
       "      <td>a</td>\n",
       "      <td>a</td>\n",
       "      <td>5</td>\n",
       "      <td>4</td>\n",
       "      <td>2015</td>\n",
       "      <td>7</td>\n",
       "      <td>31</td>\n",
       "      <td>False</td>\n",
       "      <td>29910.0</td>\n",
       "      <td>1</td>\n",
       "      <td>1</td>\n",
       "      <td>4822</td>\n",
       "    </tr>\n",
       "  </tbody>\n",
       "</table>\n",
       "</div>"
      ],
      "text/plain": [
       "           StoreType Assortment  Store  DayOfWeek  Year  Month  Day  \\\n",
       "Date                                                                  \n",
       "2015-07-31         c          a      1          4  2015      7   31   \n",
       "2015-07-31         a          a      2          4  2015      7   31   \n",
       "2015-07-31         a          a      3          4  2015      7   31   \n",
       "2015-07-31         c          c      4          4  2015      7   31   \n",
       "2015-07-31         a          a      5          4  2015      7   31   \n",
       "\n",
       "            StateHoliday  CompetitionDistance  Promo  SchoolHoliday  Sales  \n",
       "Date                                                                        \n",
       "2015-07-31         False               1270.0      1              1   5263  \n",
       "2015-07-31         False                570.0      1              1   6064  \n",
       "2015-07-31         False              14130.0      1              1   8314  \n",
       "2015-07-31         False                620.0      1              1  13995  \n",
       "2015-07-31         False              29910.0      1              1   4822  "
      ]
     },
     "execution_count": 200,
     "metadata": {},
     "output_type": "execute_result"
    }
   ],
   "source": [
    "new_train_df.head()"
   ]
  },
  {
   "cell_type": "code",
   "execution_count": 201,
   "metadata": {
    "colab": {
     "base_uri": "https://localhost:8080/",
     "height": 421
    },
    "colab_type": "code",
    "executionInfo": {
     "elapsed": 3543,
     "status": "ok",
     "timestamp": 1540640470648,
     "user": {
      "displayName": "Ankur Bohra",
      "photoUrl": "",
      "userId": "15541534273238543658"
     },
     "user_tz": -330
    },
    "id": "XJxybDyg75Ny",
    "outputId": "ece602fc-5703-4814-f44b-d314f8f536b7"
   },
   "outputs": [
    {
     "data": {
      "text/html": [
       "<div>\n",
       "<style scoped>\n",
       "    .dataframe tbody tr th:only-of-type {\n",
       "        vertical-align: middle;\n",
       "    }\n",
       "\n",
       "    .dataframe tbody tr th {\n",
       "        vertical-align: top;\n",
       "    }\n",
       "\n",
       "    .dataframe thead th {\n",
       "        text-align: right;\n",
       "    }\n",
       "</style>\n",
       "<table border=\"1\" class=\"dataframe\">\n",
       "  <thead>\n",
       "    <tr style=\"text-align: right;\">\n",
       "      <th></th>\n",
       "      <th>count</th>\n",
       "      <th>mean</th>\n",
       "      <th>std</th>\n",
       "      <th>min</th>\n",
       "      <th>25%</th>\n",
       "      <th>50%</th>\n",
       "      <th>75%</th>\n",
       "      <th>max</th>\n",
       "      <th>counts</th>\n",
       "      <th>uniques</th>\n",
       "      <th>missing</th>\n",
       "      <th>missing_perc</th>\n",
       "      <th>types</th>\n",
       "    </tr>\n",
       "  </thead>\n",
       "  <tbody>\n",
       "    <tr>\n",
       "      <th>StoreType</th>\n",
       "      <td>NaN</td>\n",
       "      <td>NaN</td>\n",
       "      <td>NaN</td>\n",
       "      <td>NaN</td>\n",
       "      <td>NaN</td>\n",
       "      <td>NaN</td>\n",
       "      <td>NaN</td>\n",
       "      <td>NaN</td>\n",
       "      <td>844338</td>\n",
       "      <td>4</td>\n",
       "      <td>0</td>\n",
       "      <td>0%</td>\n",
       "      <td>categorical</td>\n",
       "    </tr>\n",
       "    <tr>\n",
       "      <th>Assortment</th>\n",
       "      <td>NaN</td>\n",
       "      <td>NaN</td>\n",
       "      <td>NaN</td>\n",
       "      <td>NaN</td>\n",
       "      <td>NaN</td>\n",
       "      <td>NaN</td>\n",
       "      <td>NaN</td>\n",
       "      <td>NaN</td>\n",
       "      <td>844338</td>\n",
       "      <td>3</td>\n",
       "      <td>0</td>\n",
       "      <td>0%</td>\n",
       "      <td>categorical</td>\n",
       "    </tr>\n",
       "    <tr>\n",
       "      <th>Store</th>\n",
       "      <td>844338</td>\n",
       "      <td>558.421</td>\n",
       "      <td>321.731</td>\n",
       "      <td>1</td>\n",
       "      <td>280</td>\n",
       "      <td>558</td>\n",
       "      <td>837</td>\n",
       "      <td>1115</td>\n",
       "      <td>844338</td>\n",
       "      <td>1115</td>\n",
       "      <td>0</td>\n",
       "      <td>0%</td>\n",
       "      <td>numeric</td>\n",
       "    </tr>\n",
       "    <tr>\n",
       "      <th>DayOfWeek</th>\n",
       "      <td>844338</td>\n",
       "      <td>2.52035</td>\n",
       "      <td>1.72371</td>\n",
       "      <td>0</td>\n",
       "      <td>1</td>\n",
       "      <td>2</td>\n",
       "      <td>4</td>\n",
       "      <td>6</td>\n",
       "      <td>844338</td>\n",
       "      <td>7</td>\n",
       "      <td>0</td>\n",
       "      <td>0%</td>\n",
       "      <td>numeric</td>\n",
       "    </tr>\n",
       "    <tr>\n",
       "      <th>Year</th>\n",
       "      <td>844338</td>\n",
       "      <td>2013.83</td>\n",
       "      <td>0.777271</td>\n",
       "      <td>2013</td>\n",
       "      <td>2013</td>\n",
       "      <td>2014</td>\n",
       "      <td>2014</td>\n",
       "      <td>2015</td>\n",
       "      <td>844338</td>\n",
       "      <td>3</td>\n",
       "      <td>0</td>\n",
       "      <td>0%</td>\n",
       "      <td>numeric</td>\n",
       "    </tr>\n",
       "    <tr>\n",
       "      <th>Month</th>\n",
       "      <td>844338</td>\n",
       "      <td>5.84577</td>\n",
       "      <td>3.32396</td>\n",
       "      <td>1</td>\n",
       "      <td>3</td>\n",
       "      <td>6</td>\n",
       "      <td>8</td>\n",
       "      <td>12</td>\n",
       "      <td>844338</td>\n",
       "      <td>12</td>\n",
       "      <td>0</td>\n",
       "      <td>0%</td>\n",
       "      <td>numeric</td>\n",
       "    </tr>\n",
       "    <tr>\n",
       "      <th>Day</th>\n",
       "      <td>844338</td>\n",
       "      <td>15.8357</td>\n",
       "      <td>8.68339</td>\n",
       "      <td>1</td>\n",
       "      <td>8</td>\n",
       "      <td>16</td>\n",
       "      <td>23</td>\n",
       "      <td>31</td>\n",
       "      <td>844338</td>\n",
       "      <td>31</td>\n",
       "      <td>0</td>\n",
       "      <td>0%</td>\n",
       "      <td>numeric</td>\n",
       "    </tr>\n",
       "    <tr>\n",
       "      <th>StateHoliday</th>\n",
       "      <td>NaN</td>\n",
       "      <td>NaN</td>\n",
       "      <td>NaN</td>\n",
       "      <td>NaN</td>\n",
       "      <td>NaN</td>\n",
       "      <td>NaN</td>\n",
       "      <td>NaN</td>\n",
       "      <td>NaN</td>\n",
       "      <td>844338</td>\n",
       "      <td>2</td>\n",
       "      <td>0</td>\n",
       "      <td>0%</td>\n",
       "      <td>bool</td>\n",
       "    </tr>\n",
       "    <tr>\n",
       "      <th>CompetitionDistance</th>\n",
       "      <td>844338</td>\n",
       "      <td>5450.04</td>\n",
       "      <td>7801.08</td>\n",
       "      <td>20</td>\n",
       "      <td>710</td>\n",
       "      <td>2325</td>\n",
       "      <td>6880</td>\n",
       "      <td>75860</td>\n",
       "      <td>844338</td>\n",
       "      <td>655</td>\n",
       "      <td>0</td>\n",
       "      <td>0%</td>\n",
       "      <td>numeric</td>\n",
       "    </tr>\n",
       "    <tr>\n",
       "      <th>Promo</th>\n",
       "      <td>844338</td>\n",
       "      <td>0.446356</td>\n",
       "      <td>0.497114</td>\n",
       "      <td>0</td>\n",
       "      <td>0</td>\n",
       "      <td>0</td>\n",
       "      <td>1</td>\n",
       "      <td>1</td>\n",
       "      <td>844338</td>\n",
       "      <td>2</td>\n",
       "      <td>0</td>\n",
       "      <td>0%</td>\n",
       "      <td>bool</td>\n",
       "    </tr>\n",
       "    <tr>\n",
       "      <th>SchoolHoliday</th>\n",
       "      <td>844338</td>\n",
       "      <td>0.193578</td>\n",
       "      <td>0.395102</td>\n",
       "      <td>0</td>\n",
       "      <td>0</td>\n",
       "      <td>0</td>\n",
       "      <td>0</td>\n",
       "      <td>1</td>\n",
       "      <td>844338</td>\n",
       "      <td>2</td>\n",
       "      <td>0</td>\n",
       "      <td>0%</td>\n",
       "      <td>bool</td>\n",
       "    </tr>\n",
       "    <tr>\n",
       "      <th>Sales</th>\n",
       "      <td>844338</td>\n",
       "      <td>6955.96</td>\n",
       "      <td>3103.82</td>\n",
       "      <td>46</td>\n",
       "      <td>4859</td>\n",
       "      <td>6369</td>\n",
       "      <td>8360</td>\n",
       "      <td>41551</td>\n",
       "      <td>844338</td>\n",
       "      <td>21733</td>\n",
       "      <td>0</td>\n",
       "      <td>0%</td>\n",
       "      <td>numeric</td>\n",
       "    </tr>\n",
       "  </tbody>\n",
       "</table>\n",
       "</div>"
      ],
      "text/plain": [
       "                      count      mean       std   min   25%   50%   75%  \\\n",
       "StoreType               NaN       NaN       NaN   NaN   NaN   NaN   NaN   \n",
       "Assortment              NaN       NaN       NaN   NaN   NaN   NaN   NaN   \n",
       "Store                844338   558.421   321.731     1   280   558   837   \n",
       "DayOfWeek            844338   2.52035   1.72371     0     1     2     4   \n",
       "Year                 844338   2013.83  0.777271  2013  2013  2014  2014   \n",
       "Month                844338   5.84577   3.32396     1     3     6     8   \n",
       "Day                  844338   15.8357   8.68339     1     8    16    23   \n",
       "StateHoliday            NaN       NaN       NaN   NaN   NaN   NaN   NaN   \n",
       "CompetitionDistance  844338   5450.04   7801.08    20   710  2325  6880   \n",
       "Promo                844338  0.446356  0.497114     0     0     0     1   \n",
       "SchoolHoliday        844338  0.193578  0.395102     0     0     0     0   \n",
       "Sales                844338   6955.96   3103.82    46  4859  6369  8360   \n",
       "\n",
       "                       max  counts uniques missing missing_perc        types  \n",
       "StoreType              NaN  844338       4       0           0%  categorical  \n",
       "Assortment             NaN  844338       3       0           0%  categorical  \n",
       "Store                 1115  844338    1115       0           0%      numeric  \n",
       "DayOfWeek                6  844338       7       0           0%      numeric  \n",
       "Year                  2015  844338       3       0           0%      numeric  \n",
       "Month                   12  844338      12       0           0%      numeric  \n",
       "Day                     31  844338      31       0           0%      numeric  \n",
       "StateHoliday           NaN  844338       2       0           0%         bool  \n",
       "CompetitionDistance  75860  844338     655       0           0%      numeric  \n",
       "Promo                    1  844338       2       0           0%         bool  \n",
       "SchoolHoliday            1  844338       2       0           0%         bool  \n",
       "Sales                41551  844338   21733       0           0%      numeric  "
      ]
     },
     "execution_count": 201,
     "metadata": {},
     "output_type": "execute_result"
    }
   ],
   "source": [
    "DataFrameSummary(new_train_df).summary().T"
   ]
  },
  {
   "cell_type": "markdown",
   "metadata": {
    "colab_type": "text",
    "id": "zVEm3Cdu-CVk"
   },
   "source": [
    "### Check correlation matrix"
   ]
  },
  {
   "cell_type": "code",
   "execution_count": 202,
   "metadata": {
    "colab": {
     "base_uri": "https://localhost:8080/",
     "height": 250
    },
    "colab_type": "code",
    "executionInfo": {
     "elapsed": 2290,
     "status": "ok",
     "timestamp": 1540640472974,
     "user": {
      "displayName": "Ankur Bohra",
      "photoUrl": "",
      "userId": "15541534273238543658"
     },
     "user_tz": -330
    },
    "id": "f2cgJQrK9_Z-",
    "outputId": "1fff7bd0-33d2-4beb-d809-d5b12d03ca67"
   },
   "outputs": [
    {
     "data": {
      "text/html": [
       "<style  type=\"text/css\" >\n",
       "    #T_97025a60_34dc_11e9_ae43_ac7ba127fa0brow0_col0 {\n",
       "            background-color:  #023858;\n",
       "        }    #T_97025a60_34dc_11e9_ae43_ac7ba127fa0brow0_col1 {\n",
       "            background-color:  #d6d6e9;\n",
       "        }    #T_97025a60_34dc_11e9_ae43_ac7ba127fa0brow0_col2 {\n",
       "            background-color:  #d9d8ea;\n",
       "        }    #T_97025a60_34dc_11e9_ae43_ac7ba127fa0brow0_col3 {\n",
       "            background-color:  #d9d8ea;\n",
       "        }    #T_97025a60_34dc_11e9_ae43_ac7ba127fa0brow0_col4 {\n",
       "            background-color:  #eee9f3;\n",
       "        }    #T_97025a60_34dc_11e9_ae43_ac7ba127fa0brow0_col5 {\n",
       "            background-color:  #f3edf5;\n",
       "        }    #T_97025a60_34dc_11e9_ae43_ac7ba127fa0brow0_col6 {\n",
       "            background-color:  #fef6fa;\n",
       "        }    #T_97025a60_34dc_11e9_ae43_ac7ba127fa0brow0_col7 {\n",
       "            background-color:  #d6d6e9;\n",
       "        }    #T_97025a60_34dc_11e9_ae43_ac7ba127fa0brow0_col8 {\n",
       "            background-color:  #ede7f2;\n",
       "        }    #T_97025a60_34dc_11e9_ae43_ac7ba127fa0brow0_col9 {\n",
       "            background-color:  #e5e1ef;\n",
       "        }    #T_97025a60_34dc_11e9_ae43_ac7ba127fa0brow1_col0 {\n",
       "            background-color:  #fbf4f9;\n",
       "        }    #T_97025a60_34dc_11e9_ae43_ac7ba127fa0brow1_col1 {\n",
       "            background-color:  #023858;\n",
       "        }    #T_97025a60_34dc_11e9_ae43_ac7ba127fa0brow1_col2 {\n",
       "            background-color:  #d9d8ea;\n",
       "        }    #T_97025a60_34dc_11e9_ae43_ac7ba127fa0brow1_col3 {\n",
       "            background-color:  #dcdaeb;\n",
       "        }    #T_97025a60_34dc_11e9_ae43_ac7ba127fa0brow1_col4 {\n",
       "            background-color:  #ede8f3;\n",
       "        }    #T_97025a60_34dc_11e9_ae43_ac7ba127fa0brow1_col5 {\n",
       "            background-color:  #f5eef6;\n",
       "        }    #T_97025a60_34dc_11e9_ae43_ac7ba127fa0brow1_col6 {\n",
       "            background-color:  #f9f2f8;\n",
       "        }    #T_97025a60_34dc_11e9_ae43_ac7ba127fa0brow1_col7 {\n",
       "            background-color:  #fff7fb;\n",
       "        }    #T_97025a60_34dc_11e9_ae43_ac7ba127fa0brow1_col8 {\n",
       "            background-color:  #fff7fb;\n",
       "        }    #T_97025a60_34dc_11e9_ae43_ac7ba127fa0brow1_col9 {\n",
       "            background-color:  #fff7fb;\n",
       "        }    #T_97025a60_34dc_11e9_ae43_ac7ba127fa0brow2_col0 {\n",
       "            background-color:  #fbf4f9;\n",
       "        }    #T_97025a60_34dc_11e9_ae43_ac7ba127fa0brow2_col1 {\n",
       "            background-color:  #d6d6e9;\n",
       "        }    #T_97025a60_34dc_11e9_ae43_ac7ba127fa0brow2_col2 {\n",
       "            background-color:  #023858;\n",
       "        }    #T_97025a60_34dc_11e9_ae43_ac7ba127fa0brow2_col3 {\n",
       "            background-color:  #fff7fb;\n",
       "        }    #T_97025a60_34dc_11e9_ae43_ac7ba127fa0brow2_col4 {\n",
       "            background-color:  #ede8f3;\n",
       "        }    #T_97025a60_34dc_11e9_ae43_ac7ba127fa0brow2_col5 {\n",
       "            background-color:  #e6e2ef;\n",
       "        }    #T_97025a60_34dc_11e9_ae43_ac7ba127fa0brow2_col6 {\n",
       "            background-color:  #faf2f8;\n",
       "        }    #T_97025a60_34dc_11e9_ae43_ac7ba127fa0brow2_col7 {\n",
       "            background-color:  #d2d2e7;\n",
       "        }    #T_97025a60_34dc_11e9_ae43_ac7ba127fa0brow2_col8 {\n",
       "            background-color:  #f2ecf5;\n",
       "        }    #T_97025a60_34dc_11e9_ae43_ac7ba127fa0brow2_col9 {\n",
       "            background-color:  #e0dded;\n",
       "        }    #T_97025a60_34dc_11e9_ae43_ac7ba127fa0brow3_col0 {\n",
       "            background-color:  #fbf3f9;\n",
       "        }    #T_97025a60_34dc_11e9_ae43_ac7ba127fa0brow3_col1 {\n",
       "            background-color:  #d9d8ea;\n",
       "        }    #T_97025a60_34dc_11e9_ae43_ac7ba127fa0brow3_col2 {\n",
       "            background-color:  #fff7fb;\n",
       "        }    #T_97025a60_34dc_11e9_ae43_ac7ba127fa0brow3_col3 {\n",
       "            background-color:  #023858;\n",
       "        }    #T_97025a60_34dc_11e9_ae43_ac7ba127fa0brow3_col4 {\n",
       "            background-color:  #efe9f3;\n",
       "        }    #T_97025a60_34dc_11e9_ae43_ac7ba127fa0brow3_col5 {\n",
       "            background-color:  #fff7fb;\n",
       "        }    #T_97025a60_34dc_11e9_ae43_ac7ba127fa0brow3_col6 {\n",
       "            background-color:  #faf2f8;\n",
       "        }    #T_97025a60_34dc_11e9_ae43_ac7ba127fa0brow3_col7 {\n",
       "            background-color:  #d7d6e9;\n",
       "        }    #T_97025a60_34dc_11e9_ae43_ac7ba127fa0brow3_col8 {\n",
       "            background-color:  #d6d6e9;\n",
       "        }    #T_97025a60_34dc_11e9_ae43_ac7ba127fa0brow3_col9 {\n",
       "            background-color:  #d9d8ea;\n",
       "        }    #T_97025a60_34dc_11e9_ae43_ac7ba127fa0brow4_col0 {\n",
       "            background-color:  #fbf4f9;\n",
       "        }    #T_97025a60_34dc_11e9_ae43_ac7ba127fa0brow4_col1 {\n",
       "            background-color:  #d4d4e8;\n",
       "        }    #T_97025a60_34dc_11e9_ae43_ac7ba127fa0brow4_col2 {\n",
       "            background-color:  #d8d7e9;\n",
       "        }    #T_97025a60_34dc_11e9_ae43_ac7ba127fa0brow4_col3 {\n",
       "            background-color:  #dad9ea;\n",
       "        }    #T_97025a60_34dc_11e9_ae43_ac7ba127fa0brow4_col4 {\n",
       "            background-color:  #023858;\n",
       "        }    #T_97025a60_34dc_11e9_ae43_ac7ba127fa0brow4_col5 {\n",
       "            background-color:  #f2ecf5;\n",
       "        }    #T_97025a60_34dc_11e9_ae43_ac7ba127fa0brow4_col6 {\n",
       "            background-color:  #faf3f9;\n",
       "        }    #T_97025a60_34dc_11e9_ae43_ac7ba127fa0brow4_col7 {\n",
       "            background-color:  #ece7f2;\n",
       "        }    #T_97025a60_34dc_11e9_ae43_ac7ba127fa0brow4_col8 {\n",
       "            background-color:  #e6e2ef;\n",
       "        }    #T_97025a60_34dc_11e9_ae43_ac7ba127fa0brow4_col9 {\n",
       "            background-color:  #efe9f3;\n",
       "        }    #T_97025a60_34dc_11e9_ae43_ac7ba127fa0brow5_col0 {\n",
       "            background-color:  #fbf3f9;\n",
       "        }    #T_97025a60_34dc_11e9_ae43_ac7ba127fa0brow5_col1 {\n",
       "            background-color:  #d8d7e9;\n",
       "        }    #T_97025a60_34dc_11e9_ae43_ac7ba127fa0brow5_col2 {\n",
       "            background-color:  #c6cce3;\n",
       "        }    #T_97025a60_34dc_11e9_ae43_ac7ba127fa0brow5_col3 {\n",
       "            background-color:  #e7e3f0;\n",
       "        }    #T_97025a60_34dc_11e9_ae43_ac7ba127fa0brow5_col4 {\n",
       "            background-color:  #ede8f3;\n",
       "        }    #T_97025a60_34dc_11e9_ae43_ac7ba127fa0brow5_col5 {\n",
       "            background-color:  #023858;\n",
       "        }    #T_97025a60_34dc_11e9_ae43_ac7ba127fa0brow5_col6 {\n",
       "            background-color:  #faf2f8;\n",
       "        }    #T_97025a60_34dc_11e9_ae43_ac7ba127fa0brow5_col7 {\n",
       "            background-color:  #d7d6e9;\n",
       "        }    #T_97025a60_34dc_11e9_ae43_ac7ba127fa0brow5_col8 {\n",
       "            background-color:  #e0dded;\n",
       "        }    #T_97025a60_34dc_11e9_ae43_ac7ba127fa0brow5_col9 {\n",
       "            background-color:  #ece7f2;\n",
       "        }    #T_97025a60_34dc_11e9_ae43_ac7ba127fa0brow6_col0 {\n",
       "            background-color:  #fff7fb;\n",
       "        }    #T_97025a60_34dc_11e9_ae43_ac7ba127fa0brow6_col1 {\n",
       "            background-color:  #d5d5e8;\n",
       "        }    #T_97025a60_34dc_11e9_ae43_ac7ba127fa0brow6_col2 {\n",
       "            background-color:  #d9d8ea;\n",
       "        }    #T_97025a60_34dc_11e9_ae43_ac7ba127fa0brow6_col3 {\n",
       "            background-color:  #d8d7e9;\n",
       "        }    #T_97025a60_34dc_11e9_ae43_ac7ba127fa0brow6_col4 {\n",
       "            background-color:  #eee9f3;\n",
       "        }    #T_97025a60_34dc_11e9_ae43_ac7ba127fa0brow6_col5 {\n",
       "            background-color:  #f3edf5;\n",
       "        }    #T_97025a60_34dc_11e9_ae43_ac7ba127fa0brow6_col6 {\n",
       "            background-color:  #023858;\n",
       "        }    #T_97025a60_34dc_11e9_ae43_ac7ba127fa0brow6_col7 {\n",
       "            background-color:  #d7d6e9;\n",
       "        }    #T_97025a60_34dc_11e9_ae43_ac7ba127fa0brow6_col8 {\n",
       "            background-color:  #ede8f3;\n",
       "        }    #T_97025a60_34dc_11e9_ae43_ac7ba127fa0brow6_col9 {\n",
       "            background-color:  #ede7f2;\n",
       "        }    #T_97025a60_34dc_11e9_ae43_ac7ba127fa0brow7_col0 {\n",
       "            background-color:  #fbf4f9;\n",
       "        }    #T_97025a60_34dc_11e9_ae43_ac7ba127fa0brow7_col1 {\n",
       "            background-color:  #fff7fb;\n",
       "        }    #T_97025a60_34dc_11e9_ae43_ac7ba127fa0brow7_col2 {\n",
       "            background-color:  #d4d4e8;\n",
       "        }    #T_97025a60_34dc_11e9_ae43_ac7ba127fa0brow7_col3 {\n",
       "            background-color:  #dad9ea;\n",
       "        }    #T_97025a60_34dc_11e9_ae43_ac7ba127fa0brow7_col4 {\n",
       "            background-color:  #fff7fb;\n",
       "        }    #T_97025a60_34dc_11e9_ae43_ac7ba127fa0brow7_col5 {\n",
       "            background-color:  #f4edf6;\n",
       "        }    #T_97025a60_34dc_11e9_ae43_ac7ba127fa0brow7_col6 {\n",
       "            background-color:  #faf3f9;\n",
       "        }    #T_97025a60_34dc_11e9_ae43_ac7ba127fa0brow7_col7 {\n",
       "            background-color:  #023858;\n",
       "        }    #T_97025a60_34dc_11e9_ae43_ac7ba127fa0brow7_col8 {\n",
       "            background-color:  #e7e3f0;\n",
       "        }    #T_97025a60_34dc_11e9_ae43_ac7ba127fa0brow7_col9 {\n",
       "            background-color:  #83afd3;\n",
       "        }    #T_97025a60_34dc_11e9_ae43_ac7ba127fa0brow8_col0 {\n",
       "            background-color:  #fbf4f9;\n",
       "        }    #T_97025a60_34dc_11e9_ae43_ac7ba127fa0brow8_col1 {\n",
       "            background-color:  #eee8f3;\n",
       "        }    #T_97025a60_34dc_11e9_ae43_ac7ba127fa0brow8_col2 {\n",
       "            background-color:  #e0dded;\n",
       "        }    #T_97025a60_34dc_11e9_ae43_ac7ba127fa0brow8_col3 {\n",
       "            background-color:  #bdc8e1;\n",
       "        }    #T_97025a60_34dc_11e9_ae43_ac7ba127fa0brow8_col4 {\n",
       "            background-color:  #e7e3f0;\n",
       "        }    #T_97025a60_34dc_11e9_ae43_ac7ba127fa0brow8_col5 {\n",
       "            background-color:  #e8e4f0;\n",
       "        }    #T_97025a60_34dc_11e9_ae43_ac7ba127fa0brow8_col6 {\n",
       "            background-color:  #fbf3f9;\n",
       "        }    #T_97025a60_34dc_11e9_ae43_ac7ba127fa0brow8_col7 {\n",
       "            background-color:  #d1d2e6;\n",
       "        }    #T_97025a60_34dc_11e9_ae43_ac7ba127fa0brow8_col8 {\n",
       "            background-color:  #023858;\n",
       "        }    #T_97025a60_34dc_11e9_ae43_ac7ba127fa0brow8_col9 {\n",
       "            background-color:  #dfddec;\n",
       "        }    #T_97025a60_34dc_11e9_ae43_ac7ba127fa0brow9_col0 {\n",
       "            background-color:  #faf3f9;\n",
       "        }    #T_97025a60_34dc_11e9_ae43_ac7ba127fa0brow9_col1 {\n",
       "            background-color:  #f2ecf5;\n",
       "        }    #T_97025a60_34dc_11e9_ae43_ac7ba127fa0brow9_col2 {\n",
       "            background-color:  #d2d3e7;\n",
       "        }    #T_97025a60_34dc_11e9_ae43_ac7ba127fa0brow9_col3 {\n",
       "            background-color:  #c9cee4;\n",
       "        }    #T_97025a60_34dc_11e9_ae43_ac7ba127fa0brow9_col4 {\n",
       "            background-color:  #f5eff6;\n",
       "        }    #T_97025a60_34dc_11e9_ae43_ac7ba127fa0brow9_col5 {\n",
       "            background-color:  #f8f1f8;\n",
       "        }    #T_97025a60_34dc_11e9_ae43_ac7ba127fa0brow9_col6 {\n",
       "            background-color:  #fff7fb;\n",
       "        }    #T_97025a60_34dc_11e9_ae43_ac7ba127fa0brow9_col7 {\n",
       "            background-color:  #6fa7ce;\n",
       "        }    #T_97025a60_34dc_11e9_ae43_ac7ba127fa0brow9_col8 {\n",
       "            background-color:  #e6e2ef;\n",
       "        }    #T_97025a60_34dc_11e9_ae43_ac7ba127fa0brow9_col9 {\n",
       "            background-color:  #023858;\n",
       "        }</style>  \n",
       "<table id=\"T_97025a60_34dc_11e9_ae43_ac7ba127fa0b\" > \n",
       "<thead>    <tr> \n",
       "        <th class=\"blank level0\" ></th> \n",
       "        <th class=\"col_heading level0 col0\" >Store</th> \n",
       "        <th class=\"col_heading level0 col1\" >DayOfWeek</th> \n",
       "        <th class=\"col_heading level0 col2\" >Year</th> \n",
       "        <th class=\"col_heading level0 col3\" >Month</th> \n",
       "        <th class=\"col_heading level0 col4\" >Day</th> \n",
       "        <th class=\"col_heading level0 col5\" >StateHoliday</th> \n",
       "        <th class=\"col_heading level0 col6\" >CompetitionDistance</th> \n",
       "        <th class=\"col_heading level0 col7\" >Promo</th> \n",
       "        <th class=\"col_heading level0 col8\" >SchoolHoliday</th> \n",
       "        <th class=\"col_heading level0 col9\" >Sales</th> \n",
       "    </tr></thead> \n",
       "<tbody>    <tr> \n",
       "        <th id=\"T_97025a60_34dc_11e9_ae43_ac7ba127fa0blevel0_row0\" class=\"row_heading level0 row0\" >Store</th> \n",
       "        <td id=\"T_97025a60_34dc_11e9_ae43_ac7ba127fa0brow0_col0\" class=\"data row0 col0\" >1</td> \n",
       "        <td id=\"T_97025a60_34dc_11e9_ae43_ac7ba127fa0brow0_col1\" class=\"data row0 col1\" >0.00034</td> \n",
       "        <td id=\"T_97025a60_34dc_11e9_ae43_ac7ba127fa0brow0_col2\" class=\"data row0 col2\" >0.0003</td> \n",
       "        <td id=\"T_97025a60_34dc_11e9_ae43_ac7ba127fa0brow0_col3\" class=\"data row0 col3\" >0.0014</td> \n",
       "        <td id=\"T_97025a60_34dc_11e9_ae43_ac7ba127fa0brow0_col4\" class=\"data row0 col4\" >-0.00013</td> \n",
       "        <td id=\"T_97025a60_34dc_11e9_ae43_ac7ba127fa0brow0_col5\" class=\"data row0 col5\" >0.002</td> \n",
       "        <td id=\"T_97025a60_34dc_11e9_ae43_ac7ba127fa0brow0_col6\" class=\"data row0 col6\" >-0.027</td> \n",
       "        <td id=\"T_97025a60_34dc_11e9_ae43_ac7ba127fa0brow0_col7\" class=\"data row0 col7\" >-1.5e-05</td> \n",
       "        <td id=\"T_97025a60_34dc_11e9_ae43_ac7ba127fa0brow0_col8\" class=\"data row0 col8\" >0.00053</td> \n",
       "        <td id=\"T_97025a60_34dc_11e9_ae43_ac7ba127fa0brow0_col9\" class=\"data row0 col9\" >0.0077</td> \n",
       "    </tr>    <tr> \n",
       "        <th id=\"T_97025a60_34dc_11e9_ae43_ac7ba127fa0blevel0_row1\" class=\"row_heading level0 row1\" >DayOfWeek</th> \n",
       "        <td id=\"T_97025a60_34dc_11e9_ae43_ac7ba127fa0brow1_col0\" class=\"data row1 col0\" >0.00034</td> \n",
       "        <td id=\"T_97025a60_34dc_11e9_ae43_ac7ba127fa0brow1_col1\" class=\"data row1 col1\" >1</td> \n",
       "        <td id=\"T_97025a60_34dc_11e9_ae43_ac7ba127fa0brow1_col2\" class=\"data row1 col2\" >0.0021</td> \n",
       "        <td id=\"T_97025a60_34dc_11e9_ae43_ac7ba127fa0brow1_col3\" class=\"data row1 col3\" >-0.02</td> \n",
       "        <td id=\"T_97025a60_34dc_11e9_ae43_ac7ba127fa0brow1_col4\" class=\"data row1 col4\" >0.0085</td> \n",
       "        <td id=\"T_97025a60_34dc_11e9_ae43_ac7ba127fa0brow1_col5\" class=\"data row1 col5\" >-0.01</td> \n",
       "        <td id=\"T_97025a60_34dc_11e9_ae43_ac7ba127fa0brow1_col6\" class=\"data row1 col6\" >0.0055</td> \n",
       "        <td id=\"T_97025a60_34dc_11e9_ae43_ac7ba127fa0brow1_col7\" class=\"data row1 col7\" >-0.29</td> \n",
       "        <td id=\"T_97025a60_34dc_11e9_ae43_ac7ba127fa0brow1_col8\" class=\"data row1 col8\" >-0.14</td> \n",
       "        <td id=\"T_97025a60_34dc_11e9_ae43_ac7ba127fa0brow1_col9\" class=\"data row1 col9\" >-0.18</td> \n",
       "    </tr>    <tr> \n",
       "        <th id=\"T_97025a60_34dc_11e9_ae43_ac7ba127fa0blevel0_row2\" class=\"row_heading level0 row2\" >Year</th> \n",
       "        <td id=\"T_97025a60_34dc_11e9_ae43_ac7ba127fa0brow2_col0\" class=\"data row2 col0\" >0.0003</td> \n",
       "        <td id=\"T_97025a60_34dc_11e9_ae43_ac7ba127fa0brow2_col1\" class=\"data row2 col1\" >0.0021</td> \n",
       "        <td id=\"T_97025a60_34dc_11e9_ae43_ac7ba127fa0brow2_col2\" class=\"data row2 col2\" >1</td> \n",
       "        <td id=\"T_97025a60_34dc_11e9_ae43_ac7ba127fa0brow2_col3\" class=\"data row2 col3\" >-0.27</td> \n",
       "        <td id=\"T_97025a60_34dc_11e9_ae43_ac7ba127fa0brow2_col4\" class=\"data row2 col4\" >0.0084</td> \n",
       "        <td id=\"T_97025a60_34dc_11e9_ae43_ac7ba127fa0brow2_col5\" class=\"data row2 col5\" >0.085</td> \n",
       "        <td id=\"T_97025a60_34dc_11e9_ae43_ac7ba127fa0brow2_col6\" class=\"data row2 col6\" >0.00063</td> \n",
       "        <td id=\"T_97025a60_34dc_11e9_ae43_ac7ba127fa0brow2_col7\" class=\"data row2 col7\" >0.024</td> \n",
       "        <td id=\"T_97025a60_34dc_11e9_ae43_ac7ba127fa0brow2_col8\" class=\"data row2 col8\" >-0.039</td> \n",
       "        <td id=\"T_97025a60_34dc_11e9_ae43_ac7ba127fa0brow2_col9\" class=\"data row2 col9\" >0.036</td> \n",
       "    </tr>    <tr> \n",
       "        <th id=\"T_97025a60_34dc_11e9_ae43_ac7ba127fa0blevel0_row3\" class=\"row_heading level0 row3\" >Month</th> \n",
       "        <td id=\"T_97025a60_34dc_11e9_ae43_ac7ba127fa0brow3_col0\" class=\"data row3 col0\" >0.0014</td> \n",
       "        <td id=\"T_97025a60_34dc_11e9_ae43_ac7ba127fa0brow3_col1\" class=\"data row3 col1\" >-0.02</td> \n",
       "        <td id=\"T_97025a60_34dc_11e9_ae43_ac7ba127fa0brow3_col2\" class=\"data row3 col2\" >-0.27</td> \n",
       "        <td id=\"T_97025a60_34dc_11e9_ae43_ac7ba127fa0brow3_col3\" class=\"data row3 col3\" >1</td> \n",
       "        <td id=\"T_97025a60_34dc_11e9_ae43_ac7ba127fa0brow3_col4\" class=\"data row3 col4\" >-0.0066</td> \n",
       "        <td id=\"T_97025a60_34dc_11e9_ae43_ac7ba127fa0brow3_col5\" class=\"data row3 col5\" >-0.085</td> \n",
       "        <td id=\"T_97025a60_34dc_11e9_ae43_ac7ba127fa0brow3_col6\" class=\"data row3 col6\" >0.0039</td> \n",
       "        <td id=\"T_97025a60_34dc_11e9_ae43_ac7ba127fa0brow3_col7\" class=\"data row3 col7\" >-0.0064</td> \n",
       "        <td id=\"T_97025a60_34dc_11e9_ae43_ac7ba127fa0brow3_col8\" class=\"data row3 col8\" >0.12</td> \n",
       "        <td id=\"T_97025a60_34dc_11e9_ae43_ac7ba127fa0brow3_col9\" class=\"data row3 col9\" >0.074</td> \n",
       "    </tr>    <tr> \n",
       "        <th id=\"T_97025a60_34dc_11e9_ae43_ac7ba127fa0blevel0_row4\" class=\"row_heading level0 row4\" >Day</th> \n",
       "        <td id=\"T_97025a60_34dc_11e9_ae43_ac7ba127fa0brow4_col0\" class=\"data row4 col0\" >-0.00013</td> \n",
       "        <td id=\"T_97025a60_34dc_11e9_ae43_ac7ba127fa0brow4_col1\" class=\"data row4 col1\" >0.0085</td> \n",
       "        <td id=\"T_97025a60_34dc_11e9_ae43_ac7ba127fa0brow4_col2\" class=\"data row4 col2\" >0.0084</td> \n",
       "        <td id=\"T_97025a60_34dc_11e9_ae43_ac7ba127fa0brow4_col3\" class=\"data row4 col3\" >-0.0066</td> \n",
       "        <td id=\"T_97025a60_34dc_11e9_ae43_ac7ba127fa0brow4_col4\" class=\"data row4 col4\" >1</td> \n",
       "        <td id=\"T_97025a60_34dc_11e9_ae43_ac7ba127fa0brow4_col5\" class=\"data row4 col5\" >0.0072</td> \n",
       "        <td id=\"T_97025a60_34dc_11e9_ae43_ac7ba127fa0brow4_col6\" class=\"data row4 col6\" >-0.00023</td> \n",
       "        <td id=\"T_97025a60_34dc_11e9_ae43_ac7ba127fa0brow4_col7\" class=\"data row4 col7\" >-0.13</td> \n",
       "        <td id=\"T_97025a60_34dc_11e9_ae43_ac7ba127fa0brow4_col8\" class=\"data row4 col8\" >0.038</td> \n",
       "        <td id=\"T_97025a60_34dc_11e9_ae43_ac7ba127fa0brow4_col9\" class=\"data row4 col9\" >-0.052</td> \n",
       "    </tr>    <tr> \n",
       "        <th id=\"T_97025a60_34dc_11e9_ae43_ac7ba127fa0blevel0_row5\" class=\"row_heading level0 row5\" >StateHoliday</th> \n",
       "        <td id=\"T_97025a60_34dc_11e9_ae43_ac7ba127fa0brow5_col0\" class=\"data row5 col0\" >0.002</td> \n",
       "        <td id=\"T_97025a60_34dc_11e9_ae43_ac7ba127fa0brow5_col1\" class=\"data row5 col1\" >-0.01</td> \n",
       "        <td id=\"T_97025a60_34dc_11e9_ae43_ac7ba127fa0brow5_col2\" class=\"data row5 col2\" >0.085</td> \n",
       "        <td id=\"T_97025a60_34dc_11e9_ae43_ac7ba127fa0brow5_col3\" class=\"data row5 col3\" >-0.085</td> \n",
       "        <td id=\"T_97025a60_34dc_11e9_ae43_ac7ba127fa0brow5_col4\" class=\"data row5 col4\" >0.0072</td> \n",
       "        <td id=\"T_97025a60_34dc_11e9_ae43_ac7ba127fa0brow5_col5\" class=\"data row5 col5\" >1</td> \n",
       "        <td id=\"T_97025a60_34dc_11e9_ae43_ac7ba127fa0brow5_col6\" class=\"data row5 col6\" >0.003</td> \n",
       "        <td id=\"T_97025a60_34dc_11e9_ae43_ac7ba127fa0brow5_col7\" class=\"data row5 col7\" >-0.004</td> \n",
       "        <td id=\"T_97025a60_34dc_11e9_ae43_ac7ba127fa0brow5_col8\" class=\"data row5 col8\" >0.068</td> \n",
       "        <td id=\"T_97025a60_34dc_11e9_ae43_ac7ba127fa0brow5_col9\" class=\"data row5 col9\" >-0.03</td> \n",
       "    </tr>    <tr> \n",
       "        <th id=\"T_97025a60_34dc_11e9_ae43_ac7ba127fa0blevel0_row6\" class=\"row_heading level0 row6\" >CompetitionDistance</th> \n",
       "        <td id=\"T_97025a60_34dc_11e9_ae43_ac7ba127fa0brow6_col0\" class=\"data row6 col0\" >-0.027</td> \n",
       "        <td id=\"T_97025a60_34dc_11e9_ae43_ac7ba127fa0brow6_col1\" class=\"data row6 col1\" >0.0055</td> \n",
       "        <td id=\"T_97025a60_34dc_11e9_ae43_ac7ba127fa0brow6_col2\" class=\"data row6 col2\" >0.00063</td> \n",
       "        <td id=\"T_97025a60_34dc_11e9_ae43_ac7ba127fa0brow6_col3\" class=\"data row6 col3\" >0.0039</td> \n",
       "        <td id=\"T_97025a60_34dc_11e9_ae43_ac7ba127fa0brow6_col4\" class=\"data row6 col4\" >-0.00023</td> \n",
       "        <td id=\"T_97025a60_34dc_11e9_ae43_ac7ba127fa0brow6_col5\" class=\"data row6 col5\" >0.003</td> \n",
       "        <td id=\"T_97025a60_34dc_11e9_ae43_ac7ba127fa0brow6_col6\" class=\"data row6 col6\" >1</td> \n",
       "        <td id=\"T_97025a60_34dc_11e9_ae43_ac7ba127fa0brow6_col7\" class=\"data row6 col7\" >-0.0024</td> \n",
       "        <td id=\"T_97025a60_34dc_11e9_ae43_ac7ba127fa0brow6_col8\" class=\"data row6 col8\" >-0.0043</td> \n",
       "        <td id=\"T_97025a60_34dc_11e9_ae43_ac7ba127fa0brow6_col9\" class=\"data row6 col9\" >-0.036</td> \n",
       "    </tr>    <tr> \n",
       "        <th id=\"T_97025a60_34dc_11e9_ae43_ac7ba127fa0blevel0_row7\" class=\"row_heading level0 row7\" >Promo</th> \n",
       "        <td id=\"T_97025a60_34dc_11e9_ae43_ac7ba127fa0brow7_col0\" class=\"data row7 col0\" >-1.5e-05</td> \n",
       "        <td id=\"T_97025a60_34dc_11e9_ae43_ac7ba127fa0brow7_col1\" class=\"data row7 col1\" >-0.29</td> \n",
       "        <td id=\"T_97025a60_34dc_11e9_ae43_ac7ba127fa0brow7_col2\" class=\"data row7 col2\" >0.024</td> \n",
       "        <td id=\"T_97025a60_34dc_11e9_ae43_ac7ba127fa0brow7_col3\" class=\"data row7 col3\" >-0.0064</td> \n",
       "        <td id=\"T_97025a60_34dc_11e9_ae43_ac7ba127fa0brow7_col4\" class=\"data row7 col4\" >-0.13</td> \n",
       "        <td id=\"T_97025a60_34dc_11e9_ae43_ac7ba127fa0brow7_col5\" class=\"data row7 col5\" >-0.004</td> \n",
       "        <td id=\"T_97025a60_34dc_11e9_ae43_ac7ba127fa0brow7_col6\" class=\"data row7 col6\" >-0.0024</td> \n",
       "        <td id=\"T_97025a60_34dc_11e9_ae43_ac7ba127fa0brow7_col7\" class=\"data row7 col7\" >1</td> \n",
       "        <td id=\"T_97025a60_34dc_11e9_ae43_ac7ba127fa0brow7_col8\" class=\"data row7 col8\" >0.029</td> \n",
       "        <td id=\"T_97025a60_34dc_11e9_ae43_ac7ba127fa0brow7_col9\" class=\"data row7 col9\" >0.37</td> \n",
       "    </tr>    <tr> \n",
       "        <th id=\"T_97025a60_34dc_11e9_ae43_ac7ba127fa0blevel0_row8\" class=\"row_heading level0 row8\" >SchoolHoliday</th> \n",
       "        <td id=\"T_97025a60_34dc_11e9_ae43_ac7ba127fa0brow8_col0\" class=\"data row8 col0\" >0.00053</td> \n",
       "        <td id=\"T_97025a60_34dc_11e9_ae43_ac7ba127fa0brow8_col1\" class=\"data row8 col1\" >-0.14</td> \n",
       "        <td id=\"T_97025a60_34dc_11e9_ae43_ac7ba127fa0brow8_col2\" class=\"data row8 col2\" >-0.039</td> \n",
       "        <td id=\"T_97025a60_34dc_11e9_ae43_ac7ba127fa0brow8_col3\" class=\"data row8 col3\" >0.12</td> \n",
       "        <td id=\"T_97025a60_34dc_11e9_ae43_ac7ba127fa0brow8_col4\" class=\"data row8 col4\" >0.038</td> \n",
       "        <td id=\"T_97025a60_34dc_11e9_ae43_ac7ba127fa0brow8_col5\" class=\"data row8 col5\" >0.068</td> \n",
       "        <td id=\"T_97025a60_34dc_11e9_ae43_ac7ba127fa0brow8_col6\" class=\"data row8 col6\" >-0.0043</td> \n",
       "        <td id=\"T_97025a60_34dc_11e9_ae43_ac7ba127fa0brow8_col7\" class=\"data row8 col7\" >0.029</td> \n",
       "        <td id=\"T_97025a60_34dc_11e9_ae43_ac7ba127fa0brow8_col8\" class=\"data row8 col8\" >1</td> \n",
       "        <td id=\"T_97025a60_34dc_11e9_ae43_ac7ba127fa0brow8_col9\" class=\"data row8 col9\" >0.039</td> \n",
       "    </tr>    <tr> \n",
       "        <th id=\"T_97025a60_34dc_11e9_ae43_ac7ba127fa0blevel0_row9\" class=\"row_heading level0 row9\" >Sales</th> \n",
       "        <td id=\"T_97025a60_34dc_11e9_ae43_ac7ba127fa0brow9_col0\" class=\"data row9 col0\" >0.0077</td> \n",
       "        <td id=\"T_97025a60_34dc_11e9_ae43_ac7ba127fa0brow9_col1\" class=\"data row9 col1\" >-0.18</td> \n",
       "        <td id=\"T_97025a60_34dc_11e9_ae43_ac7ba127fa0brow9_col2\" class=\"data row9 col2\" >0.036</td> \n",
       "        <td id=\"T_97025a60_34dc_11e9_ae43_ac7ba127fa0brow9_col3\" class=\"data row9 col3\" >0.074</td> \n",
       "        <td id=\"T_97025a60_34dc_11e9_ae43_ac7ba127fa0brow9_col4\" class=\"data row9 col4\" >-0.052</td> \n",
       "        <td id=\"T_97025a60_34dc_11e9_ae43_ac7ba127fa0brow9_col5\" class=\"data row9 col5\" >-0.03</td> \n",
       "        <td id=\"T_97025a60_34dc_11e9_ae43_ac7ba127fa0brow9_col6\" class=\"data row9 col6\" >-0.036</td> \n",
       "        <td id=\"T_97025a60_34dc_11e9_ae43_ac7ba127fa0brow9_col7\" class=\"data row9 col7\" >0.37</td> \n",
       "        <td id=\"T_97025a60_34dc_11e9_ae43_ac7ba127fa0brow9_col8\" class=\"data row9 col8\" >0.039</td> \n",
       "        <td id=\"T_97025a60_34dc_11e9_ae43_ac7ba127fa0brow9_col9\" class=\"data row9 col9\" >1</td> \n",
       "    </tr></tbody> \n",
       "</table> "
      ],
      "text/plain": [
       "<pandas.io.formats.style.Styler at 0x7f9fd36a2048>"
      ]
     },
     "execution_count": 202,
     "metadata": {},
     "output_type": "execute_result"
    }
   ],
   "source": [
    "new_train_df.corr().style.background_gradient().set_precision(2)"
   ]
  },
  {
   "cell_type": "markdown",
   "metadata": {
    "colab_type": "text",
    "id": "88ehWPFyjWp-"
   },
   "source": [
    "### Create X and y for training the models\n",
    "\n",
    "\n"
   ]
  },
  {
   "cell_type": "code",
   "execution_count": 203,
   "metadata": {
    "colab": {},
    "colab_type": "code",
    "id": "AmuYAwO-qz-A"
   },
   "outputs": [],
   "source": [
    "y = new_train_df.Sales"
   ]
  },
  {
   "cell_type": "code",
   "execution_count": 204,
   "metadata": {
    "colab": {
     "base_uri": "https://localhost:8080/",
     "height": 136
    },
    "colab_type": "code",
    "executionInfo": {
     "elapsed": 1175,
     "status": "ok",
     "timestamp": 1540640475534,
     "user": {
      "displayName": "Ankur Bohra",
      "photoUrl": "",
      "userId": "15541534273238543658"
     },
     "user_tz": -330
    },
    "id": "Bi4wW2V-mcYQ",
    "outputId": "f3ec046b-3732-4ba2-f116-c24273ae4779"
   },
   "outputs": [
    {
     "data": {
      "text/plain": [
       "Date\n",
       "2015-07-31     5263\n",
       "2015-07-31     6064\n",
       "2015-07-31     8314\n",
       "2015-07-31    13995\n",
       "2015-07-31     4822\n",
       "Name: Sales, dtype: int64"
      ]
     },
     "execution_count": 204,
     "metadata": {},
     "output_type": "execute_result"
    }
   ],
   "source": [
    "y.head()"
   ]
  },
  {
   "cell_type": "code",
   "execution_count": 205,
   "metadata": {
    "colab": {},
    "colab_type": "code",
    "id": "DMddd98VsZMh"
   },
   "outputs": [],
   "source": [
    "X = new_train_df.drop('Sales', axis=1)"
   ]
  },
  {
   "cell_type": "code",
   "execution_count": 206,
   "metadata": {
    "colab": {
     "base_uri": "https://localhost:8080/",
     "height": 235
    },
    "colab_type": "code",
    "executionInfo": {
     "elapsed": 1062,
     "status": "ok",
     "timestamp": 1540640477966,
     "user": {
      "displayName": "Ankur Bohra",
      "photoUrl": "",
      "userId": "15541534273238543658"
     },
     "user_tz": -330
    },
    "id": "073BH0hxmXJU",
    "outputId": "f7ce58cf-0e6c-4604-a1fe-054b04df5552"
   },
   "outputs": [
    {
     "data": {
      "text/html": [
       "<div>\n",
       "<style scoped>\n",
       "    .dataframe tbody tr th:only-of-type {\n",
       "        vertical-align: middle;\n",
       "    }\n",
       "\n",
       "    .dataframe tbody tr th {\n",
       "        vertical-align: top;\n",
       "    }\n",
       "\n",
       "    .dataframe thead th {\n",
       "        text-align: right;\n",
       "    }\n",
       "</style>\n",
       "<table border=\"1\" class=\"dataframe\">\n",
       "  <thead>\n",
       "    <tr style=\"text-align: right;\">\n",
       "      <th></th>\n",
       "      <th>StoreType</th>\n",
       "      <th>Assortment</th>\n",
       "      <th>Store</th>\n",
       "      <th>DayOfWeek</th>\n",
       "      <th>Year</th>\n",
       "      <th>Month</th>\n",
       "      <th>Day</th>\n",
       "      <th>StateHoliday</th>\n",
       "      <th>CompetitionDistance</th>\n",
       "      <th>Promo</th>\n",
       "      <th>SchoolHoliday</th>\n",
       "    </tr>\n",
       "    <tr>\n",
       "      <th>Date</th>\n",
       "      <th></th>\n",
       "      <th></th>\n",
       "      <th></th>\n",
       "      <th></th>\n",
       "      <th></th>\n",
       "      <th></th>\n",
       "      <th></th>\n",
       "      <th></th>\n",
       "      <th></th>\n",
       "      <th></th>\n",
       "      <th></th>\n",
       "    </tr>\n",
       "  </thead>\n",
       "  <tbody>\n",
       "    <tr>\n",
       "      <th>2015-07-31</th>\n",
       "      <td>c</td>\n",
       "      <td>a</td>\n",
       "      <td>1</td>\n",
       "      <td>4</td>\n",
       "      <td>2015</td>\n",
       "      <td>7</td>\n",
       "      <td>31</td>\n",
       "      <td>False</td>\n",
       "      <td>1270.0</td>\n",
       "      <td>1</td>\n",
       "      <td>1</td>\n",
       "    </tr>\n",
       "    <tr>\n",
       "      <th>2015-07-31</th>\n",
       "      <td>a</td>\n",
       "      <td>a</td>\n",
       "      <td>2</td>\n",
       "      <td>4</td>\n",
       "      <td>2015</td>\n",
       "      <td>7</td>\n",
       "      <td>31</td>\n",
       "      <td>False</td>\n",
       "      <td>570.0</td>\n",
       "      <td>1</td>\n",
       "      <td>1</td>\n",
       "    </tr>\n",
       "    <tr>\n",
       "      <th>2015-07-31</th>\n",
       "      <td>a</td>\n",
       "      <td>a</td>\n",
       "      <td>3</td>\n",
       "      <td>4</td>\n",
       "      <td>2015</td>\n",
       "      <td>7</td>\n",
       "      <td>31</td>\n",
       "      <td>False</td>\n",
       "      <td>14130.0</td>\n",
       "      <td>1</td>\n",
       "      <td>1</td>\n",
       "    </tr>\n",
       "    <tr>\n",
       "      <th>2015-07-31</th>\n",
       "      <td>c</td>\n",
       "      <td>c</td>\n",
       "      <td>4</td>\n",
       "      <td>4</td>\n",
       "      <td>2015</td>\n",
       "      <td>7</td>\n",
       "      <td>31</td>\n",
       "      <td>False</td>\n",
       "      <td>620.0</td>\n",
       "      <td>1</td>\n",
       "      <td>1</td>\n",
       "    </tr>\n",
       "    <tr>\n",
       "      <th>2015-07-31</th>\n",
       "      <td>a</td>\n",
       "      <td>a</td>\n",
       "      <td>5</td>\n",
       "      <td>4</td>\n",
       "      <td>2015</td>\n",
       "      <td>7</td>\n",
       "      <td>31</td>\n",
       "      <td>False</td>\n",
       "      <td>29910.0</td>\n",
       "      <td>1</td>\n",
       "      <td>1</td>\n",
       "    </tr>\n",
       "  </tbody>\n",
       "</table>\n",
       "</div>"
      ],
      "text/plain": [
       "           StoreType Assortment  Store  DayOfWeek  Year  Month  Day  \\\n",
       "Date                                                                  \n",
       "2015-07-31         c          a      1          4  2015      7   31   \n",
       "2015-07-31         a          a      2          4  2015      7   31   \n",
       "2015-07-31         a          a      3          4  2015      7   31   \n",
       "2015-07-31         c          c      4          4  2015      7   31   \n",
       "2015-07-31         a          a      5          4  2015      7   31   \n",
       "\n",
       "            StateHoliday  CompetitionDistance  Promo  SchoolHoliday  \n",
       "Date                                                                 \n",
       "2015-07-31         False               1270.0      1              1  \n",
       "2015-07-31         False                570.0      1              1  \n",
       "2015-07-31         False              14130.0      1              1  \n",
       "2015-07-31         False                620.0      1              1  \n",
       "2015-07-31         False              29910.0      1              1  "
      ]
     },
     "execution_count": 206,
     "metadata": {},
     "output_type": "execute_result"
    }
   ],
   "source": [
    "X.head()"
   ]
  },
  {
   "cell_type": "markdown",
   "metadata": {
    "colab_type": "text",
    "id": "BlESfMNP9-9q"
   },
   "source": [
    "## Linear Regression"
   ]
  },
  {
   "cell_type": "code",
   "execution_count": 207,
   "metadata": {
    "colab": {},
    "colab_type": "code",
    "id": "YN4hG-YCs0F0"
   },
   "outputs": [],
   "source": [
    "X_lr = X.copy()"
   ]
  },
  {
   "cell_type": "markdown",
   "metadata": {
    "colab_type": "text",
    "id": "j5vN_xjSYOsT"
   },
   "source": [
    "### One Hot Encoding of the categorical data"
   ]
  },
  {
   "cell_type": "code",
   "execution_count": 208,
   "metadata": {
    "colab": {},
    "colab_type": "code",
    "id": "3DqI0v1Is-lq"
   },
   "outputs": [],
   "source": [
    "X_lr = pd.get_dummies(X_lr)"
   ]
  },
  {
   "cell_type": "code",
   "execution_count": 209,
   "metadata": {
    "colab": {
     "base_uri": "https://localhost:8080/",
     "height": 340
    },
    "colab_type": "code",
    "executionInfo": {
     "elapsed": 921,
     "status": "ok",
     "timestamp": 1540640481628,
     "user": {
      "displayName": "Ankur Bohra",
      "photoUrl": "",
      "userId": "15541534273238543658"
     },
     "user_tz": -330
    },
    "id": "SJnu_OlNtDHu",
    "outputId": "5803671d-c74e-401c-a1d3-75831f754e5c"
   },
   "outputs": [
    {
     "data": {
      "text/html": [
       "<div>\n",
       "<style scoped>\n",
       "    .dataframe tbody tr th:only-of-type {\n",
       "        vertical-align: middle;\n",
       "    }\n",
       "\n",
       "    .dataframe tbody tr th {\n",
       "        vertical-align: top;\n",
       "    }\n",
       "\n",
       "    .dataframe thead th {\n",
       "        text-align: right;\n",
       "    }\n",
       "</style>\n",
       "<table border=\"1\" class=\"dataframe\">\n",
       "  <thead>\n",
       "    <tr style=\"text-align: right;\">\n",
       "      <th></th>\n",
       "      <th>Store</th>\n",
       "      <th>DayOfWeek</th>\n",
       "      <th>Year</th>\n",
       "      <th>Month</th>\n",
       "      <th>Day</th>\n",
       "      <th>StateHoliday</th>\n",
       "      <th>CompetitionDistance</th>\n",
       "      <th>Promo</th>\n",
       "      <th>SchoolHoliday</th>\n",
       "      <th>StoreType_a</th>\n",
       "      <th>StoreType_b</th>\n",
       "      <th>StoreType_c</th>\n",
       "      <th>StoreType_d</th>\n",
       "      <th>Assortment_a</th>\n",
       "      <th>Assortment_b</th>\n",
       "      <th>Assortment_c</th>\n",
       "    </tr>\n",
       "    <tr>\n",
       "      <th>Date</th>\n",
       "      <th></th>\n",
       "      <th></th>\n",
       "      <th></th>\n",
       "      <th></th>\n",
       "      <th></th>\n",
       "      <th></th>\n",
       "      <th></th>\n",
       "      <th></th>\n",
       "      <th></th>\n",
       "      <th></th>\n",
       "      <th></th>\n",
       "      <th></th>\n",
       "      <th></th>\n",
       "      <th></th>\n",
       "      <th></th>\n",
       "      <th></th>\n",
       "    </tr>\n",
       "  </thead>\n",
       "  <tbody>\n",
       "    <tr>\n",
       "      <th>2015-07-31</th>\n",
       "      <td>1</td>\n",
       "      <td>4</td>\n",
       "      <td>2015</td>\n",
       "      <td>7</td>\n",
       "      <td>31</td>\n",
       "      <td>False</td>\n",
       "      <td>1270.0</td>\n",
       "      <td>1</td>\n",
       "      <td>1</td>\n",
       "      <td>0</td>\n",
       "      <td>0</td>\n",
       "      <td>1</td>\n",
       "      <td>0</td>\n",
       "      <td>1</td>\n",
       "      <td>0</td>\n",
       "      <td>0</td>\n",
       "    </tr>\n",
       "    <tr>\n",
       "      <th>2015-07-31</th>\n",
       "      <td>2</td>\n",
       "      <td>4</td>\n",
       "      <td>2015</td>\n",
       "      <td>7</td>\n",
       "      <td>31</td>\n",
       "      <td>False</td>\n",
       "      <td>570.0</td>\n",
       "      <td>1</td>\n",
       "      <td>1</td>\n",
       "      <td>1</td>\n",
       "      <td>0</td>\n",
       "      <td>0</td>\n",
       "      <td>0</td>\n",
       "      <td>1</td>\n",
       "      <td>0</td>\n",
       "      <td>0</td>\n",
       "    </tr>\n",
       "    <tr>\n",
       "      <th>2015-07-31</th>\n",
       "      <td>3</td>\n",
       "      <td>4</td>\n",
       "      <td>2015</td>\n",
       "      <td>7</td>\n",
       "      <td>31</td>\n",
       "      <td>False</td>\n",
       "      <td>14130.0</td>\n",
       "      <td>1</td>\n",
       "      <td>1</td>\n",
       "      <td>1</td>\n",
       "      <td>0</td>\n",
       "      <td>0</td>\n",
       "      <td>0</td>\n",
       "      <td>1</td>\n",
       "      <td>0</td>\n",
       "      <td>0</td>\n",
       "    </tr>\n",
       "    <tr>\n",
       "      <th>2015-07-31</th>\n",
       "      <td>4</td>\n",
       "      <td>4</td>\n",
       "      <td>2015</td>\n",
       "      <td>7</td>\n",
       "      <td>31</td>\n",
       "      <td>False</td>\n",
       "      <td>620.0</td>\n",
       "      <td>1</td>\n",
       "      <td>1</td>\n",
       "      <td>0</td>\n",
       "      <td>0</td>\n",
       "      <td>1</td>\n",
       "      <td>0</td>\n",
       "      <td>0</td>\n",
       "      <td>0</td>\n",
       "      <td>1</td>\n",
       "    </tr>\n",
       "    <tr>\n",
       "      <th>2015-07-31</th>\n",
       "      <td>5</td>\n",
       "      <td>4</td>\n",
       "      <td>2015</td>\n",
       "      <td>7</td>\n",
       "      <td>31</td>\n",
       "      <td>False</td>\n",
       "      <td>29910.0</td>\n",
       "      <td>1</td>\n",
       "      <td>1</td>\n",
       "      <td>1</td>\n",
       "      <td>0</td>\n",
       "      <td>0</td>\n",
       "      <td>0</td>\n",
       "      <td>1</td>\n",
       "      <td>0</td>\n",
       "      <td>0</td>\n",
       "    </tr>\n",
       "  </tbody>\n",
       "</table>\n",
       "</div>"
      ],
      "text/plain": [
       "            Store  DayOfWeek  Year  Month  Day  StateHoliday  \\\n",
       "Date                                                           \n",
       "2015-07-31      1          4  2015      7   31         False   \n",
       "2015-07-31      2          4  2015      7   31         False   \n",
       "2015-07-31      3          4  2015      7   31         False   \n",
       "2015-07-31      4          4  2015      7   31         False   \n",
       "2015-07-31      5          4  2015      7   31         False   \n",
       "\n",
       "            CompetitionDistance  Promo  SchoolHoliday  StoreType_a  \\\n",
       "Date                                                                 \n",
       "2015-07-31               1270.0      1              1            0   \n",
       "2015-07-31                570.0      1              1            1   \n",
       "2015-07-31              14130.0      1              1            1   \n",
       "2015-07-31                620.0      1              1            0   \n",
       "2015-07-31              29910.0      1              1            1   \n",
       "\n",
       "            StoreType_b  StoreType_c  StoreType_d  Assortment_a  Assortment_b  \\\n",
       "Date                                                                            \n",
       "2015-07-31            0            1            0             1             0   \n",
       "2015-07-31            0            0            0             1             0   \n",
       "2015-07-31            0            0            0             1             0   \n",
       "2015-07-31            0            1            0             0             0   \n",
       "2015-07-31            0            0            0             1             0   \n",
       "\n",
       "            Assortment_c  \n",
       "Date                      \n",
       "2015-07-31             0  \n",
       "2015-07-31             0  \n",
       "2015-07-31             0  \n",
       "2015-07-31             1  \n",
       "2015-07-31             0  "
      ]
     },
     "execution_count": 209,
     "metadata": {},
     "output_type": "execute_result"
    }
   ],
   "source": [
    "X_lr.head()"
   ]
  },
  {
   "cell_type": "markdown",
   "metadata": {
    "colab_type": "text",
    "id": "ELQ84iVOH-xo"
   },
   "source": [
    "### Split Train into Train and Validation Data"
   ]
  },
  {
   "cell_type": "code",
   "execution_count": 210,
   "metadata": {
    "colab": {},
    "colab_type": "code",
    "id": "AV5Icvy8xEYO"
   },
   "outputs": [],
   "source": [
    "x_lr_train, x_lr_val, y_lr_train, y_lr_val = train_test_split(X_lr, y, test_size=0.3)"
   ]
  },
  {
   "cell_type": "markdown",
   "metadata": {
    "colab_type": "text",
    "id": "xC0SXYiWIHwU"
   },
   "source": [
    "### Train the Model"
   ]
  },
  {
   "cell_type": "code",
   "execution_count": 211,
   "metadata": {
    "colab": {},
    "colab_type": "code",
    "id": "yqCgywalFRtn"
   },
   "outputs": [],
   "source": [
    "lin_reg = LinearRegression()"
   ]
  },
  {
   "cell_type": "code",
   "execution_count": 212,
   "metadata": {
    "colab": {},
    "colab_type": "code",
    "id": "EGibbfgNGVNT"
   },
   "outputs": [],
   "source": [
    "lin_reg_model = lin_reg.fit(x_lr_train, y_lr_train)"
   ]
  },
  {
   "cell_type": "markdown",
   "metadata": {
    "colab_type": "text",
    "id": "yhpqssQPGkDp"
   },
   "source": [
    "### Evaluate the Model"
   ]
  },
  {
   "cell_type": "code",
   "execution_count": 213,
   "metadata": {
    "colab": {},
    "colab_type": "code",
    "id": "ih_bb__eITnb"
   },
   "outputs": [],
   "source": [
    "def rmse(x, y):\n",
    "    return np.sqrt(mean_squared_error(x, y))"
   ]
  },
  {
   "cell_type": "code",
   "execution_count": 214,
   "metadata": {
    "colab": {},
    "colab_type": "code",
    "id": "XXR7pUChI9VC"
   },
   "outputs": [],
   "source": [
    "y_lr_train_predictions = lin_reg_model.predict(x_lr_train)\n",
    "y_lr_val_predictions = lin_reg_model.predict(x_lr_val)"
   ]
  },
  {
   "cell_type": "code",
   "execution_count": 215,
   "metadata": {
    "colab": {
     "base_uri": "https://localhost:8080/",
     "height": 34
    },
    "colab_type": "code",
    "executionInfo": {
     "elapsed": 1321,
     "status": "ok",
     "timestamp": 1540640492215,
     "user": {
      "displayName": "Ankur Bohra",
      "photoUrl": "",
      "userId": "15541534273238543658"
     },
     "user_tz": -330
    },
    "id": "3FoAlp2gJYyh",
    "outputId": "1c6e31d2-8044-43b8-b02e-00e61c5daf04"
   },
   "outputs": [
    {
     "data": {
      "text/plain": [
       "0.19625699959371323"
      ]
     },
     "execution_count": 215,
     "metadata": {},
     "output_type": "execute_result"
    }
   ],
   "source": [
    "lin_reg_model.score(x_lr_train, y_lr_train)"
   ]
  },
  {
   "cell_type": "code",
   "execution_count": 216,
   "metadata": {
    "colab": {
     "base_uri": "https://localhost:8080/",
     "height": 34
    },
    "colab_type": "code",
    "executionInfo": {
     "elapsed": 1064,
     "status": "ok",
     "timestamp": 1540640493460,
     "user": {
      "displayName": "Ankur Bohra",
      "photoUrl": "",
      "userId": "15541534273238543658"
     },
     "user_tz": -330
    },
    "id": "TkpcewJ1J6Xg",
    "outputId": "255b858a-2626-42d8-bdb1-ed1312f3df4a"
   },
   "outputs": [
    {
     "data": {
      "text/plain": [
       "0.1973053359889052"
      ]
     },
     "execution_count": 216,
     "metadata": {},
     "output_type": "execute_result"
    }
   ],
   "source": [
    "lin_reg_model.score(x_lr_val, y_lr_val)"
   ]
  },
  {
   "cell_type": "code",
   "execution_count": 217,
   "metadata": {
    "colab": {
     "base_uri": "https://localhost:8080/",
     "height": 34
    },
    "colab_type": "code",
    "executionInfo": {
     "elapsed": 1034,
     "status": "ok",
     "timestamp": 1540640494788,
     "user": {
      "displayName": "Ankur Bohra",
      "photoUrl": "",
      "userId": "15541534273238543658"
     },
     "user_tz": -330
    },
    "id": "Siw-_Bs3J_yH",
    "outputId": "87e896a8-b516-48f9-932d-82fe25d1e1bb"
   },
   "outputs": [
    {
     "data": {
      "text/plain": [
       "2780.22163495606"
      ]
     },
     "execution_count": 217,
     "metadata": {},
     "output_type": "execute_result"
    }
   ],
   "source": [
    "rmse(y_lr_train, y_lr_train_predictions)\n"
   ]
  },
  {
   "cell_type": "code",
   "execution_count": 218,
   "metadata": {
    "colab": {
     "base_uri": "https://localhost:8080/",
     "height": 34
    },
    "colab_type": "code",
    "executionInfo": {
     "elapsed": 868,
     "status": "ok",
     "timestamp": 1540640496197,
     "user": {
      "displayName": "Ankur Bohra",
      "photoUrl": "",
      "userId": "15541534273238543658"
     },
     "user_tz": -330
    },
    "id": "0YNrTVXOKXUX",
    "outputId": "06d81afe-4ee3-413f-ad2c-5cdb27f05d25"
   },
   "outputs": [
    {
     "data": {
      "text/plain": [
       "2786.395409644904"
      ]
     },
     "execution_count": 218,
     "metadata": {},
     "output_type": "execute_result"
    }
   ],
   "source": [
    "rmse(y_lr_val, y_lr_val_predictions)"
   ]
  },
  {
   "cell_type": "markdown",
   "metadata": {
    "colab_type": "text",
    "id": "FVfnDIcVKj5N"
   },
   "source": [
    "## RandomForest"
   ]
  },
  {
   "cell_type": "markdown",
   "metadata": {
    "colab_type": "text",
    "id": "cjQId_JGYjPS"
   },
   "source": [
    "### Encode categorical data using lable encoder"
   ]
  },
  {
   "cell_type": "code",
   "execution_count": 219,
   "metadata": {
    "colab": {},
    "colab_type": "code",
    "id": "pfm3HSIgMinc"
   },
   "outputs": [],
   "source": [
    "label = LabelEncoder()"
   ]
  },
  {
   "cell_type": "code",
   "execution_count": 220,
   "metadata": {
    "colab": {},
    "colab_type": "code",
    "id": "EJ-rbX2TN3_l"
   },
   "outputs": [],
   "source": [
    "X.Assortment = label.fit_transform(X.Assortment)\n",
    "X.StoreType = label.fit_transform(X.StoreType)"
   ]
  },
  {
   "cell_type": "code",
   "execution_count": 221,
   "metadata": {
    "colab": {
     "base_uri": "https://localhost:8080/",
     "height": 235
    },
    "colab_type": "code",
    "executionInfo": {
     "elapsed": 3567,
     "status": "ok",
     "timestamp": 1540640507044,
     "user": {
      "displayName": "Ankur Bohra",
      "photoUrl": "",
      "userId": "15541534273238543658"
     },
     "user_tz": -330
    },
    "id": "CBaYrfgaN50-",
    "outputId": "25e00b7f-52ca-4d14-e838-cefdc0470d6b"
   },
   "outputs": [
    {
     "data": {
      "text/html": [
       "<div>\n",
       "<style scoped>\n",
       "    .dataframe tbody tr th:only-of-type {\n",
       "        vertical-align: middle;\n",
       "    }\n",
       "\n",
       "    .dataframe tbody tr th {\n",
       "        vertical-align: top;\n",
       "    }\n",
       "\n",
       "    .dataframe thead th {\n",
       "        text-align: right;\n",
       "    }\n",
       "</style>\n",
       "<table border=\"1\" class=\"dataframe\">\n",
       "  <thead>\n",
       "    <tr style=\"text-align: right;\">\n",
       "      <th></th>\n",
       "      <th>StoreType</th>\n",
       "      <th>Assortment</th>\n",
       "      <th>Store</th>\n",
       "      <th>DayOfWeek</th>\n",
       "      <th>Year</th>\n",
       "      <th>Month</th>\n",
       "      <th>Day</th>\n",
       "      <th>StateHoliday</th>\n",
       "      <th>CompetitionDistance</th>\n",
       "      <th>Promo</th>\n",
       "      <th>SchoolHoliday</th>\n",
       "    </tr>\n",
       "    <tr>\n",
       "      <th>Date</th>\n",
       "      <th></th>\n",
       "      <th></th>\n",
       "      <th></th>\n",
       "      <th></th>\n",
       "      <th></th>\n",
       "      <th></th>\n",
       "      <th></th>\n",
       "      <th></th>\n",
       "      <th></th>\n",
       "      <th></th>\n",
       "      <th></th>\n",
       "    </tr>\n",
       "  </thead>\n",
       "  <tbody>\n",
       "    <tr>\n",
       "      <th>2015-07-31</th>\n",
       "      <td>2</td>\n",
       "      <td>0</td>\n",
       "      <td>1</td>\n",
       "      <td>4</td>\n",
       "      <td>2015</td>\n",
       "      <td>7</td>\n",
       "      <td>31</td>\n",
       "      <td>False</td>\n",
       "      <td>1270.0</td>\n",
       "      <td>1</td>\n",
       "      <td>1</td>\n",
       "    </tr>\n",
       "    <tr>\n",
       "      <th>2015-07-31</th>\n",
       "      <td>0</td>\n",
       "      <td>0</td>\n",
       "      <td>2</td>\n",
       "      <td>4</td>\n",
       "      <td>2015</td>\n",
       "      <td>7</td>\n",
       "      <td>31</td>\n",
       "      <td>False</td>\n",
       "      <td>570.0</td>\n",
       "      <td>1</td>\n",
       "      <td>1</td>\n",
       "    </tr>\n",
       "    <tr>\n",
       "      <th>2015-07-31</th>\n",
       "      <td>0</td>\n",
       "      <td>0</td>\n",
       "      <td>3</td>\n",
       "      <td>4</td>\n",
       "      <td>2015</td>\n",
       "      <td>7</td>\n",
       "      <td>31</td>\n",
       "      <td>False</td>\n",
       "      <td>14130.0</td>\n",
       "      <td>1</td>\n",
       "      <td>1</td>\n",
       "    </tr>\n",
       "    <tr>\n",
       "      <th>2015-07-31</th>\n",
       "      <td>2</td>\n",
       "      <td>2</td>\n",
       "      <td>4</td>\n",
       "      <td>4</td>\n",
       "      <td>2015</td>\n",
       "      <td>7</td>\n",
       "      <td>31</td>\n",
       "      <td>False</td>\n",
       "      <td>620.0</td>\n",
       "      <td>1</td>\n",
       "      <td>1</td>\n",
       "    </tr>\n",
       "    <tr>\n",
       "      <th>2015-07-31</th>\n",
       "      <td>0</td>\n",
       "      <td>0</td>\n",
       "      <td>5</td>\n",
       "      <td>4</td>\n",
       "      <td>2015</td>\n",
       "      <td>7</td>\n",
       "      <td>31</td>\n",
       "      <td>False</td>\n",
       "      <td>29910.0</td>\n",
       "      <td>1</td>\n",
       "      <td>1</td>\n",
       "    </tr>\n",
       "  </tbody>\n",
       "</table>\n",
       "</div>"
      ],
      "text/plain": [
       "            StoreType  Assortment  Store  DayOfWeek  Year  Month  Day  \\\n",
       "Date                                                                    \n",
       "2015-07-31          2           0      1          4  2015      7   31   \n",
       "2015-07-31          0           0      2          4  2015      7   31   \n",
       "2015-07-31          0           0      3          4  2015      7   31   \n",
       "2015-07-31          2           2      4          4  2015      7   31   \n",
       "2015-07-31          0           0      5          4  2015      7   31   \n",
       "\n",
       "            StateHoliday  CompetitionDistance  Promo  SchoolHoliday  \n",
       "Date                                                                 \n",
       "2015-07-31         False               1270.0      1              1  \n",
       "2015-07-31         False                570.0      1              1  \n",
       "2015-07-31         False              14130.0      1              1  \n",
       "2015-07-31         False                620.0      1              1  \n",
       "2015-07-31         False              29910.0      1              1  "
      ]
     },
     "execution_count": 221,
     "metadata": {},
     "output_type": "execute_result"
    }
   ],
   "source": [
    "X.head()"
   ]
  },
  {
   "cell_type": "markdown",
   "metadata": {
    "colab_type": "text",
    "id": "s9W4X_QUOJzH"
   },
   "source": [
    "### Split Training into Training and Validation"
   ]
  },
  {
   "cell_type": "code",
   "execution_count": 222,
   "metadata": {
    "colab": {},
    "colab_type": "code",
    "id": "suhegtIhOTMR"
   },
   "outputs": [],
   "source": [
    "x_train, x_val, y_train, y_val = train_test_split(X, y, test_size=0.3)"
   ]
  },
  {
   "cell_type": "markdown",
   "metadata": {
    "colab_type": "text",
    "id": "5VLLC5ZaOaf0"
   },
   "source": [
    "### Train the model"
   ]
  },
  {
   "cell_type": "code",
   "execution_count": 223,
   "metadata": {
    "colab": {},
    "colab_type": "code",
    "id": "q2ntOVIyOeVL"
   },
   "outputs": [],
   "source": [
    "#random_forest = RandomForestRegressor(n_estimators=40, max_features=0.99, min_samples_leaf=2,\n",
    "#                          n_jobs=-1, oob_score=True)\n",
    "random_forest = RandomForestRegressor()"
   ]
  },
  {
   "cell_type": "code",
   "execution_count": 229,
   "metadata": {
    "colab": {},
    "colab_type": "code",
    "id": "cXQU-9dXO44i"
   },
   "outputs": [
    {
     "ename": "KeyboardInterrupt",
     "evalue": "",
     "output_type": "error",
     "traceback": [
      "\u001b[0;31m---------------------------------------------------------------------------\u001b[0m",
      "\u001b[0;31mKeyboardInterrupt\u001b[0m                         Traceback (most recent call last)",
      "\u001b[0;32m<ipython-input-229-9461c58238c2>\u001b[0m in \u001b[0;36m<module>\u001b[0;34m()\u001b[0m\n\u001b[0;32m----> 1\u001b[0;31m \u001b[0mrandom_forest_model\u001b[0m \u001b[0;34m=\u001b[0m \u001b[0mrandom_forest\u001b[0m\u001b[0;34m.\u001b[0m\u001b[0mfit\u001b[0m\u001b[0;34m(\u001b[0m\u001b[0mx_train\u001b[0m\u001b[0;34m,\u001b[0m \u001b[0my_train\u001b[0m\u001b[0;34m)\u001b[0m\u001b[0;34m\u001b[0m\u001b[0m\n\u001b[0m",
      "\u001b[0;32m~/anaconda3/lib/python3.6/site-packages/sklearn/ensemble/forest.py\u001b[0m in \u001b[0;36mfit\u001b[0;34m(self, X, y, sample_weight)\u001b[0m\n\u001b[1;32m    333\u001b[0m                     \u001b[0mt\u001b[0m\u001b[0;34m,\u001b[0m \u001b[0mself\u001b[0m\u001b[0;34m,\u001b[0m \u001b[0mX\u001b[0m\u001b[0;34m,\u001b[0m \u001b[0my\u001b[0m\u001b[0;34m,\u001b[0m \u001b[0msample_weight\u001b[0m\u001b[0;34m,\u001b[0m \u001b[0mi\u001b[0m\u001b[0;34m,\u001b[0m \u001b[0mlen\u001b[0m\u001b[0;34m(\u001b[0m\u001b[0mtrees\u001b[0m\u001b[0;34m)\u001b[0m\u001b[0;34m,\u001b[0m\u001b[0;34m\u001b[0m\u001b[0m\n\u001b[1;32m    334\u001b[0m                     verbose=self.verbose, class_weight=self.class_weight)\n\u001b[0;32m--> 335\u001b[0;31m                 for i, t in enumerate(trees))\n\u001b[0m\u001b[1;32m    336\u001b[0m \u001b[0;34m\u001b[0m\u001b[0m\n\u001b[1;32m    337\u001b[0m             \u001b[0;31m# Collect newly grown trees\u001b[0m\u001b[0;34m\u001b[0m\u001b[0;34m\u001b[0m\u001b[0m\n",
      "\u001b[0;32m~/anaconda3/lib/python3.6/site-packages/sklearn/externals/joblib/parallel.py\u001b[0m in \u001b[0;36m__call__\u001b[0;34m(self, iterable)\u001b[0m\n\u001b[1;32m    984\u001b[0m                 \u001b[0mself\u001b[0m\u001b[0;34m.\u001b[0m\u001b[0m_iterating\u001b[0m \u001b[0;34m=\u001b[0m \u001b[0mself\u001b[0m\u001b[0;34m.\u001b[0m\u001b[0m_original_iterator\u001b[0m \u001b[0;32mis\u001b[0m \u001b[0;32mnot\u001b[0m \u001b[0;32mNone\u001b[0m\u001b[0;34m\u001b[0m\u001b[0m\n\u001b[1;32m    985\u001b[0m \u001b[0;34m\u001b[0m\u001b[0m\n\u001b[0;32m--> 986\u001b[0;31m             \u001b[0;32mwhile\u001b[0m \u001b[0mself\u001b[0m\u001b[0;34m.\u001b[0m\u001b[0mdispatch_one_batch\u001b[0m\u001b[0;34m(\u001b[0m\u001b[0miterator\u001b[0m\u001b[0;34m)\u001b[0m\u001b[0;34m:\u001b[0m\u001b[0;34m\u001b[0m\u001b[0m\n\u001b[0m\u001b[1;32m    987\u001b[0m                 \u001b[0;32mpass\u001b[0m\u001b[0;34m\u001b[0m\u001b[0m\n\u001b[1;32m    988\u001b[0m \u001b[0;34m\u001b[0m\u001b[0m\n",
      "\u001b[0;32m~/anaconda3/lib/python3.6/site-packages/sklearn/externals/joblib/parallel.py\u001b[0m in \u001b[0;36mdispatch_one_batch\u001b[0;34m(self, iterator)\u001b[0m\n\u001b[1;32m    823\u001b[0m                 \u001b[0;32mreturn\u001b[0m \u001b[0;32mFalse\u001b[0m\u001b[0;34m\u001b[0m\u001b[0m\n\u001b[1;32m    824\u001b[0m             \u001b[0;32melse\u001b[0m\u001b[0;34m:\u001b[0m\u001b[0;34m\u001b[0m\u001b[0m\n\u001b[0;32m--> 825\u001b[0;31m                 \u001b[0mself\u001b[0m\u001b[0;34m.\u001b[0m\u001b[0m_dispatch\u001b[0m\u001b[0;34m(\u001b[0m\u001b[0mtasks\u001b[0m\u001b[0;34m)\u001b[0m\u001b[0;34m\u001b[0m\u001b[0m\n\u001b[0m\u001b[1;32m    826\u001b[0m                 \u001b[0;32mreturn\u001b[0m \u001b[0;32mTrue\u001b[0m\u001b[0;34m\u001b[0m\u001b[0m\n\u001b[1;32m    827\u001b[0m \u001b[0;34m\u001b[0m\u001b[0m\n",
      "\u001b[0;32m~/anaconda3/lib/python3.6/site-packages/sklearn/externals/joblib/parallel.py\u001b[0m in \u001b[0;36m_dispatch\u001b[0;34m(self, batch)\u001b[0m\n\u001b[1;32m    780\u001b[0m         \u001b[0;32mwith\u001b[0m \u001b[0mself\u001b[0m\u001b[0;34m.\u001b[0m\u001b[0m_lock\u001b[0m\u001b[0;34m:\u001b[0m\u001b[0;34m\u001b[0m\u001b[0m\n\u001b[1;32m    781\u001b[0m             \u001b[0mjob_idx\u001b[0m \u001b[0;34m=\u001b[0m \u001b[0mlen\u001b[0m\u001b[0;34m(\u001b[0m\u001b[0mself\u001b[0m\u001b[0;34m.\u001b[0m\u001b[0m_jobs\u001b[0m\u001b[0;34m)\u001b[0m\u001b[0;34m\u001b[0m\u001b[0m\n\u001b[0;32m--> 782\u001b[0;31m             \u001b[0mjob\u001b[0m \u001b[0;34m=\u001b[0m \u001b[0mself\u001b[0m\u001b[0;34m.\u001b[0m\u001b[0m_backend\u001b[0m\u001b[0;34m.\u001b[0m\u001b[0mapply_async\u001b[0m\u001b[0;34m(\u001b[0m\u001b[0mbatch\u001b[0m\u001b[0;34m,\u001b[0m \u001b[0mcallback\u001b[0m\u001b[0;34m=\u001b[0m\u001b[0mcb\u001b[0m\u001b[0;34m)\u001b[0m\u001b[0;34m\u001b[0m\u001b[0m\n\u001b[0m\u001b[1;32m    783\u001b[0m             \u001b[0;31m# A job can complete so quickly than its callback is\u001b[0m\u001b[0;34m\u001b[0m\u001b[0;34m\u001b[0m\u001b[0m\n\u001b[1;32m    784\u001b[0m             \u001b[0;31m# called before we get here, causing self._jobs to\u001b[0m\u001b[0;34m\u001b[0m\u001b[0;34m\u001b[0m\u001b[0m\n",
      "\u001b[0;32m~/anaconda3/lib/python3.6/site-packages/sklearn/externals/joblib/_parallel_backends.py\u001b[0m in \u001b[0;36mapply_async\u001b[0;34m(self, func, callback)\u001b[0m\n\u001b[1;32m    180\u001b[0m     \u001b[0;32mdef\u001b[0m \u001b[0mapply_async\u001b[0m\u001b[0;34m(\u001b[0m\u001b[0mself\u001b[0m\u001b[0;34m,\u001b[0m \u001b[0mfunc\u001b[0m\u001b[0;34m,\u001b[0m \u001b[0mcallback\u001b[0m\u001b[0;34m=\u001b[0m\u001b[0;32mNone\u001b[0m\u001b[0;34m)\u001b[0m\u001b[0;34m:\u001b[0m\u001b[0;34m\u001b[0m\u001b[0m\n\u001b[1;32m    181\u001b[0m         \u001b[0;34m\"\"\"Schedule a func to be run\"\"\"\u001b[0m\u001b[0;34m\u001b[0m\u001b[0m\n\u001b[0;32m--> 182\u001b[0;31m         \u001b[0mresult\u001b[0m \u001b[0;34m=\u001b[0m \u001b[0mImmediateResult\u001b[0m\u001b[0;34m(\u001b[0m\u001b[0mfunc\u001b[0m\u001b[0;34m)\u001b[0m\u001b[0;34m\u001b[0m\u001b[0m\n\u001b[0m\u001b[1;32m    183\u001b[0m         \u001b[0;32mif\u001b[0m \u001b[0mcallback\u001b[0m\u001b[0;34m:\u001b[0m\u001b[0;34m\u001b[0m\u001b[0m\n\u001b[1;32m    184\u001b[0m             \u001b[0mcallback\u001b[0m\u001b[0;34m(\u001b[0m\u001b[0mresult\u001b[0m\u001b[0;34m)\u001b[0m\u001b[0;34m\u001b[0m\u001b[0m\n",
      "\u001b[0;32m~/anaconda3/lib/python3.6/site-packages/sklearn/externals/joblib/_parallel_backends.py\u001b[0m in \u001b[0;36m__init__\u001b[0;34m(self, batch)\u001b[0m\n\u001b[1;32m    543\u001b[0m         \u001b[0;31m# Don't delay the application, to avoid keeping the input\u001b[0m\u001b[0;34m\u001b[0m\u001b[0;34m\u001b[0m\u001b[0m\n\u001b[1;32m    544\u001b[0m         \u001b[0;31m# arguments in memory\u001b[0m\u001b[0;34m\u001b[0m\u001b[0;34m\u001b[0m\u001b[0m\n\u001b[0;32m--> 545\u001b[0;31m         \u001b[0mself\u001b[0m\u001b[0;34m.\u001b[0m\u001b[0mresults\u001b[0m \u001b[0;34m=\u001b[0m \u001b[0mbatch\u001b[0m\u001b[0;34m(\u001b[0m\u001b[0;34m)\u001b[0m\u001b[0;34m\u001b[0m\u001b[0m\n\u001b[0m\u001b[1;32m    546\u001b[0m \u001b[0;34m\u001b[0m\u001b[0m\n\u001b[1;32m    547\u001b[0m     \u001b[0;32mdef\u001b[0m \u001b[0mget\u001b[0m\u001b[0;34m(\u001b[0m\u001b[0mself\u001b[0m\u001b[0;34m)\u001b[0m\u001b[0;34m:\u001b[0m\u001b[0;34m\u001b[0m\u001b[0m\n",
      "\u001b[0;32m~/anaconda3/lib/python3.6/site-packages/sklearn/externals/joblib/parallel.py\u001b[0m in \u001b[0;36m__call__\u001b[0;34m(self)\u001b[0m\n\u001b[1;32m    259\u001b[0m         \u001b[0;32mwith\u001b[0m \u001b[0mparallel_backend\u001b[0m\u001b[0;34m(\u001b[0m\u001b[0mself\u001b[0m\u001b[0;34m.\u001b[0m\u001b[0m_backend\u001b[0m\u001b[0;34m)\u001b[0m\u001b[0;34m:\u001b[0m\u001b[0;34m\u001b[0m\u001b[0m\n\u001b[1;32m    260\u001b[0m             return [func(*args, **kwargs)\n\u001b[0;32m--> 261\u001b[0;31m                     for func, args, kwargs in self.items]\n\u001b[0m\u001b[1;32m    262\u001b[0m \u001b[0;34m\u001b[0m\u001b[0m\n\u001b[1;32m    263\u001b[0m     \u001b[0;32mdef\u001b[0m \u001b[0m__len__\u001b[0m\u001b[0;34m(\u001b[0m\u001b[0mself\u001b[0m\u001b[0;34m)\u001b[0m\u001b[0;34m:\u001b[0m\u001b[0;34m\u001b[0m\u001b[0m\n",
      "\u001b[0;32m~/anaconda3/lib/python3.6/site-packages/sklearn/externals/joblib/parallel.py\u001b[0m in \u001b[0;36m<listcomp>\u001b[0;34m(.0)\u001b[0m\n\u001b[1;32m    259\u001b[0m         \u001b[0;32mwith\u001b[0m \u001b[0mparallel_backend\u001b[0m\u001b[0;34m(\u001b[0m\u001b[0mself\u001b[0m\u001b[0;34m.\u001b[0m\u001b[0m_backend\u001b[0m\u001b[0;34m)\u001b[0m\u001b[0;34m:\u001b[0m\u001b[0;34m\u001b[0m\u001b[0m\n\u001b[1;32m    260\u001b[0m             return [func(*args, **kwargs)\n\u001b[0;32m--> 261\u001b[0;31m                     for func, args, kwargs in self.items]\n\u001b[0m\u001b[1;32m    262\u001b[0m \u001b[0;34m\u001b[0m\u001b[0m\n\u001b[1;32m    263\u001b[0m     \u001b[0;32mdef\u001b[0m \u001b[0m__len__\u001b[0m\u001b[0;34m(\u001b[0m\u001b[0mself\u001b[0m\u001b[0;34m)\u001b[0m\u001b[0;34m:\u001b[0m\u001b[0;34m\u001b[0m\u001b[0m\n",
      "\u001b[0;32m~/anaconda3/lib/python3.6/site-packages/sklearn/ensemble/forest.py\u001b[0m in \u001b[0;36m_parallel_build_trees\u001b[0;34m(tree, forest, X, y, sample_weight, tree_idx, n_trees, verbose, class_weight)\u001b[0m\n\u001b[1;32m    119\u001b[0m             \u001b[0mcurr_sample_weight\u001b[0m \u001b[0;34m*=\u001b[0m \u001b[0mcompute_sample_weight\u001b[0m\u001b[0;34m(\u001b[0m\u001b[0;34m'balanced'\u001b[0m\u001b[0;34m,\u001b[0m \u001b[0my\u001b[0m\u001b[0;34m,\u001b[0m \u001b[0mindices\u001b[0m\u001b[0;34m)\u001b[0m\u001b[0;34m\u001b[0m\u001b[0m\n\u001b[1;32m    120\u001b[0m \u001b[0;34m\u001b[0m\u001b[0m\n\u001b[0;32m--> 121\u001b[0;31m         \u001b[0mtree\u001b[0m\u001b[0;34m.\u001b[0m\u001b[0mfit\u001b[0m\u001b[0;34m(\u001b[0m\u001b[0mX\u001b[0m\u001b[0;34m,\u001b[0m \u001b[0my\u001b[0m\u001b[0;34m,\u001b[0m \u001b[0msample_weight\u001b[0m\u001b[0;34m=\u001b[0m\u001b[0mcurr_sample_weight\u001b[0m\u001b[0;34m,\u001b[0m \u001b[0mcheck_input\u001b[0m\u001b[0;34m=\u001b[0m\u001b[0;32mFalse\u001b[0m\u001b[0;34m)\u001b[0m\u001b[0;34m\u001b[0m\u001b[0m\n\u001b[0m\u001b[1;32m    122\u001b[0m     \u001b[0;32melse\u001b[0m\u001b[0;34m:\u001b[0m\u001b[0;34m\u001b[0m\u001b[0m\n\u001b[1;32m    123\u001b[0m         \u001b[0mtree\u001b[0m\u001b[0;34m.\u001b[0m\u001b[0mfit\u001b[0m\u001b[0;34m(\u001b[0m\u001b[0mX\u001b[0m\u001b[0;34m,\u001b[0m \u001b[0my\u001b[0m\u001b[0;34m,\u001b[0m \u001b[0msample_weight\u001b[0m\u001b[0;34m=\u001b[0m\u001b[0msample_weight\u001b[0m\u001b[0;34m,\u001b[0m \u001b[0mcheck_input\u001b[0m\u001b[0;34m=\u001b[0m\u001b[0;32mFalse\u001b[0m\u001b[0;34m)\u001b[0m\u001b[0;34m\u001b[0m\u001b[0m\n",
      "\u001b[0;32m~/anaconda3/lib/python3.6/site-packages/sklearn/tree/tree.py\u001b[0m in \u001b[0;36mfit\u001b[0;34m(self, X, y, sample_weight, check_input, X_idx_sorted)\u001b[0m\n\u001b[1;32m   1137\u001b[0m             \u001b[0msample_weight\u001b[0m\u001b[0;34m=\u001b[0m\u001b[0msample_weight\u001b[0m\u001b[0;34m,\u001b[0m\u001b[0;34m\u001b[0m\u001b[0m\n\u001b[1;32m   1138\u001b[0m             \u001b[0mcheck_input\u001b[0m\u001b[0;34m=\u001b[0m\u001b[0mcheck_input\u001b[0m\u001b[0;34m,\u001b[0m\u001b[0;34m\u001b[0m\u001b[0m\n\u001b[0;32m-> 1139\u001b[0;31m             X_idx_sorted=X_idx_sorted)\n\u001b[0m\u001b[1;32m   1140\u001b[0m         \u001b[0;32mreturn\u001b[0m \u001b[0mself\u001b[0m\u001b[0;34m\u001b[0m\u001b[0m\n\u001b[1;32m   1141\u001b[0m \u001b[0;34m\u001b[0m\u001b[0m\n",
      "\u001b[0;32m~/anaconda3/lib/python3.6/site-packages/sklearn/tree/tree.py\u001b[0m in \u001b[0;36mfit\u001b[0;34m(self, X, y, sample_weight, check_input, X_idx_sorted)\u001b[0m\n\u001b[1;32m    363\u001b[0m                                            min_impurity_split)\n\u001b[1;32m    364\u001b[0m \u001b[0;34m\u001b[0m\u001b[0m\n\u001b[0;32m--> 365\u001b[0;31m         \u001b[0mbuilder\u001b[0m\u001b[0;34m.\u001b[0m\u001b[0mbuild\u001b[0m\u001b[0;34m(\u001b[0m\u001b[0mself\u001b[0m\u001b[0;34m.\u001b[0m\u001b[0mtree_\u001b[0m\u001b[0;34m,\u001b[0m \u001b[0mX\u001b[0m\u001b[0;34m,\u001b[0m \u001b[0my\u001b[0m\u001b[0;34m,\u001b[0m \u001b[0msample_weight\u001b[0m\u001b[0;34m,\u001b[0m \u001b[0mX_idx_sorted\u001b[0m\u001b[0;34m)\u001b[0m\u001b[0;34m\u001b[0m\u001b[0m\n\u001b[0m\u001b[1;32m    366\u001b[0m \u001b[0;34m\u001b[0m\u001b[0m\n\u001b[1;32m    367\u001b[0m         \u001b[0;32mif\u001b[0m \u001b[0mself\u001b[0m\u001b[0;34m.\u001b[0m\u001b[0mn_outputs_\u001b[0m \u001b[0;34m==\u001b[0m \u001b[0;36m1\u001b[0m\u001b[0;34m:\u001b[0m\u001b[0;34m\u001b[0m\u001b[0m\n",
      "\u001b[0;31mKeyboardInterrupt\u001b[0m: "
     ]
    }
   ],
   "source": [
    "random_forest_model = random_forest.fit(x_train, y_train)"
   ]
  },
  {
   "cell_type": "markdown",
   "metadata": {
    "colab_type": "text",
    "id": "iNHOXPl2PGRx"
   },
   "source": [
    "### Evaluate the model"
   ]
  },
  {
   "cell_type": "code",
   "execution_count": null,
   "metadata": {
    "colab": {},
    "colab_type": "code",
    "id": "xOhoSIfRPpXw"
   },
   "outputs": [],
   "source": [
    "y_train_predictions = random_forest_model.predict(x_train)\n",
    "y_val_predictions = random_forest_model.predict(x_val)"
   ]
  },
  {
   "cell_type": "code",
   "execution_count": null,
   "metadata": {
    "colab": {
     "base_uri": "https://localhost:8080/",
     "height": 34
    },
    "colab_type": "code",
    "executionInfo": {
     "elapsed": 8230,
     "status": "ok",
     "timestamp": 1540640570713,
     "user": {
      "displayName": "Ankur Bohra",
      "photoUrl": "",
      "userId": "15541534273238543658"
     },
     "user_tz": -330
    },
    "id": "thuFjQYoQiwR",
    "outputId": "7f8da5e8-ae94-4bca-d291-cfc1b455bf0c"
   },
   "outputs": [],
   "source": [
    "random_forest_model.score(x_train, y_train)  "
   ]
  },
  {
   "cell_type": "code",
   "execution_count": null,
   "metadata": {
    "colab": {
     "base_uri": "https://localhost:8080/",
     "height": 34
    },
    "colab_type": "code",
    "executionInfo": {
     "elapsed": 4294,
     "status": "ok",
     "timestamp": 1540640575115,
     "user": {
      "displayName": "Ankur Bohra",
      "photoUrl": "",
      "userId": "15541534273238543658"
     },
     "user_tz": -330
    },
    "id": "eNRZEJbJQdng",
    "outputId": "f7f419d9-dda7-4bf1-832f-7b378c76e4a2"
   },
   "outputs": [],
   "source": [
    "random_forest_model.score(x_val, y_val)"
   ]
  },
  {
   "cell_type": "code",
   "execution_count": null,
   "metadata": {
    "colab": {},
    "colab_type": "code",
    "id": "xv-SfPXiOsN2"
   },
   "outputs": [],
   "source": [
    "#random_forest_model.oob_score_"
   ]
  },
  {
   "cell_type": "code",
   "execution_count": null,
   "metadata": {
    "colab": {
     "base_uri": "https://localhost:8080/",
     "height": 34
    },
    "colab_type": "code",
    "executionInfo": {
     "elapsed": 929,
     "status": "ok",
     "timestamp": 1540640577550,
     "user": {
      "displayName": "Ankur Bohra",
      "photoUrl": "",
      "userId": "15541534273238543658"
     },
     "user_tz": -330
    },
    "id": "Bz1Pf9pZQ39X",
    "outputId": "2842e25d-c057-466b-be2f-c0a94963f770"
   },
   "outputs": [],
   "source": [
    "rmse(y_train_predictions, y_train)"
   ]
  },
  {
   "cell_type": "code",
   "execution_count": null,
   "metadata": {
    "colab": {
     "base_uri": "https://localhost:8080/",
     "height": 34
    },
    "colab_type": "code",
    "executionInfo": {
     "elapsed": 1108,
     "status": "ok",
     "timestamp": 1540640578818,
     "user": {
      "displayName": "Ankur Bohra",
      "photoUrl": "",
      "userId": "15541534273238543658"
     },
     "user_tz": -330
    },
    "id": "GKWTMJMfQ9f3",
    "outputId": "dbce528d-28d3-45af-8082-269900585d38"
   },
   "outputs": [],
   "source": [
    "rmse(y_val_predictions, y_val)"
   ]
  },
  {
   "cell_type": "markdown",
   "metadata": {
    "colab_type": "text",
    "id": "Xv_3Tb35SOW5"
   },
   "source": [
    "## Extra"
   ]
  },
  {
   "cell_type": "code",
   "execution_count": null,
   "metadata": {
    "colab": {},
    "colab_type": "code",
    "id": "sFmHbwXESSlF"
   },
   "outputs": [],
   "source": [
    "import xgboost as xgb"
   ]
  },
  {
   "cell_type": "code",
   "execution_count": null,
   "metadata": {
    "colab": {},
    "colab_type": "code",
    "id": "_kCGprMOSTtC"
   },
   "outputs": [],
   "source": [
    "xg_reg = xgb.XGBRegressor(objective ='reg:linear')"
   ]
  },
  {
   "cell_type": "code",
   "execution_count": null,
   "metadata": {
    "colab": {},
    "colab_type": "code",
    "id": "fDgpUU2JVWHN"
   },
   "outputs": [],
   "source": [
    "xg_reg_model = xg_reg.fit(x_train, y_train)"
   ]
  },
  {
   "cell_type": "code",
   "execution_count": null,
   "metadata": {
    "colab": {},
    "colab_type": "code",
    "id": "tZ1u9DCCVY2j"
   },
   "outputs": [],
   "source": [
    "y_train_predictions = xg_reg_model.predict(x_train)\n",
    "y_val_predictions = xg_reg_model.predict(x_val)"
   ]
  },
  {
   "cell_type": "code",
   "execution_count": null,
   "metadata": {
    "colab": {
     "base_uri": "https://localhost:8080/",
     "height": 34
    },
    "colab_type": "code",
    "executionInfo": {
     "elapsed": 958,
     "status": "ok",
     "timestamp": 1540389371235,
     "user": {
      "displayName": "Ankur Bohra",
      "photoUrl": "",
      "userId": "15541534273238543658"
     },
     "user_tz": -330
    },
    "id": "1_GznZWuVgRa",
    "outputId": "634b85ce-bde4-46f0-fa4d-ee198bc9a39f"
   },
   "outputs": [],
   "source": [
    "rmse(y_train_predictions, y_train)"
   ]
  },
  {
   "cell_type": "code",
   "execution_count": null,
   "metadata": {
    "colab": {
     "base_uri": "https://localhost:8080/",
     "height": 34
    },
    "colab_type": "code",
    "executionInfo": {
     "elapsed": 1181,
     "status": "ok",
     "timestamp": 1540389385833,
     "user": {
      "displayName": "Ankur Bohra",
      "photoUrl": "",
      "userId": "15541534273238543658"
     },
     "user_tz": -330
    },
    "id": "pHod8956Vp0u",
    "outputId": "db06db21-8ddc-4b78-d93a-1d439ec5403a"
   },
   "outputs": [],
   "source": [
    "rmse(y_val_predictions, y_val)"
   ]
  },
  {
   "cell_type": "markdown",
   "metadata": {
    "colab_type": "text",
    "id": "pMoxub0eVryE"
   },
   "source": [
    "## External Data Sources"
   ]
  },
  {
   "cell_type": "code",
   "execution_count": null,
   "metadata": {
    "colab": {},
    "colab_type": "code",
    "id": "Ca0hiYJE3YKq"
   },
   "outputs": [],
   "source": [
    "external_file_names = ['googletrend.csv', 'state_names.csv', 'store_states.csv', 'weather.csv']\n",
    "external_tables_df = [pd.read_csv(f'{DATA_PATH}{file_name}') for file_name in external_file_names]"
   ]
  },
  {
   "cell_type": "code",
   "execution_count": null,
   "metadata": {
    "colab": {
     "base_uri": "https://localhost:8080/",
     "height": 870
    },
    "colab_type": "code",
    "executionInfo": {
     "elapsed": 955,
     "status": "ok",
     "timestamp": 1540549170945,
     "user": {
      "displayName": "Ankur Bohra",
      "photoUrl": "",
      "userId": "15541534273238543658"
     },
     "user_tz": -330
    },
    "id": "CdWqYJ-w4NB3",
    "outputId": "14a1dc71-f4fd-4288-f6e9-7c220118c15f"
   },
   "outputs": [],
   "source": [
    "for t in external_tables_df: display(t.head())"
   ]
  },
  {
   "cell_type": "code",
   "execution_count": null,
   "metadata": {
    "colab": {
     "base_uri": "https://localhost:8080/",
     "height": 1653
    },
    "colab_type": "code",
    "executionInfo": {
     "elapsed": 900,
     "status": "ok",
     "timestamp": 1540549203001,
     "user": {
      "displayName": "Ankur Bohra",
      "photoUrl": "",
      "userId": "15541534273238543658"
     },
     "user_tz": -330
    },
    "id": "tutA2NSG4gga",
    "outputId": "8cae7cf4-9eb0-4815-f835-36853e8612f2"
   },
   "outputs": [],
   "source": [
    "for t in external_tables_df: display(DataFrameSummary(t).summary())"
   ]
  },
  {
   "cell_type": "code",
   "execution_count": null,
   "metadata": {
    "colab": {},
    "colab_type": "code",
    "id": "NY4mR6KB40-5"
   },
   "outputs": [],
   "source": []
  },
  {
   "cell_type": "code",
   "execution_count": null,
   "metadata": {},
   "outputs": [],
   "source": []
  },
  {
   "cell_type": "code",
   "execution_count": null,
   "metadata": {},
   "outputs": [],
   "source": []
  }
 ],
 "metadata": {
  "colab": {
   "name": "Copy of DataGiriCodeAlongSaturday-SalesPrediction-v1",
   "provenance": [
    {
     "file_id": "1E3ItmWGzG5RHtYEt99qlh8mfPBRXrmCk",
     "timestamp": 1543499624268
    },
    {
     "file_id": "1H6_BCSAYPl2tYpo_EGHqhEDWDFMUIK4V",
     "timestamp": 1540362490224
    },
    {
     "file_id": "1vLXjZWOtkCxXf_HeTb2DevQWmSWqiJLU",
     "timestamp": 1540305647316
    }
   ],
   "version": "0.3.2"
  },
  "kernelspec": {
   "display_name": "Python 3",
   "language": "python",
   "name": "python3"
  },
  "language_info": {
   "codemirror_mode": {
    "name": "ipython",
    "version": 3
   },
   "file_extension": ".py",
   "mimetype": "text/x-python",
   "name": "python",
   "nbconvert_exporter": "python",
   "pygments_lexer": "ipython3",
   "version": "3.6.5"
  }
 },
 "nbformat": 4,
 "nbformat_minor": 1
}
