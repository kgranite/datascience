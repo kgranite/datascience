{
 "cells": [
  {
   "cell_type": "markdown",
   "metadata": {},
   "source": [
    "![](../images/26-weeks-of-data-science-banner.jpg)"
   ]
  },
  {
   "cell_type": "markdown",
   "metadata": {
    "slideshow": {
     "slide_type": "slide"
    }
   },
   "source": [
    "<h1 align=\"center\"> Natural Language Processing </h1>"
   ]
  },
  {
   "cell_type": "markdown",
   "metadata": {
    "collapsed": true
   },
   "source": [
    "## Program so far \n",
    "***\n",
    "\n",
    "* Python\n",
    "* Statistics\n",
    "* Supervised Machine Learning\n",
    "* Unsupervised Machine Learning"
   ]
  },
  {
   "cell_type": "markdown",
   "metadata": {
    "collapsed": true
   },
   "source": [
    "## Agenda for NLP\n",
    "***\n",
    "Learn how to leverage machine learning techniques we have learnt so far to analyze Natural Languages. We are going to cover techniques like:\n",
    "\n",
    "-  What is NLP?\t\n",
    "-  Sentence Segmentation\n",
    "-  Tokenization\n",
    "-  StopWords\n",
    "-  Stemming & Lemmatization.\n",
    "-  Word Cloud\n",
    "-  Implementations Of NLP Applications\n",
    "-  Text processing using sklearn\n",
    "\t- Bag of Words Approach\n",
    "\t- Model Building using  TF-IDF Vectorizer\n",
    "\t- Applications of Bag of Words\n",
    "\t- Limitations of Bag of Words"
   ]
  },
  {
   "cell_type": "markdown",
   "metadata": {},
   "source": [
    "## What is NLP?\n",
    "\n",
    "Well, Wikipedia quotes:\n",
    "\n",
    ">Natural language processing (NLP) is a field of computer science, artificial intelligence and computational linguistics concerned with the interactions between computers and human (natural) languages, and, in particular, concerned with programming computers to fruitfully process large natural language corpora. \n",
    "\n",
    "Human language is highly ambiguous… It is also ever changing and evolving. People are great at producing language and understanding language, and are capable of expressing, perceiving, and interpreting very elaborate and nuanced meanings. At the same time, while we humans are great users of language, we are also very poor at formally understanding and describing the rules that govern language.\n",
    "\n",
    "NLP is an ongoing attempt to capture those structures and rules."
   ]
  },
  {
   "cell_type": "markdown",
   "metadata": {},
   "source": [
    "\n",
    "[Lifewire](https://www.lifewire.com/applications-of-natural-language-processing-technology-2495544) has an elaborate article on the applications of NLP. NLP is being used extensively in areas you can and can't imagine. Some examples are:\n",
    "\n",
    "1. Spam detections\n",
    "2. Chat bots\n",
    "- Recommender systems\n",
    "3. Sentiment analysis\n",
    "4. Information extraction\n",
    "5. And many more"
   ]
  },
  {
   "cell_type": "markdown",
   "metadata": {},
   "source": [
    "So let's start our journey with NLP. Here is an interesting challenge we are going to tackle.\n",
    "\n",
    "We are going to work with data called `Reuter_50_50 Data Set`. It is a combination of 50 datasets. Each dataset is named after an author's name and each dataset contains 50 articles from the respective author. "
   ]
  },
  {
   "cell_type": "markdown",
   "metadata": {},
   "source": [
    "The problem that we are going to attempt is to use this data is to predict the author given an unknown article. Seems interesting, isn't it? Well, it is. \n",
    "\n",
    "Generally, as writers, we all follow certain style; things like kind of words we use, length of the sentences we write, how do we use punctuations etc. We are going to use these to predict the author."
   ]
  },
  {
   "cell_type": "markdown",
   "metadata": {},
   "source": [
    "Let's start by importing the docs."
   ]
  },
  {
   "cell_type": "code",
   "execution_count": 1,
   "metadata": {
    "scrolled": true
   },
   "outputs": [
    {
     "data": {
      "text/plain": [
       "['AaronPressman',\n",
       " 'AlanCrosby',\n",
       " 'AlexanderSmith',\n",
       " 'BenjaminKangLim',\n",
       " 'BernardHickey',\n",
       " 'BradDorfman',\n",
       " 'DarrenSchuettler',\n",
       " 'DavidLawder',\n",
       " 'EdnaFernandes',\n",
       " 'EricAuchard',\n",
       " 'FumikoFujisaki',\n",
       " 'GrahamEarnshaw',\n",
       " 'HeatherScoffield',\n",
       " 'JaneMacartney',\n",
       " 'JanLopatka',\n",
       " 'JimGilchrist',\n",
       " 'JoeOrtiz',\n",
       " 'JohnMastrini',\n",
       " 'JonathanBirt',\n",
       " 'JoWinterbottom',\n",
       " 'KarlPenhaul',\n",
       " 'KeithWeir',\n",
       " 'KevinDrawbaugh',\n",
       " 'KevinMorrison',\n",
       " 'KirstinRidley',\n",
       " 'KouroshKarimkhany',\n",
       " 'LydiaZajc',\n",
       " \"LynneO'Donnell\",\n",
       " 'LynnleyBrowning',\n",
       " 'MarcelMichelson',\n",
       " 'MarkBendeich',\n",
       " 'MartinWolk',\n",
       " 'MatthewBunce',\n",
       " 'MichaelConnor',\n",
       " 'MureDickie',\n",
       " 'NickLouth',\n",
       " 'PatriciaCommins',\n",
       " 'PeterHumphrey',\n",
       " 'PierreTran',\n",
       " 'RobinSidel',\n",
       " 'RogerFillion',\n",
       " 'SamuelPerry',\n",
       " 'SarahDavison',\n",
       " 'ScottHillis',\n",
       " 'SimonCowell',\n",
       " 'TanEeLyn',\n",
       " 'TheresePoletti',\n",
       " 'TimFarrand',\n",
       " 'ToddNissen',\n",
       " 'WilliamKazer']"
      ]
     },
     "execution_count": 1,
     "metadata": {},
     "output_type": "execute_result"
    }
   ],
   "source": [
    "import os\n",
    "os.listdir(\"../data/C50train\")"
   ]
  },
  {
   "cell_type": "code",
   "execution_count": 2,
   "metadata": {},
   "outputs": [
    {
     "data": {
      "text/plain": [
       "'A break-in at the U.S. Justice Department\\'s World Wide Web site last week highlighted the Internet\\'s continued vulnerability to hackers.\\nUnidentified hackers gained access to the department\\'s web page on August 16 and replaced it with a hate-filled diatribe labelled the \"Department of Injustice\" that included a swastika and a picture of Adolf Hitler.\\nJustice officials quickly pulled the plug on the vandalised page, but the security flaws that allowed hackers to gain entry likely exist in thousands of other corporate and government web sites, security experts said.\\n\"The vast majority of sites are vulnerable,\" said Richard Power, senior analyst at the Computer Security Institute. \"The Justice Department shouldn\\'t be singled out.\"\\nJustice Department officials said the compromised web site was not connected to any computers containing sensitive files. The web site (http://www.usdoj.gov) included copies of press releases, speeches and other publicly available information.\\nThe security breach \"is just like graffiti on the outside of the building,\" spokesman Bert Brandenburg said.\\nOther organisations have been targeted in the past. Last year, the Nation of Islam\\'s Million Man March web site was vandalised. And hackers make 250,000 attempts annually to break into U.S. military computers, according to a General Accounting Office report.\\nWindows Magazine recently found security flaws at web sites of a dozen major corporations. \"The web is spectacularly insecure,\" editor Mike Elgan said. Relying on security holes that had been documented by software manufacturers months earlier, the magazine\\'s specialists were able to gain various degrees of unauthorised access at the different sites.\\nElgan said hackers who are exploiting some of the same flaws are motivated by anger over the growth and commercialization of the Internet. \"A common theme is that hackers are fed up with non-hackers on the Internet,\" he said.\\nThe battle is not completely hopeless. \"You can secure a web site,\" Richard Power said. \"There\\'s all kinds of measures you can take. Most corporations and institutions don\\'t take them simply because nothing bad has happened to them yet.\"\\nSome sites are using multiple layers of security, well beyond simple password protection, to keep hackers out.\\nOne site mentioned by Windows Magazine was Fidelity Investments. Fidelity\\'s site advertises its mutual funds and disseminates information about personal finance but does not contain confidential customer information.\\nFidelity officials immediately closed the loophole identified by the magazine, a spokeswoman said. But multiple security measures previously in place would have prevented a security breach despite the hole, the spokeswoman added.\\n'"
      ]
     },
     "execution_count": 2,
     "metadata": {},
     "output_type": "execute_result"
    }
   ],
   "source": [
    "#Lets look into of the article by one of the author and experiment with some NLP tasks\n",
    "f = open(\"../data/C50train/AaronPressman/2537newsML.txt\")\n",
    "f.read()"
   ]
  },
  {
   "cell_type": "markdown",
   "metadata": {},
   "source": [
    "## We told you so!\n",
    "***\n",
    "\n",
    "Now the question is what to do with all the text we have got? One way is to feed the text as a feature to a ML algorithm and try to predict the target variable.\n",
    "\n",
    "But that would be known as **Supreme Overfitting**. Can you explain why?\n",
    "\n",
    "Remember **Feature Engineering** session of your machine learning module? We told you: \"This is one of the most important aspect of ML problem solving.\" Now you'll understand why."
   ]
  },
  {
   "cell_type": "markdown",
   "metadata": {},
   "source": [
    "## NLP and Feature engineering:\n",
    "\n",
    "Much of NLP falls under the domain of feature engineering and feature selection. The idea is to take the raw text and turn into something which can be utilized by a ML algorithm to carry out prediction.\n",
    "\n",
    "So the question is how to do feature engineering on text."
   ]
  },
  {
   "cell_type": "markdown",
   "metadata": {},
   "source": [
    "## Sentence Segmentation\n",
    "\n",
    "The first level of conquering we will do is by breaking the articles into sentences. \n",
    "\n",
    "Often we have to do analysis at sentences level. For example, let's say in this problem we want to check **number of sentences in an article** and **number of words in a sentence**. Or we want to see how many times an author uses **punctuations in a sentence**. Even specific things like **how many capital letters he uses in a sentence.** We can think of many such features."
   ]
  },
  {
   "cell_type": "markdown",
   "metadata": {},
   "source": [
    "## Sentence Segmentation\n",
    "\n",
    "It might look simple to split text by a period(.), but we often use period within text as well e.g. Mr. Modi. There are many other variations that could be there for which we have account for. For example, question marks (?), exclamations (!) and so on.\n",
    "\n",
    "This could get cumbersome. Thankfully there is a python library called **`NLTK`** which specializes in all sorts of NLP operations. For example, NLTK comes with a trained model to do sentence segmentation. We will discover many others  along the way. But for now, let's start with importing the library."
   ]
  },
  {
   "cell_type": "code",
   "execution_count": 3,
   "metadata": {},
   "outputs": [
    {
     "name": "stdout",
     "output_type": "stream",
     "text": [
      "A break-in at the U.S. Justice Department's World Wide Web site last week highlighted the Internet's continued vulnerability to hackers.\n",
      "Unidentified hackers gained access to the department's web page on August 16 and replaced it with a hate-filled diatribe labelled the \"Department of Injustice\" that included a swastika and a picture of Adolf Hitler.\n",
      "Justice officials quickly pulled the plug on the vandalised page, but the security flaws that allowed hackers to gain entry likely exist in thousands of other corporate and government web sites, security experts said.\n",
      "\"The vast majority of sites are vulnerable,\" said Richard Power, senior analyst at the Computer Security Institute.\n",
      "\"The Justice Department shouldn't be singled out.\"\n"
     ]
    }
   ],
   "source": [
    "#NLTK is famous package in python for carry out NLP tasks. Though there are other options also available such as Spacy, TextBlob etc\n",
    "import nltk\n",
    "\n",
    "text=open(\"../data/C50train/AaronPressman/2537newsML.txt\").read()\n",
    "sents = nltk.sent_tokenize(text)  ## Easy sentence tokenization\n",
    "print(\"\\n\".join(sents[:5]))"
   ]
  },
  {
   "cell_type": "markdown",
   "metadata": {},
   "source": [
    "## Tokenization\n",
    "\n",
    "Next, We tokenize. Tokenization breaks unstructured data, text, into chunks of information which can be counted as discrete elements.\n",
    "This immediately turns an unstructured string (text document) into a more usable data, which can  be further structured,and made more suitable for machine learning."
   ]
  },
  {
   "cell_type": "markdown",
   "metadata": {},
   "source": [
    "## Tokenization\n",
    "\n",
    "-  Tokenization segments a document into its atomic elements (tokens). Tokens are generally split by space or punctuations.\n",
    "-  Typically, tokens are the words.\n",
    "-  Sometimes, based over our application, we can treat punctuations as tokens as well. For example, for author identification we want to have a feature, <i>number of punctuations<i>.\n",
    "-  Number of tokens in a sentence can be used as a feature.\n",
    "-  Kind of tokens(words) used in text itself can be a feature. For example, some author may use word basically, additionally etc. "
   ]
  },
  {
   "cell_type": "markdown",
   "metadata": {},
   "source": [
    "Let's employ a simple tokenizer which will match any word characters until it reaches a non-word character, like white a space"
   ]
  },
  {
   "cell_type": "code",
   "execution_count": 4,
   "metadata": {},
   "outputs": [
    {
     "data": {
      "text/plain": [
       "['A',\n",
       " 'break',\n",
       " 'in',\n",
       " 'at',\n",
       " 'the',\n",
       " 'U',\n",
       " 'S',\n",
       " 'Justice',\n",
       " 'Department',\n",
       " 's',\n",
       " 'World',\n",
       " 'Wide',\n",
       " 'Web',\n",
       " 'site',\n",
       " 'last',\n",
       " 'week',\n",
       " 'highlighted',\n",
       " 'the',\n",
       " 'Internet',\n",
       " 's',\n",
       " 'continued',\n",
       " 'vulnerability',\n",
       " 'to',\n",
       " 'hackers']"
      ]
     },
     "execution_count": 4,
     "metadata": {},
     "output_type": "execute_result"
    }
   ],
   "source": [
    "from nltk.tokenize import RegexpTokenizer\n",
    "tokenizer = RegexpTokenizer(r'\\w+')\n",
    "tokenizer.tokenize(sents[0])"
   ]
  },
  {
   "cell_type": "markdown",
   "metadata": {},
   "source": [
    "- As you can see,this can cause problems for words like don’t which will be read as two tokens - don and t.\n",
    "- There are better tokenisers available like `TreeBankWordTokenizer` which would break words like don't into do and n't\n",
    "- NLTK provides a number of pre-constructed tokenizers. Let's see one of those."
   ]
  },
  {
   "cell_type": "code",
   "execution_count": 5,
   "metadata": {},
   "outputs": [
    {
     "name": "stdout",
     "output_type": "stream",
     "text": [
      "['A', 'break-in', 'at', 'the', 'U.S.', 'Justice', 'Department', \"'s\", 'World', 'Wide', 'Web', 'site', 'last', 'week', 'highlighted', 'the', 'Internet', \"'s\", 'continued', 'vulnerability', 'to', 'hackers', '.']\n"
     ]
    }
   ],
   "source": [
    "from nltk import word_tokenize\n",
    "tokens = word_tokenize(sents[0])\n",
    "print(tokens)"
   ]
  },
  {
   "cell_type": "markdown",
   "metadata": {},
   "source": [
    "## StopWords\n",
    "\n",
    "Consider words like a, an, the, be etc. These words don't add any extra information in a sentence. Such words can often create noise while modeling. Such words are known as **Stop Words**.\n",
    "\n",
    "Generally there is a standard list of stop words and that list is also included within the NLTK. However, it also comes with a lot of corpora (a corpus is specialized knowldege for a specific domain/problem. e.g. gender names, location names, or author notes), Which are useful in special cases. We need to download these corpus explicitly along with nltk. This can be done through `nltk.download()` "
   ]
  },
  {
   "cell_type": "code",
   "execution_count": 6,
   "metadata": {},
   "outputs": [
    {
     "name": "stdout",
     "output_type": "stream",
     "text": [
      "{'needn', 'again', \"shan't\", 'were', 'couldn', 'out', 'his', 'such', 'while', 'then', 'shan', 'is', 'to', 've', 'she', 'where', 'after', 'yours', 't', \"hadn't\", 'you', 'can', 'their', 'they', 'was', 'does', 'few', 'have', 'but', 'this', 'than', \"wouldn't\", 'yourself', 'those', 'why', 'about', 'd', 'before', 'themselves', 'a', 'myself', 'up', 'didn', \"you'd\", 'own', \"shouldn't\", 'he', 'off', 'until', 'once', 'are', 'mustn', 'him', 'our', 'or', 'not', 'doing', 'there', 're', 'i', 'did', 'these', 'will', 'of', 'ours', 'with', 'when', 'all', 'should', 'mightn', 'won', 'being', \"you'll\", 'down', 'has', 'be', 'through', 'most', 'theirs', 's', \"needn't\", 'other', 'what', \"couldn't\", 'wasn', \"wasn't\", 'only', 'any', 'just', 'ma', 'himself', 'above', 'we', \"didn't\", 'same', 'don', 'the', 'your', 'ourselves', 'aren', \"hasn't\", \"won't\", 'm', 'doesn', \"she's\", 'my', 'further', 'by', \"haven't\", 'yourselves', \"it's\", 'it', 'now', \"weren't\", 'as', 'herself', 'for', \"you've\", 'them', 'who', 'if', 'and', 'am', 'been', 'in', 'from', 'hers', 'nor', 'itself', 'o', \"doesn't\", 'too', 'wouldn', 'y', 'having', \"that'll\", \"don't\", \"mustn't\", 'shouldn', 'whom', 'each', 'under', 'against', 'both', 'on', \"isn't\", 'hasn', 'which', 'how', 'here', 'at', \"should've\", 'over', 'll', 'below', \"mightn't\", 'had', 'no', 'some', 'haven', 'very', 'that', 'more', 'hadn', 'ain', 'an', 'because', 'me', 'her', \"aren't\", 'its', 'so', 'do', 'isn', \"you're\", 'into', 'between', 'weren', 'during'}\n"
     ]
    }
   ],
   "source": [
    "from nltk.corpus import stopwords\n",
    "stop_words=set(stopwords.words('english'))\n",
    "print(stop_words)"
   ]
  },
  {
   "cell_type": "code",
   "execution_count": 7,
   "metadata": {},
   "outputs": [
    {
     "name": "stdout",
     "output_type": "stream",
     "text": [
      "['A', 'break-in', 'at', 'the', 'U.S.', 'Justice', 'Department', \"'s\", 'World', 'Wide', 'Web', 'site', 'last', 'week', 'highlighted', 'the', 'Internet', \"'s\", 'continued', 'vulnerability', 'to', 'hackers', '.']\n",
      "=================================================================================\n",
      "['A', 'break-in', 'U.S.', 'Justice', 'Department', \"'s\", 'World', 'Wide', 'Web', 'site', 'last', 'week', 'highlighted', 'Internet', \"'s\", 'continued', 'vulnerability', 'hackers', '.']\n"
     ]
    }
   ],
   "source": [
    "filtered_sentence = [w for w in tokens if not w in stop_words]\n",
    "filtered_sentence = []\n",
    "\n",
    "for w in tokens:\n",
    "    if w not in stop_words:\n",
    "        filtered_sentence.append(w)\n",
    "\n",
    "print(tokens)\n",
    "print(\"=================================================================================\")\n",
    "print(filtered_sentence)"
   ]
  },
  {
   "cell_type": "markdown",
   "metadata": {},
   "source": [
    "-  More often than not, Stop-Words are removed before building models.\n",
    "-  However, sometimes we even uses stop words as a feature as well. For example, in author identification, number of stop words can be used as a feature."
   ]
  },
  {
   "cell_type": "markdown",
   "metadata": {},
   "source": [
    "## Stemming And Lemmatization"
   ]
  },
  {
   "cell_type": "markdown",
   "metadata": {},
   "source": [
    "Consider following words: Copy, copied, copying. \n",
    "\n",
    "Although they represent the same meaning, if not treated, our model might treat them differently. So we tend to strip such words to their core. We can do that by stemming or lemmatisation."
   ]
  },
  {
   "cell_type": "markdown",
   "metadata": {},
   "source": [
    "Stemming and Lemmatization are the basic text processing methods for English text. The goal of both stemming and lemmatization is to reduce inflectional forms and sometimes derivationally related forms of a word to a common base form. \n",
    "\n",
    "-  Stemming helps to create groups of words which have similar meanings.\n",
    "-  Stemming works based over set of rules, such as remove ing if words is ending with ing.\n",
    "-  There are a number of Stemmers available with different set of rules. PorterStemmer, LancasterStemmer, SnowballStemmer etc are example of stemmers and are available in NLTK."
   ]
  },
  {
   "cell_type": "code",
   "execution_count": 8,
   "metadata": {},
   "outputs": [
    {
     "data": {
      "text/plain": [
       "'cri'"
      ]
     },
     "execution_count": 8,
     "metadata": {},
     "output_type": "execute_result"
    }
   ],
   "source": [
    "#-----PorterStemmer------\n",
    "from nltk.stem.porter import PorterStemmer\n",
    "porter_stemmer = PorterStemmer()\n",
    "porter_stemmer.stem(\"crying\")\n"
   ]
  },
  {
   "cell_type": "code",
   "execution_count": 9,
   "metadata": {},
   "outputs": [
    {
     "data": {
      "text/plain": [
       "'cry'"
      ]
     },
     "execution_count": 9,
     "metadata": {},
     "output_type": "execute_result"
    }
   ],
   "source": [
    "#-----LancasterStemmer------\n",
    "from nltk.stem.lancaster import LancasterStemmer\n",
    "lancaster_stemmer = LancasterStemmer()\n",
    "lancaster_stemmer.stem(\"crying\")"
   ]
  },
  {
   "cell_type": "code",
   "execution_count": 10,
   "metadata": {},
   "outputs": [
    {
     "data": {
      "text/plain": [
       "'cri'"
      ]
     },
     "execution_count": 10,
     "metadata": {},
     "output_type": "execute_result"
    }
   ],
   "source": [
    "#-----SnowballStemmer------\n",
    "from nltk.stem import SnowballStemmer\n",
    "snowball_stemmer = SnowballStemmer(\"english\")\n",
    "snowball_stemmer.stem(\"crying\")"
   ]
  },
  {
   "cell_type": "markdown",
   "metadata": {},
   "source": [
    "**Lemmatization** is closely related to Stemming, but difference is lemmatization uses a knowledgebase called WordNet. Because of knowledge, lemmatization can even convert words which are different and cant be solved by stemmers, such as **converting went into go**. The NLTK Lemmatization method is based on WordNet’s built-in morphy function."
   ]
  },
  {
   "cell_type": "code",
   "execution_count": 11,
   "metadata": {},
   "outputs": [
    {
     "name": "stdout",
     "output_type": "stream",
     "text": [
      "[nltk_data] Downloading package wordnet to\n",
      "[nltk_data]     C:\\Users\\rusha\\AppData\\Roaming\\nltk_data...\n",
      "[nltk_data]   Package wordnet is already up-to-date!\n"
     ]
    },
    {
     "data": {
      "text/plain": [
       "'go'"
      ]
     },
     "execution_count": 11,
     "metadata": {},
     "output_type": "execute_result"
    }
   ],
   "source": [
    "nltk.download('wordnet')\n",
    "from nltk.stem import WordNetLemmatizer\n",
    "wordnet_lemmatizer = WordNetLemmatizer()\n",
    "wordnet_lemmatizer.lemmatize(\"went\", pos=\"v\")"
   ]
  },
  {
   "cell_type": "markdown",
   "metadata": {},
   "source": [
    "## Word Cloud\n",
    "\n",
    "Word CLoud is the EDA equivalent for NLP. Word cloud helps us understand how different words are distributed across the documents. The most occurring words will have larger sizes. "
   ]
  },
  {
   "cell_type": "code",
   "execution_count": 12,
   "metadata": {},
   "outputs": [
    {
     "data": {
      "text/plain": [
       "(-0.5, 399.5, 199.5, -0.5)"
      ]
     },
     "execution_count": 12,
     "metadata": {},
     "output_type": "execute_result"
    },
    {
     "data": {
      "image/png": "[encoded data removed]",
      "text/plain": [
       "<Figure size 720x576 with 1 Axes>"
      ]
     },
     "metadata": {},
     "output_type": "display_data"
    }
   ],
   "source": [
    "textall = \" \".join(sents)\n",
    "from wordcloud import WordCloud\n",
    "import matplotlib.pyplot as plt\n",
    "%matplotlib inline\n",
    "\n",
    "wordcloud = WordCloud().generate(textall)\n",
    "plt.figure(figsize=(10, 8))\n",
    "plt.imshow(wordcloud, interpolation='bilinear')\n",
    "plt.axis(\"off\")"
   ]
  },
  {
   "cell_type": "markdown",
   "metadata": {},
   "source": [
    "As can be seen, this particular word could strongly suggests that the article is likely to be about cyber security. Plotting and observing a word cloud could unlock potential features and can also avoid pitfalls. For examples, if you see a certain words which should be treated as stop words occurring a lot, then you can take care of them."
   ]
  },
  {
   "cell_type": "markdown",
   "metadata": {},
   "source": [
    "## Implementations Of NLP Applications\n",
    "***\n",
    "\n",
    "Good! What we have learnt so far is the foundation for different types of analysis that can be carried out. The tokens we have created so far can be utilized as needed. Mainly there are 4 kinds different techniques which branch out from here.\n",
    "\n",
    "-  **Regular Expressions Based System:** \n",
    "    - Such as Extracting Dates, Hyperlinks etc.\n",
    "    - These are mostly rule based and mostly used as features for rest of the techniques\n",
    "-  **Machine Learning Based System.** \n",
    "    - Text classification or Clustering or Recommender Systems.\n",
    "    - These techniques use the tokens as features, further refine them to create features of them\n",
    "    \n",
    "- **Linguistics based system/Rule Based System.** \n",
    "    - Such as POS tagging\n",
    "    - Attempts to understand underlying structure of the statements\n",
    "    \n",
    "- **Dictionary lookup based system** \n",
    "    - Such Information Reterieval, or Identifying entites from wikipedia.\n",
    "    - Used to retrieve structured information from unstructured documents\n",
    "    - Creating summaries of given documents\n",
    "\n",
    "Next we are going to look into Machine Learning based NLP applications, wherein we are going to use Sklearn to build a classifier."
   ]
  },
  {
   "cell_type": "markdown",
   "metadata": {},
   "source": [
    "## Text Preprocessing using `sklearn`:\n",
    "\n",
    "\n",
    "### Bag-of-Words Approach:\n",
    "\n",
    "\n",
    "One way to use tokenized words is to create bag of words (tokens) for each observation and find out the frequency of occurring of each token. The underlying assumption is that the article or document will use tokens which are important much more frequently than others. \n",
    "\n",
    "For example, in the word cloud that we saw, since the article seemed to about cyber security, related terms were used more frequently. So if in an article, food related words are used frequently, it can inferred that the article is about food.\n",
    "\n",
    "Note: Considering this, it would make much more sense to remove stopwords, otherwise they will clutter the actual tokens."
   ]
  },
  {
   "cell_type": "markdown",
   "metadata": {},
   "source": [
    "We use this fact, and count the frequency of each term used in an article. We also put together all the tokens in all the documents combined along with their frequency. We call this **The Dictionary of tokens**. Consider the following example.\n",
    "\n",
    "    It was the best of times,\n",
    "    it was the worst of times,\n",
    "    it was the age of wisdom,\n",
    "    it was the age of foolishness,"
   ]
  },
  {
   "cell_type": "markdown",
   "metadata": {},
   "source": [
    "Frequency doc for the first line would look something like:\n",
    "\n",
    "* “it” = 1\n",
    "* “was” = 1\n",
    "* “the” = 1\n",
    "* “best” = 1\n",
    "* “of” = 1\n",
    "* “times” = 1\n",
    "* “worst” = 0\n",
    "* “age” = 0\n",
    "* “wisdom” = 0\n",
    "* “foolishness” = 0"
   ]
  },
  {
   "cell_type": "markdown",
   "metadata": {},
   "source": [
    "To make this more usable, we convert these frequency tables into vectors: [1, 1, 1, 1, 1, 1, 0, 0, 0, 0]\n",
    "\n",
    "Frequency table for the rest of the lines are:\n",
    "\n",
    "* \"it was the worst of times\" = [1, 1, 1, 0, 1, 1, 1, 0, 0, 0]\n",
    "* \"it was the age of wisdom\" = [1, 1, 1, 0, 1, 0, 0, 1, 1, 0]\n",
    "* \"it was the age of foolishness\" = [1, 1, 1, 0, 1, 0, 0, 1, 0, 1]"
   ]
  },
  {
   "cell_type": "markdown",
   "metadata": {},
   "source": [
    "A more sophisticated approach is to also create a vocabulary of grouped words. This both changes the scope of the vocabulary and allows the bag-of-words to capture a little bit more meaning from the document.\n",
    "\n",
    "In this approach, each word or token is called a “gram”. Creating a vocabulary of two-word pairs is, in turn, called a bigram model. Again, only the bigrams that appear in the corpus are modeled, not all possible bigrams\n",
    "\n",
    "For example, the bigrams in the first line of text in the previous section: “It was the best of times” are as follows:\n",
    "\n",
    "* “it was”\n",
    "* “was the”\n",
    "* “the best”\n",
    "* “best of”\n",
    "* “of times”"
   ]
  },
  {
   "cell_type": "markdown",
   "metadata": {},
   "source": [
    "This process of converting NLP text into numbers in called **vectorization** in ML. And there are multiple ways to convert text into vectors.\n",
    "\n",
    "* **Counts.** Count the number of times each word appears in a document.\n",
    "* **Frequencies.** Calculate the frequency that each word appears in a document out of all the words in the document.\n",
    "\n",
    "Based on how we create this scoring, there are following methods:\n",
    "\n",
    "1. **CountVectorizer**: CountVectorizer works on Terms Frequency, i.e. counting the occurrences of tokens and building a sparse matrix of documents vs. tokens.\n",
    "2. **TfIdfVectorizer**: We will cover next\n",
    "\n",
    "For now, let's apply count vectorizer to see how well we can predict author of the article."
   ]
  },
  {
   "cell_type": "code",
   "execution_count": 13,
   "metadata": {},
   "outputs": [],
   "source": [
    "# import and instantiate CountVectorizer (with the default parameters)\n",
    "from sklearn.feature_extraction.text import CountVectorizer, TfidfVectorizer\n",
    "vect = CountVectorizer()"
   ]
  },
  {
   "cell_type": "code",
   "execution_count": 14,
   "metadata": {},
   "outputs": [
    {
     "data": {
      "text/plain": [
       "CountVectorizer(analyzer='word', binary=False, decode_error='strict',\n",
       "        dtype=<class 'numpy.int64'>, encoding='utf-8', input='content',\n",
       "        lowercase=True, max_df=1.0, max_features=None, min_df=1,\n",
       "        ngram_range=(1, 1), preprocessor=None, stop_words=None,\n",
       "        strip_accents=None, token_pattern='(?u)\\\\b\\\\w\\\\w+\\\\b',\n",
       "        tokenizer=None, vocabulary=None)"
      ]
     },
     "execution_count": 14,
     "metadata": {},
     "output_type": "execute_result"
    }
   ],
   "source": [
    "vect"
   ]
  },
  {
   "cell_type": "markdown",
   "metadata": {},
   "source": [
    "So here we can all sort of parameters this vectorizer takes. tokenizer, stop words, encoding, lower case etc. We can tune parameters based over our data set and kind of problem we are trying to solve."
   ]
  },
  {
   "cell_type": "code",
   "execution_count": 15,
   "metadata": {},
   "outputs": [
    {
     "data": {
      "text/plain": [
       "CountVectorizer(analyzer='word', binary=False, decode_error='strict',\n",
       "        dtype=<class 'numpy.int64'>, encoding='utf-8', input='content',\n",
       "        lowercase=True, max_df=0.5, max_features=None, min_df=2,\n",
       "        ngram_range=(1, 2), preprocessor=None, stop_words='english',\n",
       "        strip_accents=None, token_pattern='(?u)\\\\b\\\\w\\\\w+\\\\b',\n",
       "        tokenizer=<bound method TreebankWordTokenizer.tokenize of <nltk.tokenize.treebank.TreebankWordTokenizer object at 0x00000125532F3160>>,\n",
       "        vocabulary=None)"
      ]
     },
     "execution_count": 15,
     "metadata": {},
     "output_type": "execute_result"
    }
   ],
   "source": [
    "# use TreeankWordTokenizer\n",
    "from nltk.tokenize import TreebankWordTokenizer\n",
    "tokenizer = TreebankWordTokenizer()\n",
    "vect.set_params(tokenizer=tokenizer.tokenize)\n",
    "\n",
    "# remove English stop words\n",
    "vect.set_params(stop_words='english')\n",
    "\n",
    "# include 1-grams and 2-grams\n",
    "vect.set_params(ngram_range=(1, 2))\n",
    "\n",
    "# ignore terms that appear in more than 50% of the documents\n",
    "vect.set_params(max_df=0.5)\n",
    "\n",
    "# only keep terms that appear in at least 2 documents\n",
    "vect.set_params(min_df=2)"
   ]
  },
  {
   "cell_type": "markdown",
   "metadata": {},
   "source": [
    "**Note:** vect takes data as rows of text. Hence, we will have to get X_train in that format.\n",
    "So our dataset is not a csv and its a file structure based data. So we have to traverse through files and create a data frame of training data and its labeles, as below. "
   ]
  },
  {
   "cell_type": "markdown",
   "metadata": {},
   "source": [
    "Let's start by importing necessary information."
   ]
  },
  {
   "cell_type": "code",
   "execution_count": 16,
   "metadata": {},
   "outputs": [],
   "source": [
    "import os\n",
    "import numpy as np\n",
    "trainX =np.array([])\n",
    "labels = []\n",
    "path = '../data/C50train/'\n",
    "authors = os.listdir(path)[:10]; "
   ]
  },
  {
   "cell_type": "markdown",
   "metadata": {},
   "source": [
    "Next, we separate out the X and y component from each document. Note that we have replaced new line character (considered as a stop word) with white space."
   ]
  },
  {
   "cell_type": "code",
   "execution_count": 17,
   "metadata": {},
   "outputs": [],
   "source": [
    "for auth in authors:\n",
    "    files = os.listdir(path + auth + '/');\n",
    "    tmpX, tmpY = np.array([]), []\n",
    "    for file in files:\n",
    "        f = open(path + auth + '/' + file, 'r')\n",
    "        data = f.read().replace('\\n', ' ')\n",
    "        tmpX = np.append(tmpX,data)\n",
    "        tmpY = tmpY + [auth]\n",
    "        f.close()\n",
    "    trainX = np.append(trainX, tmpX)\n",
    "    labels = labels + tmpY \n",
    "# print trainX\n",
    "# print labels"
   ]
  },
  {
   "cell_type": "markdown",
   "metadata": {},
   "source": [
    "Below are the first elements from X and y"
   ]
  },
  {
   "cell_type": "code",
   "execution_count": 18,
   "metadata": {},
   "outputs": [
    {
     "name": "stdout",
     "output_type": "stream",
     "text": [
      "The Internet may be overflowing with new technology but crime in cyberspace is still of the old-fashioned variety. The National Consumers League said Wednesday that the most popular scam on the Internet was the pyramid scheme, in which early investors in a bogus fund are paid off with deposits of later investors. The league, a non-profit consumer advocacy group, tracks web scams through a site it set up on the world wide web in February called Internet Fraud Watch at http://www.fraud.org. The site, which collects reports directly from consumers, has been widely praised by law enforcement agencies. \"Consumers who suspect a scam on the Internet have critical information,\" said Jodie Bernstein, director of the Federal Trade Commission's Bureau of Consumer Protection. Internet Fraud Watch \"has been a major help to the FTC in identifying particular scams in their infancy.\" In May, for example, the commission used Internet reports to shut down a site run by Fortuna Alliance that had taken in over $6 million, promising investors they could earn $5,000 a month from an initial deposit of $250. Instead, Fortuna kept most of the money, the commission charged. Fraud reports from the league's site, which has been visited over 370,000 times, are forwarded to local, state and federal authorities. The second-most-popular Internet scam, the league said, was the sale of bogus Internet services, such as custom designed web sites or Internet access accounts. In third place were crooks who sell computer equipment, such as memory chips or sound boards, over the net and then deliver significantly lower quality goods or nothing at all, the league said. Other top scams involve business opportunities. Con artists may offer shares in a business or franchise using unreasonable predictions or misrepresentations. One popular scheme promised to let consumers get rich while working at home. The League also announced Tuesday that NationsBank had donated $100,000 to become a sponsor of the Fraud Watch site. \n"
     ]
    }
   ],
   "source": [
    "print(trainX[0])"
   ]
  },
  {
   "cell_type": "code",
   "execution_count": 19,
   "metadata": {},
   "outputs": [
    {
     "name": "stdout",
     "output_type": "stream",
     "text": [
      "AaronPressman\n"
     ]
    }
   ],
   "source": [
    "print(labels[0])"
   ]
  },
  {
   "cell_type": "markdown",
   "metadata": {},
   "source": [
    "Now let's separate out Train and test sets"
   ]
  },
  {
   "cell_type": "code",
   "execution_count": 20,
   "metadata": {},
   "outputs": [
    {
     "name": "stderr",
     "output_type": "stream",
     "text": [
      "C:\\Users\\rusha\\Anaconda3\\lib\\site-packages\\sklearn\\model_selection\\_split.py:2179: FutureWarning: From version 0.21, test_size will always complement train_size unless both are specified.\n",
      "  FutureWarning)\n"
     ]
    },
    {
     "data": {
      "text/plain": [
       "'Blue chip technology stocks charged ahead Wednesday in a new buying spree spurred on by optimism about holiday PC sales and year-end book-squaring by money managers, traders and market analysts said. Market participants said the rally was spurred by positive comments from a Soundview analyst about Compaq Computer Corp, and waning fears that the holiday sales season would prove a failure for consumer personal-computer makers. The enthusiasm swept up other PC makers such as Dell Computer Corp and spilled over to other top technology names.   By late afternoon, Compaq had added 6-1/2 points on the day to 78-3/4 while International Business Machines Corp gained 6-1/8 to 157-3/4. Leading Nasdaq\\'s most actives was Intel Corp, which swelled 5-3/8 to 135-3/8, Dell, up 3-5/8 to 57 and Microsoft Corp, which gained 2-3/4 to 82-5/8. \"It looks like they\\'re going after the group again,\" said one trader, pointing in particular to Compaq, Intel and IBM. \"They are just buying the techs in a dramatic way again,\" agreed another trader. \"The PC scare isn\\'t what they thought it would be,\" he said.   \"It\\'s a group move, if you look at other names, like Compaq up six, Intel up 5-1/8, Dell up 4-1/8,\" said Peter Jenkins, director of global equity trading at Scudder Stevens &amp; Clark, listing some of the most active names. \"We\\'re coming to the end of the year,\" he said, \"and these are big (institutional) holdings.\" \"IBM and Intel I think have sold here over last couple of weeks, and whatever had to be done has been done,\" he argued, laying the groundwork for institutional buyers to add to their holdings. \"All (these) stocks are in a year-end window-dressing rally,\" said Philip Orlando, chief investment officer at Value Line Asset Management, who concurred that several of these stocks had been oversold in the past two weeks. \"IBM is the one all the money managers want in their portfolios,\" Orlando said, referring to the desire to put the best face on their end-of-year report cards by which investors judge the relative performances of funds. Earlier, Soundview PC analyst Mark Specker upgraded his short-term rating on Compaq to buy from hold and retained his long-term buy position on the stock. -- Wall Street bureau, 212-859-1736 '"
      ]
     },
     "execution_count": 20,
     "metadata": {},
     "output_type": "execute_result"
    }
   ],
   "source": [
    "from sklearn.model_selection import train_test_split\n",
    "X_train, X_test, y_train, y_test = train_test_split(trainX, labels, train_size = 0.8)\n",
    "\n",
    "X_train[1]"
   ]
  },
  {
   "cell_type": "markdown",
   "metadata": {},
   "source": [
    "Now we take the features, which are in list format and convert them into pandas series so that various operations can be carried out easily."
   ]
  },
  {
   "cell_type": "code",
   "execution_count": 21,
   "metadata": {},
   "outputs": [
    {
     "data": {
      "text/plain": [
       "0    Shares of leading U.S. technology companies, a...\n",
       "1    Blue chip technology stocks charged ahead Wedn...\n",
       "2    When a company in California sells a book to a...\n",
       "3    Japanese car giant Nissan Motor Co is expected...\n",
       "4    The Czech monthly trade deficit eased in Septe...\n",
       "dtype: object"
      ]
     },
     "execution_count": 21,
     "metadata": {},
     "output_type": "execute_result"
    }
   ],
   "source": [
    "import pandas as pd\n",
    "X_train = pd.Series(X_train)\n",
    "X_test = pd.Series(X_test)\n",
    "\n",
    "X_train.head()"
   ]
  },
  {
   "cell_type": "markdown",
   "metadata": {},
   "source": [
    "Now, let's fit the vectorization pipeline that we defined earlier."
   ]
  },
  {
   "cell_type": "code",
   "execution_count": 22,
   "metadata": {
    "scrolled": true
   },
   "outputs": [
    {
     "data": {
      "text/plain": [
       "['!',\n",
       " '! consumer',\n",
       " '$ 0.03',\n",
       " '$ 0.08',\n",
       " '$ 0.14',\n",
       " '$ 0.20',\n",
       " '$ 0.28',\n",
       " '$ 0.33',\n",
       " '$ 0.37',\n",
       " '$ 0.48',\n",
       " '$ 0.71',\n",
       " '$ 0.76',\n",
       " '$ 0.79',\n",
       " '$ 0.88',\n",
       " '$ 1',\n",
       " '$ 1.01',\n",
       " '$ 1.02',\n",
       " '$ 1.04',\n",
       " '$ 1.05',\n",
       " '$ 1.06',\n",
       " '$ 1.07',\n",
       " '$ 1.08',\n",
       " '$ 1.09',\n",
       " '$ 1.1',\n",
       " '$ 1.12',\n",
       " '$ 1.13',\n",
       " '$ 1.132',\n",
       " '$ 1.14',\n",
       " '$ 1.15',\n",
       " '$ 1.17',\n",
       " '$ 1.2',\n",
       " '$ 1.25',\n",
       " '$ 1.26',\n",
       " '$ 1.28',\n",
       " '$ 1.3',\n",
       " '$ 1.33',\n",
       " '$ 1.35',\n",
       " '$ 1.36',\n",
       " '$ 1.37',\n",
       " '$ 1.375',\n",
       " '$ 1.4',\n",
       " '$ 1.42',\n",
       " '$ 1.43',\n",
       " '$ 1.45',\n",
       " '$ 1.47.',\n",
       " '$ 1.5',\n",
       " '$ 1.50',\n",
       " '$ 1.53',\n",
       " '$ 1.6',\n",
       " '$ 1.65']"
      ]
     },
     "execution_count": 22,
     "metadata": {},
     "output_type": "execute_result"
    }
   ],
   "source": [
    "# learn the 'vocabulary' of the training data\n",
    "vect.fit(X_train)\n",
    "\n",
    "# examine the fitted vocabulary\n",
    "vect.get_feature_names()[:50]"
   ]
  },
  {
   "cell_type": "markdown",
   "metadata": {},
   "source": [
    "We can see that there some scope for better feature engineering\n",
    "* \"!\" and \"$\" are appearing along with the numbers\n",
    "* numbers can be clubbed into a single category and can be tagged as numbers (e.g. ####)\n",
    "* Dates, Times can be tagged\n",
    "\n",
    "There are many more things that can be done. But for now let's move on.\n",
    "\n",
    "Next, we transform training data into a 'document-term matrix'"
   ]
  },
  {
   "cell_type": "code",
   "execution_count": 23,
   "metadata": {},
   "outputs": [
    {
     "data": {
      "text/plain": [
       "<400x29672 sparse matrix of type '<class 'numpy.int64'>'\n",
       "\twith 138906 stored elements in Compressed Sparse Row format>"
      ]
     },
     "execution_count": 23,
     "metadata": {},
     "output_type": "execute_result"
    }
   ],
   "source": [
    "train_vectors = vect.transform(X_train)\n",
    "train_vectors"
   ]
  },
  {
   "cell_type": "code",
   "execution_count": 24,
   "metadata": {},
   "outputs": [
    {
     "data": {
      "text/plain": [
       "<100x29672 sparse matrix of type '<class 'numpy.int64'>'\n",
       "\twith 27775 stored elements in Compressed Sparse Row format>"
      ]
     },
     "execution_count": 24,
     "metadata": {},
     "output_type": "execute_result"
    }
   ],
   "source": [
    "test_vectors = vect.transform(X_test)\n",
    "test_vectors"
   ]
  },
  {
   "cell_type": "markdown",
   "metadata": {},
   "source": [
    "Next, we examine the vocabulary and document-term matrix together"
   ]
  },
  {
   "cell_type": "code",
   "execution_count": 25,
   "metadata": {
    "scrolled": true
   },
   "outputs": [
    {
     "data": {
      "text/html": [
       "<div>\n",
       "<style scoped>\n",
       "    .dataframe tbody tr th:only-of-type {\n",
       "        vertical-align: middle;\n",
       "    }\n",
       "\n",
       "    .dataframe tbody tr th {\n",
       "        vertical-align: top;\n",
       "    }\n",
       "\n",
       "    .dataframe thead th {\n",
       "        text-align: right;\n",
       "    }\n",
       "</style>\n",
       "<table border=\"1\" class=\"dataframe\">\n",
       "  <thead>\n",
       "    <tr style=\"text-align: right;\">\n",
       "      <th></th>\n",
       "      <th>!</th>\n",
       "      <th>! consumer</th>\n",
       "      <th>$ 0.03</th>\n",
       "      <th>$ 0.08</th>\n",
       "      <th>$ 0.14</th>\n",
       "      <th>$ 0.20</th>\n",
       "      <th>$ 0.28</th>\n",
       "      <th>$ 0.33</th>\n",
       "      <th>$ 0.37</th>\n",
       "      <th>$ 0.48</th>\n",
       "      <th>...</th>\n",
       "      <th>zhou guanwu</th>\n",
       "      <th>zhou voluntarily</th>\n",
       "      <th>zimmerman</th>\n",
       "      <th>zivnostenska</th>\n",
       "      <th>zivnostenska banka</th>\n",
       "      <th>zivnostenska banka.</th>\n",
       "      <th>zombies</th>\n",
       "      <th>zombies established</th>\n",
       "      <th>zubizarreta</th>\n",
       "      <th>zubizarreta ,</th>\n",
       "    </tr>\n",
       "  </thead>\n",
       "  <tbody>\n",
       "    <tr>\n",
       "      <th>0</th>\n",
       "      <td>0</td>\n",
       "      <td>0</td>\n",
       "      <td>0</td>\n",
       "      <td>0</td>\n",
       "      <td>1</td>\n",
       "      <td>0</td>\n",
       "      <td>0</td>\n",
       "      <td>0</td>\n",
       "      <td>0</td>\n",
       "      <td>1</td>\n",
       "      <td>...</td>\n",
       "      <td>0</td>\n",
       "      <td>0</td>\n",
       "      <td>0</td>\n",
       "      <td>0</td>\n",
       "      <td>0</td>\n",
       "      <td>0</td>\n",
       "      <td>0</td>\n",
       "      <td>0</td>\n",
       "      <td>0</td>\n",
       "      <td>0</td>\n",
       "    </tr>\n",
       "    <tr>\n",
       "      <th>1</th>\n",
       "      <td>0</td>\n",
       "      <td>0</td>\n",
       "      <td>0</td>\n",
       "      <td>0</td>\n",
       "      <td>0</td>\n",
       "      <td>0</td>\n",
       "      <td>0</td>\n",
       "      <td>0</td>\n",
       "      <td>0</td>\n",
       "      <td>0</td>\n",
       "      <td>...</td>\n",
       "      <td>0</td>\n",
       "      <td>0</td>\n",
       "      <td>0</td>\n",
       "      <td>0</td>\n",
       "      <td>0</td>\n",
       "      <td>0</td>\n",
       "      <td>0</td>\n",
       "      <td>0</td>\n",
       "      <td>0</td>\n",
       "      <td>0</td>\n",
       "    </tr>\n",
       "    <tr>\n",
       "      <th>2</th>\n",
       "      <td>0</td>\n",
       "      <td>0</td>\n",
       "      <td>0</td>\n",
       "      <td>0</td>\n",
       "      <td>0</td>\n",
       "      <td>0</td>\n",
       "      <td>0</td>\n",
       "      <td>0</td>\n",
       "      <td>0</td>\n",
       "      <td>0</td>\n",
       "      <td>...</td>\n",
       "      <td>0</td>\n",
       "      <td>0</td>\n",
       "      <td>0</td>\n",
       "      <td>0</td>\n",
       "      <td>0</td>\n",
       "      <td>0</td>\n",
       "      <td>0</td>\n",
       "      <td>0</td>\n",
       "      <td>0</td>\n",
       "      <td>0</td>\n",
       "    </tr>\n",
       "    <tr>\n",
       "      <th>3</th>\n",
       "      <td>0</td>\n",
       "      <td>0</td>\n",
       "      <td>0</td>\n",
       "      <td>0</td>\n",
       "      <td>0</td>\n",
       "      <td>0</td>\n",
       "      <td>0</td>\n",
       "      <td>0</td>\n",
       "      <td>0</td>\n",
       "      <td>0</td>\n",
       "      <td>...</td>\n",
       "      <td>0</td>\n",
       "      <td>0</td>\n",
       "      <td>0</td>\n",
       "      <td>0</td>\n",
       "      <td>0</td>\n",
       "      <td>0</td>\n",
       "      <td>0</td>\n",
       "      <td>0</td>\n",
       "      <td>0</td>\n",
       "      <td>0</td>\n",
       "    </tr>\n",
       "  </tbody>\n",
       "</table>\n",
       "<p>4 rows × 29672 columns</p>\n",
       "</div>"
      ],
      "text/plain": [
       "   !  ! consumer  $ 0.03  $ 0.08  $ 0.14  $ 0.20  $ 0.28  $ 0.33  $ 0.37  \\\n",
       "0  0           0       0       0       1       0       0       0       0   \n",
       "1  0           0       0       0       0       0       0       0       0   \n",
       "2  0           0       0       0       0       0       0       0       0   \n",
       "3  0           0       0       0       0       0       0       0       0   \n",
       "\n",
       "   $ 0.48      ...        zhou guanwu  zhou voluntarily  zimmerman  \\\n",
       "0       1      ...                  0                 0          0   \n",
       "1       0      ...                  0                 0          0   \n",
       "2       0      ...                  0                 0          0   \n",
       "3       0      ...                  0                 0          0   \n",
       "\n",
       "   zivnostenska  zivnostenska banka  zivnostenska banka.  zombies  \\\n",
       "0             0                   0                    0        0   \n",
       "1             0                   0                    0        0   \n",
       "2             0                   0                    0        0   \n",
       "3             0                   0                    0        0   \n",
       "\n",
       "   zombies established  zubizarreta  zubizarreta ,  \n",
       "0                    0            0              0  \n",
       "1                    0            0              0  \n",
       "2                    0            0              0  \n",
       "3                    0            0              0  \n",
       "\n",
       "[4 rows x 29672 columns]"
      ]
     },
     "execution_count": 25,
     "metadata": {},
     "output_type": "execute_result"
    }
   ],
   "source": [
    "pd.DataFrame(train_vectors.toarray(), columns=vect.get_feature_names()).head(4)"
   ]
  },
  {
   "cell_type": "markdown",
   "metadata": {},
   "source": [
    "As you can see, there are 27459 columns which are there. Most of them are going to sparse."
   ]
  },
  {
   "cell_type": "markdown",
   "metadata": {
    "collapsed": true
   },
   "source": [
    "## Lets Build our Model\n",
    "\n",
    "We are going to use Naive Baysian model here as they are very effective at text classification."
   ]
  },
  {
   "cell_type": "code",
   "execution_count": 26,
   "metadata": {},
   "outputs": [
    {
     "data": {
      "text/html": [
       "<iframe width=\"560\" height=\"315\" src=\"https://www.youtube.com/embed/8yvBqhm92xA\" frameborder=\"0\" allowfullscreen></iframe>"
      ],
      "text/plain": [
       "<IPython.core.display.HTML object>"
      ]
     },
     "execution_count": 26,
     "metadata": {},
     "output_type": "execute_result"
    }
   ],
   "source": [
    "from IPython.display import HTML\n",
    "HTML('<iframe width=\"560\" height=\"315\" src=\"https://www.youtube.com/embed/8yvBqhm92xA\" frameborder=\"0\" allowfullscreen></iframe>')"
   ]
  },
  {
   "cell_type": "markdown",
   "metadata": {},
   "source": [
    "You can read more about bayesian algorithms at: \n",
    "\n",
    "* [Wikipedia](https://en.wikipedia.org/wiki/Naive_Bayes_classifier)\n",
    "* [Resource](https://www.cs.toronto.edu/~urtasun/courses/CSC411/tutorial4.pdf)"
   ]
  },
  {
   "cell_type": "code",
   "execution_count": 27,
   "metadata": {},
   "outputs": [],
   "source": [
    "from sklearn.naive_bayes import GaussianNB, MultinomialNB, BernoulliNB\n",
    "nb = GaussianNB()"
   ]
  },
  {
   "cell_type": "code",
   "execution_count": 28,
   "metadata": {},
   "outputs": [
    {
     "data": {
      "text/plain": [
       "GaussianNB(priors=None, var_smoothing=1e-09)"
      ]
     },
     "execution_count": 28,
     "metadata": {},
     "output_type": "execute_result"
    }
   ],
   "source": [
    "nb.fit(train_vectors.toarray(), y_train)"
   ]
  },
  {
   "cell_type": "code",
   "execution_count": 29,
   "metadata": {},
   "outputs": [
    {
     "name": "stderr",
     "output_type": "stream",
     "text": [
      "C:\\Users\\rusha\\Anaconda3\\lib\\site-packages\\sklearn\\model_selection\\_split.py:652: Warning: The least populated class in y has only 7 members, which is too few. The minimum number of members in any class cannot be less than n_splits=10.\n",
      "  % (min_groups, self.n_splits)), Warning)\n"
     ]
    },
    {
     "name": "stdout",
     "output_type": "stream",
     "text": [
      "                  precision    recall  f1-score   support\n",
      "\n",
      "   AaronPressman       0.88      0.70      0.78        10\n",
      "      AlanCrosby       1.00      0.90      0.95        10\n",
      "  AlexanderSmith       0.68      1.00      0.81        13\n",
      " BenjaminKangLim       1.00      1.00      1.00         8\n",
      "   BernardHickey       0.92      1.00      0.96        12\n",
      "     BradDorfman       0.67      0.29      0.40         7\n",
      "DarrenSchuettler       0.90      0.90      0.90        10\n",
      "     DavidLawder       0.91      0.91      0.91        11\n",
      "   EdnaFernandes       1.00      0.62      0.77         8\n",
      "     EricAuchard       0.71      0.91      0.80        11\n",
      "\n",
      "       micro avg       0.85      0.85      0.85       100\n",
      "       macro avg       0.87      0.82      0.83       100\n",
      "    weighted avg       0.86      0.85      0.84       100\n",
      "\n",
      "ACCURACY:: 0.85\n"
     ]
    }
   ],
   "source": [
    "from sklearn.metrics.classification import classification_report, accuracy_score\n",
    "from sklearn.model_selection import cross_val_predict \n",
    "\n",
    "# generate your cross-validation prediction with 10 fold Stratified sampling\n",
    "y_pred = cross_val_predict(nb, test_vectors.toarray(), y_test, cv=10)\n",
    "\n",
    "print(classification_report(y_test, y_pred))\n",
    "print(\"ACCURACY::\", accuracy_score(y_pred, y_test))"
   ]
  },
  {
   "cell_type": "markdown",
   "metadata": {},
   "source": [
    "As we can see, even with limited amount of feature engineering, we are getting really good results. Better feature engineering will result in better results."
   ]
  },
  {
   "cell_type": "markdown",
   "metadata": {},
   "source": [
    "## Model Building Using TF-IDF Vectorizer:\n",
    "\n",
    "* Tf-idf vectorizer is most famous and most widely used vectoirzer in NLP. \n",
    "* Tf-idf stands for term frequency-inverse document frequency, \n",
    "* Tf-idf weight is a statistical measure used to evaluate how important a word is to a document in a collection or corpus. \n",
    "* The importance increases proportionally to the number of times a word appears in the document but is offset by the frequency of the word in the corpus."
   ]
  },
  {
   "cell_type": "markdown",
   "metadata": {},
   "source": [
    "## Model Building Using TF-IDF Vectorizer:\n",
    "\n",
    "Typically, the tf-idf weight is composed by two terms: \n",
    "* the first computes the normalized Term Frequency (TF), aka. the number of times a word appears in a document, divided by the total number of words in that document; \n",
    "* the second term is the Inverse Document Frequency (IDF), computed as the logarithm of the number of the documents in the corpus divided by the number of documents where the specific term appears."
   ]
  },
  {
   "cell_type": "markdown",
   "metadata": {},
   "source": [
    "* **TF: Term Frequency**, which measures how frequently a term occurs in a document. Since every document is different in length, it is possible that a term would appear much more times in long documents than shorter ones. Thus, the term frequency is often divided by the document length (aka. the total number of terms in the document) as a way of normalization: \n",
    "\n",
    "$$TF(t) = \\frac{Number\\ of\\ times\\ term\\ t\\ appears\\ in\\ a\\ document} {Total\\ number\\ of\\ terms\\ in\\ the\\ document}$$"
   ]
  },
  {
   "cell_type": "markdown",
   "metadata": {},
   "source": [
    "* **IDF: Inverse Document Frequency,** which measures how important a term is. While computing TF, all terms are considered equally important. However it is known that certain terms, such as \"is\", \"of\", and \"that\", may appear a lot of times but have little importance. Thus we need to weigh down the frequent terms while scale up the rare ones, by computing the following: \n",
    "\n",
    "$$IDF(t) = log_e(\\frac{Total\\ number\\ of\\ documents} {Number\\ of\\ documents\\ with\\ term\\ t\\ in\\ it})$$\n",
    "\n",
    "Typically, IDF is a measure of how rare a term is. Rarer the term, more is the IDF score."
   ]
  },
  {
   "cell_type": "markdown",
   "metadata": {},
   "source": [
    "$$Tf-TDF score = TF * IDF$$"
   ]
  },
  {
   "cell_type": "code",
   "execution_count": 30,
   "metadata": {},
   "outputs": [
    {
     "data": {
      "text/plain": [
       "TfidfVectorizer(analyzer='word', binary=False, decode_error='strict',\n",
       "        dtype=<class 'numpy.float64'>, encoding='utf-8', input='content',\n",
       "        lowercase=True, max_df=0.5, max_features=None, min_df=2,\n",
       "        ngram_range=(1, 2), norm='l2', preprocessor=None, smooth_idf=True,\n",
       "        stop_words='english', strip_accents=None, sublinear_tf=False,\n",
       "        token_pattern='(?u)\\\\b\\\\w\\\\w+\\\\b',\n",
       "        tokenizer=<bound method TreebankWordTokenizer.tokenize of <nltk.tokenize.treebank.TreebankWordTokenizer object at 0x00000125532F3160>>,\n",
       "        use_idf=True, vocabulary=None)"
      ]
     },
     "execution_count": 30,
     "metadata": {},
     "output_type": "execute_result"
    }
   ],
   "source": [
    "# import and instantiate TfidfVectorizer (with the default parameters)\n",
    "from sklearn.feature_extraction.text import TfidfVectorizer\n",
    "vect = TfidfVectorizer()\n",
    "vect.set_params(tokenizer=tokenizer.tokenize)\n",
    "\n",
    "# remove English stop words\n",
    "vect.set_params(stop_words='english')\n",
    "\n",
    "# include 1-grams and 2-grams\n",
    "vect.set_params(ngram_range=(1, 2))\n",
    "\n",
    "# ignore terms that appear in more than 50% of the documents\n",
    "vect.set_params(max_df=0.5)\n",
    "\n",
    "# only keep terms that appear in at least 2 documents\n",
    "vect.set_params(min_df=2)"
   ]
  },
  {
   "cell_type": "code",
   "execution_count": 31,
   "metadata": {},
   "outputs": [
    {
     "data": {
      "text/plain": [
       "<400x29672 sparse matrix of type '<class 'numpy.float64'>'\n",
       "\twith 138906 stored elements in Compressed Sparse Row format>"
      ]
     },
     "execution_count": 31,
     "metadata": {},
     "output_type": "execute_result"
    }
   ],
   "source": [
    "train_vectors = vect.fit_transform(X_train)\n",
    "train_vectors"
   ]
  },
  {
   "cell_type": "markdown",
   "metadata": {},
   "source": [
    "### Lets Build our Model"
   ]
  },
  {
   "cell_type": "code",
   "execution_count": 32,
   "metadata": {},
   "outputs": [
    {
     "data": {
      "text/plain": [
       "GaussianNB(priors=None, var_smoothing=1e-09)"
      ]
     },
     "execution_count": 32,
     "metadata": {},
     "output_type": "execute_result"
    }
   ],
   "source": [
    "from sklearn.naive_bayes import GaussianNB, MultinomialNB, BernoulliNB\n",
    "nb=GaussianNB()\n",
    "nb.fit(train_vectors.toarray(), y_train)"
   ]
  },
  {
   "cell_type": "markdown",
   "metadata": {},
   "source": [
    "### Lets Analyze performance"
   ]
  },
  {
   "cell_type": "code",
   "execution_count": 33,
   "metadata": {},
   "outputs": [
    {
     "name": "stderr",
     "output_type": "stream",
     "text": [
      "C:\\Users\\rusha\\Anaconda3\\lib\\site-packages\\sklearn\\model_selection\\_split.py:652: Warning: The least populated class in y has only 7 members, which is too few. The minimum number of members in any class cannot be less than n_splits=10.\n",
      "  % (min_groups, self.n_splits)), Warning)\n"
     ]
    },
    {
     "name": "stdout",
     "output_type": "stream",
     "text": [
      "                  precision    recall  f1-score   support\n",
      "\n",
      "   AaronPressman       0.88      0.70      0.78        10\n",
      "      AlanCrosby       1.00      0.90      0.95        10\n",
      "  AlexanderSmith       0.68      1.00      0.81        13\n",
      " BenjaminKangLim       1.00      1.00      1.00         8\n",
      "   BernardHickey       0.92      1.00      0.96        12\n",
      "     BradDorfman       0.67      0.29      0.40         7\n",
      "DarrenSchuettler       0.90      0.90      0.90        10\n",
      "     DavidLawder       0.91      0.91      0.91        11\n",
      "   EdnaFernandes       1.00      0.62      0.77         8\n",
      "     EricAuchard       0.71      0.91      0.80        11\n",
      "\n",
      "       micro avg       0.85      0.85      0.85       100\n",
      "       macro avg       0.87      0.82      0.83       100\n",
      "    weighted avg       0.86      0.85      0.84       100\n",
      "\n",
      "ACCURACY:: 0.85\n"
     ]
    }
   ],
   "source": [
    "#generate your cross-validation prediction with 10 fold Stratified sampling\n",
    "y_pred = cross_val_predict(nb, test_vectors.toarray(), y_test, cv=10)\n",
    "\n",
    "print(classification_report(y_test, y_pred))\n",
    "print (\"ACCURACY::\",accuracy_score(y_pred,y_test))"
   ]
  },
  {
   "cell_type": "markdown",
   "metadata": {},
   "source": [
    "## Applications of Bag-of-Words\n",
    "\n",
    "The bag-of-words model is very simple to understand and implement and offers a lot of flexibility for customization on your specific text data.\n",
    "\n",
    "It has been used with great success on prediction problems like \n",
    "\n",
    "* Language modeling\n",
    "* Documentation classification\n",
    "* Recommender Systems\n",
    "* Clustering"
   ]
  },
  {
   "cell_type": "markdown",
   "metadata": {},
   "source": [
    "## Limitations of Bag-of-Words approach\n",
    "\n",
    "Nevertheless, it suffers from some shortcomings, such as:\n",
    "\n",
    "* **Meaning**: Discarding word order ignores the context, and in turn meaning of words in the document (semantics). Context and meaning can offer a lot to the model, that if modeled could tell the difference between the same words differently arranged (“this is interesting” vs “is this interesting”), synonyms (“old bike” vs “used bike”), and much more.\n",
    "* **Vocabulary**: The vocabulary requires careful design, most specifically in order to manage the size, which impacts the sparsity of the document representations.\n",
    "* **Sparsity**: Sparse representations are harder to model both for computational reasons (space and time complexity) and also for information reasons, where the challenge is for the models to harness so little information in such a large representational space."
   ]
  },
  {
   "cell_type": "markdown",
   "metadata": {
    "collapsed": true
   },
   "source": [
    "# In-session Recap Time\n",
    "***\n",
    "- Sentence Decomposition\n",
    "- Tokenization\n",
    "- Stop word removal\n",
    "- Word Cloud\n",
    "- Vectorization\n",
    "- Text Classification\n",
    "\n",
    "# Thank You\n",
    "***\n",
    "For more queries - Reach out to academics@greyatom.com "
   ]
  },
  {
   "cell_type": "code",
   "execution_count": 34,
   "metadata": {},
   "outputs": [],
   "source": [
    "#Loading the data for mini-challenges\n",
    "#Data contains text messages, we would use it to build a spam classifier.\n",
    "df = pd.read_csv('../data/spam.csv',encoding='latin-1')\n",
    "#Feature vectors\n",
    "X=df['v2']\n",
    "#target variable\n",
    "y = df['v1'].replace('ham',1).replace('spam',0)\n",
    "#All the text data\n",
    "textall = \" \".join(X)"
   ]
  },
  {
   "cell_type": "markdown",
   "metadata": {},
   "source": [
    "<img src=\"../images/icon/ppt-icons.png\" alt=\"Concept-Alert\" style=\"width: 100px;float:left; margin-right:15px\"/>\n",
    "<br /> \n",
    "\n",
    "##  Mini-Challenge - 1\n",
    "Create a word-cloud of the data."
   ]
  },
  {
   "cell_type": "code",
   "execution_count": null,
   "metadata": {},
   "outputs": [],
   "source": []
  },
  {
   "cell_type": "markdown",
   "metadata": {},
   "source": [
    "<img src=\"../images/icon/ppt-icons.png\" alt=\"Concept-Alert\" style=\"width: 100px;float:left; margin-right:15px\"/>\n",
    "<br /> \n",
    "\n",
    "##  Mini-Challenge - 2\n",
    "- Performing Stemming using Porter Stemmer\n",
    "- Use a Count-Vectorizer to vectorize the data.\n",
    "    - Also set the appropriate parameters to\n",
    "        - Tokenise the text data using TreebankWordTokenizer\n",
    "        - Convert the data to lowercase\n",
    "        - Remove stop words\n",
    "        - Use bi-grams\n",
    "        - Ignore terms that appear in more than 50% of the documents & keep terms that appear in atleat 2 documents"
   ]
  },
  {
   "cell_type": "code",
   "execution_count": null,
   "metadata": {},
   "outputs": [],
   "source": []
  },
  {
   "cell_type": "markdown",
   "metadata": {},
   "source": [
    "<img src=\"../images/icon/ppt-icons.png\" alt=\"Concept-Alert\" style=\"width: 100px;float:left; margin-right:15px\"/>\n",
    "<br /> \n",
    "\n",
    "##  Mini-Challenge - 3\n",
    "\n",
    "- Split the data into train & test.\n",
    "- Fit a Gaussian Naive Bayes model on your training data."
   ]
  },
  {
   "cell_type": "code",
   "execution_count": null,
   "metadata": {},
   "outputs": [],
   "source": []
  },
  {
   "cell_type": "markdown",
   "metadata": {},
   "source": [
    "<img src=\"../images/icon/ppt-icons.png\" alt=\"Concept-Alert\" style=\"width: 100px;float:left; margin-right:15px\"/>\n",
    "<br /> \n",
    "\n",
    "##  Mini-Challenge - 4\n",
    "- Predict using the test data and get the classification metrics"
   ]
  },
  {
   "cell_type": "code",
   "execution_count": null,
   "metadata": {},
   "outputs": [],
   "source": []
  },
  {
   "cell_type": "code",
   "execution_count": null,
   "metadata": {},
   "outputs": [],
   "source": []
  }
 ],
 "metadata": {
  "celltoolbar": "Slideshow",
  "kernelspec": {
   "display_name": "Python 3",
   "language": "python",
   "name": "python3"
  },
  "language_info": {
   "codemirror_mode": {
    "name": "ipython",
    "version": 3
   },
   "file_extension": ".py",
   "mimetype": "text/x-python",
   "name": "python",
   "nbconvert_exporter": "python",
   "pygments_lexer": "ipython3",
   "version": "3.6.5"
  }
 },
 "nbformat": 4,
 "nbformat_minor": 2
}
