{
 "cells": [
  {
   "cell_type": "markdown",
   "metadata": {
    "slideshow": {
     "slide_type": "slide"
    }
   },
   "source": [
    "<h1 align=\"center\"> Natural Language Processing </h1>"
   ]
  },
  {
   "cell_type": "markdown",
   "metadata": {
    "slideshow": {
     "slide_type": "slide"
    }
   },
   "source": [
    "<img src=\"../images/img1.jpg\" alt=\"img1\" style=\"width: 400px\"/>"
   ]
  },
  {
   "cell_type": "markdown",
   "metadata": {
    "collapsed": true
   },
   "source": [
    "## Program so far \n",
    "***\n",
    "\n",
    "* Python\n",
    "* Statistics\n",
    "* Supervised Machine Learning\n",
    "* Unsupervised Machine Learning"
   ]
  },
  {
   "cell_type": "markdown",
   "metadata": {
    "collapsed": true
   },
   "source": [
    "## Agenda for NLP\n",
    "***\n",
    "* Get awesome in NLP"
   ]
  },
  {
   "cell_type": "markdown",
   "metadata": {
    "collapsed": true
   },
   "source": [
    "## But Seriously, Agenda for the Day\n",
    "***\n",
    "Learn how to leverage machine learning techniques we have learnt so far to analyze Natural Languages. We are going to cover techniques like:\n",
    "\n",
    "1.  Sentence Splitter\n",
    "-  Tokenization\n",
    "-  POS (part of speech tagging)\n",
    "-  Stop-word Removal\n",
    "-  Stemming\n",
    "-  Lemmatization\n",
    "-  Chunking\n",
    "-  Deep Parsing\n",
    "-  Word Cloud\n",
    "-  TF-IDF"
   ]
  },
  {
   "cell_type": "markdown",
   "metadata": {},
   "source": [
    "## What is NLP Anyway\n",
    "\n",
    "Well, Wikipedia quotes:\n",
    "\n",
    ">Natural language processing (NLP) is a field of computer science, artificial intelligence and computational linguistics concerned with the interactions between computers and human (natural) languages, and, in particular, concerned with programming computers to fruitfully process large natural language corpora. "
   ]
  },
  {
   "cell_type": "markdown",
   "metadata": {},
   "source": [
    "## What is NLP Anyway\n",
    "\n",
    "Human language is highly ambiguous… It is also ever changing and evolving. People are great at producing language and understanding language, and are capable of expressing, perceiving, and interpreting very elaborate and nuanced meanings. At the same time, while we humans are great users of language, we are also very poor at formally understanding and describing the rules that govern language.\n",
    "\n",
    "NLP is an ongoing attempt to capture those structures and rules."
   ]
  },
  {
   "cell_type": "markdown",
   "metadata": {},
   "source": [
    "## NLP NLP Everywhere\n",
    "\n",
    "[Lifewire](https://www.lifewire.com/applications-of-natural-language-processing-technology-2495544) has an elaborate article on the applications of NLP. NLP is being used extensively in areas you can and can't imagine. Some examples are:\n",
    "\n",
    "1. Spam detections\n",
    "2. Chat bots\n",
    "- Recommender systems\n",
    "3. Sentiment analysis\n",
    "4. Information extraction\n",
    "5. And many more"
   ]
  },
  {
   "cell_type": "markdown",
   "metadata": {},
   "source": [
    "So let's start our journey with NLP. Here is an interesting challenge we are going to tackle.\n",
    "\n",
    "We are going to work with data called `Reuter_50_50 Data Set`. It is a combination of 50 datasets. Each dataset is named after an author's name and each dataset contains 50 articles from the respective author. "
   ]
  },
  {
   "cell_type": "markdown",
   "metadata": {},
   "source": [
    "The problem that we are going to attempt is to use this data is to predict the author given an unknown article. Seems interesting, isn't it? Well, it is. \n",
    "\n",
    "Generally, as writers, we all follow certain style; things like kind of words we use, length of the sentences we write, how do we use punctuations etc. We are going to use these to predict the author."
   ]
  },
  {
   "cell_type": "markdown",
   "metadata": {},
   "source": [
    "Let's start by importing the docs."
   ]
  },
  {
   "cell_type": "code",
   "execution_count": 1,
   "metadata": {
    "scrolled": true
   },
   "outputs": [
    {
     "data": {
      "text/plain": [
       "['JanLopatka',\n",
       " 'JaneMacartney',\n",
       " 'RobinSidel',\n",
       " 'JohnMastrini',\n",
       " 'JimGilchrist',\n",
       " 'MichaelConnor',\n",
       " 'MureDickie',\n",
       " 'LydiaZajc',\n",
       " 'HeatherScoffield',\n",
       " 'PeterHumphrey',\n",
       " 'DarrenSchuettler',\n",
       " 'TanEeLyn',\n",
       " 'JoWinterbottom',\n",
       " 'KevinMorrison',\n",
       " 'MarkBendeich',\n",
       " 'KirstinRidley',\n",
       " 'AlexanderSmith',\n",
       " 'PatriciaCommins',\n",
       " 'NickLouth',\n",
       " 'FumikoFujisaki',\n",
       " 'KarlPenhaul',\n",
       " 'AaronPressman',\n",
       " 'KeithWeir',\n",
       " 'MarcelMichelson',\n",
       " 'MatthewBunce',\n",
       " \"LynneO'Donnell\",\n",
       " 'AlanCrosby',\n",
       " 'TheresePoletti',\n",
       " 'BernardHickey',\n",
       " 'SarahDavison',\n",
       " 'SimonCowell',\n",
       " 'JonathanBirt',\n",
       " 'KevinDrawbaugh',\n",
       " 'ToddNissen',\n",
       " 'DavidLawder',\n",
       " 'PierreTran',\n",
       " 'KouroshKarimkhany',\n",
       " 'MartinWolk',\n",
       " 'SamuelPerry',\n",
       " 'EricAuchard',\n",
       " 'WilliamKazer',\n",
       " 'LynnleyBrowning',\n",
       " 'JoeOrtiz',\n",
       " 'RogerFillion',\n",
       " 'EdnaFernandes',\n",
       " 'BradDorfman',\n",
       " 'BenjaminKangLim',\n",
       " 'TimFarrand',\n",
       " 'GrahamEarnshaw',\n",
       " 'ScottHillis']"
      ]
     },
     "execution_count": 1,
     "metadata": {},
     "output_type": "execute_result"
    }
   ],
   "source": [
    "import os\n",
    "os.listdir(\"../data/C50train\")"
   ]
  },
  {
   "cell_type": "code",
   "execution_count": 2,
   "metadata": {},
   "outputs": [
    {
     "data": {
      "text/plain": [
       "'A break-in at the U.S. Justice Department\\'s World Wide Web site last week highlighted the Internet\\'s continued vulnerability to hackers.\\nUnidentified hackers gained access to the department\\'s web page on August 16 and replaced it with a hate-filled diatribe labelled the \"Department of Injustice\" that included a swastika and a picture of Adolf Hitler.\\nJustice officials quickly pulled the plug on the vandalised page, but the security flaws that allowed hackers to gain entry likely exist in thousands of other corporate and government web sites, security experts said.\\n\"The vast majority of sites are vulnerable,\" said Richard Power, senior analyst at the Computer Security Institute. \"The Justice Department shouldn\\'t be singled out.\"\\nJustice Department officials said the compromised web site was not connected to any computers containing sensitive files. The web site (http://www.usdoj.gov) included copies of press releases, speeches and other publicly available information.\\nThe security breach \"is just like graffiti on the outside of the building,\" spokesman Bert Brandenburg said.\\nOther organisations have been targeted in the past. Last year, the Nation of Islam\\'s Million Man March web site was vandalised. And hackers make 250,000 attempts annually to break into U.S. military computers, according to a General Accounting Office report.\\nWindows Magazine recently found security flaws at web sites of a dozen major corporations. \"The web is spectacularly insecure,\" editor Mike Elgan said. Relying on security holes that had been documented by software manufacturers months earlier, the magazine\\'s specialists were able to gain various degrees of unauthorised access at the different sites.\\nElgan said hackers who are exploiting some of the same flaws are motivated by anger over the growth and commercialization of the Internet. \"A common theme is that hackers are fed up with non-hackers on the Internet,\" he said.\\nThe battle is not completely hopeless. \"You can secure a web site,\" Richard Power said. \"There\\'s all kinds of measures you can take. Most corporations and institutions don\\'t take them simply because nothing bad has happened to them yet.\"\\nSome sites are using multiple layers of security, well beyond simple password protection, to keep hackers out.\\nOne site mentioned by Windows Magazine was Fidelity Investments. Fidelity\\'s site advertises its mutual funds and disseminates information about personal finance but does not contain confidential customer information.\\nFidelity officials immediately closed the loophole identified by the magazine, a spokeswoman said. But multiple security measures previously in place would have prevented a security breach despite the hole, the spokeswoman added.\\n'"
      ]
     },
     "execution_count": 2,
     "metadata": {},
     "output_type": "execute_result"
    }
   ],
   "source": [
    "#Lets look into of the article by one of the author and experiment with some NLP tasks\n",
    "f = open(\"../data/C50train/AaronPressman/2537newsML.txt\")\n",
    "f.read()"
   ]
  },
  {
   "cell_type": "markdown",
   "metadata": {},
   "source": [
    "## We told you so!\n",
    "***\n",
    "\n",
    "Now the question is what to do with all the text we have got? One way is to feed the text as a feature to a ML algorithm and try to predict the target variable.\n",
    "\n",
    "But that would be known as **Supreme Overfitting**. Can you explain why?\n",
    "\n",
    "Remember **Feature Engineering** session of your machine learning module? We told you: \"This is one of the most important aspect of ML problem solving.\" Now you'll understand why."
   ]
  },
  {
   "cell_type": "markdown",
   "metadata": {},
   "source": [
    "## NLP and Feature engineering:\n",
    "\n",
    "Much of NLP falls under the domain of feature engineering and feature selection. The idea is to take the raw text and turn into something which can be utilized by a ML algorithm to carry out prediction.\n",
    "\n",
    "So the question is how to do feature engineering on text."
   ]
  },
  {
   "cell_type": "markdown",
   "metadata": {},
   "source": [
    "<img src=\"../images/img2.png\" alt=\"img2\" style=\"width: 400px\"/>"
   ]
  },
  {
   "cell_type": "markdown",
   "metadata": {},
   "source": [
    "## Sentence Segmentation\n",
    "\n",
    "The first level of conquering we will do is by breaking the articles into sentences. \n",
    "\n",
    "Often we have to do analysis at sentences level. For example, let's say in this problem we want to check **number of sentences in an article** and **number of words in a sentence**. Or we want to see how many times an author uses **punctuations in a sentence**. Even specific things like **how many capital letters he uses in a sentence.** We can think of an infinite features."
   ]
  },
  {
   "cell_type": "markdown",
   "metadata": {},
   "source": [
    "## Sentence Segmentation\n",
    "\n",
    "It might look simple to split text by a period(.), but we often use period within text as well e.g. Mr. Modi. There are many other variations that could be there for which we have account for. For example, question marks (?), exclamations (!) and so on.\n",
    "\n",
    "This could get cumbersome. Thankfully there is a python library called **`NLTK`** which specializes in all sorts of NLP operations. For example, NLTK comes with a trained model to do sentence segmentation. We will discover many others  along the way. But for now, let's start with importing the library."
   ]
  },
  {
   "cell_type": "code",
   "execution_count": 3,
   "metadata": {},
   "outputs": [
    {
     "name": "stdout",
     "output_type": "stream",
     "text": [
      "A break-in at the U.S. Justice Department's World Wide Web site last week highlighted the Internet's continued vulnerability to hackers.\n",
      "Unidentified hackers gained access to the department's web page on August 16 and replaced it with a hate-filled diatribe labelled the \"Department of Injustice\" that included a swastika and a picture of Adolf Hitler.\n",
      "Justice officials quickly pulled the plug on the vandalised page, but the security flaws that allowed hackers to gain entry likely exist in thousands of other corporate and government web sites, security experts said.\n",
      "\"The vast majority of sites are vulnerable,\" said Richard Power, senior analyst at the Computer Security Institute.\n",
      "\"The Justice Department shouldn't be singled out.\"\n"
     ]
    }
   ],
   "source": [
    "#NLTK is famous package in python for carry out NLP tasks. Though there are other options also available such as Spacy, TextBlob etc\n",
    "import nltk\n",
    "\n",
    "text=open(\"../data/C50train/AaronPressman/2537newsML.txt\").read()\n",
    "sents = nltk.sent_tokenize(text)  ## Easy sentence tokenization\n",
    "print(\"\\n\".join(sents[:5]))"
   ]
  },
  {
   "cell_type": "markdown",
   "metadata": {},
   "source": [
    "## Tokenization\n",
    "\n",
    "Next, We tokenize. Tokenization breaks unstructured data, text, into chunks of information which can be counted as discrete elements.\n",
    "This immediately turns an unstructured string (text document) into a more usable data, which can  be further structured,and made more suitable for machine learning."
   ]
  },
  {
   "cell_type": "markdown",
   "metadata": {},
   "source": [
    "## Tokenization\n",
    "\n",
    "-  Tokenization segments a document into its atomic elements (tokens). Tokens are generally split by space or punctuations.\n",
    "-  Typically, tokens are the words.\n",
    "-  Sometimes, based over our application, we can treat punctuations as tokens as well. For example, for author identification we want to have a feature, <i>number of punctuations<i>.\n",
    "-  Number of tokens in a sentence can be used as a feature.\n",
    "-  Kind of tokens(words) used in text itself can be a feature. For example, some author may use word basically, additionally etc. "
   ]
  },
  {
   "cell_type": "markdown",
   "metadata": {},
   "source": [
    "Let's employ a simple tokenizer which will match any word characters until it reaches a non-word character, like white a space"
   ]
  },
  {
   "cell_type": "code",
   "execution_count": 4,
   "metadata": {},
   "outputs": [
    {
     "data": {
      "text/plain": [
       "['A',\n",
       " 'break',\n",
       " 'in',\n",
       " 'at',\n",
       " 'the',\n",
       " 'U',\n",
       " 'S',\n",
       " 'Justice',\n",
       " 'Department',\n",
       " 's',\n",
       " 'World',\n",
       " 'Wide',\n",
       " 'Web',\n",
       " 'site',\n",
       " 'last',\n",
       " 'week',\n",
       " 'highlighted',\n",
       " 'the',\n",
       " 'Internet',\n",
       " 's',\n",
       " 'continued',\n",
       " 'vulnerability',\n",
       " 'to',\n",
       " 'hackers']"
      ]
     },
     "execution_count": 4,
     "metadata": {},
     "output_type": "execute_result"
    }
   ],
   "source": [
    "from nltk.tokenize import RegexpTokenizer\n",
    "tokenizer = RegexpTokenizer(r'\\w+')\n",
    "tokenizer.tokenize(sents[0])"
   ]
  },
  {
   "cell_type": "markdown",
   "metadata": {},
   "source": [
    "- As you can see,this can cause problems for words like don’t which will be read as two tokens - don and t.\n",
    "- There are better tokenisers available like `TreeBankWordTokenizer` which would break words like don't into do and n't\n",
    "- NLTK provides a number of pre-constructed tokenizers. Let's see one of those."
   ]
  },
  {
   "cell_type": "code",
   "execution_count": 6,
   "metadata": {},
   "outputs": [
    {
     "name": "stdout",
     "output_type": "stream",
     "text": [
      "['A', 'break-in', 'at', 'the', 'U.S.', 'Justice', 'Department', \"'s\", 'World', 'Wide', 'Web', 'site', 'last', 'week', 'highlighted', 'the', 'Internet', \"'s\", 'continued', 'vulnerability', 'to', 'hackers', '.']\n"
     ]
    }
   ],
   "source": [
    "from nltk import word_tokenize\n",
    "tokens = word_tokenize(sents[0])\n",
    "print(tokens)"
   ]
  },
  {
   "cell_type": "markdown",
   "metadata": {},
   "source": [
    "## StopWords\n",
    "\n",
    "Consider words like a, an, the, be etc. These words don't add any extra information in a sentence. Such words can often create noise while modeling. Such words are known as **Stop Words**.\n",
    "\n",
    "Generally there is a standard list of stop words and that list is also included within the NLTK. However, it also comes with a lot of corpora (a corpus is specialized knowldege for a specific domain/problem. e.g. gender names, location names, or author notes), Which are useful in special cases. We need to download these corpus explicitly along with nltk. This can be done through `nltk.download()` "
   ]
  },
  {
   "cell_type": "code",
   "execution_count": 7,
   "metadata": {},
   "outputs": [
    {
     "name": "stdout",
     "output_type": "stream",
     "text": [
      "{'won', 'ours', 'doesn', 'at', 'been', 'other', 'any', 'aren', 'very', 'why', 'while', 'haven', 'you', 'these', 'theirs', 'shouldn', 'will', 'having', 'had', 'isn', 'under', 'ain', 'such', 'weren', 'we', 'between', 'what', 'against', 'to', 'was', 'don', 'by', 'once', 'how', 'her', 'through', 'ma', 'more', 'or', 'they', 'there', 'mustn', 'our', 'the', 'couldn', 'himself', 'me', 'itself', 'if', 'being', 'from', 'down', 'own', 'further', 'them', 'of', 'myself', 'and', 'not', 'mightn', 'my', 'its', 'when', 'd', 'him', 'yourself', 'be', 'do', 'out', 'which', 'few', 'were', 're', 'up', 'wouldn', 'during', 'hasn', 'doing', 'over', 'a', 'wasn', 'just', 't', 'after', 'until', 'no', 'nor', 'some', 'in', 'ourselves', 'is', 'does', 'on', 'each', 'hers', 'here', 'needn', 'above', 'i', 'who', 'because', 'off', 'for', 'now', 'below', 'with', 'as', 'an', 'than', 'too', 'has', 'same', 'all', 'herself', 'themselves', 'most', 'so', 'am', 'have', 'm', 'are', 'yourselves', 'it', 's', 'this', 'she', 'didn', 'your', 'about', 'into', 'both', 'should', 'those', 'shan', 'he', 'their', 'where', 'again', 'whom', 've', 'y', 'hadn', 'that', 'before', 'then', 'but', 'll', 'o', 'yours', 'did', 'can', 'only', 'his'}\n"
     ]
    }
   ],
   "source": [
    "from nltk.corpus import stopwords\n",
    "stop_words=set(stopwords.words('english'))\n",
    "print(stop_words)"
   ]
  },
  {
   "cell_type": "code",
   "execution_count": 9,
   "metadata": {},
   "outputs": [
    {
     "name": "stdout",
     "output_type": "stream",
     "text": [
      "['A', 'break-in', 'at', 'the', 'U.S.', 'Justice', 'Department', \"'s\", 'World', 'Wide', 'Web', 'site', 'last', 'week', 'highlighted', 'the', 'Internet', \"'s\", 'continued', 'vulnerability', 'to', 'hackers', '.']\n",
      "=================================================================================\n",
      "['A', 'break-in', 'U.S.', 'Justice', 'Department', \"'s\", 'World', 'Wide', 'Web', 'site', 'last', 'week', 'highlighted', 'Internet', \"'s\", 'continued', 'vulnerability', 'hackers', '.']\n"
     ]
    }
   ],
   "source": [
    "filtered_sentence = [w for w in tokens if not w in stop_words]\n",
    "filtered_sentence = []\n",
    "\n",
    "for w in tokens:\n",
    "    if w not in stop_words:\n",
    "        filtered_sentence.append(w)\n",
    "\n",
    "print(tokens)\n",
    "print(\"=================================================================================\")\n",
    "print(filtered_sentence)"
   ]
  },
  {
   "cell_type": "markdown",
   "metadata": {},
   "source": [
    "-  More often than not, Stop-Words are removed before building models.\n",
    "-  However, sometimes we even uses stop words as a feature as well. For example, in author identification, number of stop words can be used as a feature."
   ]
  },
  {
   "cell_type": "markdown",
   "metadata": {},
   "source": [
    "## Stemming And Lemmatization"
   ]
  },
  {
   "cell_type": "markdown",
   "metadata": {},
   "source": [
    "Consider following words: Copy, copied, copying. \n",
    "\n",
    "Although they represent the same meaning, if not treated, our model might treat them differently. So we tend to strip such words to their core. We can do that by stemming or lemmatisation."
   ]
  },
  {
   "cell_type": "markdown",
   "metadata": {},
   "source": [
    "Stemming and Lemmatization are the basic text processing methods for English text. The goal of both stemming and lemmatization is to reduce inflectional forms and sometimes derivationally related forms of a word to a common base form. \n",
    "\n",
    "-  Stemming helps to create groups of words which have similar meanings.\n",
    "-  Stemming works based over set of rules, such as remove ing if words is ending with ing.\n",
    "-  There are a number of Stemmers available with different set of rules. PorterStemmer, LancasterStemmer, SnowballStemmer etc are example of stemmers and are available in NLTK."
   ]
  },
  {
   "cell_type": "code",
   "execution_count": 10,
   "metadata": {},
   "outputs": [
    {
     "data": {
      "text/plain": [
       "'cri'"
      ]
     },
     "execution_count": 10,
     "metadata": {},
     "output_type": "execute_result"
    }
   ],
   "source": [
    "#-----PorterStemmer------\n",
    "from nltk.stem.porter import PorterStemmer\n",
    "porter_stemmer = PorterStemmer()\n",
    "porter_stemmer.stem(\"crying\")\n"
   ]
  },
  {
   "cell_type": "code",
   "execution_count": 11,
   "metadata": {},
   "outputs": [
    {
     "data": {
      "text/plain": [
       "'cry'"
      ]
     },
     "execution_count": 11,
     "metadata": {},
     "output_type": "execute_result"
    }
   ],
   "source": [
    "#-----LancasterStemmer------\n",
    "from nltk.stem.lancaster import LancasterStemmer\n",
    "lancaster_stemmer = LancasterStemmer()\n",
    "lancaster_stemmer.stem(\"crying\")"
   ]
  },
  {
   "cell_type": "code",
   "execution_count": 12,
   "metadata": {},
   "outputs": [
    {
     "data": {
      "text/plain": [
       "'cri'"
      ]
     },
     "execution_count": 12,
     "metadata": {},
     "output_type": "execute_result"
    }
   ],
   "source": [
    "#-----SnowballStemmer------\n",
    "from nltk.stem import SnowballStemmer\n",
    "snowball_stemmer = SnowballStemmer(\"english\")\n",
    "snowball_stemmer.stem(\"crying\")"
   ]
  },
  {
   "cell_type": "markdown",
   "metadata": {},
   "source": [
    "**Lemmatization** is closely related to Stemming, but difference is lemmatization uses a knowledgebase called WordNet. Because of knowledge, lemmatization can even convert words which are different and cant be solved by stemmers, such as **converting went into go**. The NLTK Lemmatization method is based on WordNet’s built-in morphy function."
   ]
  },
  {
   "cell_type": "code",
   "execution_count": 13,
   "metadata": {},
   "outputs": [
    {
     "data": {
      "text/plain": [
       "'go'"
      ]
     },
     "execution_count": 13,
     "metadata": {},
     "output_type": "execute_result"
    }
   ],
   "source": [
    "from nltk.stem import WordNetLemmatizer\n",
    "wordnet_lemmatizer = WordNetLemmatizer()\n",
    "wordnet_lemmatizer.lemmatize(\"went\", pos=\"v\")"
   ]
  },
  {
   "cell_type": "markdown",
   "metadata": {},
   "source": [
    "## Word Cloud\n",
    "\n",
    "Word CLoud is the EDA equivalent for NLP. Word cloud helps us understand how different words are distributed across the documents. The most occurring words will have larger sizes. "
   ]
  },
  {
   "cell_type": "code",
   "execution_count": 14,
   "metadata": {},
   "outputs": [
    {
     "data": {
      "text/plain": [
       "(-0.5, 399.5, 199.5, -0.5)"
      ]
     },
     "execution_count": 14,
     "metadata": {},
     "output_type": "execute_result"
    },
    {
     "data": {
      "image/png": "[encoded data removed]",
      "text/plain": [
       "<matplotlib.figure.Figure at 0x7f38d8327208>"
      ]
     },
     "metadata": {},
     "output_type": "display_data"
    }
   ],
   "source": [
    "textall = \" \".join(sents)\n",
    "from wordcloud import WordCloud\n",
    "import matplotlib.pyplot as plt\n",
    "%matplotlib inline\n",
    "\n",
    "wordcloud = WordCloud().generate(textall)\n",
    "plt.figure(figsize=(10, 8))\n",
    "plt.imshow(wordcloud, interpolation='bilinear')\n",
    "plt.axis(\"off\")"
   ]
  },
  {
   "cell_type": "markdown",
   "metadata": {},
   "source": [
    "As can be seen, this particular word could strongly suggests that the article is likely to be about cyber security. Plotting and observing a word cloud could unlock potential features and can also avoid pitfalls. For examples, if you see a certain words which should be treated as stop words occurring a lot, then you can take care of them."
   ]
  },
  {
   "cell_type": "markdown",
   "metadata": {},
   "source": [
    "## Implementations Of NLP Applications\n",
    "***\n",
    "\n",
    "Good! What we have learnt so far is the foundation for different types of analysis that can be carried out. The tokens we have created so far can be utilized as needed. Mainly there are 4 kinds different techniques which branch out from here.\n",
    "\n",
    "1. **Regular Expressions Based System:** \n",
    "    - Such as Extracting Dates, Hyperlinks etc.\n",
    "    - These are mostly rule based and mostly used as features for rest of the techniques\n",
    "2. **Machine Learning Based System.** \n",
    "    - Text classification or Clustering or Recommender Systems.\n",
    "    - These techniques use the tokens as features, further refine them to create features of them\n",
    "    - Include \n",
    "2. **Linguistics based system/Rule Based System.** \n",
    "    - Such as POS tagging\n",
    "    - Attempts to understand underlying structure of the statements\n",
    "- **Dictionary lookup based system** \n",
    "    - Such Information Reterieval, or Identifying entites from wikipedia.\n",
    "    - Used to retrieve structured information from unstructured documents\n",
    "    - Creating summaries of given documents\n",
    "\n",
    "Next we are going to look into Machine Learning based NLP applications, wherein we are going to use Sklearn to build a classifier."
   ]
  },
  {
   "cell_type": "markdown",
   "metadata": {},
   "source": [
    "## Text Preprocessing using `sklearn`:\n",
    "\n",
    "\n",
    "### Bag-of-Words Approach:\n",
    "\n",
    "\n",
    "One way to use tokenized words is to create bag of words (tokens) for each observation and find out the frequency of occurring of each token. The underlying assumption is that the article or document will use tokens which are important much more frequently than others. \n",
    "\n",
    "For example, in the word cloud that we saw, since the article seemed to about cyber security, related terms were used more frequently. So if in an article, food related words are used frequently, it can inferred that the article is about food.\n",
    "\n",
    "Note: Considering this, it would make much more sense to remove stopwords, otherwise they will clutter the actual tokens."
   ]
  },
  {
   "cell_type": "markdown",
   "metadata": {},
   "source": [
    "We use this fact, and count the frequency of each term used in an article. We also put together all the tokens in all the documents combined along with their frequency. We call this **The Dictionary of tokens**. Consider the following example from [Machine Learning Mastery Blog](https://machinelearningmastery.com/gentle-introduction-bag-words-model/). Lines from a tale of two cities.\n",
    "\n",
    "    It was the best of times,\n",
    "    it was the worst of times,\n",
    "    it was the age of wisdom,\n",
    "    it was the age of foolishness,"
   ]
  },
  {
   "cell_type": "markdown",
   "metadata": {},
   "source": [
    "Frequency doc for the first line would look something like:\n",
    "\n",
    "* “it” = 1\n",
    "* “was” = 1\n",
    "* “the” = 1\n",
    "* “best” = 1\n",
    "* “of” = 1\n",
    "* “times” = 1\n",
    "* “worst” = 0\n",
    "* “age” = 0\n",
    "* “wisdom” = 0\n",
    "* “foolishness” = 0"
   ]
  },
  {
   "cell_type": "markdown",
   "metadata": {},
   "source": [
    "To make this more usable, we convert these frequency tables into vectors: [1, 1, 1, 1, 1, 1, 0, 0, 0, 0]\n",
    "\n",
    "Frequency table for the rest of the lines are:\n",
    "\n",
    "* \"it was the worst of times\" = [1, 1, 1, 0, 1, 1, 1, 0, 0, 0]\n",
    "* \"it was the age of wisdom\" = [1, 1, 1, 0, 1, 0, 0, 1, 1, 0]\n",
    "* \"it was the age of foolishness\" = [1, 1, 1, 0, 1, 0, 0, 1, 0, 1]"
   ]
  },
  {
   "cell_type": "markdown",
   "metadata": {},
   "source": [
    "A more sophisticated approach is to also create a vocabulary of grouped words. This both changes the scope of the vocabulary and allows the bag-of-words to capture a little bit more meaning from the document.\n",
    "\n",
    "In this approach, each word or token is called a “gram”. Creating a vocabulary of two-word pairs is, in turn, called a bigram model. Again, only the bigrams that appear in the corpus are modeled, not all possible bigrams\n",
    "\n",
    "For example, the bigrams in the first line of text in the previous section: “It was the best of times” are as follows:\n",
    "\n",
    "* “it was”\n",
    "* “was the”\n",
    "* “the best”\n",
    "* “best of”\n",
    "* “of times”"
   ]
  },
  {
   "cell_type": "markdown",
   "metadata": {},
   "source": [
    "This process of converting NLP text into numbers in called **vectorization** in ML. And there are multiple ways to convert text into vectors.\n",
    "\n",
    "* **Counts.** Count the number of times each word appears in a document.\n",
    "* **Frequencies.** Calculate the frequency that each word appears in a document out of all the words in the document.\n",
    "\n",
    "Based on how we create this scoring, there are following methods:\n",
    "\n",
    "1. **CountVectorizer**: CountVectorizer works on Terms Frequency, i.e. counting the occurrences of tokens and building a sparse matrix of documents x tokens.\n",
    "2. **TfIdfVectorizer**: We will cover next\n",
    "\n",
    "For now, let's apply count vectorizer to see how well we can predict author of the article."
   ]
  },
  {
   "cell_type": "code",
   "execution_count": 15,
   "metadata": {},
   "outputs": [],
   "source": [
    "# import and instantiate CountVectorizer (with the default parameters)\n",
    "from sklearn.feature_extraction.text import CountVectorizer, TfidfVectorizer\n",
    "vect = CountVectorizer()"
   ]
  },
  {
   "cell_type": "code",
   "execution_count": 16,
   "metadata": {},
   "outputs": [
    {
     "data": {
      "text/plain": [
       "CountVectorizer(analyzer='word', binary=False, decode_error='strict',\n",
       "        dtype=<class 'numpy.int64'>, encoding='utf-8', input='content',\n",
       "        lowercase=True, max_df=1.0, max_features=None, min_df=1,\n",
       "        ngram_range=(1, 1), preprocessor=None, stop_words=None,\n",
       "        strip_accents=None, token_pattern='(?u)\\\\b\\\\w\\\\w+\\\\b',\n",
       "        tokenizer=None, vocabulary=None)"
      ]
     },
     "execution_count": 16,
     "metadata": {},
     "output_type": "execute_result"
    }
   ],
   "source": [
    "vect"
   ]
  },
  {
   "cell_type": "markdown",
   "metadata": {},
   "source": [
    "So here we can all sort of parameters this vectorizer takes. tokenizer, stop words, encoding, lower case etc. We can tune parameters based over our data set and kind of problem we are trying to solve."
   ]
  },
  {
   "cell_type": "code",
   "execution_count": 17,
   "metadata": {},
   "outputs": [
    {
     "data": {
      "text/plain": [
       "CountVectorizer(analyzer='word', binary=False, decode_error='strict',\n",
       "        dtype=<class 'numpy.int64'>, encoding='utf-8', input='content',\n",
       "        lowercase=True, max_df=0.5, max_features=None, min_df=2,\n",
       "        ngram_range=(1, 2), preprocessor=None, stop_words='english',\n",
       "        strip_accents=None, token_pattern='(?u)\\\\b\\\\w\\\\w+\\\\b',\n",
       "        tokenizer=<bound method TreebankWordTokenizer.tokenize of <nltk.tokenize.treebank.TreebankWordTokenizer object at 0x7f38cf87d6d8>>,\n",
       "        vocabulary=None)"
      ]
     },
     "execution_count": 17,
     "metadata": {},
     "output_type": "execute_result"
    }
   ],
   "source": [
    "# use TreeankWordTokenizer\n",
    "from nltk.tokenize import TreebankWordTokenizer\n",
    "tokenizer = TreebankWordTokenizer()\n",
    "vect.set_params(tokenizer=tokenizer.tokenize)\n",
    "\n",
    "# remove English stop words\n",
    "vect.set_params(stop_words='english')\n",
    "\n",
    "# include 1-grams and 2-grams\n",
    "vect.set_params(ngram_range=(1, 2))\n",
    "\n",
    "# ignore terms that appear in more than 50% of the documents\n",
    "vect.set_params(max_df=0.5)\n",
    "\n",
    "# only keep terms that appear in at least 2 documents\n",
    "vect.set_params(min_df=2)"
   ]
  },
  {
   "cell_type": "markdown",
   "metadata": {},
   "source": [
    "**Note:** vect takes data as rows of text. Hence, we will have to get X_train in that format.\n",
    "So our dataset is not a csv and its a file structure based data. So we have to traverse through files and create a data frame of training data and its labeles, as below. "
   ]
  },
  {
   "cell_type": "markdown",
   "metadata": {},
   "source": [
    "Let's start by importing necessary information."
   ]
  },
  {
   "cell_type": "code",
   "execution_count": 18,
   "metadata": {},
   "outputs": [],
   "source": [
    "import os\n",
    "import numpy as np\n",
    "trainX =np.array([])\n",
    "labels = []\n",
    "path = '../data/C50train/'\n",
    "authors = os.listdir(path)[:10]; "
   ]
  },
  {
   "cell_type": "markdown",
   "metadata": {},
   "source": [
    "Next, we separate out the X and y component from each document. Note that we have replaced new line character (considered as a stop word) with white space."
   ]
  },
  {
   "cell_type": "code",
   "execution_count": 19,
   "metadata": {},
   "outputs": [],
   "source": [
    "for auth in authors:\n",
    "    files = os.listdir(path + auth + '/');\n",
    "    tmpX, tmpY = np.array([]), []\n",
    "    for file in files:\n",
    "        f = open(path + auth + '/' + file, 'r')\n",
    "        data = f.read().replace('\\n', ' ')\n",
    "        tmpX = np.append(tmpX,data)\n",
    "        tmpY = tmpY + [auth]\n",
    "        f.close()\n",
    "    trainX = np.append(trainX, tmpX)\n",
    "    labels = labels + tmpY \n",
    "# print trainX\n",
    "# print labels"
   ]
  },
  {
   "cell_type": "markdown",
   "metadata": {},
   "source": [
    "Below are the first elements from X and y"
   ]
  },
  {
   "cell_type": "code",
   "execution_count": 21,
   "metadata": {},
   "outputs": [
    {
     "name": "stdout",
     "output_type": "stream",
     "text": [
      "The Czech Statistical Bureau (CSU) said on Thursday it would change its methodology for calculating industrial production, to bring it in line with western standards. CSU Chairman Edvard Outrata said the change, which updates the old methodology introduced in 1953 under communist planning, would take effect in January 1997. The new methodology excludes multiple calculation of semi-finished products, resources, and other materials and commodities, which were included in output data at every stage under the old method measuring the gross value of all goods produced, the CSU said. The new index will measure output changes by units, weight or other measurements, of the total of 1,304 products out of 879 product groups consisting of one or more similar products. The product groups's output indices will be placed in sectors, using weighting equal to their weight in the respective industrial sector. The overall index will be calculated from weighted changes in the sectoral indices. Outrata said the old system of measuring \"gross production\", or \"goods production\" was suited for the management of a planned economy as it allowed to measure the total summ of production and compare it with state plans. Construction output data will be adjusted to the new methodology at the beginning of 1998, Outrata added. Preliminary monthly data will be released on the 40th day after the end of the month being examined. Outrata also said the data would include seasonally adjusted figures and data adjusted if the number of working days in the period differed from previously measured periods. He added the CSU would gradually, throughout next year, start releasing seasonally adjusted and pro-rated figures for most data on the same day as the raw figures.  MONTH ('96)\tREAL IND. OUTPUT\t\tREAL IND. OUTPUT \t\t   UNDER CURRENT METHOD (YR/YR)   UNDER NEW METHOD  Sept (pct)\t   +6.9\t\t\t\t +7.8  August\t\t +5.9\t\t\t\t +0.9  July\t\t  +15.7\t\t\t\t+24.5  June\t\t   +1.5\t\t\t\t +2.2  May\t\t    +6.0\t\t\t\t +1.8  April\t\t +12.8\t\t\t\t +6.9  March\t\t  +4.5\t\t\t\t +2.1  Feb\t\t   +13.4\t\t\t\t+12.2  Jan\t\t   +12.0\t\t\t\t +7.8 Note. Current methodology examines companies with over 100 employees and includes estimates for smaller firms. The new methodology includes data from some 5,200 firms with 25 or more employees. As of January, it will include data form firms with 20 or more workers. -- Prague Newsroom, 42-2-2423-0003 \n"
     ]
    }
   ],
   "source": [
    "print(trainX[0])"
   ]
  },
  {
   "cell_type": "code",
   "execution_count": 23,
   "metadata": {},
   "outputs": [
    {
     "name": "stdout",
     "output_type": "stream",
     "text": [
      "JanLopatka\n"
     ]
    }
   ],
   "source": [
    "print(labels[0])"
   ]
  },
  {
   "cell_type": "markdown",
   "metadata": {},
   "source": [
    "Now let's separate out Train and test sets"
   ]
  },
  {
   "cell_type": "code",
   "execution_count": 24,
   "metadata": {},
   "outputs": [
    {
     "name": "stderr",
     "output_type": "stream",
     "text": [
      "/home/bijit23/miniconda3/envs/py36/lib/python3.6/site-packages/sklearn/model_selection/_split.py:2026: FutureWarning: From version 0.21, test_size will always complement train_size unless both are specified.\n",
      "  FutureWarning)\n"
     ]
    },
    {
     "data": {
      "text/plain": [
       "'The family of jailed Chinese dissident Wang Dan on Friday received official confirmation of his 11-year prison sentence, suggesting the way was now clear for the former student leader to appeal his conviction. A Beijing court on Wednesday took less than four hours to condemn Wang for plotting against the government after a trial that sparked expressions of concern from around the world. Wang\\'s family received official notification of the verdict on Friday afternoon, implying the 27-year-old activist was now free to appeal within 10 days, said his mother Wang Lingyun. \"The verdict should be first given to him, with another (copy) given to the family,\" she said in a telephone interview. \"This is an issue for Wang Dan, he has to write an appeal document...for the higher court,\" she said. \"After the court has received it they may inform us.\" Wang, a dissident known for his role as a leader of the ill-fated 1989 pro-democracy protests in Beijing\\'s Tiananmen Square, had pleaded not guilty to subversion charges carrying a maximum death sentence and a minimum 10 years\\' imprisonment. During a brief meeting with his family after the trial he vowed to appeal, a decision widely considered to be a symbolic gesture as verdicts imposed on Chinese dissidents in past political trials have almost never been overturned. The 11-year sentence imposed on Wang was the latest in a series of crushing blows on China\\'s embattled band of dissidents, most of whom were already in exile or serving long terms in adminstrative detention or jail. It drew immediate fire from international human rights activists, who condemned the trial as a parody of justice masking a pre-arranged result. Chinese state media called the trial a model of fairness. Officials said it was an ordinary legal matter and an internal affair. The United States and some European and Asian nations expressed their concern, while Czech President Vaclav Havel -- himself a former dissident against a communist government -- said the verdict was unacceptable and deeply disturbing. Wang, who once promoted free debate on the campus of Beijing University, had already served four years in prison after the 1989 protests were crushed by the army with heavy loss of life. The former history student returned to activism after his parole in 1993, defying police surveillance to join a daring appeal to Beijing\\'s communist leadership for the release of those still jailed for their part in the 1989 demonstrations. He was detained once more in May 1995 and disappeared into legal limbo for almost a year and a half until being formally arrested. Wang Lingyun, a 61-year old museum researcher who attended the trial as one of Wang\\'s two defence lawyers, said it was unclear when she would be able to meet her son again. \"If he continues to ask me to be his defence lawyer, it\\'s possible we will be able to have a lawyer\\'s meeting, like last time,\" she said. \"It\\'s his decision.\" The family had had little time to discuss the details of Wang\\'s appeal during their 30-minute meeting at a Beijing detention centre on Wednesday, she said. \"Last time we didn\\'t speak much, because the time was so short,\" she said. \"We hadn\\'t seen each other for such a long time, we just talked about family things.\" '"
      ]
     },
     "execution_count": 24,
     "metadata": {},
     "output_type": "execute_result"
    }
   ],
   "source": [
    "from sklearn.model_selection import train_test_split\n",
    "X_train, X_test, y_train, y_test = train_test_split(trainX, labels, train_size = 0.8)\n",
    "\n",
    "X_train[1]"
   ]
  },
  {
   "cell_type": "markdown",
   "metadata": {},
   "source": [
    "Now we take the features, which are in list format and convert them into pandas series so that various operations can be carried out easily."
   ]
  },
  {
   "cell_type": "code",
   "execution_count": 25,
   "metadata": {},
   "outputs": [
    {
     "data": {
      "text/plain": [
       "0    The head of the Czech Republic's largest bank ...\n",
       "1    The family of jailed Chinese dissident Wang Da...\n",
       "2    Hong Kong shipping tycoon Tung Chee-hwa was ra...\n",
       "3    Czech Unipetrol a.s. on Wednesday announced a ...\n",
       "4    The three-year-old partnership between British...\n",
       "dtype: object"
      ]
     },
     "execution_count": 25,
     "metadata": {},
     "output_type": "execute_result"
    }
   ],
   "source": [
    "import pandas as pd\n",
    "X_train = pd.Series(X_train)\n",
    "X_test = pd.Series(X_test)\n",
    "\n",
    "X_train.head()"
   ]
  },
  {
   "cell_type": "markdown",
   "metadata": {},
   "source": [
    "Now, let's fit the vectorization pipeline that we defined earlier."
   ]
  },
  {
   "cell_type": "code",
   "execution_count": 26,
   "metadata": {
    "scrolled": true
   },
   "outputs": [
    {
     "data": {
      "text/plain": [
       "['$ )',\n",
       " '$ 0.05',\n",
       " '$ 0.10',\n",
       " '$ 0.15',\n",
       " '$ 0.19',\n",
       " '$ 0.35',\n",
       " '$ 0.45',\n",
       " '$ 0.75',\n",
       " '$ 0.85',\n",
       " '$ 0.95',\n",
       " '$ 1',\n",
       " '$ 1.0',\n",
       " '$ 1.04',\n",
       " '$ 1.1',\n",
       " '$ 1.10',\n",
       " '$ 1.125',\n",
       " '$ 1.15',\n",
       " '$ 1.2',\n",
       " '$ 1.25',\n",
       " '$ 1.27',\n",
       " '$ 1.29',\n",
       " '$ 1.3',\n",
       " '$ 1.30',\n",
       " '$ 1.32',\n",
       " '$ 1.35',\n",
       " '$ 1.4',\n",
       " '$ 1.40',\n",
       " '$ 1.45',\n",
       " '$ 1.50',\n",
       " '$ 1.58',\n",
       " '$ 1.6',\n",
       " '$ 1.64',\n",
       " '$ 1.7',\n",
       " '$ 1.70',\n",
       " '$ 1.8',\n",
       " '$ 1.9',\n",
       " '$ 10',\n",
       " '$ 100',\n",
       " '$ 106.7',\n",
       " '$ 110',\n",
       " '$ 117',\n",
       " '$ 120',\n",
       " '$ 120,000',\n",
       " '$ 13',\n",
       " '$ 13.9',\n",
       " '$ 14',\n",
       " '$ 14.84',\n",
       " '$ 145',\n",
       " '$ 15',\n",
       " '$ 150']"
      ]
     },
     "execution_count": 26,
     "metadata": {},
     "output_type": "execute_result"
    }
   ],
   "source": [
    "# learn the 'vocabulary' of the training data\n",
    "vect.fit(X_train)\n",
    "\n",
    "# examine the fitted vocabulary\n",
    "vect.get_feature_names()[:50]"
   ]
  },
  {
   "cell_type": "markdown",
   "metadata": {},
   "source": [
    "We can see that there some scope for better feature engineering\n",
    "* \"!\" and \"$\" are appearing along with the numbers\n",
    "* numbers can be clubbed into a single category and can be tagged as numbers (e.g. ####)\n",
    "* Dates, Times can be tagged\n",
    "\n",
    "There are many more things that can be done. But for now let's move on.\n",
    "\n",
    "Next, we transform training data into a 'document-term matrix'"
   ]
  },
  {
   "cell_type": "code",
   "execution_count": 27,
   "metadata": {},
   "outputs": [
    {
     "data": {
      "text/plain": [
       "<400x27472 sparse matrix of type '<class 'numpy.int64'>'\n",
       "\twith 130928 stored elements in Compressed Sparse Row format>"
      ]
     },
     "execution_count": 27,
     "metadata": {},
     "output_type": "execute_result"
    }
   ],
   "source": [
    "train_vectors = vect.transform(X_train)\n",
    "train_vectors"
   ]
  },
  {
   "cell_type": "code",
   "execution_count": 28,
   "metadata": {},
   "outputs": [
    {
     "data": {
      "text/plain": [
       "<100x27472 sparse matrix of type '<class 'numpy.int64'>'\n",
       "\twith 24088 stored elements in Compressed Sparse Row format>"
      ]
     },
     "execution_count": 28,
     "metadata": {},
     "output_type": "execute_result"
    }
   ],
   "source": [
    "test_vectors = vect.transform(X_test)\n",
    "test_vectors"
   ]
  },
  {
   "cell_type": "markdown",
   "metadata": {},
   "source": [
    "Next, we examine the vocabulary and document-term matrix together"
   ]
  },
  {
   "cell_type": "code",
   "execution_count": 29,
   "metadata": {
    "scrolled": true
   },
   "outputs": [
    {
     "data": {
      "text/html": [
       "<div>\n",
       "<style scoped>\n",
       "    .dataframe tbody tr th:only-of-type {\n",
       "        vertical-align: middle;\n",
       "    }\n",
       "\n",
       "    .dataframe tbody tr th {\n",
       "        vertical-align: top;\n",
       "    }\n",
       "\n",
       "    .dataframe thead th {\n",
       "        text-align: right;\n",
       "    }\n",
       "</style>\n",
       "<table border=\"1\" class=\"dataframe\">\n",
       "  <thead>\n",
       "    <tr style=\"text-align: right;\">\n",
       "      <th></th>\n",
       "      <th>$ )</th>\n",
       "      <th>$ 0.05</th>\n",
       "      <th>$ 0.10</th>\n",
       "      <th>$ 0.15</th>\n",
       "      <th>$ 0.19</th>\n",
       "      <th>$ 0.35</th>\n",
       "      <th>$ 0.45</th>\n",
       "      <th>$ 0.75</th>\n",
       "      <th>$ 0.85</th>\n",
       "      <th>$ 0.95</th>\n",
       "      <th>...</th>\n",
       "      <th>ziegler</th>\n",
       "      <th>ziegler said</th>\n",
       "      <th>ziegler told</th>\n",
       "      <th>zieleniec</th>\n",
       "      <th>zinc</th>\n",
       "      <th>zinc ,</th>\n",
       "      <th>zizhen</th>\n",
       "      <th>zizhen ,</th>\n",
       "      <th>zone</th>\n",
       "      <th>zuo'er</th>\n",
       "    </tr>\n",
       "  </thead>\n",
       "  <tbody>\n",
       "    <tr>\n",
       "      <th>0</th>\n",
       "      <td>0</td>\n",
       "      <td>0</td>\n",
       "      <td>0</td>\n",
       "      <td>0</td>\n",
       "      <td>0</td>\n",
       "      <td>0</td>\n",
       "      <td>0</td>\n",
       "      <td>0</td>\n",
       "      <td>0</td>\n",
       "      <td>0</td>\n",
       "      <td>...</td>\n",
       "      <td>0</td>\n",
       "      <td>0</td>\n",
       "      <td>0</td>\n",
       "      <td>0</td>\n",
       "      <td>0</td>\n",
       "      <td>0</td>\n",
       "      <td>0</td>\n",
       "      <td>0</td>\n",
       "      <td>0</td>\n",
       "      <td>0</td>\n",
       "    </tr>\n",
       "    <tr>\n",
       "      <th>1</th>\n",
       "      <td>0</td>\n",
       "      <td>0</td>\n",
       "      <td>0</td>\n",
       "      <td>0</td>\n",
       "      <td>0</td>\n",
       "      <td>0</td>\n",
       "      <td>0</td>\n",
       "      <td>0</td>\n",
       "      <td>0</td>\n",
       "      <td>0</td>\n",
       "      <td>...</td>\n",
       "      <td>0</td>\n",
       "      <td>0</td>\n",
       "      <td>0</td>\n",
       "      <td>0</td>\n",
       "      <td>0</td>\n",
       "      <td>0</td>\n",
       "      <td>0</td>\n",
       "      <td>0</td>\n",
       "      <td>0</td>\n",
       "      <td>0</td>\n",
       "    </tr>\n",
       "    <tr>\n",
       "      <th>2</th>\n",
       "      <td>0</td>\n",
       "      <td>0</td>\n",
       "      <td>0</td>\n",
       "      <td>0</td>\n",
       "      <td>0</td>\n",
       "      <td>0</td>\n",
       "      <td>0</td>\n",
       "      <td>0</td>\n",
       "      <td>0</td>\n",
       "      <td>0</td>\n",
       "      <td>...</td>\n",
       "      <td>0</td>\n",
       "      <td>0</td>\n",
       "      <td>0</td>\n",
       "      <td>0</td>\n",
       "      <td>0</td>\n",
       "      <td>0</td>\n",
       "      <td>0</td>\n",
       "      <td>0</td>\n",
       "      <td>0</td>\n",
       "      <td>0</td>\n",
       "    </tr>\n",
       "    <tr>\n",
       "      <th>3</th>\n",
       "      <td>0</td>\n",
       "      <td>0</td>\n",
       "      <td>0</td>\n",
       "      <td>0</td>\n",
       "      <td>0</td>\n",
       "      <td>0</td>\n",
       "      <td>0</td>\n",
       "      <td>0</td>\n",
       "      <td>0</td>\n",
       "      <td>0</td>\n",
       "      <td>...</td>\n",
       "      <td>0</td>\n",
       "      <td>0</td>\n",
       "      <td>0</td>\n",
       "      <td>0</td>\n",
       "      <td>0</td>\n",
       "      <td>0</td>\n",
       "      <td>0</td>\n",
       "      <td>0</td>\n",
       "      <td>0</td>\n",
       "      <td>0</td>\n",
       "    </tr>\n",
       "  </tbody>\n",
       "</table>\n",
       "<p>4 rows × 27472 columns</p>\n",
       "</div>"
      ],
      "text/plain": [
       "   $ )  $ 0.05  $ 0.10  $ 0.15  $ 0.19  $ 0.35  $ 0.45  $ 0.75  $ 0.85  \\\n",
       "0    0       0       0       0       0       0       0       0       0   \n",
       "1    0       0       0       0       0       0       0       0       0   \n",
       "2    0       0       0       0       0       0       0       0       0   \n",
       "3    0       0       0       0       0       0       0       0       0   \n",
       "\n",
       "   $ 0.95   ...    ziegler  ziegler said  ziegler told  zieleniec  zinc  \\\n",
       "0       0   ...          0             0             0          0     0   \n",
       "1       0   ...          0             0             0          0     0   \n",
       "2       0   ...          0             0             0          0     0   \n",
       "3       0   ...          0             0             0          0     0   \n",
       "\n",
       "   zinc ,  zizhen  zizhen ,  zone  zuo'er  \n",
       "0       0       0         0     0       0  \n",
       "1       0       0         0     0       0  \n",
       "2       0       0         0     0       0  \n",
       "3       0       0         0     0       0  \n",
       "\n",
       "[4 rows x 27472 columns]"
      ]
     },
     "execution_count": 29,
     "metadata": {},
     "output_type": "execute_result"
    }
   ],
   "source": [
    "pd.DataFrame(train_vectors.toarray(), columns=vect.get_feature_names()).head(4)"
   ]
  },
  {
   "cell_type": "markdown",
   "metadata": {},
   "source": [
    "As you can see, there are 27459 columns which are there. Most of them are going to sparse."
   ]
  },
  {
   "cell_type": "markdown",
   "metadata": {
    "collapsed": true
   },
   "source": [
    "## Lets Build our Model\n",
    "\n",
    "We are going to use Naive Baysian model here as they are very effective at text classification."
   ]
  },
  {
   "cell_type": "code",
   "execution_count": 30,
   "metadata": {},
   "outputs": [
    {
     "data": {
      "text/html": [
       "<iframe width=\"560\" height=\"315\" src=\"https://www.youtube.com/embed/8yvBqhm92xA\" frameborder=\"0\" allowfullscreen></iframe>"
      ],
      "text/plain": [
       "<IPython.core.display.HTML object>"
      ]
     },
     "execution_count": 30,
     "metadata": {},
     "output_type": "execute_result"
    }
   ],
   "source": [
    "from IPython.display import HTML\n",
    "HTML('<iframe width=\"560\" height=\"315\" src=\"https://www.youtube.com/embed/8yvBqhm92xA\" frameborder=\"0\" allowfullscreen></iframe>')"
   ]
  },
  {
   "cell_type": "markdown",
   "metadata": {},
   "source": [
    "You can read more about bayesian algorithms at: \n",
    "\n",
    "* [Wikipedia](https://en.wikipedia.org/wiki/Naive_Bayes_classifier)\n",
    "* [Resource](https://www.cs.toronto.edu/~urtasun/courses/CSC411/tutorial4.pdf)"
   ]
  },
  {
   "cell_type": "code",
   "execution_count": 31,
   "metadata": {},
   "outputs": [],
   "source": [
    "from sklearn.naive_bayes import GaussianNB, MultinomialNB, BernoulliNB\n",
    "nb = GaussianNB()"
   ]
  },
  {
   "cell_type": "code",
   "execution_count": 32,
   "metadata": {},
   "outputs": [
    {
     "data": {
      "text/plain": [
       "GaussianNB(priors=None)"
      ]
     },
     "execution_count": 32,
     "metadata": {},
     "output_type": "execute_result"
    }
   ],
   "source": [
    "nb.fit(train_vectors.toarray(), y_train)"
   ]
  },
  {
   "cell_type": "code",
   "execution_count": 33,
   "metadata": {},
   "outputs": [
    {
     "name": "stderr",
     "output_type": "stream",
     "text": [
      "/home/bijit23/miniconda3/envs/py36/lib/python3.6/site-packages/sklearn/cross_validation.py:41: DeprecationWarning: This module was deprecated in version 0.18 in favor of the model_selection module into which all the refactored classes and functions are moved. Also note that the interface of the new CV iterators are different from that of this module. This module will be removed in 0.20.\n",
      "  \"This module will be removed in 0.20.\", DeprecationWarning)\n",
      "/home/bijit23/miniconda3/envs/py36/lib/python3.6/site-packages/sklearn/cross_validation.py:553: Warning: The least populated class in y has only 6 members, which is too few. The minimum number of labels for any class cannot be less than n_folds=10.\n",
      "  % (min_labels, self.n_folds)), Warning)\n"
     ]
    },
    {
     "name": "stdout",
     "output_type": "stream",
     "text": [
      "                  precision    recall  f1-score   support\n",
      "\n",
      "HeatherScoffield       1.00      0.80      0.89        10\n",
      "      JanLopatka       0.75      0.67      0.71         9\n",
      "   JaneMacartney       0.53      0.77      0.62        13\n",
      "    JimGilchrist       1.00      1.00      1.00        11\n",
      "    JohnMastrini       0.67      0.67      0.67         9\n",
      "       LydiaZajc       1.00      0.92      0.96        12\n",
      "   MichaelConnor       0.85      1.00      0.92        11\n",
      "      MureDickie       0.75      0.38      0.50         8\n",
      "   PeterHumphrey       0.67      0.73      0.70        11\n",
      "      RobinSidel       1.00      0.83      0.91         6\n",
      "\n",
      "     avg / total       0.81      0.79      0.79       100\n",
      "\n",
      "ACCURACY:: 0.79\n"
     ]
    }
   ],
   "source": [
    "from sklearn.metrics.classification import classification_report, accuracy_score\n",
    "from sklearn.cross_validation import cross_val_predict\n",
    "\n",
    "# generate your cross-validation prediction with 10 fold Stratified sampling\n",
    "y_pred = cross_val_predict(nb, test_vectors.toarray(), y_test, cv=10)\n",
    "\n",
    "print(classification_report(y_test, y_pred))\n",
    "print(\"ACCURACY::\", accuracy_score(y_pred, y_test))"
   ]
  },
  {
   "cell_type": "markdown",
   "metadata": {},
   "source": [
    "As we can see, even with limited amount of feature engineering, we are getting really good results. Better feature engineering will result in better results."
   ]
  },
  {
   "cell_type": "markdown",
   "metadata": {},
   "source": [
    "## Model Building Using TF-IDF Vectorizer:\n",
    "\n",
    "* Tf-idf vectorizer is most famous and most widely used vectoirzer in NLP. \n",
    "* Tf-idf stands for term frequency-inverse document frequency, \n",
    "* Tf-idf weight is a statistical measure used to evaluate how important a word is to a document in a collection or corpus. \n",
    "* The importance increases proportionally to the number of times a word appears in the document but is offset by the frequency of the word in the corpus."
   ]
  },
  {
   "cell_type": "markdown",
   "metadata": {},
   "source": [
    "## Model Building Using TF-IDF Vectorizer:\n",
    "\n",
    "Typically, the tf-idf weight is composed by two terms: \n",
    "* the first computes the normalized Term Frequency (TF), aka. the number of times a word appears in a document, divided by the total number of words in that document; \n",
    "* the second term is the Inverse Document Frequency (IDF), computed as the logarithm of the number of the documents in the corpus divided by the number of documents where the specific term appears."
   ]
  },
  {
   "cell_type": "markdown",
   "metadata": {},
   "source": [
    "* **TF: Term Frequency**, which measures how frequently a term occurs in a document. Since every document is different in length, it is possible that a term would appear much more times in long documents than shorter ones. Thus, the term frequency is often divided by the document length (aka. the total number of terms in the document) as a way of normalization: \n",
    "\n",
    "$$TF(t) = \\frac{Number\\ of\\ times\\ term\\ t\\ appears\\ in\\ a\\ document} {Total\\ number\\ of\\ terms\\ in\\ the\\ document}$$"
   ]
  },
  {
   "cell_type": "markdown",
   "metadata": {},
   "source": [
    "* **IDF: Inverse Document Frequency,** which measures how important a term is. While computing TF, all terms are considered equally important. However it is known that certain terms, such as \"is\", \"of\", and \"that\", may appear a lot of times but have little importance. Thus we need to weigh down the frequent terms while scale up the rare ones, by computing the following: \n",
    "\n",
    "$$IDF(t) = log_e(\\frac{Total\\ number\\ of\\ documents} {Number\\ of\\ documents\\ with\\ term\\ t\\ in\\ it})$$\n",
    "\n",
    "Typically, IDF is a measure of how rare a term is. Rarer the term, more is the IDF score."
   ]
  },
  {
   "cell_type": "markdown",
   "metadata": {},
   "source": [
    "$$Tf-TDF score = TF * IDF$$"
   ]
  },
  {
   "cell_type": "code",
   "execution_count": 34,
   "metadata": {},
   "outputs": [
    {
     "data": {
      "text/plain": [
       "TfidfVectorizer(analyzer='word', binary=False, decode_error='strict',\n",
       "        dtype=<class 'numpy.int64'>, encoding='utf-8', input='content',\n",
       "        lowercase=True, max_df=0.5, max_features=None, min_df=2,\n",
       "        ngram_range=(1, 2), norm='l2', preprocessor=None, smooth_idf=True,\n",
       "        stop_words='english', strip_accents=None, sublinear_tf=False,\n",
       "        token_pattern='(?u)\\\\b\\\\w\\\\w+\\\\b',\n",
       "        tokenizer=<bound method TreebankWordTokenizer.tokenize of <nltk.tokenize.treebank.TreebankWordTokenizer object at 0x7f38cf87d6d8>>,\n",
       "        use_idf=True, vocabulary=None)"
      ]
     },
     "execution_count": 34,
     "metadata": {},
     "output_type": "execute_result"
    }
   ],
   "source": [
    "# import and instantiate TfidfVectorizer (with the default parameters)\n",
    "from sklearn.feature_extraction.text import TfidfVectorizer\n",
    "vect = TfidfVectorizer()\n",
    "vect.set_params(tokenizer=tokenizer.tokenize)\n",
    "\n",
    "# remove English stop words\n",
    "vect.set_params(stop_words='english')\n",
    "\n",
    "# include 1-grams and 2-grams\n",
    "vect.set_params(ngram_range=(1, 2))\n",
    "\n",
    "# ignore terms that appear in more than 50% of the documents\n",
    "vect.set_params(max_df=0.5)\n",
    "\n",
    "# only keep terms that appear in at least 2 documents\n",
    "vect.set_params(min_df=2)"
   ]
  },
  {
   "cell_type": "code",
   "execution_count": 35,
   "metadata": {},
   "outputs": [],
   "source": [
    "# train_vectors = vect.fit_transform(X_train)\n",
    "# train_vectors"
   ]
  },
  {
   "cell_type": "markdown",
   "metadata": {},
   "source": [
    "### Lets Build our Model"
   ]
  },
  {
   "cell_type": "code",
   "execution_count": 36,
   "metadata": {},
   "outputs": [],
   "source": [
    "# from sklearn.naive_bayes import GaussianNB, MultinomialNB, BernoulliNB\n",
    "# nb=GaussianNB()\n",
    "# nb.fit(train_vectors.toarray(), y_train)"
   ]
  },
  {
   "cell_type": "markdown",
   "metadata": {},
   "source": [
    "### Lets Analyze performance"
   ]
  },
  {
   "cell_type": "code",
   "execution_count": 37,
   "metadata": {},
   "outputs": [],
   "source": [
    "# generate your cross-validation prediction with 10 fold Stratified sampling\n",
    "# y_pred = cross_val_predict(nb, test_vectors.toarray(), y_test, cv=10)\n",
    "\n",
    "# print(classification_report(y_test, y_pred))\n",
    "# print \"ACCURACY::\",accuracy_score(y_pred,y_test)"
   ]
  },
  {
   "cell_type": "markdown",
   "metadata": {},
   "source": [
    "## Applications of Bag-of-Words\n",
    "\n",
    "The bag-of-words model is very simple to understand and implement and offers a lot of flexibility for customization on your specific text data.\n",
    "\n",
    "It has been used with great success on prediction problems like \n",
    "\n",
    "* Language modeling\n",
    "* Documentation classification\n",
    "* Recommender Systems\n",
    "* Clustering"
   ]
  },
  {
   "cell_type": "markdown",
   "metadata": {},
   "source": [
    "## Limitations of Bag-of-Words approach\n",
    "\n",
    "Nevertheless, it suffers from some shortcomings, such as:\n",
    "\n",
    "* **Meaning**: Discarding word order ignores the context, and in turn meaning of words in the document (semantics). Context and meaning can offer a lot to the model, that if modeled could tell the difference between the same words differently arranged (“this is interesting” vs “is this interesting”), synonyms (“old bike” vs “used bike”), and much more.\n",
    "* **Vocabulary**: The vocabulary requires careful design, most specifically in order to manage the size, which impacts the sparsity of the document representations.\n",
    "* **Sparsity**: Sparse representations are harder to model both for computational reasons (space and time complexity) and also for information reasons, where the challenge is for the models to harness so little information in such a large representational space."
   ]
  },
  {
   "cell_type": "markdown",
   "metadata": {
    "collapsed": true
   },
   "source": [
    "# In-session Recap Time\n",
    "***\n",
    "- Sentence Decomposition\n",
    "- Tokenization\n",
    "- Stop word removal\n",
    "- Word Cloud\n",
    "- Vectorization\n",
    "- Text Classification\n",
    "\n",
    "# Thank You\n",
    "***\n",
    "### Coming up next - NLP 102\n",
    "\n",
    "For more queries - Reach out to academics@greyatom.com "
   ]
  },
  {
   "cell_type": "code",
   "execution_count": null,
   "metadata": {},
   "outputs": [],
   "source": []
  }
 ],
 "metadata": {
  "celltoolbar": "Slideshow",
  "kernelspec": {
   "display_name": "Python 3",
   "language": "python",
   "name": "python3"
  },
  "language_info": {
   "codemirror_mode": {
    "name": "ipython",
    "version": 3
   },
   "file_extension": ".py",
   "mimetype": "text/x-python",
   "name": "python",
   "nbconvert_exporter": "python",
   "pygments_lexer": "ipython3",
   "version": "3.6.3"
  }
 },
 "nbformat": 4,
 "nbformat_minor": 2
}
